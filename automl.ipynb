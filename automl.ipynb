{
  "cells": [
    {
      "cell_type": "markdown",
      "source": [
        "# Automated ML\n",
        "\n",
        "TODO: Import Dependencies. In the cell below, import all the dependencies that you will need to complete the project."
      ],
      "metadata": {}
    },
    {
      "cell_type": "code",
      "source": [
        "from azureml.automl.runtime.onnx_convert import OnnxConverter\n",
        "from azureml.core import Workspace, Experiment, Environment\n",
        "from azureml.core.compute import ComputeTarget, AmlCompute\n",
        "from azureml.data.dataset_factory import TabularDatasetFactory\n",
        "from azureml.train.automl import AutoMLConfig\n",
        "from azureml.widgets import RunDetails\n",
        "import os\n",
        "import pandas as pd"
      ],
      "outputs": [],
      "execution_count": 2,
      "metadata": {
        "gather": {
          "logged": 1611969337400
        },
        "jupyter": {
          "outputs_hidden": false,
          "source_hidden": false
        },
        "nteract": {
          "transient": {
            "deleting": false
          }
        }
      }
    },
    {
      "cell_type": "code",
      "source": [
        "ws = Workspace.from_config()\n",
        "exp = Experiment(workspace=ws, name=\"lol_match_predictor_automl\")\n",
        "\n",
        "print('Workspace name: ' + ws.name, \n",
        "      'Azure region: ' + ws.location, \n",
        "      'Subscription id: ' + ws.subscription_id, \n",
        "      'Resource group: ' + ws.resource_group, sep = '\\n')\n",
        "\n",
        "run = exp.start_logging()"
      ],
      "outputs": [
        {
          "output_type": "stream",
          "name": "stdout",
          "text": [
            "Performing interactive authentication. Please follow the instructions on the terminal.\n",
            "To sign in, use a web browser to open the page https://microsoft.com/devicelogin and enter the code FST7SA226 to authenticate.\n",
            "You have logged in. Now let us find all the subscriptions to which you have access...\n",
            "Interactive authentication successfully completed.\n",
            "Workspace name: quick-starts-ws-136540\n",
            "Azure region: southcentralus\n",
            "Subscription id: d7f39349-a66b-446e-aba6-0053c2cf1c11\n",
            "Resource group: aml-quickstarts-136540\n"
          ]
        }
      ],
      "execution_count": 3,
      "metadata": {
        "gather": {
          "logged": 1611969363156
        }
      }
    },
    {
      "cell_type": "code",
      "source": [
        "# Create compute cluster\n",
        "# Use vm_size = \"Standard_D2_V2\" in your provisioning configuration.\n",
        "# max_nodes should be no greater than 4.\n",
        "from azureml.core.compute_target import ComputeTargetException\n",
        "\n",
        "cluster_name = \"cluster\"\n",
        "\n",
        "try:\n",
        "    compute_target = ComputeTarget(workspace=ws, name=cluster_name)\n",
        "    print('Found existing cluster, use it.')\n",
        "except ComputeTargetException:\n",
        "    compute_config = AmlCompute.provisioning_configuration(vm_size='STANDARD_DS3_V2',# for GPU, use \"STANDARD_NC6\"\n",
        "                                                           #vm_priority = 'lowpriority', # optional\n",
        "                                                           max_nodes=4)\n",
        "    compute_target = ComputeTarget.create(ws, cluster_name, compute_config)"
      ],
      "outputs": [],
      "execution_count": 6,
      "metadata": {
        "gather": {
          "logged": 1611969432738
        }
      }
    },
    {
      "cell_type": "markdown",
      "source": [
        "## Dataset\n",
        "\n",
        "### Overview\n",
        "TODO: In this markdown cell, give an overview of the dataset you are using. Also mention the task you will be performing.\n",
        "\n",
        "\n",
        "TODO: Get data. In the cell below, write code to access the data you will be using in this project. Remember that the dataset needs to be external."
      ],
      "metadata": {}
    },
    {
      "cell_type": "code",
      "source": [
        "data = pd.read_csv(\"https://oracleselixir-downloadable-match-data.s3-us-west-2.amazonaws.com/2020_LoL_esports_match_data_from_OraclesElixir_20210126.csv\")\n",
        "\n",
        "# This dataset requires cleaning to only get the features we want.\n",
        "columns = ['side', 'position', 'result', 'golddiffat10', 'xpdiffat10', 'golddiffat15', 'xpdiffat15']\n",
        "\n",
        "data = pd.DataFrame(data, columns=columns)\n",
        "\n",
        "# This dataset has data for both sides in each match. We only need to look at matches from one side, so we take only Blue side data.\n",
        "\n",
        "data = data.loc[data['side'] == 'Blue']\n",
        "\n",
        "# This dataset also has data for teams as well as individual players. We only need the data for teams.\n",
        "\n",
        "data = data[data.position.eq('team')]\n",
        "\n",
        "# Side no longer needed so we can delete this field.\n",
        "data.drop(['side'], inplace=True, axis=1, errors='ignore')\n",
        "# We also no longer need positions.\n",
        "data.drop(['position'], inplace=True, axis=1, errors='ignore')\n",
        "\n",
        "# This dataset is equivalent to the output of the above operations.\n",
        "ds = TabularDatasetFactory.from_delimited_files(path=\"https://raw.githubusercontent.com/ncharchenko/Azure-ML-Engineer-Nanodegree-Capstone/master/OraclesElixir_automl_data.csv\")\n",
        "\n",
        "# Show data after cleaning.\n",
        "data.head()"
      ],
      "outputs": [
        {
          "output_type": "execute_result",
          "execution_count": 7,
          "data": {
            "text/plain": "    result  golddiffat10  xpdiffat10  golddiffat15  xpdiffat15\n10       1        117.00     -137.00       -825.00    -1665.00\n22       0      -2014.00    -2149.00      -5484.00    -4833.00\n34       1        682.00      615.00       2566.00     2097.00\n46       0      -1579.00     -858.00      -2471.00    -3064.00\n58       0       -747.00     -313.00        877.00      205.00",
            "text/html": "<div>\n<style scoped>\n    .dataframe tbody tr th:only-of-type {\n        vertical-align: middle;\n    }\n\n    .dataframe tbody tr th {\n        vertical-align: top;\n    }\n\n    .dataframe thead th {\n        text-align: right;\n    }\n</style>\n<table border=\"1\" class=\"dataframe\">\n  <thead>\n    <tr style=\"text-align: right;\">\n      <th></th>\n      <th>result</th>\n      <th>golddiffat10</th>\n      <th>xpdiffat10</th>\n      <th>golddiffat15</th>\n      <th>xpdiffat15</th>\n    </tr>\n  </thead>\n  <tbody>\n    <tr>\n      <th>10</th>\n      <td>1</td>\n      <td>117.00</td>\n      <td>-137.00</td>\n      <td>-825.00</td>\n      <td>-1665.00</td>\n    </tr>\n    <tr>\n      <th>22</th>\n      <td>0</td>\n      <td>-2014.00</td>\n      <td>-2149.00</td>\n      <td>-5484.00</td>\n      <td>-4833.00</td>\n    </tr>\n    <tr>\n      <th>34</th>\n      <td>1</td>\n      <td>682.00</td>\n      <td>615.00</td>\n      <td>2566.00</td>\n      <td>2097.00</td>\n    </tr>\n    <tr>\n      <th>46</th>\n      <td>0</td>\n      <td>-1579.00</td>\n      <td>-858.00</td>\n      <td>-2471.00</td>\n      <td>-3064.00</td>\n    </tr>\n    <tr>\n      <th>58</th>\n      <td>0</td>\n      <td>-747.00</td>\n      <td>-313.00</td>\n      <td>877.00</td>\n      <td>205.00</td>\n    </tr>\n  </tbody>\n</table>\n</div>"
          },
          "metadata": {}
        }
      ],
      "execution_count": 7,
      "metadata": {
        "gather": {
          "logged": 1611969452490
        },
        "jupyter": {
          "outputs_hidden": false,
          "source_hidden": false
        },
        "nteract": {
          "transient": {
            "deleting": false
          }
        }
      }
    },
    {
      "cell_type": "code",
      "source": [
        "# To show that the AutoML model is taking in the same dataset, show it here.\r\n",
        "raw_data = pd.read_csv(\"https://raw.githubusercontent.com/ncharchenko/Azure-ML-Engineer-Nanodegree-Capstone/master/OraclesElixir_automl_data.csv\")\r\n",
        "raw_data.head()"
      ],
      "outputs": [
        {
          "output_type": "execute_result",
          "execution_count": 27,
          "data": {
            "text/plain": "   Unnamed: 0  result  golddiffat10  xpdiffat10  golddiffat15  xpdiffat15\n0           0       1        117.00     -137.00       -825.00    -1665.00\n1           2       0      -2014.00    -2149.00      -5484.00    -4833.00\n2           4       1        682.00      615.00       2566.00     2097.00\n3           6       0      -1579.00     -858.00      -2471.00    -3064.00\n4           8       0       -747.00     -313.00        877.00      205.00",
            "text/html": "<div>\n<style scoped>\n    .dataframe tbody tr th:only-of-type {\n        vertical-align: middle;\n    }\n\n    .dataframe tbody tr th {\n        vertical-align: top;\n    }\n\n    .dataframe thead th {\n        text-align: right;\n    }\n</style>\n<table border=\"1\" class=\"dataframe\">\n  <thead>\n    <tr style=\"text-align: right;\">\n      <th></th>\n      <th>Unnamed: 0</th>\n      <th>result</th>\n      <th>golddiffat10</th>\n      <th>xpdiffat10</th>\n      <th>golddiffat15</th>\n      <th>xpdiffat15</th>\n    </tr>\n  </thead>\n  <tbody>\n    <tr>\n      <th>0</th>\n      <td>0</td>\n      <td>1</td>\n      <td>117.00</td>\n      <td>-137.00</td>\n      <td>-825.00</td>\n      <td>-1665.00</td>\n    </tr>\n    <tr>\n      <th>1</th>\n      <td>2</td>\n      <td>0</td>\n      <td>-2014.00</td>\n      <td>-2149.00</td>\n      <td>-5484.00</td>\n      <td>-4833.00</td>\n    </tr>\n    <tr>\n      <th>2</th>\n      <td>4</td>\n      <td>1</td>\n      <td>682.00</td>\n      <td>615.00</td>\n      <td>2566.00</td>\n      <td>2097.00</td>\n    </tr>\n    <tr>\n      <th>3</th>\n      <td>6</td>\n      <td>0</td>\n      <td>-1579.00</td>\n      <td>-858.00</td>\n      <td>-2471.00</td>\n      <td>-3064.00</td>\n    </tr>\n    <tr>\n      <th>4</th>\n      <td>8</td>\n      <td>0</td>\n      <td>-747.00</td>\n      <td>-313.00</td>\n      <td>877.00</td>\n      <td>205.00</td>\n    </tr>\n  </tbody>\n</table>\n</div>"
          },
          "metadata": {}
        }
      ],
      "execution_count": 27,
      "metadata": {
        "collapsed": true,
        "jupyter": {
          "source_hidden": false,
          "outputs_hidden": false
        },
        "nteract": {
          "transient": {
            "deleting": false
          }
        },
        "gather": {
          "logged": 1611894571411
        }
      }
    },
    {
      "cell_type": "markdown",
      "source": [
        "## AutoML Configuration\n",
        "\n",
        "TODO: Explain why you chose the automl settings and cofiguration you used below."
      ],
      "metadata": {}
    },
    {
      "cell_type": "code",
      "source": [
        "# TODO: Put your automl settings here\n",
        "automl_settings = {}\n",
        "\n",
        "# TODO: Put your automl config here\n",
        "automl_config = AutoMLConfig(\n",
        "    experiment_timeout_minutes=30,\n",
        "    enable_onnx_compatible_models=True,\n",
        "    compute_target=compute_target,\n",
        "    task=\"classification\",\n",
        "    primary_metric=\"accuracy\",\n",
        "    training_data=ds,\n",
        "    validation_size=0.2,\n",
        "    label_column_name=\"result\")"
      ],
      "outputs": [],
      "execution_count": 8,
      "metadata": {
        "gather": {
          "logged": 1611969477876
        },
        "jupyter": {
          "outputs_hidden": false,
          "source_hidden": false
        },
        "nteract": {
          "transient": {
            "deleting": false
          }
        }
      }
    },
    {
      "cell_type": "code",
      "source": [
        "# TODO: Submit your experiment\n",
        "remote_run = exp.submit(automl_config)"
      ],
      "outputs": [
        {
          "output_type": "stream",
          "name": "stdout",
          "text": [
            "Running on remote.\n"
          ]
        }
      ],
      "execution_count": 9,
      "metadata": {
        "gather": {
          "logged": 1611969486116
        },
        "jupyter": {
          "outputs_hidden": false,
          "source_hidden": false
        },
        "nteract": {
          "transient": {
            "deleting": false
          }
        }
      }
    },
    {
      "cell_type": "markdown",
      "source": [
        "## Run Details\n",
        "\n",
        "OPTIONAL: Write about the different models trained and their performance. Why do you think some models did better than others?\n",
        "\n",
        "TODO: In the cell below, use the `RunDetails` widget to show the different experiments."
      ],
      "metadata": {}
    },
    {
      "cell_type": "code",
      "source": [
        "RunDetails(remote_run).show()\r\n",
        "remote_run.wait_for_completion(show_output=True)"
      ],
      "outputs": [
        {
          "output_type": "display_data",
          "data": {
            "text/plain": "_AutoMLWidget(widget_settings={'childWidgetDisplay': 'popup', 'send_telemetry': False, 'log_level': 'INFO', 's…",
            "application/vnd.jupyter.widget-view+json": {
              "version_major": 2,
              "version_minor": 0,
              "model_id": "6966c57ca816463988a4995c3144cf60"
            }
          },
          "metadata": {}
        },
        {
          "output_type": "display_data",
          "data": {
            "application/aml.mini.widget.v1": "{\"status\": \"Completed\", \"workbench_run_details_uri\": \"https://ml.azure.com/experiments/lol_match_predictor_automl/runs/AutoML_02b25db5-80fe-4ba2-9c8e-966eb8b4b0c8?wsid=/subscriptions/d7f39349-a66b-446e-aba6-0053c2cf1c11/resourcegroups/aml-quickstarts-136540/workspaces/quick-starts-ws-136540\", \"run_id\": \"AutoML_02b25db5-80fe-4ba2-9c8e-966eb8b4b0c8\", \"run_properties\": {\"run_id\": \"AutoML_02b25db5-80fe-4ba2-9c8e-966eb8b4b0c8\", \"created_utc\": \"2021-01-30T01:18:03.770413Z\", \"properties\": {\"num_iterations\": \"1000\", \"training_type\": \"TrainFull\", \"acquisition_function\": \"EI\", \"primary_metric\": \"accuracy\", \"train_split\": \"0.2\", \"acquisition_parameter\": \"0\", \"num_cross_validation\": null, \"target\": \"cluster\", \"AMLSettingsJsonString\": \"{\\\"path\\\":null,\\\"name\\\":\\\"lol_match_predictor_automl\\\",\\\"subscription_id\\\":\\\"d7f39349-a66b-446e-aba6-0053c2cf1c11\\\",\\\"resource_group\\\":\\\"aml-quickstarts-136540\\\",\\\"workspace_name\\\":\\\"quick-starts-ws-136540\\\",\\\"region\\\":\\\"southcentralus\\\",\\\"compute_target\\\":\\\"cluster\\\",\\\"spark_service\\\":null,\\\"azure_service\\\":\\\"remote\\\",\\\"many_models\\\":false,\\\"pipeline_fetch_max_batch_size\\\":1,\\\"iterations\\\":1000,\\\"primary_metric\\\":\\\"accuracy\\\",\\\"task_type\\\":\\\"classification\\\",\\\"data_script\\\":null,\\\"validation_size\\\":0.2,\\\"n_cross_validations\\\":null,\\\"y_min\\\":null,\\\"y_max\\\":null,\\\"num_classes\\\":null,\\\"featurization\\\":\\\"auto\\\",\\\"_ignore_package_version_incompatibilities\\\":false,\\\"is_timeseries\\\":false,\\\"max_cores_per_iteration\\\":1,\\\"max_concurrent_iterations\\\":1,\\\"iteration_timeout_minutes\\\":null,\\\"mem_in_mb\\\":null,\\\"enforce_time_on_windows\\\":false,\\\"experiment_timeout_minutes\\\":30,\\\"experiment_exit_score\\\":null,\\\"whitelist_models\\\":null,\\\"blacklist_algos\\\":[\\\"TensorFlowLinearClassifier\\\",\\\"TensorFlowDNN\\\"],\\\"supported_models\\\":[\\\"GradientBoosting\\\",\\\"DecisionTree\\\",\\\"SGD\\\",\\\"KNN\\\",\\\"RandomForest\\\",\\\"ExtremeRandomTrees\\\",\\\"LightGBM\\\",\\\"XGBoostClassifier\\\",\\\"SVM\\\",\\\"TensorFlowLinearClassifier\\\",\\\"LogisticRegression\\\",\\\"MultinomialNaiveBayes\\\",\\\"BernoulliNaiveBayes\\\",\\\"LinearSVM\\\",\\\"AveragedPerceptronClassifier\\\",\\\"TensorFlowDNN\\\"],\\\"auto_blacklist\\\":true,\\\"blacklist_samples_reached\\\":false,\\\"exclude_nan_labels\\\":true,\\\"verbosity\\\":20,\\\"_debug_log\\\":\\\"azureml_automl.log\\\",\\\"show_warnings\\\":false,\\\"model_explainability\\\":true,\\\"service_url\\\":null,\\\"sdk_url\\\":null,\\\"sdk_packages\\\":null,\\\"enable_onnx_compatible_models\\\":true,\\\"enable_split_onnx_featurizer_estimator_models\\\":false,\\\"vm_type\\\":\\\"STANDARD_DS3_V2\\\",\\\"telemetry_verbosity\\\":20,\\\"send_telemetry\\\":true,\\\"enable_dnn\\\":false,\\\"scenario\\\":\\\"SDK-1.13.0\\\",\\\"environment_label\\\":null,\\\"force_text_dnn\\\":false,\\\"enable_feature_sweeping\\\":false,\\\"enable_early_stopping\\\":false,\\\"early_stopping_n_iters\\\":10,\\\"metrics\\\":null,\\\"enable_ensembling\\\":true,\\\"enable_stack_ensembling\\\":false,\\\"ensemble_iterations\\\":15,\\\"enable_tf\\\":false,\\\"enable_subsampling\\\":null,\\\"subsample_seed\\\":null,\\\"enable_nimbusml\\\":false,\\\"enable_streaming\\\":false,\\\"force_streaming\\\":false,\\\"track_child_runs\\\":true,\\\"allowed_private_models\\\":[],\\\"label_column_name\\\":\\\"result\\\",\\\"weight_column_name\\\":null,\\\"cv_split_column_names\\\":null,\\\"enable_local_managed\\\":false,\\\"_local_managed_run_id\\\":null,\\\"cost_mode\\\":1,\\\"lag_length\\\":0,\\\"metric_operation\\\":\\\"maximize\\\",\\\"preprocess\\\":true}\", \"DataPrepJsonString\": \"{\\\\\\\"training_data\\\\\\\": \\\\\\\"{\\\\\\\\\\\\\\\"blocks\\\\\\\\\\\\\\\": [{\\\\\\\\\\\\\\\"id\\\\\\\\\\\\\\\": \\\\\\\\\\\\\\\"d63a2ccb-b48c-4fc0-995b-ee14acbae0f4\\\\\\\\\\\\\\\", \\\\\\\\\\\\\\\"type\\\\\\\\\\\\\\\": \\\\\\\\\\\\\\\"Microsoft.DPrep.GetFilesBlock\\\\\\\\\\\\\\\", \\\\\\\\\\\\\\\"arguments\\\\\\\\\\\\\\\": {\\\\\\\\\\\\\\\"isArchive\\\\\\\\\\\\\\\": false, \\\\\\\\\\\\\\\"path\\\\\\\\\\\\\\\": {\\\\\\\\\\\\\\\"target\\\\\\\\\\\\\\\": 4, \\\\\\\\\\\\\\\"resourceDetails\\\\\\\\\\\\\\\": [{\\\\\\\\\\\\\\\"path\\\\\\\\\\\\\\\": \\\\\\\\\\\\\\\"https://raw.githubusercontent.com/ncharchenko/Azure-ML-Engineer-Nanodegree-Capstone/master/OraclesElixir_automl_data.csv\\\\\\\\\\\\\\\"}]}}, \\\\\\\\\\\\\\\"localData\\\\\\\\\\\\\\\": {}, \\\\\\\\\\\\\\\"isEnabled\\\\\\\\\\\\\\\": true, \\\\\\\\\\\\\\\"name\\\\\\\\\\\\\\\": null, \\\\\\\\\\\\\\\"annotation\\\\\\\\\\\\\\\": null}, {\\\\\\\\\\\\\\\"id\\\\\\\\\\\\\\\": \\\\\\\\\\\\\\\"b9825db7-529c-4c07-b473-08d2649a2836\\\\\\\\\\\\\\\", \\\\\\\\\\\\\\\"type\\\\\\\\\\\\\\\": \\\\\\\\\\\\\\\"Microsoft.DPrep.ParseDelimitedBlock\\\\\\\\\\\\\\\", \\\\\\\\\\\\\\\"arguments\\\\\\\\\\\\\\\": {\\\\\\\\\\\\\\\"columnHeadersMode\\\\\\\\\\\\\\\": 3, \\\\\\\\\\\\\\\"fileEncoding\\\\\\\\\\\\\\\": 0, \\\\\\\\\\\\\\\"handleQuotedLineBreaks\\\\\\\\\\\\\\\": false, \\\\\\\\\\\\\\\"preview\\\\\\\\\\\\\\\": false, \\\\\\\\\\\\\\\"separator\\\\\\\\\\\\\\\": \\\\\\\\\\\\\\\",\\\\\\\\\\\\\\\", \\\\\\\\\\\\\\\"skipRows\\\\\\\\\\\\\\\": 0, \\\\\\\\\\\\\\\"skipRowsMode\\\\\\\\\\\\\\\": 0}, \\\\\\\\\\\\\\\"localData\\\\\\\\\\\\\\\": {}, \\\\\\\\\\\\\\\"isEnabled\\\\\\\\\\\\\\\": true, \\\\\\\\\\\\\\\"name\\\\\\\\\\\\\\\": null, \\\\\\\\\\\\\\\"annotation\\\\\\\\\\\\\\\": null}, {\\\\\\\\\\\\\\\"id\\\\\\\\\\\\\\\": \\\\\\\\\\\\\\\"298db976-b0ee-4a71-b85c-05e1be68af2f\\\\\\\\\\\\\\\", \\\\\\\\\\\\\\\"type\\\\\\\\\\\\\\\": \\\\\\\\\\\\\\\"Microsoft.DPrep.DropColumnsBlock\\\\\\\\\\\\\\\", \\\\\\\\\\\\\\\"arguments\\\\\\\\\\\\\\\": {\\\\\\\\\\\\\\\"columns\\\\\\\\\\\\\\\": {\\\\\\\\\\\\\\\"type\\\\\\\\\\\\\\\": 0, \\\\\\\\\\\\\\\"details\\\\\\\\\\\\\\\": {\\\\\\\\\\\\\\\"selectedColumns\\\\\\\\\\\\\\\": [\\\\\\\\\\\\\\\"Path\\\\\\\\\\\\\\\"]}}}, \\\\\\\\\\\\\\\"localData\\\\\\\\\\\\\\\": {}, \\\\\\\\\\\\\\\"isEnabled\\\\\\\\\\\\\\\": true, \\\\\\\\\\\\\\\"name\\\\\\\\\\\\\\\": null, \\\\\\\\\\\\\\\"annotation\\\\\\\\\\\\\\\": null}, {\\\\\\\\\\\\\\\"id\\\\\\\\\\\\\\\": \\\\\\\\\\\\\\\"22d8397f-cef8-4fae-a920-52ff321a5174\\\\\\\\\\\\\\\", \\\\\\\\\\\\\\\"type\\\\\\\\\\\\\\\": \\\\\\\\\\\\\\\"Microsoft.DPrep.SetColumnTypesBlock\\\\\\\\\\\\\\\", \\\\\\\\\\\\\\\"arguments\\\\\\\\\\\\\\\": {\\\\\\\\\\\\\\\"columnConversion\\\\\\\\\\\\\\\": [{\\\\\\\\\\\\\\\"column\\\\\\\\\\\\\\\": {\\\\\\\\\\\\\\\"type\\\\\\\\\\\\\\\": 2, \\\\\\\\\\\\\\\"details\\\\\\\\\\\\\\\": {\\\\\\\\\\\\\\\"selectedColumn\\\\\\\\\\\\\\\": \\\\\\\\\\\\\\\"Column1\\\\\\\\\\\\\\\"}}, \\\\\\\\\\\\\\\"typeProperty\\\\\\\\\\\\\\\": 2}, {\\\\\\\\\\\\\\\"column\\\\\\\\\\\\\\\": {\\\\\\\\\\\\\\\"type\\\\\\\\\\\\\\\": 2, \\\\\\\\\\\\\\\"details\\\\\\\\\\\\\\\": {\\\\\\\\\\\\\\\"selectedColumn\\\\\\\\\\\\\\\": \\\\\\\\\\\\\\\"result\\\\\\\\\\\\\\\"}}, \\\\\\\\\\\\\\\"typeProperty\\\\\\\\\\\\\\\": 2}, {\\\\\\\\\\\\\\\"column\\\\\\\\\\\\\\\": {\\\\\\\\\\\\\\\"type\\\\\\\\\\\\\\\": 2, \\\\\\\\\\\\\\\"details\\\\\\\\\\\\\\\": {\\\\\\\\\\\\\\\"selectedColumn\\\\\\\\\\\\\\\": \\\\\\\\\\\\\\\"golddiffat10\\\\\\\\\\\\\\\"}}, \\\\\\\\\\\\\\\"typeProperty\\\\\\\\\\\\\\\": 3}, {\\\\\\\\\\\\\\\"column\\\\\\\\\\\\\\\": {\\\\\\\\\\\\\\\"type\\\\\\\\\\\\\\\": 2, \\\\\\\\\\\\\\\"details\\\\\\\\\\\\\\\": {\\\\\\\\\\\\\\\"selectedColumn\\\\\\\\\\\\\\\": \\\\\\\\\\\\\\\"xpdiffat10\\\\\\\\\\\\\\\"}}, \\\\\\\\\\\\\\\"typeProperty\\\\\\\\\\\\\\\": 3}, {\\\\\\\\\\\\\\\"column\\\\\\\\\\\\\\\": {\\\\\\\\\\\\\\\"type\\\\\\\\\\\\\\\": 2, \\\\\\\\\\\\\\\"details\\\\\\\\\\\\\\\": {\\\\\\\\\\\\\\\"selectedColumn\\\\\\\\\\\\\\\": \\\\\\\\\\\\\\\"golddiffat15\\\\\\\\\\\\\\\"}}, \\\\\\\\\\\\\\\"typeProperty\\\\\\\\\\\\\\\": 3}, {\\\\\\\\\\\\\\\"column\\\\\\\\\\\\\\\": {\\\\\\\\\\\\\\\"type\\\\\\\\\\\\\\\": 2, \\\\\\\\\\\\\\\"details\\\\\\\\\\\\\\\": {\\\\\\\\\\\\\\\"selectedColumn\\\\\\\\\\\\\\\": \\\\\\\\\\\\\\\"xpdiffat15\\\\\\\\\\\\\\\"}}, \\\\\\\\\\\\\\\"typeProperty\\\\\\\\\\\\\\\": 3}]}, \\\\\\\\\\\\\\\"localData\\\\\\\\\\\\\\\": {}, \\\\\\\\\\\\\\\"isEnabled\\\\\\\\\\\\\\\": true, \\\\\\\\\\\\\\\"name\\\\\\\\\\\\\\\": null, \\\\\\\\\\\\\\\"annotation\\\\\\\\\\\\\\\": null}], \\\\\\\\\\\\\\\"inspectors\\\\\\\\\\\\\\\": [], \\\\\\\\\\\\\\\"meta\\\\\\\\\\\\\\\": {\\\\\\\\\\\\\\\"savedDatasetId\\\\\\\\\\\\\\\": \\\\\\\\\\\\\\\"aca9e94c-1dda-4a60-ada6-c0f4aac335ce\\\\\\\\\\\\\\\", \\\\\\\\\\\\\\\"datasetType\\\\\\\\\\\\\\\": \\\\\\\\\\\\\\\"tabular\\\\\\\\\\\\\\\", \\\\\\\\\\\\\\\"subscriptionId\\\\\\\\\\\\\\\": \\\\\\\\\\\\\\\"d7f39349-a66b-446e-aba6-0053c2cf1c11\\\\\\\\\\\\\\\", \\\\\\\\\\\\\\\"workspaceId\\\\\\\\\\\\\\\": \\\\\\\\\\\\\\\"07548f6c-3d12-46f9-86a6-2059a4fda71e\\\\\\\\\\\\\\\", \\\\\\\\\\\\\\\"workspaceLocation\\\\\\\\\\\\\\\": \\\\\\\\\\\\\\\"southcentralus\\\\\\\\\\\\\\\"}}\\\\\\\", \\\\\\\"activities\\\\\\\": 0}\", \"EnableSubsampling\": null, \"runTemplate\": \"AutoML\", \"azureml.runsource\": \"automl\", \"display_task_type\": \"classification\", \"dependencies_versions\": \"{\\\"azureml-widgets\\\": \\\"1.20.0\\\", \\\"azureml-train\\\": \\\"1.20.0\\\", \\\"azureml-train-restclients-hyperdrive\\\": \\\"1.20.0\\\", \\\"azureml-train-core\\\": \\\"1.20.0\\\", \\\"azureml-train-automl\\\": \\\"1.20.0\\\", \\\"azureml-train-automl-runtime\\\": \\\"1.20.0\\\", \\\"azureml-train-automl-client\\\": \\\"1.20.0\\\", \\\"azureml-tensorboard\\\": \\\"1.20.0\\\", \\\"azureml-telemetry\\\": \\\"1.20.0\\\", \\\"azureml-sdk\\\": \\\"1.20.0\\\", \\\"azureml-samples\\\": \\\"0+unknown\\\", \\\"azureml-pipeline\\\": \\\"1.20.0\\\", \\\"azureml-pipeline-steps\\\": \\\"1.20.0\\\", \\\"azureml-pipeline-core\\\": \\\"1.20.0\\\", \\\"azureml-opendatasets\\\": \\\"1.20.0\\\", \\\"azureml-model-management-sdk\\\": \\\"1.0.1b6.post1\\\", \\\"azureml-mlflow\\\": \\\"1.20.0.post1\\\", \\\"azureml-interpret\\\": \\\"1.20.0\\\", \\\"azureml-explain-model\\\": \\\"1.20.0\\\", \\\"azureml-defaults\\\": \\\"1.20.0\\\", \\\"azureml-dataset-runtime\\\": \\\"1.20.0\\\", \\\"azureml-dataprep\\\": \\\"2.7.3\\\", \\\"azureml-dataprep-rslex\\\": \\\"1.5.0\\\", \\\"azureml-dataprep-native\\\": \\\"27.0.0\\\", \\\"azureml-datadrift\\\": \\\"1.20.0\\\", \\\"azureml-core\\\": \\\"1.20.0\\\", \\\"azureml-contrib-services\\\": \\\"1.20.0\\\", \\\"azureml-contrib-server\\\": \\\"1.20.0\\\", \\\"azureml-contrib-reinforcementlearning\\\": \\\"1.20.0\\\", \\\"azureml-contrib-pipeline-steps\\\": \\\"1.20.0\\\", \\\"azureml-contrib-notebook\\\": \\\"1.20.0\\\", \\\"azureml-contrib-interpret\\\": \\\"1.20.0\\\", \\\"azureml-contrib-gbdt\\\": \\\"1.20.0\\\", \\\"azureml-contrib-fairness\\\": \\\"1.20.0\\\", \\\"azureml-contrib-dataset\\\": \\\"1.20.0\\\", \\\"azureml-cli-common\\\": \\\"1.20.0\\\", \\\"azureml-automl-runtime\\\": \\\"1.20.0\\\", \\\"azureml-automl-core\\\": \\\"1.20.0\\\", \\\"azureml-accel-models\\\": \\\"1.20.0\\\"}\", \"_aml_system_scenario_identification\": \"Remote.Parent\", \"ClientType\": \"SDK\", \"environment_cpu_name\": \"AzureML-AutoML\", \"environment_cpu_label\": \"prod\", \"environment_gpu_name\": \"AzureML-AutoML-GPU\", \"environment_gpu_label\": \"prod\", \"root_attribution\": \"automl\", \"attribution\": \"AutoML\", \"Orchestrator\": \"AutoML\", \"CancelUri\": \"https://southcentralus.experiments.azureml.net/jasmine/v1.0/subscriptions/d7f39349-a66b-446e-aba6-0053c2cf1c11/resourceGroups/aml-quickstarts-136540/providers/Microsoft.MachineLearningServices/workspaces/quick-starts-ws-136540/experimentids/0440ce94-6e17-42d7-90a7-a4382af7e71f/cancel/AutoML_02b25db5-80fe-4ba2-9c8e-966eb8b4b0c8\", \"ClientSdkVersion\": \"1.20.0.post1\", \"snapshotId\": \"00000000-0000-0000-0000-000000000000\", \"SetupRunId\": \"AutoML_02b25db5-80fe-4ba2-9c8e-966eb8b4b0c8_setup\", \"SetupRunContainerId\": \"dcid.AutoML_02b25db5-80fe-4ba2-9c8e-966eb8b4b0c8_setup\", \"FeaturizationRunJsonPath\": \"featurizer_container.json\", \"FeaturizationRunId\": \"AutoML_02b25db5-80fe-4ba2-9c8e-966eb8b4b0c8_featurize\", \"ProblemInfoJsonString\": \"{\\\"dataset_num_categorical\\\": 0, \\\"is_sparse\\\": false, \\\"subsampling\\\": false, \\\"dataset_classes\\\": 2, \\\"dataset_features\\\": 5, \\\"dataset_samples\\\": 5246, \\\"single_frequency_class_detected\\\": false}\", \"ModelExplainRunId\": \"AutoML_02b25db5-80fe-4ba2-9c8e-966eb8b4b0c8_ModelExplain\"}, \"tags\": {\"model_explain_run\": \"best_run\", \"_aml_system_azureml.automlComponent\": \"AutoML\", \"pipeline_id\": \"\", \"score\": \"\", \"predicted_cost\": \"\", \"fit_time\": \"\", \"training_percent\": \"\", \"iteration\": \"\", \"run_preprocessor\": \"\", \"run_algorithm\": \"\", \"dynamic_whitelisting_iterations\": \"<25>;\", \"automl_best_child_run_id\": \"AutoML_02b25db5-80fe-4ba2-9c8e-966eb8b4b0c8_28\"}, \"end_time_utc\": \"2021-01-30T01:57:27.417695Z\", \"status\": \"Completed\", \"log_files\": {}, \"log_groups\": [], \"run_duration\": \"0:39:23\"}, \"child_runs\": [{\"run_id\": \"AutoML_02b25db5-80fe-4ba2-9c8e-966eb8b4b0c8_0\", \"run_number\": 6, \"metric\": null, \"status\": \"Completed\", \"run_type\": \"azureml.scriptrun\", \"training_percent\": \"100\", \"start_time\": \"2021-01-30T01:25:03.573045Z\", \"end_time\": \"2021-01-30T01:25:50.1226Z\", \"created_time\": \"2021-01-30T01:24:50.170851Z\", \"created_time_dt\": \"2021-01-30T01:24:50.170851Z\", \"duration\": \"0:00:59\", \"iteration\": \"0\", \"goal\": \"accuracy_max\", \"run_name\": \"MaxAbsScaler, LightGBM\", \"run_properties\": \"copy=True\", \"primary_metric\": 0.73455378, \"best_metric\": 0.73455378}, {\"run_id\": \"AutoML_02b25db5-80fe-4ba2-9c8e-966eb8b4b0c8_1\", \"run_number\": 7, \"metric\": null, \"status\": \"Completed\", \"run_type\": \"azureml.scriptrun\", \"training_percent\": \"100\", \"start_time\": \"2021-01-30T01:26:06.456248Z\", \"end_time\": \"2021-01-30T01:26:58.978511Z\", \"created_time\": \"2021-01-30T01:25:52.707208Z\", \"created_time_dt\": \"2021-01-30T01:25:52.707208Z\", \"duration\": \"0:01:06\", \"iteration\": \"1\", \"goal\": \"accuracy_max\", \"run_name\": \"MaxAbsScaler, XGBoostClassifier\", \"run_properties\": \"copy=True\", \"primary_metric\": 0.74065599, \"best_metric\": 0.74065599}, {\"run_id\": \"AutoML_02b25db5-80fe-4ba2-9c8e-966eb8b4b0c8_2\", \"run_number\": 8, \"metric\": null, \"status\": \"Completed\", \"run_type\": \"azureml.scriptrun\", \"training_percent\": \"100\", \"start_time\": \"2021-01-30T01:27:13.954898Z\", \"end_time\": \"2021-01-30T01:27:57.399995Z\", \"created_time\": \"2021-01-30T01:27:01.876612Z\", \"created_time_dt\": \"2021-01-30T01:27:01.876612Z\", \"duration\": \"0:00:55\", \"iteration\": \"2\", \"goal\": \"accuracy_max\", \"run_name\": \"MinMaxScaler, RandomForest\", \"run_properties\": \"copy=True, feature_range=(0, 1\", \"primary_metric\": 0.73989321, \"best_metric\": 0.74065599}, {\"run_id\": \"AutoML_02b25db5-80fe-4ba2-9c8e-966eb8b4b0c8_3\", \"run_number\": 9, \"metric\": null, \"status\": \"Completed\", \"run_type\": \"azureml.scriptrun\", \"training_percent\": \"100\", \"start_time\": \"2021-01-30T01:28:12.825948Z\", \"end_time\": \"2021-01-30T01:29:08.256668Z\", \"created_time\": \"2021-01-30T01:27:59.447764Z\", \"created_time_dt\": \"2021-01-30T01:27:59.447764Z\", \"duration\": \"0:01:08\", \"iteration\": \"3\", \"goal\": \"accuracy_max\", \"run_name\": \"MinMaxScaler, RandomForest\", \"run_properties\": \"copy=True, feature_range=(0, 1\", \"primary_metric\": 0.74218154, \"best_metric\": 0.74218154}, {\"run_id\": \"AutoML_02b25db5-80fe-4ba2-9c8e-966eb8b4b0c8_4\", \"run_number\": 10, \"metric\": null, \"status\": \"Completed\", \"run_type\": \"azureml.scriptrun\", \"training_percent\": \"100\", \"start_time\": \"2021-01-30T01:29:23.937922Z\", \"end_time\": \"2021-01-30T01:30:13.029531Z\", \"created_time\": \"2021-01-30T01:29:11.367424Z\", \"created_time_dt\": \"2021-01-30T01:29:11.367424Z\", \"duration\": \"0:01:01\", \"iteration\": \"4\", \"goal\": \"accuracy_max\", \"run_name\": \"MinMaxScaler, RandomForest\", \"run_properties\": \"copy=True, feature_range=(0, 1\", \"primary_metric\": 0.73913043, \"best_metric\": 0.74218154}, {\"run_id\": \"AutoML_02b25db5-80fe-4ba2-9c8e-966eb8b4b0c8_5\", \"run_number\": 11, \"metric\": null, \"status\": \"Completed\", \"run_type\": \"azureml.scriptrun\", \"training_percent\": \"100\", \"start_time\": \"2021-01-30T01:30:26.497359Z\", \"end_time\": \"2021-01-30T01:31:19.788062Z\", \"created_time\": \"2021-01-30T01:30:16.023511Z\", \"created_time_dt\": \"2021-01-30T01:30:16.023511Z\", \"duration\": \"0:01:03\", \"iteration\": \"5\", \"goal\": \"accuracy_max\", \"run_name\": \"SparseNormalizer, XGBoostClassifier\", \"run_properties\": \"<azureml.automl.runtime.shared.model_wrappers.SparseNormalizer object at 0x7f131659b4e0\", \"primary_metric\": 0.73531655, \"best_metric\": 0.74218154}, {\"run_id\": \"AutoML_02b25db5-80fe-4ba2-9c8e-966eb8b4b0c8_6\", \"run_number\": 12, \"metric\": null, \"status\": \"Completed\", \"run_type\": \"azureml.scriptrun\", \"training_percent\": \"100\", \"start_time\": \"2021-01-30T01:31:36.320346Z\", \"end_time\": \"2021-01-30T01:32:28.845654Z\", \"created_time\": \"2021-01-30T01:31:22.779498Z\", \"created_time_dt\": \"2021-01-30T01:31:22.779498Z\", \"duration\": \"0:01:06\", \"iteration\": \"6\", \"goal\": \"accuracy_max\", \"run_name\": \"MaxAbsScaler, GradientBoosting\", \"run_properties\": \"copy=True\", \"primary_metric\": 0.74370709, \"best_metric\": 0.74370709}, {\"run_id\": \"AutoML_02b25db5-80fe-4ba2-9c8e-966eb8b4b0c8_7\", \"run_number\": 13, \"metric\": null, \"status\": \"Completed\", \"run_type\": \"azureml.scriptrun\", \"training_percent\": \"100\", \"start_time\": \"2021-01-30T01:32:46.049343Z\", \"end_time\": \"2021-01-30T01:33:35.952191Z\", \"created_time\": \"2021-01-30T01:32:32.67444Z\", \"created_time_dt\": \"2021-01-30T01:32:32.67444Z\", \"duration\": \"0:01:03\", \"iteration\": \"7\", \"goal\": \"accuracy_max\", \"run_name\": \"SparseNormalizer, XGBoostClassifier\", \"run_properties\": \"<azureml.automl.runtime.shared.model_wrappers.SparseNormalizer object at 0x7f97428af358\", \"primary_metric\": 0.74218154, \"best_metric\": 0.74370709}, {\"run_id\": \"AutoML_02b25db5-80fe-4ba2-9c8e-966eb8b4b0c8_8\", \"run_number\": 14, \"metric\": null, \"status\": \"Completed\", \"run_type\": \"azureml.scriptrun\", \"training_percent\": \"100\", \"start_time\": \"2021-01-30T01:33:52.826705Z\", \"end_time\": \"2021-01-30T01:34:41.903316Z\", \"created_time\": \"2021-01-30T01:33:38.155776Z\", \"created_time_dt\": \"2021-01-30T01:33:38.155776Z\", \"duration\": \"0:01:03\", \"iteration\": \"8\", \"goal\": \"accuracy_max\", \"run_name\": \"StandardScalerWrapper, LogisticRegression\", \"run_properties\": \"<azureml.automl.runtime.shared.model_wrappers.StandardScalerWrapper object at 0x7f0008600630\", \"primary_metric\": 0.74294432, \"best_metric\": 0.74370709}, {\"run_id\": \"AutoML_02b25db5-80fe-4ba2-9c8e-966eb8b4b0c8_9\", \"run_number\": 15, \"metric\": null, \"status\": \"Completed\", \"run_type\": \"azureml.scriptrun\", \"training_percent\": \"100\", \"start_time\": \"2021-01-30T01:34:54.945571Z\", \"end_time\": \"2021-01-30T01:35:45.493907Z\", \"created_time\": \"2021-01-30T01:34:43.867443Z\", \"created_time_dt\": \"2021-01-30T01:34:43.867443Z\", \"duration\": \"0:01:01\", \"iteration\": \"9\", \"goal\": \"accuracy_max\", \"run_name\": \"MinMaxScaler, LogisticRegression\", \"run_properties\": \"copy=True, feature_range=(0, 1\", \"primary_metric\": 0.74141876, \"best_metric\": 0.74370709}, {\"run_id\": \"AutoML_02b25db5-80fe-4ba2-9c8e-966eb8b4b0c8_10\", \"run_number\": 16, \"metric\": null, \"status\": \"Completed\", \"run_type\": \"azureml.scriptrun\", \"training_percent\": \"100\", \"start_time\": \"2021-01-30T01:36:01.516725Z\", \"end_time\": \"2021-01-30T01:36:48.079303Z\", \"created_time\": \"2021-01-30T01:35:48.718899Z\", \"created_time_dt\": \"2021-01-30T01:35:48.718899Z\", \"duration\": \"0:00:59\", \"iteration\": \"10\", \"goal\": \"accuracy_max\", \"run_name\": \"MinMaxScaler, LightGBM\", \"run_properties\": \"copy=True, feature_range=(0, 1\", \"primary_metric\": 0.74599542, \"best_metric\": 0.74599542}, {\"run_id\": \"AutoML_02b25db5-80fe-4ba2-9c8e-966eb8b4b0c8_11\", \"run_number\": 17, \"metric\": null, \"status\": \"Completed\", \"run_type\": \"azureml.scriptrun\", \"training_percent\": \"100\", \"start_time\": \"2021-01-30T01:37:06.341205Z\", \"end_time\": \"2021-01-30T01:37:58.01428Z\", \"created_time\": \"2021-01-30T01:36:51.291028Z\", \"created_time_dt\": \"2021-01-30T01:36:51.291028Z\", \"duration\": \"0:01:06\", \"iteration\": \"11\", \"goal\": \"accuracy_max\", \"run_name\": \"MinMaxScaler, LightGBM\", \"run_properties\": \"copy=True, feature_range=(0, 1\", \"primary_metric\": 0.73760488, \"best_metric\": 0.74599542}, {\"run_id\": \"AutoML_02b25db5-80fe-4ba2-9c8e-966eb8b4b0c8_12\", \"run_number\": 18, \"metric\": null, \"status\": \"Completed\", \"run_type\": \"azureml.scriptrun\", \"training_percent\": \"100\", \"start_time\": \"2021-01-30T01:38:11.210806Z\", \"end_time\": \"2021-01-30T01:38:58.973168Z\", \"created_time\": \"2021-01-30T01:38:00.777907Z\", \"created_time_dt\": \"2021-01-30T01:38:00.777907Z\", \"duration\": \"0:00:58\", \"iteration\": \"12\", \"goal\": \"accuracy_max\", \"run_name\": \"StandardScalerWrapper, LightGBM\", \"run_properties\": \"<azureml.automl.runtime.shared.model_wrappers.StandardScalerWrapper object at 0x7f0f16c0df60\", \"primary_metric\": 0.74141876, \"best_metric\": 0.74599542}, {\"run_id\": \"AutoML_02b25db5-80fe-4ba2-9c8e-966eb8b4b0c8_13\", \"run_number\": 19, \"metric\": null, \"status\": \"Completed\", \"run_type\": \"azureml.scriptrun\", \"training_percent\": \"100\", \"start_time\": \"2021-01-30T01:39:13.724484Z\", \"end_time\": \"2021-01-30T01:40:05.764886Z\", \"created_time\": \"2021-01-30T01:39:01.816652Z\", \"created_time_dt\": \"2021-01-30T01:39:01.816652Z\", \"duration\": \"0:01:03\", \"iteration\": \"13\", \"goal\": \"accuracy_max\", \"run_name\": \"SparseNormalizer, LightGBM\", \"run_properties\": \"<azureml.automl.runtime.shared.model_wrappers.SparseNormalizer object at 0x7f379834d7b8\", \"primary_metric\": 0.74065599, \"best_metric\": 0.74599542}, {\"run_id\": \"AutoML_02b25db5-80fe-4ba2-9c8e-966eb8b4b0c8_14\", \"run_number\": 20, \"metric\": null, \"status\": \"Completed\", \"run_type\": \"azureml.scriptrun\", \"training_percent\": \"100\", \"start_time\": \"2021-01-30T01:40:19.937417Z\", \"end_time\": \"2021-01-30T01:41:08.292194Z\", \"created_time\": \"2021-01-30T01:40:08.38005Z\", \"created_time_dt\": \"2021-01-30T01:40:08.38005Z\", \"duration\": \"0:00:59\", \"iteration\": \"14\", \"goal\": \"accuracy_max\", \"run_name\": \"RobustScaler, ExtremeRandomTrees\", \"run_properties\": \"copy=True, quantile_range=[25, 75], with_centering=True,\\n             with_scaling=False\", \"primary_metric\": 0.74294432, \"best_metric\": 0.74599542}, {\"run_id\": \"AutoML_02b25db5-80fe-4ba2-9c8e-966eb8b4b0c8_15\", \"run_number\": 21, \"metric\": null, \"status\": \"Completed\", \"run_type\": \"azureml.scriptrun\", \"training_percent\": \"100\", \"start_time\": \"2021-01-30T01:41:24.128844Z\", \"end_time\": \"2021-01-30T01:42:15.96278Z\", \"created_time\": \"2021-01-30T01:41:10.710137Z\", \"created_time_dt\": \"2021-01-30T01:41:10.710137Z\", \"duration\": \"0:01:05\", \"iteration\": \"15\", \"goal\": \"accuracy_max\", \"run_name\": \"RobustScaler, LightGBM\", \"run_properties\": \"copy=True, quantile_range=[10, 90], with_centering=False,\\n             with_scaling=False\", \"primary_metric\": 0.73073989, \"best_metric\": 0.74599542}, {\"run_id\": \"AutoML_02b25db5-80fe-4ba2-9c8e-966eb8b4b0c8_16\", \"run_number\": 22, \"metric\": null, \"status\": \"Completed\", \"run_type\": \"azureml.scriptrun\", \"training_percent\": \"100\", \"start_time\": \"2021-01-30T01:42:31.703412Z\", \"end_time\": \"2021-01-30T01:43:23.935871Z\", \"created_time\": \"2021-01-30T01:42:18.739423Z\", \"created_time_dt\": \"2021-01-30T01:42:18.739423Z\", \"duration\": \"0:01:05\", \"iteration\": \"16\", \"goal\": \"accuracy_max\", \"run_name\": \"RobustScaler, ExtremeRandomTrees\", \"run_properties\": \"copy=True, quantile_range=[10, 90], with_centering=True,\\n             with_scaling=False\", \"primary_metric\": 0.74523265, \"best_metric\": 0.74599542}, {\"run_id\": \"AutoML_02b25db5-80fe-4ba2-9c8e-966eb8b4b0c8_17\", \"run_number\": 23, \"metric\": null, \"status\": \"Completed\", \"run_type\": \"azureml.scriptrun\", \"training_percent\": \"100\", \"start_time\": \"2021-01-30T01:43:37.012967Z\", \"end_time\": \"2021-01-30T01:44:33.910432Z\", \"created_time\": \"2021-01-30T01:43:26.076036Z\", \"created_time_dt\": \"2021-01-30T01:43:26.076036Z\", \"duration\": \"0:01:07\", \"iteration\": \"17\", \"goal\": \"accuracy_max\", \"run_name\": \"MaxAbsScaler, ExtremeRandomTrees\", \"run_properties\": \"copy=True\", \"primary_metric\": 0.73302822, \"best_metric\": 0.74599542}, {\"run_id\": \"AutoML_02b25db5-80fe-4ba2-9c8e-966eb8b4b0c8_18\", \"run_number\": 24, \"metric\": null, \"status\": \"Completed\", \"run_type\": \"azureml.scriptrun\", \"training_percent\": \"100\", \"start_time\": \"2021-01-30T01:44:50.262449Z\", \"end_time\": \"2021-01-30T01:45:41.910686Z\", \"created_time\": \"2021-01-30T01:44:36.43134Z\", \"created_time_dt\": \"2021-01-30T01:44:36.43134Z\", \"duration\": \"0:01:05\", \"iteration\": \"18\", \"goal\": \"accuracy_max\", \"run_name\": \"SparseNormalizer, XGBoostClassifier\", \"run_properties\": \"<azureml.automl.runtime.shared.model_wrappers.SparseNormalizer object at 0x7f1368e6abe0\", \"primary_metric\": 0.72616323, \"best_metric\": 0.74599542}, {\"run_id\": \"AutoML_02b25db5-80fe-4ba2-9c8e-966eb8b4b0c8_19\", \"run_number\": 25, \"metric\": null, \"status\": \"Completed\", \"run_type\": \"azureml.scriptrun\", \"training_percent\": \"100\", \"start_time\": \"2021-01-30T01:45:55.195943Z\", \"end_time\": \"2021-01-30T01:46:46.86251Z\", \"created_time\": \"2021-01-30T01:45:43.785Z\", \"created_time_dt\": \"2021-01-30T01:45:43.785Z\", \"duration\": \"0:01:03\", \"iteration\": \"19\", \"goal\": \"accuracy_max\", \"run_name\": \"MaxAbsScaler, ExtremeRandomTrees\", \"run_properties\": \"copy=True\", \"primary_metric\": 0.74523265, \"best_metric\": 0.74599542}, {\"run_id\": \"AutoML_02b25db5-80fe-4ba2-9c8e-966eb8b4b0c8_20\", \"run_number\": 26, \"metric\": null, \"status\": \"Completed\", \"run_type\": \"azureml.scriptrun\", \"training_percent\": \"100\", \"start_time\": \"2021-01-30T01:47:01.446677Z\", \"end_time\": \"2021-01-30T01:47:49.316467Z\", \"created_time\": \"2021-01-30T01:46:48.479277Z\", \"created_time_dt\": \"2021-01-30T01:46:48.479277Z\", \"duration\": \"0:01:00\", \"iteration\": \"20\", \"goal\": \"accuracy_max\", \"run_name\": \"StandardScalerWrapper, LightGBM\", \"run_properties\": \"<azureml.automl.runtime.shared.model_wrappers.StandardScalerWrapper object at 0x7fbf362215f8\", \"primary_metric\": 0.73989321, \"best_metric\": 0.74599542}, {\"run_id\": \"AutoML_02b25db5-80fe-4ba2-9c8e-966eb8b4b0c8_21\", \"run_number\": 27, \"metric\": null, \"status\": \"Completed\", \"run_type\": \"azureml.scriptrun\", \"training_percent\": \"100\", \"start_time\": \"2021-01-30T01:48:04.921066Z\", \"end_time\": \"2021-01-30T01:49:00.438423Z\", \"created_time\": \"2021-01-30T01:47:51.533983Z\", \"created_time_dt\": \"2021-01-30T01:47:51.533983Z\", \"duration\": \"0:01:08\", \"iteration\": \"21\", \"goal\": \"accuracy_max\", \"run_name\": \"StandardScalerWrapper, RandomForest\", \"run_properties\": \"<azureml.automl.runtime.shared.model_wrappers.StandardScalerWrapper object at 0x7f98b83fee80\", \"primary_metric\": 0.73684211, \"best_metric\": 0.74599542}, {\"run_id\": \"AutoML_02b25db5-80fe-4ba2-9c8e-966eb8b4b0c8_22\", \"run_number\": 28, \"metric\": null, \"status\": \"Completed\", \"run_type\": \"azureml.scriptrun\", \"training_percent\": \"100\", \"start_time\": \"2021-01-30T01:49:17.640667Z\", \"end_time\": \"2021-01-30T01:50:07.811107Z\", \"created_time\": \"2021-01-30T01:49:03.821105Z\", \"created_time_dt\": \"2021-01-30T01:49:03.821105Z\", \"duration\": \"0:01:03\", \"iteration\": \"22\", \"goal\": \"accuracy_max\", \"run_name\": \"SparseNormalizer, XGBoostClassifier\", \"run_properties\": \"<azureml.automl.runtime.shared.model_wrappers.SparseNormalizer object at 0x7f088b77e780\", \"primary_metric\": 0.73150267, \"best_metric\": 0.74599542}, {\"run_id\": \"AutoML_02b25db5-80fe-4ba2-9c8e-966eb8b4b0c8_23\", \"run_number\": 29, \"metric\": null, \"status\": \"Completed\", \"run_type\": \"azureml.scriptrun\", \"training_percent\": \"100\", \"start_time\": \"2021-01-30T01:50:22.131148Z\", \"end_time\": \"2021-01-30T01:51:17.05411Z\", \"created_time\": \"2021-01-30T01:50:09.880363Z\", \"created_time_dt\": \"2021-01-30T01:50:09.880363Z\", \"duration\": \"0:01:07\", \"iteration\": \"23\", \"goal\": \"accuracy_max\", \"run_name\": \"RobustScaler, LightGBM\", \"run_properties\": \"copy=True, quantile_range=[10, 90], with_centering=True,\\n             with_scaling=False\", \"primary_metric\": 0.73836766, \"best_metric\": 0.74599542}, {\"run_id\": \"AutoML_02b25db5-80fe-4ba2-9c8e-966eb8b4b0c8_24\", \"run_number\": 30, \"metric\": null, \"status\": \"Completed\", \"run_type\": \"azureml.scriptrun\", \"training_percent\": \"100\", \"start_time\": \"2021-01-30T01:51:32.906721Z\", \"end_time\": \"2021-01-30T01:52:26.288748Z\", \"created_time\": \"2021-01-30T01:51:19.986238Z\", \"created_time_dt\": \"2021-01-30T01:51:19.986238Z\", \"duration\": \"0:01:06\", \"iteration\": \"24\", \"goal\": \"accuracy_max\", \"run_name\": \"SparseNormalizer, XGBoostClassifier\", \"run_properties\": \"<azureml.automl.runtime.shared.model_wrappers.SparseNormalizer object at 0x7f3f2b45de10\", \"primary_metric\": 0.73760488, \"best_metric\": 0.74599542}, {\"run_id\": \"AutoML_02b25db5-80fe-4ba2-9c8e-966eb8b4b0c8_25\", \"run_number\": 31, \"metric\": null, \"status\": \"Completed\", \"run_type\": \"azureml.scriptrun\", \"training_percent\": \"100\", \"start_time\": \"2021-01-30T01:52:39.478546Z\", \"end_time\": \"2021-01-30T01:53:33.386818Z\", \"created_time\": \"2021-01-30T01:52:29.186438Z\", \"created_time_dt\": \"2021-01-30T01:52:29.186438Z\", \"duration\": \"0:01:04\", \"iteration\": \"25\", \"goal\": \"accuracy_max\", \"run_name\": \"StandardScalerWrapper, LightGBM\", \"run_properties\": \"<azureml.automl.runtime.shared.model_wrappers.StandardScalerWrapper object at 0x7f30dc545f28\", \"primary_metric\": 0.69260107, \"best_metric\": 0.74599542}, {\"run_id\": \"AutoML_02b25db5-80fe-4ba2-9c8e-966eb8b4b0c8_26\", \"run_number\": 32, \"metric\": null, \"status\": \"Completed\", \"run_type\": \"azureml.scriptrun\", \"training_percent\": \"100\", \"start_time\": \"2021-01-30T01:53:48.223904Z\", \"end_time\": \"2021-01-30T01:54:38.026325Z\", \"created_time\": \"2021-01-30T01:53:35.164056Z\", \"created_time_dt\": \"2021-01-30T01:53:35.164056Z\", \"duration\": \"0:01:02\", \"iteration\": \"26\", \"goal\": \"accuracy_max\", \"run_name\": \"MaxAbsScaler, LightGBM\", \"run_properties\": \"copy=True\", \"primary_metric\": 0.74523265, \"best_metric\": 0.74599542}, {\"run_id\": \"AutoML_02b25db5-80fe-4ba2-9c8e-966eb8b4b0c8_27\", \"run_number\": 33, \"metric\": null, \"status\": \"Completed\", \"run_type\": \"azureml.scriptrun\", \"training_percent\": \"100\", \"start_time\": \"2021-01-30T01:54:53.750527Z\", \"end_time\": \"2021-01-30T01:55:45.480277Z\", \"created_time\": \"2021-01-30T01:54:40.804536Z\", \"created_time_dt\": \"2021-01-30T01:54:40.804536Z\", \"duration\": \"0:01:04\", \"iteration\": \"27\", \"goal\": \"accuracy_max\", \"run_name\": \"StandardScalerWrapper, GradientBoosting\", \"run_properties\": \"<azureml.automl.runtime.shared.model_wrappers.StandardScalerWrapper object at 0x7f761a3e8400\", \"primary_metric\": 0.74141876, \"best_metric\": 0.74599542}, {\"run_id\": \"AutoML_02b25db5-80fe-4ba2-9c8e-966eb8b4b0c8_28\", \"run_number\": 34, \"metric\": null, \"status\": \"Completed\", \"run_type\": \"azureml.scriptrun\", \"training_percent\": \"100\", \"start_time\": \"2021-01-30T01:56:01.192156Z\", \"end_time\": \"2021-01-30T01:57:12.912331Z\", \"created_time\": \"2021-01-30T01:55:47.399051Z\", \"created_time_dt\": \"2021-01-30T01:55:47.399051Z\", \"duration\": \"0:01:25\", \"iteration\": \"28\", \"goal\": \"accuracy_max\", \"run_name\": \"VotingEnsemble\", \"run_properties\": \"classification_labels=None,\\n                              estimators=[('10',\\n                                           Pipeline(memory=None,\\n                                                    steps=[('minmaxscaler',\\n                                                            MinMaxScaler(copy=True,\\n                                                                         feature_range=(0,\\n                                                                                        1\", \"primary_metric\": 0.74980931, \"best_metric\": 0.74980931}], \"children_metrics\": {\"categories\": [0], \"series\": {\"average_precision_score_macro\": [{\"categories\": [\"0\", \"1\", \"2\", \"3\", \"4\", \"5\", \"6\", \"7\", \"8\", \"9\", \"10\", \"11\", \"12\", \"13\", \"14\", \"15\", \"16\", \"17\", \"18\", \"19\", \"20\", \"21\", \"22\", \"23\", \"24\", \"25\", \"26\", \"27\", \"28\"], \"mode\": \"markers\", \"name\": \"average_precision_score_macro\", \"stepped\": false, \"type\": \"scatter\", \"data\": [0.8169963296558702, 0.8298467775612909, 0.8325722554556712, 0.8300887702908917, 0.8314393490111378, 0.796109935003659, 0.8330493585057271, 0.7993716819893, 0.838073214721154, 0.8378797047385554, 0.8358608252974908, 0.8321487798130965, 0.8331680916243263, 0.8073369663062263, 0.834954959836363, 0.8287677026241966, 0.8350165224752968, 0.8323398441482772, 0.7900896610100713, 0.8333800497394797, 0.8337151212591822, 0.8169620971306395, 0.8011320594181444, 0.834302578900108, 0.8090667918244157, 0.8303602886719401, 0.8313649518321615, 0.821000193216374, 0.8350173671875311]}, {\"categories\": [\"0\", \"1\", \"2\", \"3\", \"4\", \"5\", \"6\", \"7\", \"8\", \"9\", \"10\", \"11\", \"12\", \"13\", \"14\", \"15\", \"16\", \"17\", \"18\", \"19\", \"20\", \"21\", \"22\", \"23\", \"24\", \"25\", \"26\", \"27\", \"28\"], \"mode\": \"lines\", \"name\": \"average_precision_score_macro_max\", \"stepped\": true, \"type\": \"scatter\", \"data\": [0.8169963296558702, 0.8298467775612909, 0.8325722554556712, 0.8325722554556712, 0.8325722554556712, 0.8325722554556712, 0.8330493585057271, 0.8330493585057271, 0.838073214721154, 0.838073214721154, 0.838073214721154, 0.838073214721154, 0.838073214721154, 0.838073214721154, 0.838073214721154, 0.838073214721154, 0.838073214721154, 0.838073214721154, 0.838073214721154, 0.838073214721154, 0.838073214721154, 0.838073214721154, 0.838073214721154, 0.838073214721154, 0.838073214721154, 0.838073214721154, 0.838073214721154, 0.838073214721154, 0.838073214721154]}], \"precision_score_micro\": [{\"categories\": [\"0\", \"1\", \"2\", \"3\", \"4\", \"5\", \"6\", \"7\", \"8\", \"9\", \"10\", \"11\", \"12\", \"13\", \"14\", \"15\", \"16\", \"17\", \"18\", \"19\", \"20\", \"21\", \"22\", \"23\", \"24\", \"25\", \"26\", \"27\", \"28\"], \"mode\": \"markers\", \"name\": \"precision_score_micro\", \"stepped\": false, \"type\": \"scatter\", \"data\": [0.7345537757437071, 0.7406559877955758, 0.7398932112890922, 0.7421815408085431, 0.7391304347826086, 0.7353165522501907, 0.7437070938215103, 0.7421815408085431, 0.7429443173150267, 0.7414187643020596, 0.7459954233409611, 0.7376048817696415, 0.7414187643020596, 0.7406559877955758, 0.7429443173150267, 0.7307398932112891, 0.7452326468344775, 0.7330282227307399, 0.7261632341723875, 0.7452326468344775, 0.7398932112890922, 0.7368421052631579, 0.7315026697177727, 0.738367658276125, 0.7376048817696415, 0.6926010678871091, 0.7452326468344775, 0.7414187643020596, 0.7498093058733791]}, {\"categories\": [\"0\", \"1\", \"2\", \"3\", \"4\", \"5\", \"6\", \"7\", \"8\", \"9\", \"10\", \"11\", \"12\", \"13\", \"14\", \"15\", \"16\", \"17\", \"18\", \"19\", \"20\", \"21\", \"22\", \"23\", \"24\", \"25\", \"26\", \"27\", \"28\"], \"mode\": \"lines\", \"name\": \"precision_score_micro_max\", \"stepped\": true, \"type\": \"scatter\", \"data\": [0.7345537757437071, 0.7406559877955758, 0.7406559877955758, 0.7421815408085431, 0.7421815408085431, 0.7421815408085431, 0.7437070938215103, 0.7437070938215103, 0.7437070938215103, 0.7437070938215103, 0.7459954233409611, 0.7459954233409611, 0.7459954233409611, 0.7459954233409611, 0.7459954233409611, 0.7459954233409611, 0.7459954233409611, 0.7459954233409611, 0.7459954233409611, 0.7459954233409611, 0.7459954233409611, 0.7459954233409611, 0.7459954233409611, 0.7459954233409611, 0.7459954233409611, 0.7459954233409611, 0.7459954233409611, 0.7459954233409611, 0.7498093058733791]}], \"recall_score_macro\": [{\"categories\": [\"0\", \"1\", \"2\", \"3\", \"4\", \"5\", \"6\", \"7\", \"8\", \"9\", \"10\", \"11\", \"12\", \"13\", \"14\", \"15\", \"16\", \"17\", \"18\", \"19\", \"20\", \"21\", \"22\", \"23\", \"24\", \"25\", \"26\", \"27\", \"28\"], \"mode\": \"markers\", \"name\": \"recall_score_macro\", \"stepped\": false, \"type\": \"scatter\", \"data\": [0.7323410944100599, 0.7392355409596789, 0.7379794534966948, 0.740442507683887, 0.7391162477369374, 0.7331621124724573, 0.7418670091083884, 0.740768809734327, 0.7407196889955511, 0.739186420220903, 0.7430248550938205, 0.7351900972590628, 0.7370110732179698, 0.7392355409596789, 0.7406109216454044, 0.7294324449496863, 0.7427476737821566, 0.7273272704307188, 0.7243975692251554, 0.7426389064320099, 0.7370005473453749, 0.7376320997010652, 0.729818393611497, 0.7359023479713135, 0.7364953054608228, 0.6714138352069386, 0.7432915105328899, 0.7380987467194364, 0.7476737821565408]}, {\"categories\": [\"0\", \"1\", \"2\", \"3\", \"4\", \"5\", \"6\", \"7\", \"8\", \"9\", \"10\", \"11\", \"12\", \"13\", \"14\", \"15\", \"16\", \"17\", \"18\", \"19\", \"20\", \"21\", \"22\", \"23\", \"24\", \"25\", \"26\", \"27\", \"28\"], \"mode\": \"lines\", \"name\": \"recall_score_macro_max\", \"stepped\": true, \"type\": \"scatter\", \"data\": [0.7323410944100599, 0.7392355409596789, 0.7392355409596789, 0.740442507683887, 0.740442507683887, 0.740442507683887, 0.7418670091083884, 0.7418670091083884, 0.7418670091083884, 0.7418670091083884, 0.7430248550938205, 0.7430248550938205, 0.7430248550938205, 0.7430248550938205, 0.7430248550938205, 0.7430248550938205, 0.7430248550938205, 0.7430248550938205, 0.7430248550938205, 0.7430248550938205, 0.7430248550938205, 0.7430248550938205, 0.7430248550938205, 0.7430248550938205, 0.7430248550938205, 0.7430248550938205, 0.7432915105328899, 0.7432915105328899, 0.7476737821565408]}], \"AUC_weighted\": [{\"categories\": [\"0\", \"1\", \"2\", \"3\", \"4\", \"5\", \"6\", \"7\", \"8\", \"9\", \"10\", \"11\", \"12\", \"13\", \"14\", \"15\", \"16\", \"17\", \"18\", \"19\", \"20\", \"21\", \"22\", \"23\", \"24\", \"25\", \"26\", \"27\", \"28\"], \"mode\": \"markers\", \"name\": \"AUC_weighted\", \"stepped\": false, \"type\": \"scatter\", \"data\": [0.8203373893029067, 0.8303007124846206, 0.8324456514111688, 0.8291954958621623, 0.8310960006362305, 0.8081063253477048, 0.8319813434755964, 0.8195245580303051, 0.8361028073671751, 0.8358946289980774, 0.834302883153458, 0.8304960258983247, 0.8342151675485009, 0.8220028162556898, 0.8337730808995176, 0.8271464593303673, 0.834292357280863, 0.830984894203285, 0.8040643902712868, 0.8321497574371137, 0.8317731651064982, 0.821292904626238, 0.8165925177419432, 0.8325310279333267, 0.8226027909935955, 0.832128705691924, 0.8326175739968844, 0.8304375488283534, 0.8337146038295464]}, {\"categories\": [\"0\", \"1\", \"2\", \"3\", \"4\", \"5\", \"6\", \"7\", \"8\", \"9\", \"10\", \"11\", \"12\", \"13\", \"14\", \"15\", \"16\", \"17\", \"18\", \"19\", \"20\", \"21\", \"22\", \"23\", \"24\", \"25\", \"26\", \"27\", \"28\"], \"mode\": \"lines\", \"name\": \"AUC_weighted_max\", \"stepped\": true, \"type\": \"scatter\", \"data\": [0.8203373893029067, 0.8303007124846206, 0.8324456514111688, 0.8324456514111688, 0.8324456514111688, 0.8324456514111688, 0.8324456514111688, 0.8324456514111688, 0.8361028073671751, 0.8361028073671751, 0.8361028073671751, 0.8361028073671751, 0.8361028073671751, 0.8361028073671751, 0.8361028073671751, 0.8361028073671751, 0.8361028073671751, 0.8361028073671751, 0.8361028073671751, 0.8361028073671751, 0.8361028073671751, 0.8361028073671751, 0.8361028073671751, 0.8361028073671751, 0.8361028073671751, 0.8361028073671751, 0.8361028073671751, 0.8361028073671751, 0.8361028073671751]}], \"recall_score_micro\": [{\"categories\": [\"0\", \"1\", \"2\", \"3\", \"4\", \"5\", \"6\", \"7\", \"8\", \"9\", \"10\", \"11\", \"12\", \"13\", \"14\", \"15\", \"16\", \"17\", \"18\", \"19\", \"20\", \"21\", \"22\", \"23\", \"24\", \"25\", \"26\", \"27\", \"28\"], \"mode\": \"markers\", \"name\": \"recall_score_micro\", \"stepped\": false, \"type\": \"scatter\", \"data\": [0.7345537757437071, 0.7406559877955758, 0.7398932112890922, 0.7421815408085431, 0.7391304347826086, 0.7353165522501907, 0.7437070938215103, 0.7421815408085431, 0.7429443173150267, 0.7414187643020596, 0.7459954233409611, 0.7376048817696415, 0.7414187643020596, 0.7406559877955758, 0.7429443173150267, 0.7307398932112891, 0.7452326468344775, 0.7330282227307399, 0.7261632341723875, 0.7452326468344775, 0.7398932112890922, 0.7368421052631579, 0.7315026697177727, 0.738367658276125, 0.7376048817696415, 0.6926010678871091, 0.7452326468344775, 0.7414187643020596, 0.7498093058733791]}, {\"categories\": [\"0\", \"1\", \"2\", \"3\", \"4\", \"5\", \"6\", \"7\", \"8\", \"9\", \"10\", \"11\", \"12\", \"13\", \"14\", \"15\", \"16\", \"17\", \"18\", \"19\", \"20\", \"21\", \"22\", \"23\", \"24\", \"25\", \"26\", \"27\", \"28\"], \"mode\": \"lines\", \"name\": \"recall_score_micro_max\", \"stepped\": true, \"type\": \"scatter\", \"data\": [0.7345537757437071, 0.7406559877955758, 0.7406559877955758, 0.7421815408085431, 0.7421815408085431, 0.7421815408085431, 0.7437070938215103, 0.7437070938215103, 0.7437070938215103, 0.7437070938215103, 0.7459954233409611, 0.7459954233409611, 0.7459954233409611, 0.7459954233409611, 0.7459954233409611, 0.7459954233409611, 0.7459954233409611, 0.7459954233409611, 0.7459954233409611, 0.7459954233409611, 0.7459954233409611, 0.7459954233409611, 0.7459954233409611, 0.7459954233409611, 0.7459954233409611, 0.7459954233409611, 0.7459954233409611, 0.7459954233409611, 0.7498093058733791]}], \"matthews_correlation\": [{\"categories\": [\"0\", \"1\", \"2\", \"3\", \"4\", \"5\", \"6\", \"7\", \"8\", \"9\", \"10\", \"11\", \"12\", \"13\", \"14\", \"15\", \"16\", \"17\", \"18\", \"19\", \"20\", \"21\", \"22\", \"23\", \"24\", \"25\", \"26\", \"27\", \"28\"], \"mode\": \"markers\", \"name\": \"matthews_correlation\", \"stepped\": false, \"type\": \"scatter\", \"data\": [0.46563290159609955, 0.47857743980216527, 0.4765969996597953, 0.48134009179964743, 0.4773089557878201, 0.4672102683525321, 0.484317792644467, 0.4816446590027746, 0.4824957731695399, 0.4794225068904604, 0.48824969915903, 0.4716284374602221, 0.4788344716759748, 0.47857743980216527, 0.48242399025454746, 0.4588155250098965, 0.48693830665333543, 0.4621974262676482, 0.44916300941032994, 0.48687939415816933, 0.47597469230394623, 0.47409790513022815, 0.45995643351795507, 0.4731312674432025, 0.47279380099986457, 0.43657674371959665, 0.4873016494607041, 0.47889915843987707, 0.49636101666669685]}, {\"categories\": [\"0\", \"1\", \"2\", \"3\", \"4\", \"5\", \"6\", \"7\", \"8\", \"9\", \"10\", \"11\", \"12\", \"13\", \"14\", \"15\", \"16\", \"17\", \"18\", \"19\", \"20\", \"21\", \"22\", \"23\", \"24\", \"25\", \"26\", \"27\", \"28\"], \"mode\": \"lines\", \"name\": \"matthews_correlation_max\", \"stepped\": true, \"type\": \"scatter\", \"data\": [0.46563290159609955, 0.47857743980216527, 0.47857743980216527, 0.48134009179964743, 0.48134009179964743, 0.48134009179964743, 0.484317792644467, 0.484317792644467, 0.484317792644467, 0.484317792644467, 0.48824969915903, 0.48824969915903, 0.48824969915903, 0.48824969915903, 0.48824969915903, 0.48824969915903, 0.48824969915903, 0.48824969915903, 0.48824969915903, 0.48824969915903, 0.48824969915903, 0.48824969915903, 0.48824969915903, 0.48824969915903, 0.48824969915903, 0.48824969915903, 0.48824969915903, 0.48824969915903, 0.49636101666669685]}], \"precision_score_macro\": [{\"categories\": [\"0\", \"1\", \"2\", \"3\", \"4\", \"5\", \"6\", \"7\", \"8\", \"9\", \"10\", \"11\", \"12\", \"13\", \"14\", \"15\", \"16\", \"17\", \"18\", \"19\", \"20\", \"21\", \"22\", \"23\", \"24\", \"25\", \"26\", \"27\", \"28\"], \"mode\": \"markers\", \"name\": \"precision_score_macro\", \"stepped\": false, \"type\": \"scatter\", \"data\": [0.7332927797376073, 0.7393419106634715, 0.7386179738914662, 0.7408977994422441, 0.738193599798683, 0.734048997647324, 0.7424511357881113, 0.740875861165194, 0.7417772431680638, 0.7402372382813969, 0.7452298229298941, 0.7364399964256991, 0.7418478260869565, 0.7393419106634715, 0.7418145701591481, 0.7293830827155585, 0.7441927772078271, 0.7349327254531302, 0.7247655909544584, 0.744243130606767, 0.7389782536912118, 0.7364672364672364, 0.7301381510526463, 0.7372307844299546, 0.7362985364850401, 0.777981139805177, 0.7440106695944709, 0.7408080755509714, 0.74868827124249]}, {\"categories\": [\"0\", \"1\", \"2\", \"3\", \"4\", \"5\", \"6\", \"7\", \"8\", \"9\", \"10\", \"11\", \"12\", \"13\", \"14\", \"15\", \"16\", \"17\", \"18\", \"19\", \"20\", \"21\", \"22\", \"23\", \"24\", \"25\", \"26\", \"27\", \"28\"], \"mode\": \"lines\", \"name\": \"precision_score_macro_max\", \"stepped\": true, \"type\": \"scatter\", \"data\": [0.7332927797376073, 0.7393419106634715, 0.7393419106634715, 0.7408977994422441, 0.7408977994422441, 0.7408977994422441, 0.7424511357881113, 0.7424511357881113, 0.7424511357881113, 0.7424511357881113, 0.7452298229298941, 0.7452298229298941, 0.7452298229298941, 0.7452298229298941, 0.7452298229298941, 0.7452298229298941, 0.7452298229298941, 0.7452298229298941, 0.7452298229298941, 0.7452298229298941, 0.7452298229298941, 0.7452298229298941, 0.7452298229298941, 0.7452298229298941, 0.7452298229298941, 0.777981139805177, 0.777981139805177, 0.777981139805177, 0.777981139805177]}], \"recall_score_weighted\": [{\"categories\": [\"0\", \"1\", \"2\", \"3\", \"4\", \"5\", \"6\", \"7\", \"8\", \"9\", \"10\", \"11\", \"12\", \"13\", \"14\", \"15\", \"16\", \"17\", \"18\", \"19\", \"20\", \"21\", \"22\", \"23\", \"24\", \"25\", \"26\", \"27\", \"28\"], \"mode\": \"markers\", \"name\": \"recall_score_weighted\", \"stepped\": false, \"type\": \"scatter\", \"data\": [0.7345537757437071, 0.7406559877955758, 0.7398932112890922, 0.7421815408085431, 0.7391304347826086, 0.7353165522501907, 0.7437070938215103, 0.7421815408085431, 0.7429443173150267, 0.7414187643020596, 0.7459954233409611, 0.7376048817696415, 0.7414187643020596, 0.7406559877955758, 0.7429443173150267, 0.7307398932112891, 0.7452326468344775, 0.7330282227307399, 0.7261632341723875, 0.7452326468344775, 0.7398932112890922, 0.7368421052631579, 0.7315026697177727, 0.738367658276125, 0.7376048817696415, 0.6926010678871091, 0.7452326468344775, 0.7414187643020596, 0.7498093058733791]}, {\"categories\": [\"0\", \"1\", \"2\", \"3\", \"4\", \"5\", \"6\", \"7\", \"8\", \"9\", \"10\", \"11\", \"12\", \"13\", \"14\", \"15\", \"16\", \"17\", \"18\", \"19\", \"20\", \"21\", \"22\", \"23\", \"24\", \"25\", \"26\", \"27\", \"28\"], \"mode\": \"lines\", \"name\": \"recall_score_weighted_max\", \"stepped\": true, \"type\": \"scatter\", \"data\": [0.7345537757437071, 0.7406559877955758, 0.7406559877955758, 0.7421815408085431, 0.7421815408085431, 0.7421815408085431, 0.7437070938215103, 0.7437070938215103, 0.7437070938215103, 0.7437070938215103, 0.7459954233409611, 0.7459954233409611, 0.7459954233409611, 0.7459954233409611, 0.7459954233409611, 0.7459954233409611, 0.7459954233409611, 0.7459954233409611, 0.7459954233409611, 0.7459954233409611, 0.7459954233409611, 0.7459954233409611, 0.7459954233409611, 0.7459954233409611, 0.7459954233409611, 0.7459954233409611, 0.7459954233409611, 0.7459954233409611, 0.7498093058733791]}], \"accuracy\": [{\"categories\": [\"0\", \"1\", \"2\", \"3\", \"4\", \"5\", \"6\", \"7\", \"8\", \"9\", \"10\", \"11\", \"12\", \"13\", \"14\", \"15\", \"16\", \"17\", \"18\", \"19\", \"20\", \"21\", \"22\", \"23\", \"24\", \"25\", \"26\", \"27\", \"28\"], \"mode\": \"markers\", \"name\": \"accuracy\", \"stepped\": false, \"type\": \"scatter\", \"data\": [0.7345537757437071, 0.7406559877955758, 0.7398932112890922, 0.7421815408085431, 0.7391304347826086, 0.7353165522501907, 0.7437070938215103, 0.7421815408085431, 0.7429443173150267, 0.7414187643020596, 0.7459954233409611, 0.7376048817696415, 0.7414187643020596, 0.7406559877955758, 0.7429443173150267, 0.7307398932112891, 0.7452326468344775, 0.7330282227307399, 0.7261632341723875, 0.7452326468344775, 0.7398932112890922, 0.7368421052631579, 0.7315026697177727, 0.738367658276125, 0.7376048817696415, 0.6926010678871091, 0.7452326468344775, 0.7414187643020596, 0.7498093058733791]}, {\"categories\": [\"0\", \"1\", \"2\", \"3\", \"4\", \"5\", \"6\", \"7\", \"8\", \"9\", \"10\", \"11\", \"12\", \"13\", \"14\", \"15\", \"16\", \"17\", \"18\", \"19\", \"20\", \"21\", \"22\", \"23\", \"24\", \"25\", \"26\", \"27\", \"28\"], \"mode\": \"lines\", \"name\": \"accuracy_max\", \"stepped\": true, \"type\": \"scatter\", \"data\": [0.7345537757437071, 0.7406559877955758, 0.7406559877955758, 0.7421815408085431, 0.7421815408085431, 0.7421815408085431, 0.7437070938215103, 0.7437070938215103, 0.7437070938215103, 0.7437070938215103, 0.7459954233409611, 0.7459954233409611, 0.7459954233409611, 0.7459954233409611, 0.7459954233409611, 0.7459954233409611, 0.7459954233409611, 0.7459954233409611, 0.7459954233409611, 0.7459954233409611, 0.7459954233409611, 0.7459954233409611, 0.7459954233409611, 0.7459954233409611, 0.7459954233409611, 0.7459954233409611, 0.7459954233409611, 0.7459954233409611, 0.7498093058733791]}], \"f1_score_macro\": [{\"categories\": [\"0\", \"1\", \"2\", \"3\", \"4\", \"5\", \"6\", \"7\", \"8\", \"9\", \"10\", \"11\", \"12\", \"13\", \"14\", \"15\", \"16\", \"17\", \"18\", \"19\", \"20\", \"21\", \"22\", \"23\", \"24\", \"25\", \"26\", \"27\", \"28\"], \"mode\": \"markers\", \"name\": \"f1_score_macro\", \"stepped\": false, \"type\": \"scatter\", \"data\": [0.7327060532914627, 0.7392869843527738, 0.7382459797236967, 0.7406421932432748, 0.7384057971014493, 0.7335080199430951, 0.742115271129762, 0.7408205903271693, 0.7411217839227339, 0.7395854146878541, 0.7437025382409319, 0.735640862111009, 0.7379887408539334, 0.7392869843527738, 0.741054415807973, 0.7294073346871262, 0.7432570935375985, 0.7282969128228935, 0.724560650919606, 0.7431872246385992, 0.73762102830259, 0.7363948700464213, 0.7299627835123939, 0.7363742690058479, 0.7363899929857377, 0.6507131736309215, 0.7435878517019422, 0.7388509132276544, 0.7480677743666659]}, {\"categories\": [\"0\", \"1\", \"2\", \"3\", \"4\", \"5\", \"6\", \"7\", \"8\", \"9\", \"10\", \"11\", \"12\", \"13\", \"14\", \"15\", \"16\", \"17\", \"18\", \"19\", \"20\", \"21\", \"22\", \"23\", \"24\", \"25\", \"26\", \"27\", \"28\"], \"mode\": \"lines\", \"name\": \"f1_score_macro_max\", \"stepped\": true, \"type\": \"scatter\", \"data\": [0.7327060532914627, 0.7392869843527738, 0.7392869843527738, 0.7406421932432748, 0.7406421932432748, 0.7406421932432748, 0.742115271129762, 0.742115271129762, 0.742115271129762, 0.742115271129762, 0.7437025382409319, 0.7437025382409319, 0.7437025382409319, 0.7437025382409319, 0.7437025382409319, 0.7437025382409319, 0.7437025382409319, 0.7437025382409319, 0.7437025382409319, 0.7437025382409319, 0.7437025382409319, 0.7437025382409319, 0.7437025382409319, 0.7437025382409319, 0.7437025382409319, 0.7437025382409319, 0.7437025382409319, 0.7437025382409319, 0.7480677743666659]}], \"precision_score_weighted\": [{\"categories\": [\"0\", \"1\", \"2\", \"3\", \"4\", \"5\", \"6\", \"7\", \"8\", \"9\", \"10\", \"11\", \"12\", \"13\", \"14\", \"15\", \"16\", \"17\", \"18\", \"19\", \"20\", \"21\", \"22\", \"23\", \"24\", \"25\", \"26\", \"27\", \"28\"], \"mode\": \"markers\", \"name\": \"precision_score_weighted\", \"stepped\": false, \"type\": \"scatter\", \"data\": [0.7342309607661456, 0.7406017990478603, 0.7396492528304159, 0.7419931017089029, 0.7401297254321294, 0.7350073925909548, 0.7434848003642714, 0.7421276983490235, 0.7426318722678082, 0.7411024502492838, 0.7456891831765343, 0.7372545403128167, 0.7416550591980896, 0.7406017990478603, 0.742616604399581, 0.7307697132221843, 0.7448986741076702, 0.7342326513298799, 0.7259803649663032, 0.7448957902463207, 0.7395417706223568, 0.7387914230019493, 0.7313467247274724, 0.7380139641906498, 0.7377278319140746, 0.7682383831323177, 0.7449819848365274, 0.741148159705769, 0.7495223210078714]}, {\"categories\": [\"0\", \"1\", \"2\", \"3\", \"4\", \"5\", \"6\", \"7\", \"8\", \"9\", \"10\", \"11\", \"12\", \"13\", \"14\", \"15\", \"16\", \"17\", \"18\", \"19\", \"20\", \"21\", \"22\", \"23\", \"24\", \"25\", \"26\", \"27\", \"28\"], \"mode\": \"lines\", \"name\": \"precision_score_weighted_max\", \"stepped\": true, \"type\": \"scatter\", \"data\": [0.7342309607661456, 0.7406017990478603, 0.7406017990478603, 0.7419931017089029, 0.7419931017089029, 0.7419931017089029, 0.7434848003642714, 0.7434848003642714, 0.7434848003642714, 0.7434848003642714, 0.7456891831765343, 0.7456891831765343, 0.7456891831765343, 0.7456891831765343, 0.7456891831765343, 0.7456891831765343, 0.7456891831765343, 0.7456891831765343, 0.7456891831765343, 0.7456891831765343, 0.7456891831765343, 0.7456891831765343, 0.7456891831765343, 0.7456891831765343, 0.7456891831765343, 0.7682383831323177, 0.7682383831323177, 0.7682383831323177, 0.7682383831323177]}], \"weighted_accuracy\": [{\"categories\": [\"0\", \"1\", \"2\", \"3\", \"4\", \"5\", \"6\", \"7\", \"8\", \"9\", \"10\", \"11\", \"12\", \"13\", \"14\", \"15\", \"16\", \"17\", \"18\", \"19\", \"20\", \"21\", \"22\", \"23\", \"24\", \"25\", \"26\", \"27\", \"28\"], \"mode\": \"markers\", \"name\": \"weighted_accuracy\", \"stepped\": false, \"type\": \"scatter\", \"data\": [0.736744299136838, 0.7420622101807951, 0.7417878045815314, 0.7439031591378801, 0.7391444797582453, 0.7374494173222876, 0.7455287518018723, 0.7435801246982406, 0.7451466680560621, 0.7436287535386166, 0.7489362441167787, 0.7399954844648221, 0.7457823164695462, 0.7420622101807951, 0.7452543462026086, 0.7320342485975789, 0.7476927351985967, 0.7386720853088798, 0.7279112176314282, 0.7478004133451432, 0.7427569079004499, 0.7360600218829781, 0.7331700793692144, 0.7408082807968183, 0.7387033467062645, 0.7135761301863527, 0.7471543444658644, 0.7447055350040813, 0.751923444311294]}, {\"categories\": [\"0\", \"1\", \"2\", \"3\", \"4\", \"5\", \"6\", \"7\", \"8\", \"9\", \"10\", \"11\", \"12\", \"13\", \"14\", \"15\", \"16\", \"17\", \"18\", \"19\", \"20\", \"21\", \"22\", \"23\", \"24\", \"25\", \"26\", \"27\", \"28\"], \"mode\": \"lines\", \"name\": \"weighted_accuracy_max\", \"stepped\": true, \"type\": \"scatter\", \"data\": [0.736744299136838, 0.7420622101807951, 0.7420622101807951, 0.7439031591378801, 0.7439031591378801, 0.7439031591378801, 0.7455287518018723, 0.7455287518018723, 0.7455287518018723, 0.7455287518018723, 0.7489362441167787, 0.7489362441167787, 0.7489362441167787, 0.7489362441167787, 0.7489362441167787, 0.7489362441167787, 0.7489362441167787, 0.7489362441167787, 0.7489362441167787, 0.7489362441167787, 0.7489362441167787, 0.7489362441167787, 0.7489362441167787, 0.7489362441167787, 0.7489362441167787, 0.7489362441167787, 0.7489362441167787, 0.7489362441167787, 0.751923444311294]}], \"average_precision_score_micro\": [{\"categories\": [\"0\", \"1\", \"2\", \"3\", \"4\", \"5\", \"6\", \"7\", \"8\", \"9\", \"10\", \"11\", \"12\", \"13\", \"14\", \"15\", \"16\", \"17\", \"18\", \"19\", \"20\", \"21\", \"22\", \"23\", \"24\", \"25\", \"26\", \"27\", \"28\"], \"mode\": \"markers\", \"name\": \"average_precision_score_micro\", \"stepped\": false, \"type\": \"scatter\", \"data\": [0.8191512786941775, 0.83132435797146, 0.8341693823092814, 0.8321536776692608, 0.8311949114959176, 0.8002623806982361, 0.835174618106024, 0.8069934507494748, 0.8395626176817392, 0.839334865427606, 0.8372004955275056, 0.8342170839935219, 0.8340440239810091, 0.8134268599779606, 0.835997985445697, 0.8304858914484301, 0.8362190056837974, 0.8329097375085671, 0.7954501204158149, 0.834179708264554, 0.835523301487397, 0.816474927874333, 0.8067450059905261, 0.8353843252271089, 0.8145249468848699, 0.7630936049665575, 0.8323125787359857, 0.8229574744970303, 0.8361882823100086]}, {\"categories\": [\"0\", \"1\", \"2\", \"3\", \"4\", \"5\", \"6\", \"7\", \"8\", \"9\", \"10\", \"11\", \"12\", \"13\", \"14\", \"15\", \"16\", \"17\", \"18\", \"19\", \"20\", \"21\", \"22\", \"23\", \"24\", \"25\", \"26\", \"27\", \"28\"], \"mode\": \"lines\", \"name\": \"average_precision_score_micro_max\", \"stepped\": true, \"type\": \"scatter\", \"data\": [0.8191512786941775, 0.83132435797146, 0.8341693823092814, 0.8341693823092814, 0.8341693823092814, 0.8341693823092814, 0.835174618106024, 0.835174618106024, 0.8395626176817392, 0.8395626176817392, 0.8395626176817392, 0.8395626176817392, 0.8395626176817392, 0.8395626176817392, 0.8395626176817392, 0.8395626176817392, 0.8395626176817392, 0.8395626176817392, 0.8395626176817392, 0.8395626176817392, 0.8395626176817392, 0.8395626176817392, 0.8395626176817392, 0.8395626176817392, 0.8395626176817392, 0.8395626176817392, 0.8395626176817392, 0.8395626176817392, 0.8395626176817392]}], \"average_precision_score_weighted\": [{\"categories\": [\"0\", \"1\", \"2\", \"3\", \"4\", \"5\", \"6\", \"7\", \"8\", \"9\", \"10\", \"11\", \"12\", \"13\", \"14\", \"15\", \"16\", \"17\", \"18\", \"19\", \"20\", \"21\", \"22\", \"23\", \"24\", \"25\", \"26\", \"27\", \"28\"], \"mode\": \"markers\", \"name\": \"average_precision_score_weighted\", \"stepped\": false, \"type\": \"scatter\", \"data\": [0.8185905191794582, 0.8313538311567205, 0.8339838938405278, 0.8313914745643107, 0.8327519072885485, 0.7979632372171185, 0.8344453076884726, 0.8013098810617197, 0.8393018107065899, 0.8390975863796731, 0.8371069510848008, 0.8334348775678807, 0.8343990924473782, 0.8091893023688339, 0.8362023987314877, 0.8302387470222565, 0.8363044181371363, 0.8336435017751208, 0.7922113075877746, 0.8345990053513108, 0.8350648485746667, 0.8183964349210724, 0.8033519999722123, 0.8355708470762853, 0.8109135486392159, 0.8317791842278521, 0.8325412091155698, 0.8222397634265719, 0.8363082266660424]}, {\"categories\": [\"0\", \"1\", \"2\", \"3\", \"4\", \"5\", \"6\", \"7\", \"8\", \"9\", \"10\", \"11\", \"12\", \"13\", \"14\", \"15\", \"16\", \"17\", \"18\", \"19\", \"20\", \"21\", \"22\", \"23\", \"24\", \"25\", \"26\", \"27\", \"28\"], \"mode\": \"lines\", \"name\": \"average_precision_score_weighted_max\", \"stepped\": true, \"type\": \"scatter\", \"data\": [0.8185905191794582, 0.8313538311567205, 0.8339838938405278, 0.8339838938405278, 0.8339838938405278, 0.8339838938405278, 0.8344453076884726, 0.8344453076884726, 0.8393018107065899, 0.8393018107065899, 0.8393018107065899, 0.8393018107065899, 0.8393018107065899, 0.8393018107065899, 0.8393018107065899, 0.8393018107065899, 0.8393018107065899, 0.8393018107065899, 0.8393018107065899, 0.8393018107065899, 0.8393018107065899, 0.8393018107065899, 0.8393018107065899, 0.8393018107065899, 0.8393018107065899, 0.8393018107065899, 0.8393018107065899, 0.8393018107065899, 0.8393018107065899]}], \"norm_macro_recall\": [{\"categories\": [\"0\", \"1\", \"2\", \"3\", \"4\", \"5\", \"6\", \"7\", \"8\", \"9\", \"10\", \"11\", \"12\", \"13\", \"14\", \"15\", \"16\", \"17\", \"18\", \"19\", \"20\", \"21\", \"22\", \"23\", \"24\", \"25\", \"26\", \"27\", \"28\"], \"mode\": \"markers\", \"name\": \"norm_macro_recall\", \"stepped\": false, \"type\": \"scatter\", \"data\": [0.4646821888201198, 0.47847108191935783, 0.4759589069933896, 0.48088501536777395, 0.4782324954738748, 0.46632422494491466, 0.48373401821677686, 0.48153761946865403, 0.48143937799110215, 0.47837284044180595, 0.4860497101876411, 0.4703801945181256, 0.47402214643593954, 0.47847108191935783, 0.48122184329080886, 0.4588648898993726, 0.4854953475643131, 0.45465454086143753, 0.4487951384503108, 0.48527781286401983, 0.4740010946907498, 0.4752641994021305, 0.45963678722299406, 0.471804695942627, 0.4729906109216455, 0.3428276704138773, 0.4865830210657798, 0.47619749343887285, 0.4953475643130816]}, {\"categories\": [\"0\", \"1\", \"2\", \"3\", \"4\", \"5\", \"6\", \"7\", \"8\", \"9\", \"10\", \"11\", \"12\", \"13\", \"14\", \"15\", \"16\", \"17\", \"18\", \"19\", \"20\", \"21\", \"22\", \"23\", \"24\", \"25\", \"26\", \"27\", \"28\"], \"mode\": \"lines\", \"name\": \"norm_macro_recall_max\", \"stepped\": true, \"type\": \"scatter\", \"data\": [0.4646821888201198, 0.47847108191935783, 0.47847108191935783, 0.48088501536777395, 0.48088501536777395, 0.48088501536777395, 0.48373401821677686, 0.48373401821677686, 0.48373401821677686, 0.48373401821677686, 0.4860497101876411, 0.4860497101876411, 0.4860497101876411, 0.4860497101876411, 0.4860497101876411, 0.4860497101876411, 0.4860497101876411, 0.4860497101876411, 0.4860497101876411, 0.4860497101876411, 0.4860497101876411, 0.4860497101876411, 0.4860497101876411, 0.4860497101876411, 0.4860497101876411, 0.4860497101876411, 0.4865830210657798, 0.4865830210657798, 0.4953475643130816]}], \"f1_score_weighted\": [{\"categories\": [\"0\", \"1\", \"2\", \"3\", \"4\", \"5\", \"6\", \"7\", \"8\", \"9\", \"10\", \"11\", \"12\", \"13\", \"14\", \"15\", \"16\", \"17\", \"18\", \"19\", \"20\", \"21\", \"22\", \"23\", \"24\", \"25\", \"26\", \"27\", \"28\"], \"mode\": \"markers\", \"name\": \"f1_score_weighted\", \"stepped\": false, \"type\": \"scatter\", \"data\": [0.7342825504296161, 0.7406271666704642, 0.7397189848735216, 0.7420596122885218, 0.7393824826717077, 0.7350653672075386, 0.7435525479291076, 0.7421528892194617, 0.7426626530634906, 0.7411354284525915, 0.7454222020659539, 0.7372572676707685, 0.7401153553917715, 0.7406271666704642, 0.7426237090236516, 0.7307543775430736, 0.7448547148994223, 0.7308403337560132, 0.7260510533446929, 0.7448130730507077, 0.7393531022185303, 0.7371651084752454, 0.7314093432810832, 0.7380004549894951, 0.7376594835127384, 0.6592937334675415, 0.745044670247902, 0.7406879143808827, 0.7495536682210175]}, {\"categories\": [\"0\", \"1\", \"2\", \"3\", \"4\", \"5\", \"6\", \"7\", \"8\", \"9\", \"10\", \"11\", \"12\", \"13\", \"14\", \"15\", \"16\", \"17\", \"18\", \"19\", \"20\", \"21\", \"22\", \"23\", \"24\", \"25\", \"26\", \"27\", \"28\"], \"mode\": \"lines\", \"name\": \"f1_score_weighted_max\", \"stepped\": true, \"type\": \"scatter\", \"data\": [0.7342825504296161, 0.7406271666704642, 0.7406271666704642, 0.7420596122885218, 0.7420596122885218, 0.7420596122885218, 0.7435525479291076, 0.7435525479291076, 0.7435525479291076, 0.7435525479291076, 0.7454222020659539, 0.7454222020659539, 0.7454222020659539, 0.7454222020659539, 0.7454222020659539, 0.7454222020659539, 0.7454222020659539, 0.7454222020659539, 0.7454222020659539, 0.7454222020659539, 0.7454222020659539, 0.7454222020659539, 0.7454222020659539, 0.7454222020659539, 0.7454222020659539, 0.7454222020659539, 0.7454222020659539, 0.7454222020659539, 0.7495536682210175]}], \"balanced_accuracy\": [{\"categories\": [\"0\", \"1\", \"2\", \"3\", \"4\", \"5\", \"6\", \"7\", \"8\", \"9\", \"10\", \"11\", \"12\", \"13\", \"14\", \"15\", \"16\", \"17\", \"18\", \"19\", \"20\", \"21\", \"22\", \"23\", \"24\", \"25\", \"26\", \"27\", \"28\"], \"mode\": \"markers\", \"name\": \"balanced_accuracy\", \"stepped\": false, \"type\": \"scatter\", \"data\": [0.7323410944100599, 0.7392355409596789, 0.7379794534966948, 0.740442507683887, 0.7391162477369374, 0.7331621124724573, 0.7418670091083884, 0.740768809734327, 0.7407196889955511, 0.739186420220903, 0.7430248550938205, 0.7351900972590628, 0.7370110732179698, 0.7392355409596789, 0.7406109216454044, 0.7294324449496863, 0.7427476737821566, 0.7273272704307188, 0.7243975692251554, 0.7426389064320099, 0.7370005473453749, 0.7376320997010652, 0.729818393611497, 0.7359023479713135, 0.7364953054608228, 0.6714138352069386, 0.7432915105328899, 0.7380987467194364, 0.7476737821565408]}, {\"categories\": [\"0\", \"1\", \"2\", \"3\", \"4\", \"5\", \"6\", \"7\", \"8\", \"9\", \"10\", \"11\", \"12\", \"13\", \"14\", \"15\", \"16\", \"17\", \"18\", \"19\", \"20\", \"21\", \"22\", \"23\", \"24\", \"25\", \"26\", \"27\", \"28\"], \"mode\": \"lines\", \"name\": \"balanced_accuracy_max\", \"stepped\": true, \"type\": \"scatter\", \"data\": [0.7323410944100599, 0.7392355409596789, 0.7392355409596789, 0.740442507683887, 0.740442507683887, 0.740442507683887, 0.7418670091083884, 0.7418670091083884, 0.7418670091083884, 0.7418670091083884, 0.7430248550938205, 0.7430248550938205, 0.7430248550938205, 0.7430248550938205, 0.7430248550938205, 0.7430248550938205, 0.7430248550938205, 0.7430248550938205, 0.7430248550938205, 0.7430248550938205, 0.7430248550938205, 0.7430248550938205, 0.7430248550938205, 0.7430248550938205, 0.7430248550938205, 0.7430248550938205, 0.7432915105328899, 0.7432915105328899, 0.7476737821565408]}], \"f1_score_micro\": [{\"categories\": [\"0\", \"1\", \"2\", \"3\", \"4\", \"5\", \"6\", \"7\", \"8\", \"9\", \"10\", \"11\", \"12\", \"13\", \"14\", \"15\", \"16\", \"17\", \"18\", \"19\", \"20\", \"21\", \"22\", \"23\", \"24\", \"25\", \"26\", \"27\", \"28\"], \"mode\": \"markers\", \"name\": \"f1_score_micro\", \"stepped\": false, \"type\": \"scatter\", \"data\": [0.7345537757437071, 0.7406559877955758, 0.7398932112890922, 0.7421815408085431, 0.7391304347826085, 0.7353165522501907, 0.7437070938215103, 0.7421815408085431, 0.7429443173150267, 0.7414187643020596, 0.7459954233409611, 0.7376048817696415, 0.7414187643020596, 0.7406559877955758, 0.7429443173150267, 0.7307398932112892, 0.7452326468344777, 0.73302822273074, 0.7261632341723876, 0.7452326468344777, 0.7398932112890922, 0.7368421052631579, 0.7315026697177726, 0.738367658276125, 0.7376048817696415, 0.6926010678871091, 0.7452326468344777, 0.7414187643020596, 0.7498093058733791]}, {\"categories\": [\"0\", \"1\", \"2\", \"3\", \"4\", \"5\", \"6\", \"7\", \"8\", \"9\", \"10\", \"11\", \"12\", \"13\", \"14\", \"15\", \"16\", \"17\", \"18\", \"19\", \"20\", \"21\", \"22\", \"23\", \"24\", \"25\", \"26\", \"27\", \"28\"], \"mode\": \"lines\", \"name\": \"f1_score_micro_max\", \"stepped\": true, \"type\": \"scatter\", \"data\": [0.7345537757437071, 0.7406559877955758, 0.7406559877955758, 0.7421815408085431, 0.7421815408085431, 0.7421815408085431, 0.7437070938215103, 0.7437070938215103, 0.7437070938215103, 0.7437070938215103, 0.7459954233409611, 0.7459954233409611, 0.7459954233409611, 0.7459954233409611, 0.7459954233409611, 0.7459954233409611, 0.7459954233409611, 0.7459954233409611, 0.7459954233409611, 0.7459954233409611, 0.7459954233409611, 0.7459954233409611, 0.7459954233409611, 0.7459954233409611, 0.7459954233409611, 0.7459954233409611, 0.7459954233409611, 0.7459954233409611, 0.7498093058733791]}], \"AUC_micro\": [{\"categories\": [\"0\", \"1\", \"2\", \"3\", \"4\", \"5\", \"6\", \"7\", \"8\", \"9\", \"10\", \"11\", \"12\", \"13\", \"14\", \"15\", \"16\", \"17\", \"18\", \"19\", \"20\", \"21\", \"22\", \"23\", \"24\", \"25\", \"26\", \"27\", \"28\"], \"mode\": \"markers\", \"name\": \"AUC_micro\", \"stepped\": false, \"type\": \"scatter\", \"data\": [0.8214044047870481, 0.8313589000192585, 0.8329909275560141, 0.8304751032890155, 0.8305978689967715, 0.8092762001511589, 0.8327954333484027, 0.8212944392952667, 0.8369630673041174, 0.8367431363205546, 0.8353182395513874, 0.8318959272621909, 0.8348103037083972, 0.8236886615105069, 0.8347509572525151, 0.8282251744174884, 0.8351692915836835, 0.8311255869917223, 0.804908999191841, 0.833161984987674, 0.8328774710962396, 0.8207446118363597, 0.8180705303536757, 0.8335954468468123, 0.8238568098021726, 0.7576226740698462, 0.8338252689063554, 0.8314007916351751, 0.834770157576477]}, {\"categories\": [\"0\", \"1\", \"2\", \"3\", \"4\", \"5\", \"6\", \"7\", \"8\", \"9\", \"10\", \"11\", \"12\", \"13\", \"14\", \"15\", \"16\", \"17\", \"18\", \"19\", \"20\", \"21\", \"22\", \"23\", \"24\", \"25\", \"26\", \"27\", \"28\"], \"mode\": \"lines\", \"name\": \"AUC_micro_max\", \"stepped\": true, \"type\": \"scatter\", \"data\": [0.8214044047870481, 0.8313589000192585, 0.8329909275560141, 0.8329909275560141, 0.8329909275560141, 0.8329909275560141, 0.8329909275560141, 0.8329909275560141, 0.8369630673041174, 0.8369630673041174, 0.8369630673041174, 0.8369630673041174, 0.8369630673041174, 0.8369630673041174, 0.8369630673041174, 0.8369630673041174, 0.8369630673041174, 0.8369630673041174, 0.8369630673041174, 0.8369630673041174, 0.8369630673041174, 0.8369630673041174, 0.8369630673041174, 0.8369630673041174, 0.8369630673041174, 0.8369630673041174, 0.8369630673041174, 0.8369630673041174, 0.8369630673041174]}], \"log_loss\": [{\"categories\": [\"0\", \"1\", \"2\", \"3\", \"4\", \"5\", \"6\", \"7\", \"8\", \"9\", \"10\", \"11\", \"12\", \"13\", \"14\", \"15\", \"16\", \"17\", \"18\", \"19\", \"20\", \"21\", \"22\", \"23\", \"24\", \"25\", \"26\", \"27\", \"28\"], \"mode\": \"markers\", \"name\": \"log_loss\", \"stepped\": false, \"type\": \"scatter\", \"data\": [0.5261648531127533, 0.5026137845142863, 0.5007933006600156, 0.5046976363065866, 0.5029518526371968, 0.5336673711267338, 0.5012009742235041, 0.5595909241810977, 0.49330401980720123, 0.4938526767352935, 0.5199291333037087, 0.5124990472781196, 0.5553098303782737, 0.5192667591425709, 0.5099866260367849, 0.5083207311624612, 0.5185462678419198, 0.5658469865239169, 0.5435578004815538, 0.526912046206288, 0.5306836085782607, 0.5359801998045174, 0.5237432740622296, 0.5233236337543672, 0.5526127275253848, 0.6576745392239783, 0.5235700685620857, 0.5195115999921058, 0.522820403236394]}, {\"categories\": [\"0\", \"1\", \"2\", \"3\", \"4\", \"5\", \"6\", \"7\", \"8\", \"9\", \"10\", \"11\", \"12\", \"13\", \"14\", \"15\", \"16\", \"17\", \"18\", \"19\", \"20\", \"21\", \"22\", \"23\", \"24\", \"25\", \"26\", \"27\", \"28\"], \"mode\": \"lines\", \"name\": \"log_loss_min\", \"stepped\": true, \"type\": \"scatter\", \"data\": [0.5261648531127533, 0.5026137845142863, 0.5007933006600156, 0.5007933006600156, 0.5007933006600156, 0.5007933006600156, 0.5007933006600156, 0.5007933006600156, 0.49330401980720123, 0.49330401980720123, 0.49330401980720123, 0.49330401980720123, 0.49330401980720123, 0.49330401980720123, 0.49330401980720123, 0.49330401980720123, 0.49330401980720123, 0.49330401980720123, 0.49330401980720123, 0.49330401980720123, 0.49330401980720123, 0.49330401980720123, 0.49330401980720123, 0.49330401980720123, 0.49330401980720123, 0.49330401980720123, 0.49330401980720123, 0.49330401980720123, 0.49330401980720123]}], \"AUC_macro\": [{\"categories\": [\"0\", \"1\", \"2\", \"3\", \"4\", \"5\", \"6\", \"7\", \"8\", \"9\", \"10\", \"11\", \"12\", \"13\", \"14\", \"15\", \"16\", \"17\", \"18\", \"19\", \"20\", \"21\", \"22\", \"23\", \"24\", \"25\", \"26\", \"27\", \"28\"], \"mode\": \"markers\", \"name\": \"AUC_macro\", \"stepped\": false, \"type\": \"scatter\", \"data\": [0.8203373893029066, 0.8303007124846207, 0.8324456514111687, 0.8291954958621623, 0.8310960006362305, 0.8081063253477048, 0.8319813434755964, 0.8195245580303052, 0.8361028073671752, 0.8358946289980773, 0.8343028831534578, 0.8304960258983247, 0.8342151675485008, 0.82200281625569, 0.8337730808995176, 0.8271464593303675, 0.8342923572808629, 0.8309848942032849, 0.804064390271287, 0.8321497574371137, 0.8317731651064983, 0.821292904626238, 0.8165925177419431, 0.8325310279333267, 0.8226027909935956, 0.832128705691924, 0.8326175739968844, 0.8304375488283535, 0.8337146038295464]}, {\"categories\": [\"0\", \"1\", \"2\", \"3\", \"4\", \"5\", \"6\", \"7\", \"8\", \"9\", \"10\", \"11\", \"12\", \"13\", \"14\", \"15\", \"16\", \"17\", \"18\", \"19\", \"20\", \"21\", \"22\", \"23\", \"24\", \"25\", \"26\", \"27\", \"28\"], \"mode\": \"lines\", \"name\": \"AUC_macro_max\", \"stepped\": true, \"type\": \"scatter\", \"data\": [0.8203373893029066, 0.8303007124846207, 0.8324456514111687, 0.8324456514111687, 0.8324456514111687, 0.8324456514111687, 0.8324456514111687, 0.8324456514111687, 0.8361028073671752, 0.8361028073671752, 0.8361028073671752, 0.8361028073671752, 0.8361028073671752, 0.8361028073671752, 0.8361028073671752, 0.8361028073671752, 0.8361028073671752, 0.8361028073671752, 0.8361028073671752, 0.8361028073671752, 0.8361028073671752, 0.8361028073671752, 0.8361028073671752, 0.8361028073671752, 0.8361028073671752, 0.8361028073671752, 0.8361028073671752, 0.8361028073671752, 0.8361028073671752]}]}, \"metricName\": null, \"primaryMetricName\": \"accuracy\", \"showLegend\": false}, \"run_metrics\": [{\"name\": \"experiment_status\", \"run_id\": \"AutoML_02b25db5-80fe-4ba2-9c8e-966eb8b4b0c8\", \"categories\": [0, 1, 2, 3, 4], \"series\": [{\"data\": [\"DatasetEvaluation\", \"FeaturesGeneration\", \"DatasetFeaturization\", \"DatasetFeaturizationCompleted\", \"ModelSelection\"]}]}, {\"name\": \"experiment_status_description\", \"run_id\": \"AutoML_02b25db5-80fe-4ba2-9c8e-966eb8b4b0c8\", \"categories\": [0, 1, 2, 3, 4], \"series\": [{\"data\": [\"Gathering dataset statistics.\", \"Generating features for the dataset.\", \"Beginning to fit featurizers and featurize the dataset.\", \"Completed fit featurizers and featurizing the dataset.\", \"Beginning model selection.\"]}]}, {\"name\": \"precision_score_micro\", \"run_id\": \"AutoML_02b25db5-80fe-4ba2-9c8e-966eb8b4b0c8\", \"categories\": [0], \"series\": [{\"data\": [0.7498093058733791]}]}, {\"name\": \"average_precision_score_macro\", \"run_id\": \"AutoML_02b25db5-80fe-4ba2-9c8e-966eb8b4b0c8\", \"categories\": [0], \"series\": [{\"data\": [0.8350173671875311]}]}, {\"name\": \"AUC_micro\", \"run_id\": \"AutoML_02b25db5-80fe-4ba2-9c8e-966eb8b4b0c8\", \"categories\": [0], \"series\": [{\"data\": [0.834770157576477]}]}, {\"name\": \"log_loss\", \"run_id\": \"AutoML_02b25db5-80fe-4ba2-9c8e-966eb8b4b0c8\", \"categories\": [0], \"series\": [{\"data\": [0.522820403236394]}]}, {\"name\": \"f1_score_macro\", \"run_id\": \"AutoML_02b25db5-80fe-4ba2-9c8e-966eb8b4b0c8\", \"categories\": [0], \"series\": [{\"data\": [0.7480677743666659]}]}, {\"name\": \"AUC_macro\", \"run_id\": \"AutoML_02b25db5-80fe-4ba2-9c8e-966eb8b4b0c8\", \"categories\": [0], \"series\": [{\"data\": [0.8337146038295464]}]}, {\"name\": \"matthews_correlation\", \"run_id\": \"AutoML_02b25db5-80fe-4ba2-9c8e-966eb8b4b0c8\", \"categories\": [0], \"series\": [{\"data\": [0.49636101666669685]}]}, {\"name\": \"f1_score_micro\", \"run_id\": \"AutoML_02b25db5-80fe-4ba2-9c8e-966eb8b4b0c8\", \"categories\": [0], \"series\": [{\"data\": [0.7498093058733791]}]}, {\"name\": \"balanced_accuracy\", \"run_id\": \"AutoML_02b25db5-80fe-4ba2-9c8e-966eb8b4b0c8\", \"categories\": [0], \"series\": [{\"data\": [0.7476737821565408]}]}, {\"name\": \"recall_score_weighted\", \"run_id\": \"AutoML_02b25db5-80fe-4ba2-9c8e-966eb8b4b0c8\", \"categories\": [0], \"series\": [{\"data\": [0.7498093058733791]}]}, {\"name\": \"norm_macro_recall\", \"run_id\": \"AutoML_02b25db5-80fe-4ba2-9c8e-966eb8b4b0c8\", \"categories\": [0], \"series\": [{\"data\": [0.4953475643130816]}]}, {\"name\": \"recall_score_micro\", \"run_id\": \"AutoML_02b25db5-80fe-4ba2-9c8e-966eb8b4b0c8\", \"categories\": [0], \"series\": [{\"data\": [0.7498093058733791]}]}, {\"name\": \"precision_score_macro\", \"run_id\": \"AutoML_02b25db5-80fe-4ba2-9c8e-966eb8b4b0c8\", \"categories\": [0], \"series\": [{\"data\": [0.74868827124249]}]}, {\"name\": \"average_precision_score_micro\", \"run_id\": \"AutoML_02b25db5-80fe-4ba2-9c8e-966eb8b4b0c8\", \"categories\": [0], \"series\": [{\"data\": [0.8361882823100086]}]}, {\"name\": \"AUC_weighted\", \"run_id\": \"AutoML_02b25db5-80fe-4ba2-9c8e-966eb8b4b0c8\", \"categories\": [0], \"series\": [{\"data\": [0.8337146038295464]}]}, {\"name\": \"weighted_accuracy\", \"run_id\": \"AutoML_02b25db5-80fe-4ba2-9c8e-966eb8b4b0c8\", \"categories\": [0], \"series\": [{\"data\": [0.751923444311294]}]}, {\"name\": \"f1_score_weighted\", \"run_id\": \"AutoML_02b25db5-80fe-4ba2-9c8e-966eb8b4b0c8\", \"categories\": [0], \"series\": [{\"data\": [0.7495536682210175]}]}, {\"name\": \"recall_score_macro\", \"run_id\": \"AutoML_02b25db5-80fe-4ba2-9c8e-966eb8b4b0c8\", \"categories\": [0], \"series\": [{\"data\": [0.7476737821565408]}]}, {\"name\": \"accuracy\", \"run_id\": \"AutoML_02b25db5-80fe-4ba2-9c8e-966eb8b4b0c8\", \"categories\": [0], \"series\": [{\"data\": [0.7498093058733791]}]}, {\"name\": \"average_precision_score_weighted\", \"run_id\": \"AutoML_02b25db5-80fe-4ba2-9c8e-966eb8b4b0c8\", \"categories\": [0], \"series\": [{\"data\": [0.8363082266660424]}]}, {\"name\": \"precision_score_weighted\", \"run_id\": \"AutoML_02b25db5-80fe-4ba2-9c8e-966eb8b4b0c8\", \"categories\": [0], \"series\": [{\"data\": [0.7495223210078714]}]}], \"run_logs\": \"\\nRun is completed.\", \"graph\": {}, \"widget_settings\": {\"childWidgetDisplay\": \"popup\", \"send_telemetry\": false, \"log_level\": \"INFO\", \"sdk_version\": \"1.20.0\"}, \"loading\": false}"
          },
          "metadata": {}
        },
        {
          "output_type": "stream",
          "name": "stdout",
          "text": [
            "\n",
            "Current status: FeaturesGeneration. Generating features for the dataset.\n",
            "Current status: ModelSelection. Beginning model selection.\n",
            "\n",
            "****************************************************************************************************\n",
            "DATA GUARDRAILS: \n",
            "\n",
            "TYPE:         Class balancing detection\n",
            "STATUS:       PASSED\n",
            "DESCRIPTION:  Your inputs were analyzed, and all classes are balanced in your training data.\n",
            "              Learn more about imbalanced data: https://aka.ms/AutomatedMLImbalancedData\n",
            "\n",
            "****************************************************************************************************\n",
            "\n",
            "TYPE:         Missing feature values imputation\n",
            "STATUS:       DONE\n",
            "DESCRIPTION:  If the missing values are expected, let the run complete. Otherwise cancel the current run and use a script to customize the handling of missing feature values that may be more appropriate based on the data type and business requirement.\n",
            "              Learn more about missing value imputation: https://aka.ms/AutomatedMLFeaturization\n",
            "DETAILS:      \n",
            "+---------------------------------+---------------------------------+---------------------------------+\n",
            "|Column name                      |Missing value count              |Imputation type                  |\n",
            "+=================================+=================================+=================================+\n",
            "|golddiffat10                     |43                               |mean                             |\n",
            "|xpdiffat10                       |43                               |mean                             |\n",
            "|golddiffat15                     |47                               |mean                             |\n",
            "|xpdiffat15                       |47                               |mean                             |\n",
            "+---------------------------------+---------------------------------+---------------------------------+\n",
            "\n",
            "****************************************************************************************************\n",
            "\n",
            "TYPE:         High cardinality feature detection\n",
            "STATUS:       PASSED\n",
            "DESCRIPTION:  Your inputs were analyzed, and no high cardinality features were detected.\n",
            "              Learn more about high cardinality feature handling: https://aka.ms/AutomatedMLFeaturization\n",
            "\n",
            "****************************************************************************************************\n",
            "\n",
            "****************************************************************************************************\n",
            "ITERATION: The iteration being evaluated.\n",
            "PIPELINE: A summary description of the pipeline being evaluated.\n",
            "DURATION: Time taken for the current iteration.\n",
            "METRIC: The result of computing score on the fitted pipeline.\n",
            "BEST: The best observed score thus far.\n",
            "****************************************************************************************************\n",
            "\n",
            " ITERATION   PIPELINE                                       DURATION      METRIC      BEST\n",
            "         0   MaxAbsScaler LightGBM                          0:00:47       0.7346    0.7346\n",
            "         1   MaxAbsScaler XGBoostClassifier                 0:00:53       0.7407    0.7407\n",
            "         2   MinMaxScaler RandomForest                      0:00:43       0.7399    0.7407\n",
            "         3   MinMaxScaler RandomForest                      0:00:55       0.7422    0.7422\n",
            "         4   MinMaxScaler RandomForest                      0:00:49       0.7391    0.7422\n",
            "         5   SparseNormalizer XGBoostClassifier             0:00:53       0.7353    0.7422\n",
            "         6   MaxAbsScaler GradientBoosting                  0:00:53       0.7437    0.7437\n",
            "         7   SparseNormalizer XGBoostClassifier             0:00:50       0.7422    0.7437\n",
            "         8   StandardScalerWrapper LogisticRegression       0:00:49       0.7429    0.7437\n",
            "         9   MinMaxScaler LogisticRegression                0:00:51       0.7414    0.7437\n",
            "        10   MinMaxScaler LightGBM                          0:00:47       0.7460    0.7460\n",
            "        11   MinMaxScaler LightGBM                          0:00:52       0.7376    0.7460\n",
            "        12   StandardScalerWrapper LightGBM                 0:00:48       0.7414    0.7460\n",
            "        13   SparseNormalizer LightGBM                      0:00:52       0.7407    0.7460\n",
            "        14   RobustScaler ExtremeRandomTrees                0:00:48       0.7429    0.7460\n",
            "        15   RobustScaler LightGBM                          0:00:52       0.7307    0.7460\n",
            "        16   RobustScaler ExtremeRandomTrees                0:00:52       0.7452    0.7460\n",
            "        17   MaxAbsScaler ExtremeRandomTrees                0:00:57       0.7330    0.7460\n",
            "        18   SparseNormalizer XGBoostClassifier             0:00:52       0.7262    0.7460\n",
            "        19   MaxAbsScaler ExtremeRandomTrees                0:00:52       0.7452    0.7460\n",
            "        20   StandardScalerWrapper LightGBM                 0:00:48       0.7399    0.7460\n",
            "        21   StandardScalerWrapper RandomForest             0:00:56       0.7368    0.7460\n",
            "        22   SparseNormalizer XGBoostClassifier             0:00:50       0.7315    0.7460\n",
            "        23   RobustScaler LightGBM                          0:00:55       0.7384    0.7460\n",
            "        24   SparseNormalizer XGBoostClassifier             0:00:53       0.7376    0.7460\n",
            "        25   StandardScalerWrapper LightGBM                 0:00:54       0.6926    0.7460\n",
            "        26   MaxAbsScaler LightGBM                          0:00:50       0.7452    0.7460\n",
            "        27   StandardScalerWrapper GradientBoosting         0:00:52       0.7414    0.7460\n",
            "        28    VotingEnsemble                                0:01:12       0.7498    0.7498\n"
          ]
        },
        {
          "output_type": "execute_result",
          "execution_count": 10,
          "data": {
            "text/plain": "{'runId': 'AutoML_02b25db5-80fe-4ba2-9c8e-966eb8b4b0c8',\n 'target': 'cluster',\n 'status': 'Completed',\n 'startTimeUtc': '2021-01-30T01:18:19.439014Z',\n 'endTimeUtc': '2021-01-30T01:57:27.417695Z',\n 'properties': {'num_iterations': '1000',\n  'training_type': 'TrainFull',\n  'acquisition_function': 'EI',\n  'primary_metric': 'accuracy',\n  'train_split': '0.2',\n  'acquisition_parameter': '0',\n  'num_cross_validation': None,\n  'target': 'cluster',\n  'AMLSettingsJsonString': '{\"path\":null,\"name\":\"lol_match_predictor_automl\",\"subscription_id\":\"d7f39349-a66b-446e-aba6-0053c2cf1c11\",\"resource_group\":\"aml-quickstarts-136540\",\"workspace_name\":\"quick-starts-ws-136540\",\"region\":\"southcentralus\",\"compute_target\":\"cluster\",\"spark_service\":null,\"azure_service\":\"remote\",\"many_models\":false,\"pipeline_fetch_max_batch_size\":1,\"iterations\":1000,\"primary_metric\":\"accuracy\",\"task_type\":\"classification\",\"data_script\":null,\"validation_size\":0.2,\"n_cross_validations\":null,\"y_min\":null,\"y_max\":null,\"num_classes\":null,\"featurization\":\"auto\",\"_ignore_package_version_incompatibilities\":false,\"is_timeseries\":false,\"max_cores_per_iteration\":1,\"max_concurrent_iterations\":1,\"iteration_timeout_minutes\":null,\"mem_in_mb\":null,\"enforce_time_on_windows\":false,\"experiment_timeout_minutes\":30,\"experiment_exit_score\":null,\"whitelist_models\":null,\"blacklist_algos\":[\"TensorFlowLinearClassifier\",\"TensorFlowDNN\"],\"supported_models\":[\"GradientBoosting\",\"DecisionTree\",\"SGD\",\"KNN\",\"RandomForest\",\"ExtremeRandomTrees\",\"LightGBM\",\"XGBoostClassifier\",\"SVM\",\"TensorFlowLinearClassifier\",\"LogisticRegression\",\"MultinomialNaiveBayes\",\"BernoulliNaiveBayes\",\"LinearSVM\",\"AveragedPerceptronClassifier\",\"TensorFlowDNN\"],\"auto_blacklist\":true,\"blacklist_samples_reached\":false,\"exclude_nan_labels\":true,\"verbosity\":20,\"_debug_log\":\"azureml_automl.log\",\"show_warnings\":false,\"model_explainability\":true,\"service_url\":null,\"sdk_url\":null,\"sdk_packages\":null,\"enable_onnx_compatible_models\":true,\"enable_split_onnx_featurizer_estimator_models\":false,\"vm_type\":\"STANDARD_DS3_V2\",\"telemetry_verbosity\":20,\"send_telemetry\":true,\"enable_dnn\":false,\"scenario\":\"SDK-1.13.0\",\"environment_label\":null,\"force_text_dnn\":false,\"enable_feature_sweeping\":false,\"enable_early_stopping\":false,\"early_stopping_n_iters\":10,\"metrics\":null,\"enable_ensembling\":true,\"enable_stack_ensembling\":false,\"ensemble_iterations\":15,\"enable_tf\":false,\"enable_subsampling\":null,\"subsample_seed\":null,\"enable_nimbusml\":false,\"enable_streaming\":false,\"force_streaming\":false,\"track_child_runs\":true,\"allowed_private_models\":[],\"label_column_name\":\"result\",\"weight_column_name\":null,\"cv_split_column_names\":null,\"enable_local_managed\":false,\"_local_managed_run_id\":null,\"cost_mode\":1,\"lag_length\":0,\"metric_operation\":\"maximize\",\"preprocess\":true}',\n  'DataPrepJsonString': '{\\\\\"training_data\\\\\": \\\\\"{\\\\\\\\\\\\\"blocks\\\\\\\\\\\\\": [{\\\\\\\\\\\\\"id\\\\\\\\\\\\\": \\\\\\\\\\\\\"d63a2ccb-b48c-4fc0-995b-ee14acbae0f4\\\\\\\\\\\\\", \\\\\\\\\\\\\"type\\\\\\\\\\\\\": \\\\\\\\\\\\\"Microsoft.DPrep.GetFilesBlock\\\\\\\\\\\\\", \\\\\\\\\\\\\"arguments\\\\\\\\\\\\\": {\\\\\\\\\\\\\"isArchive\\\\\\\\\\\\\": false, \\\\\\\\\\\\\"path\\\\\\\\\\\\\": {\\\\\\\\\\\\\"target\\\\\\\\\\\\\": 4, \\\\\\\\\\\\\"resourceDetails\\\\\\\\\\\\\": [{\\\\\\\\\\\\\"path\\\\\\\\\\\\\": \\\\\\\\\\\\\"https://raw.githubusercontent.com/ncharchenko/Azure-ML-Engineer-Nanodegree-Capstone/master/OraclesElixir_automl_data.csv\\\\\\\\\\\\\"}]}}, \\\\\\\\\\\\\"localData\\\\\\\\\\\\\": {}, \\\\\\\\\\\\\"isEnabled\\\\\\\\\\\\\": true, \\\\\\\\\\\\\"name\\\\\\\\\\\\\": null, \\\\\\\\\\\\\"annotation\\\\\\\\\\\\\": null}, {\\\\\\\\\\\\\"id\\\\\\\\\\\\\": \\\\\\\\\\\\\"b9825db7-529c-4c07-b473-08d2649a2836\\\\\\\\\\\\\", \\\\\\\\\\\\\"type\\\\\\\\\\\\\": \\\\\\\\\\\\\"Microsoft.DPrep.ParseDelimitedBlock\\\\\\\\\\\\\", \\\\\\\\\\\\\"arguments\\\\\\\\\\\\\": {\\\\\\\\\\\\\"columnHeadersMode\\\\\\\\\\\\\": 3, \\\\\\\\\\\\\"fileEncoding\\\\\\\\\\\\\": 0, \\\\\\\\\\\\\"handleQuotedLineBreaks\\\\\\\\\\\\\": false, \\\\\\\\\\\\\"preview\\\\\\\\\\\\\": false, \\\\\\\\\\\\\"separator\\\\\\\\\\\\\": \\\\\\\\\\\\\",\\\\\\\\\\\\\", \\\\\\\\\\\\\"skipRows\\\\\\\\\\\\\": 0, \\\\\\\\\\\\\"skipRowsMode\\\\\\\\\\\\\": 0}, \\\\\\\\\\\\\"localData\\\\\\\\\\\\\": {}, \\\\\\\\\\\\\"isEnabled\\\\\\\\\\\\\": true, \\\\\\\\\\\\\"name\\\\\\\\\\\\\": null, \\\\\\\\\\\\\"annotation\\\\\\\\\\\\\": null}, {\\\\\\\\\\\\\"id\\\\\\\\\\\\\": \\\\\\\\\\\\\"298db976-b0ee-4a71-b85c-05e1be68af2f\\\\\\\\\\\\\", \\\\\\\\\\\\\"type\\\\\\\\\\\\\": \\\\\\\\\\\\\"Microsoft.DPrep.DropColumnsBlock\\\\\\\\\\\\\", \\\\\\\\\\\\\"arguments\\\\\\\\\\\\\": {\\\\\\\\\\\\\"columns\\\\\\\\\\\\\": {\\\\\\\\\\\\\"type\\\\\\\\\\\\\": 0, \\\\\\\\\\\\\"details\\\\\\\\\\\\\": {\\\\\\\\\\\\\"selectedColumns\\\\\\\\\\\\\": [\\\\\\\\\\\\\"Path\\\\\\\\\\\\\"]}}}, \\\\\\\\\\\\\"localData\\\\\\\\\\\\\": {}, \\\\\\\\\\\\\"isEnabled\\\\\\\\\\\\\": true, \\\\\\\\\\\\\"name\\\\\\\\\\\\\": null, \\\\\\\\\\\\\"annotation\\\\\\\\\\\\\": null}, {\\\\\\\\\\\\\"id\\\\\\\\\\\\\": \\\\\\\\\\\\\"22d8397f-cef8-4fae-a920-52ff321a5174\\\\\\\\\\\\\", \\\\\\\\\\\\\"type\\\\\\\\\\\\\": \\\\\\\\\\\\\"Microsoft.DPrep.SetColumnTypesBlock\\\\\\\\\\\\\", \\\\\\\\\\\\\"arguments\\\\\\\\\\\\\": {\\\\\\\\\\\\\"columnConversion\\\\\\\\\\\\\": [{\\\\\\\\\\\\\"column\\\\\\\\\\\\\": {\\\\\\\\\\\\\"type\\\\\\\\\\\\\": 2, \\\\\\\\\\\\\"details\\\\\\\\\\\\\": {\\\\\\\\\\\\\"selectedColumn\\\\\\\\\\\\\": \\\\\\\\\\\\\"Column1\\\\\\\\\\\\\"}}, \\\\\\\\\\\\\"typeProperty\\\\\\\\\\\\\": 2}, {\\\\\\\\\\\\\"column\\\\\\\\\\\\\": {\\\\\\\\\\\\\"type\\\\\\\\\\\\\": 2, \\\\\\\\\\\\\"details\\\\\\\\\\\\\": {\\\\\\\\\\\\\"selectedColumn\\\\\\\\\\\\\": \\\\\\\\\\\\\"result\\\\\\\\\\\\\"}}, \\\\\\\\\\\\\"typeProperty\\\\\\\\\\\\\": 2}, {\\\\\\\\\\\\\"column\\\\\\\\\\\\\": {\\\\\\\\\\\\\"type\\\\\\\\\\\\\": 2, \\\\\\\\\\\\\"details\\\\\\\\\\\\\": {\\\\\\\\\\\\\"selectedColumn\\\\\\\\\\\\\": \\\\\\\\\\\\\"golddiffat10\\\\\\\\\\\\\"}}, \\\\\\\\\\\\\"typeProperty\\\\\\\\\\\\\": 3}, {\\\\\\\\\\\\\"column\\\\\\\\\\\\\": {\\\\\\\\\\\\\"type\\\\\\\\\\\\\": 2, \\\\\\\\\\\\\"details\\\\\\\\\\\\\": {\\\\\\\\\\\\\"selectedColumn\\\\\\\\\\\\\": \\\\\\\\\\\\\"xpdiffat10\\\\\\\\\\\\\"}}, \\\\\\\\\\\\\"typeProperty\\\\\\\\\\\\\": 3}, {\\\\\\\\\\\\\"column\\\\\\\\\\\\\": {\\\\\\\\\\\\\"type\\\\\\\\\\\\\": 2, \\\\\\\\\\\\\"details\\\\\\\\\\\\\": {\\\\\\\\\\\\\"selectedColumn\\\\\\\\\\\\\": \\\\\\\\\\\\\"golddiffat15\\\\\\\\\\\\\"}}, \\\\\\\\\\\\\"typeProperty\\\\\\\\\\\\\": 3}, {\\\\\\\\\\\\\"column\\\\\\\\\\\\\": {\\\\\\\\\\\\\"type\\\\\\\\\\\\\": 2, \\\\\\\\\\\\\"details\\\\\\\\\\\\\": {\\\\\\\\\\\\\"selectedColumn\\\\\\\\\\\\\": \\\\\\\\\\\\\"xpdiffat15\\\\\\\\\\\\\"}}, \\\\\\\\\\\\\"typeProperty\\\\\\\\\\\\\": 3}]}, \\\\\\\\\\\\\"localData\\\\\\\\\\\\\": {}, \\\\\\\\\\\\\"isEnabled\\\\\\\\\\\\\": true, \\\\\\\\\\\\\"name\\\\\\\\\\\\\": null, \\\\\\\\\\\\\"annotation\\\\\\\\\\\\\": null}], \\\\\\\\\\\\\"inspectors\\\\\\\\\\\\\": [], \\\\\\\\\\\\\"meta\\\\\\\\\\\\\": {\\\\\\\\\\\\\"savedDatasetId\\\\\\\\\\\\\": \\\\\\\\\\\\\"aca9e94c-1dda-4a60-ada6-c0f4aac335ce\\\\\\\\\\\\\", \\\\\\\\\\\\\"datasetType\\\\\\\\\\\\\": \\\\\\\\\\\\\"tabular\\\\\\\\\\\\\", \\\\\\\\\\\\\"subscriptionId\\\\\\\\\\\\\": \\\\\\\\\\\\\"d7f39349-a66b-446e-aba6-0053c2cf1c11\\\\\\\\\\\\\", \\\\\\\\\\\\\"workspaceId\\\\\\\\\\\\\": \\\\\\\\\\\\\"07548f6c-3d12-46f9-86a6-2059a4fda71e\\\\\\\\\\\\\", \\\\\\\\\\\\\"workspaceLocation\\\\\\\\\\\\\": \\\\\\\\\\\\\"southcentralus\\\\\\\\\\\\\"}}\\\\\", \\\\\"activities\\\\\": 0}',\n  'EnableSubsampling': None,\n  'runTemplate': 'AutoML',\n  'azureml.runsource': 'automl',\n  'display_task_type': 'classification',\n  'dependencies_versions': '{\"azureml-widgets\": \"1.20.0\", \"azureml-train\": \"1.20.0\", \"azureml-train-restclients-hyperdrive\": \"1.20.0\", \"azureml-train-core\": \"1.20.0\", \"azureml-train-automl\": \"1.20.0\", \"azureml-train-automl-runtime\": \"1.20.0\", \"azureml-train-automl-client\": \"1.20.0\", \"azureml-tensorboard\": \"1.20.0\", \"azureml-telemetry\": \"1.20.0\", \"azureml-sdk\": \"1.20.0\", \"azureml-samples\": \"0+unknown\", \"azureml-pipeline\": \"1.20.0\", \"azureml-pipeline-steps\": \"1.20.0\", \"azureml-pipeline-core\": \"1.20.0\", \"azureml-opendatasets\": \"1.20.0\", \"azureml-model-management-sdk\": \"1.0.1b6.post1\", \"azureml-mlflow\": \"1.20.0.post1\", \"azureml-interpret\": \"1.20.0\", \"azureml-explain-model\": \"1.20.0\", \"azureml-defaults\": \"1.20.0\", \"azureml-dataset-runtime\": \"1.20.0\", \"azureml-dataprep\": \"2.7.3\", \"azureml-dataprep-rslex\": \"1.5.0\", \"azureml-dataprep-native\": \"27.0.0\", \"azureml-datadrift\": \"1.20.0\", \"azureml-core\": \"1.20.0\", \"azureml-contrib-services\": \"1.20.0\", \"azureml-contrib-server\": \"1.20.0\", \"azureml-contrib-reinforcementlearning\": \"1.20.0\", \"azureml-contrib-pipeline-steps\": \"1.20.0\", \"azureml-contrib-notebook\": \"1.20.0\", \"azureml-contrib-interpret\": \"1.20.0\", \"azureml-contrib-gbdt\": \"1.20.0\", \"azureml-contrib-fairness\": \"1.20.0\", \"azureml-contrib-dataset\": \"1.20.0\", \"azureml-cli-common\": \"1.20.0\", \"azureml-automl-runtime\": \"1.20.0\", \"azureml-automl-core\": \"1.20.0\", \"azureml-accel-models\": \"1.20.0\"}',\n  '_aml_system_scenario_identification': 'Remote.Parent',\n  'ClientType': 'SDK',\n  'environment_cpu_name': 'AzureML-AutoML',\n  'environment_cpu_label': 'prod',\n  'environment_gpu_name': 'AzureML-AutoML-GPU',\n  'environment_gpu_label': 'prod',\n  'root_attribution': 'automl',\n  'attribution': 'AutoML',\n  'Orchestrator': 'AutoML',\n  'CancelUri': 'https://southcentralus.experiments.azureml.net/jasmine/v1.0/subscriptions/d7f39349-a66b-446e-aba6-0053c2cf1c11/resourceGroups/aml-quickstarts-136540/providers/Microsoft.MachineLearningServices/workspaces/quick-starts-ws-136540/experimentids/0440ce94-6e17-42d7-90a7-a4382af7e71f/cancel/AutoML_02b25db5-80fe-4ba2-9c8e-966eb8b4b0c8',\n  'ClientSdkVersion': '1.20.0.post1',\n  'snapshotId': '00000000-0000-0000-0000-000000000000',\n  'SetupRunId': 'AutoML_02b25db5-80fe-4ba2-9c8e-966eb8b4b0c8_setup',\n  'SetupRunContainerId': 'dcid.AutoML_02b25db5-80fe-4ba2-9c8e-966eb8b4b0c8_setup',\n  'FeaturizationRunJsonPath': 'featurizer_container.json',\n  'FeaturizationRunId': 'AutoML_02b25db5-80fe-4ba2-9c8e-966eb8b4b0c8_featurize',\n  'ProblemInfoJsonString': '{\"dataset_num_categorical\": 0, \"is_sparse\": false, \"subsampling\": false, \"dataset_classes\": 2, \"dataset_features\": 5, \"dataset_samples\": 5246, \"single_frequency_class_detected\": false}',\n  'ModelExplainRunId': 'AutoML_02b25db5-80fe-4ba2-9c8e-966eb8b4b0c8_ModelExplain'},\n 'inputDatasets': [{'dataset': {'id': 'aca9e94c-1dda-4a60-ada6-c0f4aac335ce'}, 'consumptionDetails': {'type': 'RunInput', 'inputName': 'training_data', 'mechanism': 'Direct'}}],\n 'outputDatasets': [],\n 'logFiles': {},\n 'submittedBy': 'ODL_User 136540'}"
          },
          "metadata": {}
        }
      ],
      "execution_count": 10,
      "metadata": {
        "gather": {
          "logged": 1611971855600
        },
        "jupyter": {
          "outputs_hidden": false,
          "source_hidden": false
        },
        "nteract": {
          "transient": {
            "deleting": false
          }
        }
      }
    },
    {
      "cell_type": "markdown",
      "source": [
        "## Best Model\n",
        "\n",
        "TODO: In the cell below, get the best model from the automl experiments and display all the properties of the model.\n",
        "\n"
      ],
      "metadata": {}
    },
    {
      "cell_type": "code",
      "source": [
        "best_automl, automl_model = remote_run.get_output()\n",
        "best_automl, onnx_model = remote_run.get_output(return_onnx_model=True)"
      ],
      "outputs": [],
      "execution_count": 14,
      "metadata": {
        "gather": {
          "logged": 1611972095273
        },
        "jupyter": {
          "outputs_hidden": false,
          "source_hidden": false
        },
        "nteract": {
          "transient": {
            "deleting": false
          }
        }
      }
    },
    {
      "cell_type": "code",
      "source": [
        "automl_metrics = best_automl.get_metrics()\r\n",
        "print(\"Best AutoML ID: \", best_automl.id)\r\n",
        "print(\"Accuracy: \", automl_metrics[\"accuracy\"])\r\n",
        "print(\"Model details: \", automl_model)"
      ],
      "outputs": [
        {
          "output_type": "stream",
          "name": "stdout",
          "text": [
            "Best AutoML ID:  AutoML_02b25db5-80fe-4ba2-9c8e-966eb8b4b0c8_28\n",
            "Accuracy:  0.7498093058733791\n",
            "Model details:  Pipeline(memory=None,\n",
            "         steps=[('datatransformer',\n",
            "                 DataTransformer(enable_dnn=None, enable_feature_sweeping=None,\n",
            "                                 feature_sweeping_config=None,\n",
            "                                 feature_sweeping_timeout=None,\n",
            "                                 featurization_config=None, force_text_dnn=None,\n",
            "                                 is_cross_validation=None,\n",
            "                                 is_onnx_compatible=None, logger=None,\n",
            "                                 observer=None, task=None, working_dir=None)),\n",
            "                ('prefittedsoftvotingclassifier',...\n",
            "                                                                                                random_state=None,\n",
            "                                                                                                reg_alpha=0.05263157894736842,\n",
            "                                                                                                reg_lambda=0.15789473684210525,\n",
            "                                                                                                silent=True,\n",
            "                                                                                                subsample=1,\n",
            "                                                                                                subsample_for_bin=200000,\n",
            "                                                                                                subsample_freq=0,\n",
            "                                                                                                verbose=-10))],\n",
            "                                                                     verbose=False))],\n",
            "                                               flatten_transform=None,\n",
            "                                               weights=[0.09090909090909091,\n",
            "                                                        0.36363636363636365,\n",
            "                                                        0.18181818181818182,\n",
            "                                                        0.09090909090909091,\n",
            "                                                        0.09090909090909091,\n",
            "                                                        0.09090909090909091,\n",
            "                                                        0.09090909090909091]))],\n",
            "         verbose=False)\n"
          ]
        }
      ],
      "execution_count": 15,
      "metadata": {
        "collapsed": true,
        "jupyter": {
          "source_hidden": false,
          "outputs_hidden": false
        },
        "nteract": {
          "transient": {
            "deleting": false
          }
        },
        "gather": {
          "logged": 1611972120898
        }
      }
    },
    {
      "cell_type": "code",
      "source": [
        "import joblib\n",
        "from azureml.core.model import Model\n",
        "\n",
        "print(best_automl.get_tags())\n",
        "\n",
        "joblib.dump(automl_model, filename=\"automl_model.pkl\")\n",
        "model = remote_run.register_model(model_name=best_automl.properties['model_name'], description=\"LoL predictor model trained with Azure AutoML.\")"
      ],
      "outputs": [
        {
          "output_type": "stream",
          "name": "stdout",
          "text": [
            "{'_aml_system_azureml.automlComponent': 'AutoML', '_aml_system_ComputeTargetStatus': '{\"AllocationState\":\"steady\",\"PreparingNodeCount\":0,\"RunningNodeCount\":0,\"CurrentNodeCount\":1}', 'ensembled_iterations': '[10, 26, 19, 16, 6, 12, 20]', 'ensembled_algorithms': \"['LightGBM', 'LightGBM', 'ExtremeRandomTrees', 'ExtremeRandomTrees', 'GradientBoosting', 'LightGBM', 'LightGBM']\", 'ensemble_weights': '[0.09090909090909091, 0.36363636363636365, 0.18181818181818182, 0.09090909090909091, 0.09090909090909091, 0.09090909090909091, 0.09090909090909091]', 'best_individual_pipeline_score': '0.7459954233409611', 'best_individual_iteration': '10', '_aml_system_automl_is_child_run_end_telemetry_event_logged': 'True'}\n"
          ]
        }
      ],
      "execution_count": 16,
      "metadata": {
        "gather": {
          "logged": 1611972124795
        },
        "jupyter": {
          "outputs_hidden": false,
          "source_hidden": false
        },
        "nteract": {
          "transient": {
            "deleting": false
          }
        }
      }
    },
    {
      "cell_type": "code",
      "source": [
        "env = best_automl.get_environment()\r\n",
        "env.save_to_directory(\"env.yml\", overwrite=True)\r\n",
        "entry_script='score.py'\r\n",
        "best_automl.download_file('outputs/scoring_file_v_1_0_0.py', entry_script)"
      ],
      "outputs": [],
      "execution_count": 17,
      "metadata": {
        "collapsed": true,
        "jupyter": {
          "source_hidden": false,
          "outputs_hidden": false
        },
        "nteract": {
          "transient": {
            "deleting": false
          }
        },
        "gather": {
          "logged": 1611972136910
        }
      }
    },
    {
      "cell_type": "markdown",
      "source": [
        "## Model Deployment\n",
        "\n",
        "Remember you have to deploy only one of the two models you trained.. Perform the steps in the rest of this notebook only if you wish to deploy this model.\n",
        "\n",
        "TODO: In the cell below, register the model, create an inference config and deploy the model as a web service."
      ],
      "metadata": {}
    },
    {
      "cell_type": "code",
      "source": [
        "from azureml.core.model import InferenceConfig\r\n",
        "from azureml.core.webservice import AciWebservice\r\n",
        "\r\n",
        "# Deploy the model as a Web Service on an Azure Container Instance, just like in Project 2\r\n",
        "inference_config = InferenceConfig(entry_script=entry_script, environment=env)\r\n",
        "deployment_config = AciWebservice.deploy_configuration(cpu_cores=1, memory_gb=4, enable_app_insights=True)\r\n",
        "\r\n",
        "service = Model.deploy(\r\n",
        "    workspace=ws,\r\n",
        "    name=\"lolpredictor\",\r\n",
        "    models=[model],\r\n",
        "    inference_config=inference_config,\r\n",
        "    deployment_config=deployment_config\r\n",
        ")\r\n",
        "\r\n",
        "service.wait_for_deployment(show_output=True)\r\n",
        "print(service.state)"
      ],
      "outputs": [
        {
          "output_type": "stream",
          "name": "stdout",
          "text": [
            "Tips: You can try get_logs(): https://aka.ms/debugimage#dockerlog or local deployment: https://aka.ms/debugimage#debug-locally to debug if deployment takes longer than 10 minutes.\n",
            "Running......................................\n",
            "Succeeded\n",
            "ACI service creation operation finished, operation \"Succeeded\"\n",
            "Healthy\n"
          ]
        }
      ],
      "execution_count": 19,
      "metadata": {
        "gather": {
          "logged": 1611893914303
        },
        "jupyter": {
          "outputs_hidden": false,
          "source_hidden": false
        },
        "nteract": {
          "transient": {
            "deleting": false
          }
        }
      }
    },
    {
      "cell_type": "code",
      "source": [
        "print(\"Service State: {}\".format(service.state))\r\n",
        "print(\"Scoring URI: {}\".format(service.scoring_uri))\r\n",
        "print(\"Swagger URI: {}\".format(service.swagger_uri))"
      ],
      "outputs": [
        {
          "output_type": "stream",
          "name": "stdout",
          "text": [
            "Service State: Healthy\n",
            "Scoring URI: http://5b9e625c-3d16-4257-b17c-b9fa9a2b095e.southcentralus.azurecontainer.io/score\n",
            "Swagger URI: http://5b9e625c-3d16-4257-b17c-b9fa9a2b095e.southcentralus.azurecontainer.io/swagger.json\n"
          ]
        }
      ],
      "execution_count": 20,
      "metadata": {
        "collapsed": true,
        "jupyter": {
          "source_hidden": false,
          "outputs_hidden": false
        },
        "nteract": {
          "transient": {
            "deleting": false
          }
        },
        "gather": {
          "logged": 1611893976686
        }
      }
    },
    {
      "cell_type": "markdown",
      "source": [
        "TODO: In the cell below, send a request to the web service you deployed to test it."
      ],
      "metadata": {
        "collapsed": true,
        "gather": {
          "logged": 1598431657736
        },
        "jupyter": {
          "outputs_hidden": false,
          "source_hidden": false
        },
        "nteract": {
          "transient": {
            "deleting": false
          }
        }
      }
    },
    {
      "cell_type": "code",
      "source": [
        "import requests\r\n",
        "import json\r\n",
        "\r\n",
        "scoring_uri = service.scoring_uri\r\n",
        "\r\n",
        "data = {'data':\r\n",
        "        [\r\n",
        "            {\r\n",
        "                'Column1':0,\r\n",
        "                'golddiffat10':-500,\r\n",
        "                'xpdiffat10':-300,\r\n",
        "                'golddiffat15':2000,\r\n",
        "                'xpdiffat15':1600\r\n",
        "            },\r\n",
        "            {\r\n",
        "                'Column1':1,\r\n",
        "                'golddiffat10':500,\r\n",
        "                'xpdiffat10':300,\r\n",
        "                'golddiffat15':-2000,\r\n",
        "                'xpdiffat15':-1000\r\n",
        "            },\r\n",
        "        ]\r\n",
        "    }\r\n",
        "\r\n",
        "input_data = json.dumps(data)\r\n",
        "\r\n",
        "\r\n",
        "headers = {'Content-Type': 'application/json'}\r\n",
        "\r\n",
        "response = requests.post(scoring_uri, input_data, headers=headers)\r\n",
        "print(response.text)"
      ],
      "outputs": [
        {
          "output_type": "stream",
          "name": "stdout",
          "text": [
            "\"{\\\"result\\\": [1, 0]}\"\n"
          ]
        }
      ],
      "execution_count": 29,
      "metadata": {
        "collapsed": true,
        "jupyter": {
          "source_hidden": false,
          "outputs_hidden": false
        },
        "nteract": {
          "transient": {
            "deleting": false
          }
        },
        "gather": {
          "logged": 1611895401484
        }
      }
    },
    {
      "cell_type": "markdown",
      "source": [
        "TODO: In the cell below, print the logs of the web service and delete the service"
      ],
      "metadata": {
        "collapsed": true,
        "gather": {
          "logged": 1598432765711
        },
        "jupyter": {
          "outputs_hidden": false,
          "source_hidden": false
        },
        "nteract": {
          "transient": {
            "deleting": false
          }
        }
      }
    },
    {
      "cell_type": "code",
      "source": [
        "print(service.get_logs())"
      ],
      "outputs": [
        {
          "output_type": "stream",
          "name": "stdout",
          "text": [
            "2021-01-29T04:18:08,229832500+00:00 - gunicorn/run \n",
            "2021-01-29T04:18:08,239220300+00:00 - rsyslog/run \n",
            "2021-01-29T04:18:08,236979000+00:00 - iot-server/run \n",
            "2021-01-29T04:18:08,314653200+00:00 - nginx/run \n",
            "rsyslogd: /azureml-envs/azureml_265db83b0c6014ce472c5de2f0b97e04/lib/libuuid.so.1: no version information available (required by rsyslogd)\n",
            "/usr/sbin/nginx: /azureml-envs/azureml_265db83b0c6014ce472c5de2f0b97e04/lib/libcrypto.so.1.0.0: no version information available (required by /usr/sbin/nginx)\n",
            "/usr/sbin/nginx: /azureml-envs/azureml_265db83b0c6014ce472c5de2f0b97e04/lib/libcrypto.so.1.0.0: no version information available (required by /usr/sbin/nginx)\n",
            "/usr/sbin/nginx: /azureml-envs/azureml_265db83b0c6014ce472c5de2f0b97e04/lib/libssl.so.1.0.0: no version information available (required by /usr/sbin/nginx)\n",
            "/usr/sbin/nginx: /azureml-envs/azureml_265db83b0c6014ce472c5de2f0b97e04/lib/libssl.so.1.0.0: no version information available (required by /usr/sbin/nginx)\n",
            "/usr/sbin/nginx: /azureml-envs/azureml_265db83b0c6014ce472c5de2f0b97e04/lib/libssl.so.1.0.0: no version information available (required by /usr/sbin/nginx)\n",
            "EdgeHubConnectionString and IOTEDGE_IOTHUBHOSTNAME are not set. Exiting...\n",
            "2021-01-29T04:18:10,129843400+00:00 - iot-server/finish 1 0\n",
            "2021-01-29T04:18:10,135899500+00:00 - Exit code 1 is normal. Not restarting iot-server.\n",
            "Starting gunicorn 19.9.0\n",
            "Listening at: http://127.0.0.1:31311 (67)\n",
            "Using worker: sync\n",
            "worker timeout is set to 300\n",
            "Booting worker with pid: 97\n",
            "SPARK_HOME not set. Skipping PySpark Initialization.\n",
            "Generating new fontManager, this may take some time...\n",
            "Initializing logger\n",
            "2021-01-29 04:18:16,557 | root | INFO | Starting up app insights client\n",
            "2021-01-29 04:18:16,557 | root | INFO | Starting up request id generator\n",
            "2021-01-29 04:18:16,558 | root | INFO | Starting up app insight hooks\n",
            "2021-01-29 04:18:16,558 | root | INFO | Invoking user's init function\n",
            "2021-01-29 04:18:28,367 | azureml.core | WARNING | Failure while loading azureml_run_type_providers. Failed to load entrypoint automl = azureml.train.automl.run:AutoMLRun._from_run_dto with exception cannot import name 'RunType'.\n",
            "Failure while loading azureml_run_type_providers. Failed to load entrypoint automl = azureml.train.automl.run:AutoMLRun._from_run_dto with exception cannot import name 'RunType'.\n",
            "2021-01-29 04:18:28,645 | root | INFO | Users's init has completed successfully\n",
            "2021-01-29 04:18:28,702 | root | INFO | Skipping middleware: dbg_model_info as it's not enabled.\n",
            "2021-01-29 04:18:28,703 | root | INFO | Skipping middleware: dbg_resource_usage as it's not enabled.\n",
            "2021-01-29 04:18:28,705 | root | INFO | Scoring timeout is found from os.environ: 60000 ms\n",
            "2021-01-29 04:18:29,157 | root | INFO | 200\n",
            "127.0.0.1 - - [29/Jan/2021:04:18:29 +0000] \"GET /swagger.json HTTP/1.0\" 200 2325 \"-\" \"Go-http-client/1.1\"\n",
            "2021-01-29 04:18:33,795 | root | INFO | 200\n",
            "127.0.0.1 - - [29/Jan/2021:04:18:33 +0000] \"GET /swagger.json HTTP/1.0\" 200 2325 \"-\" \"Go-http-client/1.1\"\n",
            "2021-01-29 04:20:10,861 | root | INFO | Validation Request Content-Type\n",
            "2021-01-29 04:20:10,863 | root | INFO | Scoring Timer is set to 60.0 seconds\n",
            "2021-01-29 04:20:10,997 | root | INFO | 200\n",
            "127.0.0.1 - - [29/Jan/2021:04:20:10 +0000] \"POST /score HTTP/1.0\" 200 22 \"-\" \"python-requests/2.25.1\"\n",
            "127.0.0.1 - - [29/Jan/2021:04:35:57 +0000] \"GET /login HTTP/1.0\" 404 232 \"-\" \"Go-http-client/1.1\"\n",
            "127.0.0.1 - - [29/Jan/2021:04:35:58 +0000] \"GET /jenkins/login HTTP/1.0\" 404 232 \"-\" \"Go-http-client/1.1\"\n",
            "127.0.0.1 - bM4fe3ev [29/Jan/2021:04:35:58 +0000] \"GET /manager/html HTTP/1.0\" 404 232 \"-\" \"Go-http-client/1.1\"\n",
            "2021-01-29 04:37:53,573 | root | INFO | 200\n",
            "127.0.0.1 - - [29/Jan/2021:04:37:53 +0000] \"GET /swagger.json HTTP/1.0\" 200 2325 \"-\" \"Go-http-client/1.1\"\n",
            "2021-01-29 04:37:53,960 | root | INFO | 200\n",
            "127.0.0.1 - - [29/Jan/2021:04:37:53 +0000] \"GET /swagger.json HTTP/1.0\" 200 2325 \"-\" \"Go-http-client/1.1\"\n",
            "2021-01-29 04:43:20,953 | root | INFO | Validation Request Content-Type\n",
            "2021-01-29 04:43:20,954 | root | INFO | Scoring Timer is set to 60.0 seconds\n",
            "2021-01-29 04:43:21,064 | root | INFO | 200\n",
            "127.0.0.1 - - [29/Jan/2021:04:43:21 +0000] \"POST /score HTTP/1.0\" 200 22 \"-\" \"python-requests/2.25.1\"\n",
            "\n"
          ]
        }
      ],
      "execution_count": 30,
      "metadata": {
        "jupyter": {
          "outputs_hidden": false,
          "source_hidden": false
        },
        "nteract": {
          "transient": {
            "deleting": false
          }
        },
        "gather": {
          "logged": 1611895445741
        }
      }
    },
    {
      "cell_type": "code",
      "source": [
        "service.delete()"
      ],
      "outputs": [],
      "execution_count": null,
      "metadata": {
        "collapsed": true,
        "jupyter": {
          "source_hidden": false,
          "outputs_hidden": false
        },
        "nteract": {
          "transient": {
            "deleting": false
          }
        }
      }
    }
  ],
  "metadata": {
    "kernel_info": {
      "name": "python3"
    },
    "kernelspec": {
      "name": "python3",
      "language": "python",
      "display_name": "Python 3"
    },
    "language_info": {
      "name": "python",
      "version": "3.6.9",
      "mimetype": "text/x-python",
      "codemirror_mode": {
        "name": "ipython",
        "version": 3
      },
      "pygments_lexer": "ipython3",
      "nbconvert_exporter": "python",
      "file_extension": ".py"
    },
    "nteract": {
      "version": "nteract-front-end@1.0.0"
    }
  },
  "nbformat": 4,
  "nbformat_minor": 2
}