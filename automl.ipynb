{
  "cells": [
    {
      "cell_type": "markdown",
      "source": [
        "# Automated ML\n",
        "\n",
        "TODO: Import Dependencies. In the cell below, import all the dependencies that you will need to complete the project."
      ],
      "metadata": {}
    },
    {
      "cell_type": "code",
      "source": [
        "from azureml.automl.runtime.onnx_convert import OnnxConverter\n",
        "from azureml.core import Workspace, Experiment\n",
        "from azureml.core.compute import ComputeTarget, AmlCompute\n",
        "from azureml.data.dataset_factory import TabularDatasetFactory\n",
        "from azureml.train.automl import AutoMLConfig\n",
        "from azureml.widgets import RunDetails\n",
        "import os\n",
        "import pandas as pd"
      ],
      "outputs": [],
      "execution_count": 2,
      "metadata": {
        "gather": {
          "logged": 1611890054905
        },
        "jupyter": {
          "outputs_hidden": false,
          "source_hidden": false
        },
        "nteract": {
          "transient": {
            "deleting": false
          }
        }
      }
    },
    {
      "cell_type": "code",
      "source": [
        "ws = Workspace.from_config()\n",
        "exp = Experiment(workspace=ws, name=\"lol_match_predictor_automl\")\n",
        "\n",
        "print('Workspace name: ' + ws.name, \n",
        "      'Azure region: ' + ws.location, \n",
        "      'Subscription id: ' + ws.subscription_id, \n",
        "      'Resource group: ' + ws.resource_group, sep = '\\n')\n",
        "\n",
        "run = exp.start_logging()"
      ],
      "outputs": [
        {
          "output_type": "stream",
          "name": "stdout",
          "text": [
            "Workspace name: quick-starts-ws-136447\n",
            "Azure region: southcentralus\n",
            "Subscription id: 9b72f9e6-56c5-4c16-991b-19c652994860\n",
            "Resource group: aml-quickstarts-136447\n"
          ]
        },
        {
          "output_type": "stream",
          "name": "stderr",
          "text": [
            "WARNING:urllib3.connectionpool:Connection pool is full, discarding connection: mlstrg136447.blob.core.windows.net\n"
          ]
        }
      ],
      "execution_count": 23,
      "metadata": {
        "gather": {
          "logged": 1611894449918
        }
      }
    },
    {
      "cell_type": "code",
      "source": [
        "# Create compute cluster\n",
        "# Use vm_size = \"Standard_D2_V2\" in your provisioning configuration.\n",
        "# max_nodes should be no greater than 4.\n",
        "\n",
        "cluster_name = \"cluster\"\n",
        "\n",
        "try:\n",
        "    compute_target = ComputeTarget(workspace=ws, name=cluster_name)\n",
        "    print('Found existing cluster, use it.')\n",
        "except ComputeTargetException:\n",
        "    compute_config = AmlCompute.provisioning_configuration(vm_size='STANDARD_DS3_V2',# for GPU, use \"STANDARD_NC6\"\n",
        "                                                           #vm_priority = 'lowpriority', # optional\n",
        "                                                           max_nodes=4)\n",
        "    compute_target = ComputeTarget.create(ws, cluster_name, compute_config)"
      ],
      "outputs": [
        {
          "output_type": "stream",
          "name": "stdout",
          "text": [
            "Found existing cluster, use it.\n"
          ]
        }
      ],
      "execution_count": 24,
      "metadata": {
        "gather": {
          "logged": 1611894457488
        }
      }
    },
    {
      "cell_type": "markdown",
      "source": [
        "## Dataset\n",
        "\n",
        "### Overview\n",
        "TODO: In this markdown cell, give an overview of the dataset you are using. Also mention the task you will be performing.\n",
        "\n",
        "\n",
        "TODO: Get data. In the cell below, write code to access the data you will be using in this project. Remember that the dataset needs to be external."
      ],
      "metadata": {}
    },
    {
      "cell_type": "code",
      "source": [
        "data = pd.read_csv(\"https://oracleselixir-downloadable-match-data.s3-us-west-2.amazonaws.com/2020_LoL_esports_match_data_from_OraclesElixir_20210126.csv\")\n",
        "\n",
        "# This dataset requires cleaning to only get the features we want.\n",
        "columns = ['side', 'position', 'result', 'golddiffat10', 'xpdiffat10', 'golddiffat15', 'xpdiffat15']\n",
        "\n",
        "data = pd.DataFrame(data, columns=columns)\n",
        "\n",
        "# This dataset has data for both sides in each match. We only need to look at matches from one side, so we take only Blue side data.\n",
        "\n",
        "data = data.loc[data['side'] == 'Blue']\n",
        "\n",
        "# This dataset also has data for teams as well as individual players. We only need the data for teams.\n",
        "\n",
        "data = data[data.position.eq('team')]\n",
        "\n",
        "# Side no longer needed so we can delete this field.\n",
        "data.drop(['side'], inplace=True, axis=1, errors='ignore')\n",
        "# We also no longer need positions.\n",
        "data.drop(['position'], inplace=True, axis=1, errors='ignore')\n",
        "\n",
        "# This dataset is equivalent to the output of the above operations.\n",
        "ds = TabularDatasetFactory.from_delimited_files(path=\"https://raw.githubusercontent.com/ncharchenko/Azure-ML-Engineer-Nanodegree-Capstone/master/OraclesElixir_automl_data.csv\")\n",
        "\n",
        "# Show data after cleaning.\n",
        "data.head()"
      ],
      "outputs": [
        {
          "output_type": "execute_result",
          "execution_count": 26,
          "data": {
            "text/plain": "    result  golddiffat10  xpdiffat10  golddiffat15  xpdiffat15\n10       1        117.00     -137.00       -825.00    -1665.00\n22       0      -2014.00    -2149.00      -5484.00    -4833.00\n34       1        682.00      615.00       2566.00     2097.00\n46       0      -1579.00     -858.00      -2471.00    -3064.00\n58       0       -747.00     -313.00        877.00      205.00",
            "text/html": "<div>\n<style scoped>\n    .dataframe tbody tr th:only-of-type {\n        vertical-align: middle;\n    }\n\n    .dataframe tbody tr th {\n        vertical-align: top;\n    }\n\n    .dataframe thead th {\n        text-align: right;\n    }\n</style>\n<table border=\"1\" class=\"dataframe\">\n  <thead>\n    <tr style=\"text-align: right;\">\n      <th></th>\n      <th>result</th>\n      <th>golddiffat10</th>\n      <th>xpdiffat10</th>\n      <th>golddiffat15</th>\n      <th>xpdiffat15</th>\n    </tr>\n  </thead>\n  <tbody>\n    <tr>\n      <th>10</th>\n      <td>1</td>\n      <td>117.00</td>\n      <td>-137.00</td>\n      <td>-825.00</td>\n      <td>-1665.00</td>\n    </tr>\n    <tr>\n      <th>22</th>\n      <td>0</td>\n      <td>-2014.00</td>\n      <td>-2149.00</td>\n      <td>-5484.00</td>\n      <td>-4833.00</td>\n    </tr>\n    <tr>\n      <th>34</th>\n      <td>1</td>\n      <td>682.00</td>\n      <td>615.00</td>\n      <td>2566.00</td>\n      <td>2097.00</td>\n    </tr>\n    <tr>\n      <th>46</th>\n      <td>0</td>\n      <td>-1579.00</td>\n      <td>-858.00</td>\n      <td>-2471.00</td>\n      <td>-3064.00</td>\n    </tr>\n    <tr>\n      <th>58</th>\n      <td>0</td>\n      <td>-747.00</td>\n      <td>-313.00</td>\n      <td>877.00</td>\n      <td>205.00</td>\n    </tr>\n  </tbody>\n</table>\n</div>"
          },
          "metadata": {}
        }
      ],
      "execution_count": 26,
      "metadata": {
        "gather": {
          "logged": 1611894540456
        },
        "jupyter": {
          "outputs_hidden": false,
          "source_hidden": false
        },
        "nteract": {
          "transient": {
            "deleting": false
          }
        }
      }
    },
    {
      "cell_type": "code",
      "source": [
        "# To show that the AutoML model is taking in the same dataset, show it here.\r\n",
        "raw_data = pd.read_csv(\"https://raw.githubusercontent.com/ncharchenko/Azure-ML-Engineer-Nanodegree-Capstone/master/OraclesElixir_automl_data.csv\")\r\n",
        "raw_data.head()"
      ],
      "outputs": [
        {
          "output_type": "execute_result",
          "execution_count": 27,
          "data": {
            "text/plain": "   Unnamed: 0  result  golddiffat10  xpdiffat10  golddiffat15  xpdiffat15\n0           0       1        117.00     -137.00       -825.00    -1665.00\n1           2       0      -2014.00    -2149.00      -5484.00    -4833.00\n2           4       1        682.00      615.00       2566.00     2097.00\n3           6       0      -1579.00     -858.00      -2471.00    -3064.00\n4           8       0       -747.00     -313.00        877.00      205.00",
            "text/html": "<div>\n<style scoped>\n    .dataframe tbody tr th:only-of-type {\n        vertical-align: middle;\n    }\n\n    .dataframe tbody tr th {\n        vertical-align: top;\n    }\n\n    .dataframe thead th {\n        text-align: right;\n    }\n</style>\n<table border=\"1\" class=\"dataframe\">\n  <thead>\n    <tr style=\"text-align: right;\">\n      <th></th>\n      <th>Unnamed: 0</th>\n      <th>result</th>\n      <th>golddiffat10</th>\n      <th>xpdiffat10</th>\n      <th>golddiffat15</th>\n      <th>xpdiffat15</th>\n    </tr>\n  </thead>\n  <tbody>\n    <tr>\n      <th>0</th>\n      <td>0</td>\n      <td>1</td>\n      <td>117.00</td>\n      <td>-137.00</td>\n      <td>-825.00</td>\n      <td>-1665.00</td>\n    </tr>\n    <tr>\n      <th>1</th>\n      <td>2</td>\n      <td>0</td>\n      <td>-2014.00</td>\n      <td>-2149.00</td>\n      <td>-5484.00</td>\n      <td>-4833.00</td>\n    </tr>\n    <tr>\n      <th>2</th>\n      <td>4</td>\n      <td>1</td>\n      <td>682.00</td>\n      <td>615.00</td>\n      <td>2566.00</td>\n      <td>2097.00</td>\n    </tr>\n    <tr>\n      <th>3</th>\n      <td>6</td>\n      <td>0</td>\n      <td>-1579.00</td>\n      <td>-858.00</td>\n      <td>-2471.00</td>\n      <td>-3064.00</td>\n    </tr>\n    <tr>\n      <th>4</th>\n      <td>8</td>\n      <td>0</td>\n      <td>-747.00</td>\n      <td>-313.00</td>\n      <td>877.00</td>\n      <td>205.00</td>\n    </tr>\n  </tbody>\n</table>\n</div>"
          },
          "metadata": {}
        }
      ],
      "execution_count": 27,
      "metadata": {
        "collapsed": true,
        "jupyter": {
          "source_hidden": false,
          "outputs_hidden": false
        },
        "nteract": {
          "transient": {
            "deleting": false
          }
        },
        "gather": {
          "logged": 1611894571411
        }
      }
    },
    {
      "cell_type": "markdown",
      "source": [
        "## AutoML Configuration\n",
        "\n",
        "TODO: Explain why you chose the automl settings and cofiguration you used below."
      ],
      "metadata": {}
    },
    {
      "cell_type": "code",
      "source": [
        "# TODO: Put your automl settings here\n",
        "automl_settings = {}\n",
        "\n",
        "# TODO: Put your automl config here\n",
        "automl_config = AutoMLConfig(\n",
        "    experiment_timeout_minutes=30,\n",
        "    enable_onnx_compatible_models=True,\n",
        "    compute_target=compute_target,\n",
        "    task=\"classification\",\n",
        "    primary_metric=\"accuracy\",\n",
        "    training_data=ds,\n",
        "    validation_size=0.2,\n",
        "    label_column_name=\"result\")"
      ],
      "outputs": [],
      "execution_count": 7,
      "metadata": {
        "gather": {
          "logged": 1611890123362
        },
        "jupyter": {
          "outputs_hidden": false,
          "source_hidden": false
        },
        "nteract": {
          "transient": {
            "deleting": false
          }
        }
      }
    },
    {
      "cell_type": "code",
      "source": [
        "# TODO: Submit your experiment\n",
        "remote_run = exp.submit(automl_config)"
      ],
      "outputs": [
        {
          "output_type": "stream",
          "name": "stdout",
          "text": [
            "Running on remote.\n"
          ]
        }
      ],
      "execution_count": 8,
      "metadata": {
        "gather": {
          "logged": 1611890130811
        },
        "jupyter": {
          "outputs_hidden": false,
          "source_hidden": false
        },
        "nteract": {
          "transient": {
            "deleting": false
          }
        }
      }
    },
    {
      "cell_type": "markdown",
      "source": [
        "## Run Details\n",
        "\n",
        "OPTIONAL: Write about the different models trained and their performance. Why do you think some models did better than others?\n",
        "\n",
        "TODO: In the cell below, use the `RunDetails` widget to show the different experiments."
      ],
      "metadata": {}
    },
    {
      "cell_type": "code",
      "source": [
        "RunDetails(remote_run).show()"
      ],
      "outputs": [
        {
          "output_type": "display_data",
          "data": {
            "text/plain": "_AutoMLWidget(widget_settings={'childWidgetDisplay': 'popup', 'send_telemetry': False, 'log_level': 'INFO', 's…",
            "application/vnd.jupyter.widget-view+json": {
              "version_major": 2,
              "version_minor": 0,
              "model_id": "f227b503f79d43c9b1b628956f704faa"
            }
          },
          "metadata": {}
        },
        {
          "output_type": "display_data",
          "data": {
            "application/aml.mini.widget.v1": "{\"status\": \"Completed\", \"workbench_run_details_uri\": \"https://ml.azure.com/experiments/lol_match_predictor_automl/runs/AutoML_cb5da120-71fd-466e-8aaf-064b1cad998f?wsid=/subscriptions/9b72f9e6-56c5-4c16-991b-19c652994860/resourcegroups/aml-quickstarts-136447/workspaces/quick-starts-ws-136447\", \"run_id\": \"AutoML_cb5da120-71fd-466e-8aaf-064b1cad998f\", \"run_properties\": {\"run_id\": \"AutoML_cb5da120-71fd-466e-8aaf-064b1cad998f\", \"created_utc\": \"2021-01-29T03:15:29.823028Z\", \"properties\": {\"num_iterations\": \"1000\", \"training_type\": \"TrainFull\", \"acquisition_function\": \"EI\", \"primary_metric\": \"accuracy\", \"train_split\": \"0.2\", \"acquisition_parameter\": \"0\", \"num_cross_validation\": null, \"target\": \"cluster\", \"AMLSettingsJsonString\": \"{\\\"path\\\":null,\\\"name\\\":\\\"lol_match_predictor_automl\\\",\\\"subscription_id\\\":\\\"9b72f9e6-56c5-4c16-991b-19c652994860\\\",\\\"resource_group\\\":\\\"aml-quickstarts-136447\\\",\\\"workspace_name\\\":\\\"quick-starts-ws-136447\\\",\\\"region\\\":\\\"southcentralus\\\",\\\"compute_target\\\":\\\"cluster\\\",\\\"spark_service\\\":null,\\\"azure_service\\\":\\\"remote\\\",\\\"many_models\\\":false,\\\"pipeline_fetch_max_batch_size\\\":1,\\\"iterations\\\":1000,\\\"primary_metric\\\":\\\"accuracy\\\",\\\"task_type\\\":\\\"classification\\\",\\\"data_script\\\":null,\\\"validation_size\\\":0.2,\\\"n_cross_validations\\\":null,\\\"y_min\\\":null,\\\"y_max\\\":null,\\\"num_classes\\\":null,\\\"featurization\\\":\\\"auto\\\",\\\"_ignore_package_version_incompatibilities\\\":false,\\\"is_timeseries\\\":false,\\\"max_cores_per_iteration\\\":1,\\\"max_concurrent_iterations\\\":1,\\\"iteration_timeout_minutes\\\":null,\\\"mem_in_mb\\\":null,\\\"enforce_time_on_windows\\\":false,\\\"experiment_timeout_minutes\\\":30,\\\"experiment_exit_score\\\":null,\\\"whitelist_models\\\":null,\\\"blacklist_algos\\\":[\\\"TensorFlowLinearClassifier\\\",\\\"TensorFlowDNN\\\"],\\\"supported_models\\\":[\\\"BernoulliNaiveBayes\\\",\\\"LogisticRegression\\\",\\\"LightGBM\\\",\\\"SVM\\\",\\\"ExtremeRandomTrees\\\",\\\"GradientBoosting\\\",\\\"TensorFlowDNN\\\",\\\"RandomForest\\\",\\\"LinearSVM\\\",\\\"TensorFlowLinearClassifier\\\",\\\"KNN\\\",\\\"DecisionTree\\\",\\\"MultinomialNaiveBayes\\\",\\\"AveragedPerceptronClassifier\\\",\\\"XGBoostClassifier\\\",\\\"SGD\\\"],\\\"auto_blacklist\\\":true,\\\"blacklist_samples_reached\\\":false,\\\"exclude_nan_labels\\\":true,\\\"verbosity\\\":20,\\\"_debug_log\\\":\\\"azureml_automl.log\\\",\\\"show_warnings\\\":false,\\\"model_explainability\\\":true,\\\"service_url\\\":null,\\\"sdk_url\\\":null,\\\"sdk_packages\\\":null,\\\"enable_onnx_compatible_models\\\":true,\\\"enable_split_onnx_featurizer_estimator_models\\\":false,\\\"vm_type\\\":\\\"STANDARD_DS3_V2\\\",\\\"telemetry_verbosity\\\":20,\\\"send_telemetry\\\":true,\\\"enable_dnn\\\":false,\\\"scenario\\\":\\\"SDK-1.13.0\\\",\\\"environment_label\\\":null,\\\"force_text_dnn\\\":false,\\\"enable_feature_sweeping\\\":false,\\\"enable_early_stopping\\\":false,\\\"early_stopping_n_iters\\\":10,\\\"metrics\\\":null,\\\"enable_ensembling\\\":true,\\\"enable_stack_ensembling\\\":false,\\\"ensemble_iterations\\\":15,\\\"enable_tf\\\":false,\\\"enable_subsampling\\\":null,\\\"subsample_seed\\\":null,\\\"enable_nimbusml\\\":false,\\\"enable_streaming\\\":false,\\\"force_streaming\\\":false,\\\"track_child_runs\\\":true,\\\"allowed_private_models\\\":[],\\\"label_column_name\\\":\\\"result\\\",\\\"weight_column_name\\\":null,\\\"cv_split_column_names\\\":null,\\\"enable_local_managed\\\":false,\\\"_local_managed_run_id\\\":null,\\\"cost_mode\\\":1,\\\"lag_length\\\":0,\\\"metric_operation\\\":\\\"maximize\\\",\\\"preprocess\\\":true}\", \"DataPrepJsonString\": \"{\\\\\\\"training_data\\\\\\\": \\\\\\\"{\\\\\\\\\\\\\\\"blocks\\\\\\\\\\\\\\\": [{\\\\\\\\\\\\\\\"id\\\\\\\\\\\\\\\": \\\\\\\\\\\\\\\"fe69a547-df9a-45a4-ac40-0b39b40f9021\\\\\\\\\\\\\\\", \\\\\\\\\\\\\\\"type\\\\\\\\\\\\\\\": \\\\\\\\\\\\\\\"Microsoft.DPrep.GetFilesBlock\\\\\\\\\\\\\\\", \\\\\\\\\\\\\\\"arguments\\\\\\\\\\\\\\\": {\\\\\\\\\\\\\\\"isArchive\\\\\\\\\\\\\\\": false, \\\\\\\\\\\\\\\"path\\\\\\\\\\\\\\\": {\\\\\\\\\\\\\\\"target\\\\\\\\\\\\\\\": 4, \\\\\\\\\\\\\\\"resourceDetails\\\\\\\\\\\\\\\": [{\\\\\\\\\\\\\\\"path\\\\\\\\\\\\\\\": \\\\\\\\\\\\\\\"https://raw.githubusercontent.com/ncharchenko/Azure-ML-Engineer-Nanodegree-Capstone/master/OraclesElixir_automl_data.csv\\\\\\\\\\\\\\\"}]}}, \\\\\\\\\\\\\\\"localData\\\\\\\\\\\\\\\": {}, \\\\\\\\\\\\\\\"isEnabled\\\\\\\\\\\\\\\": true, \\\\\\\\\\\\\\\"name\\\\\\\\\\\\\\\": null, \\\\\\\\\\\\\\\"annotation\\\\\\\\\\\\\\\": null}, {\\\\\\\\\\\\\\\"id\\\\\\\\\\\\\\\": \\\\\\\\\\\\\\\"e328ee2e-b78e-4d10-8146-07a69bf7cdcd\\\\\\\\\\\\\\\", \\\\\\\\\\\\\\\"type\\\\\\\\\\\\\\\": \\\\\\\\\\\\\\\"Microsoft.DPrep.ParseDelimitedBlock\\\\\\\\\\\\\\\", \\\\\\\\\\\\\\\"arguments\\\\\\\\\\\\\\\": {\\\\\\\\\\\\\\\"columnHeadersMode\\\\\\\\\\\\\\\": 3, \\\\\\\\\\\\\\\"fileEncoding\\\\\\\\\\\\\\\": 0, \\\\\\\\\\\\\\\"handleQuotedLineBreaks\\\\\\\\\\\\\\\": false, \\\\\\\\\\\\\\\"preview\\\\\\\\\\\\\\\": false, \\\\\\\\\\\\\\\"separator\\\\\\\\\\\\\\\": \\\\\\\\\\\\\\\",\\\\\\\\\\\\\\\", \\\\\\\\\\\\\\\"skipRows\\\\\\\\\\\\\\\": 0, \\\\\\\\\\\\\\\"skipRowsMode\\\\\\\\\\\\\\\": 0}, \\\\\\\\\\\\\\\"localData\\\\\\\\\\\\\\\": {}, \\\\\\\\\\\\\\\"isEnabled\\\\\\\\\\\\\\\": true, \\\\\\\\\\\\\\\"name\\\\\\\\\\\\\\\": null, \\\\\\\\\\\\\\\"annotation\\\\\\\\\\\\\\\": null}, {\\\\\\\\\\\\\\\"id\\\\\\\\\\\\\\\": \\\\\\\\\\\\\\\"b52937b7-1f75-442a-8ec9-030fca26a246\\\\\\\\\\\\\\\", \\\\\\\\\\\\\\\"type\\\\\\\\\\\\\\\": \\\\\\\\\\\\\\\"Microsoft.DPrep.DropColumnsBlock\\\\\\\\\\\\\\\", \\\\\\\\\\\\\\\"arguments\\\\\\\\\\\\\\\": {\\\\\\\\\\\\\\\"columns\\\\\\\\\\\\\\\": {\\\\\\\\\\\\\\\"type\\\\\\\\\\\\\\\": 0, \\\\\\\\\\\\\\\"details\\\\\\\\\\\\\\\": {\\\\\\\\\\\\\\\"selectedColumns\\\\\\\\\\\\\\\": [\\\\\\\\\\\\\\\"Path\\\\\\\\\\\\\\\"]}}}, \\\\\\\\\\\\\\\"localData\\\\\\\\\\\\\\\": {}, \\\\\\\\\\\\\\\"isEnabled\\\\\\\\\\\\\\\": true, \\\\\\\\\\\\\\\"name\\\\\\\\\\\\\\\": null, \\\\\\\\\\\\\\\"annotation\\\\\\\\\\\\\\\": null}, {\\\\\\\\\\\\\\\"id\\\\\\\\\\\\\\\": \\\\\\\\\\\\\\\"ba98422f-bbf4-4c21-afe6-68caffe27cb1\\\\\\\\\\\\\\\", \\\\\\\\\\\\\\\"type\\\\\\\\\\\\\\\": \\\\\\\\\\\\\\\"Microsoft.DPrep.SetColumnTypesBlock\\\\\\\\\\\\\\\", \\\\\\\\\\\\\\\"arguments\\\\\\\\\\\\\\\": {\\\\\\\\\\\\\\\"columnConversion\\\\\\\\\\\\\\\": [{\\\\\\\\\\\\\\\"column\\\\\\\\\\\\\\\": {\\\\\\\\\\\\\\\"type\\\\\\\\\\\\\\\": 2, \\\\\\\\\\\\\\\"details\\\\\\\\\\\\\\\": {\\\\\\\\\\\\\\\"selectedColumn\\\\\\\\\\\\\\\": \\\\\\\\\\\\\\\"Column1\\\\\\\\\\\\\\\"}}, \\\\\\\\\\\\\\\"typeProperty\\\\\\\\\\\\\\\": 2}, {\\\\\\\\\\\\\\\"column\\\\\\\\\\\\\\\": {\\\\\\\\\\\\\\\"type\\\\\\\\\\\\\\\": 2, \\\\\\\\\\\\\\\"details\\\\\\\\\\\\\\\": {\\\\\\\\\\\\\\\"selectedColumn\\\\\\\\\\\\\\\": \\\\\\\\\\\\\\\"result\\\\\\\\\\\\\\\"}}, \\\\\\\\\\\\\\\"typeProperty\\\\\\\\\\\\\\\": 2}, {\\\\\\\\\\\\\\\"column\\\\\\\\\\\\\\\": {\\\\\\\\\\\\\\\"type\\\\\\\\\\\\\\\": 2, \\\\\\\\\\\\\\\"details\\\\\\\\\\\\\\\": {\\\\\\\\\\\\\\\"selectedColumn\\\\\\\\\\\\\\\": \\\\\\\\\\\\\\\"golddiffat10\\\\\\\\\\\\\\\"}}, \\\\\\\\\\\\\\\"typeProperty\\\\\\\\\\\\\\\": 3}, {\\\\\\\\\\\\\\\"column\\\\\\\\\\\\\\\": {\\\\\\\\\\\\\\\"type\\\\\\\\\\\\\\\": 2, \\\\\\\\\\\\\\\"details\\\\\\\\\\\\\\\": {\\\\\\\\\\\\\\\"selectedColumn\\\\\\\\\\\\\\\": \\\\\\\\\\\\\\\"xpdiffat10\\\\\\\\\\\\\\\"}}, \\\\\\\\\\\\\\\"typeProperty\\\\\\\\\\\\\\\": 3}, {\\\\\\\\\\\\\\\"column\\\\\\\\\\\\\\\": {\\\\\\\\\\\\\\\"type\\\\\\\\\\\\\\\": 2, \\\\\\\\\\\\\\\"details\\\\\\\\\\\\\\\": {\\\\\\\\\\\\\\\"selectedColumn\\\\\\\\\\\\\\\": \\\\\\\\\\\\\\\"golddiffat15\\\\\\\\\\\\\\\"}}, \\\\\\\\\\\\\\\"typeProperty\\\\\\\\\\\\\\\": 3}, {\\\\\\\\\\\\\\\"column\\\\\\\\\\\\\\\": {\\\\\\\\\\\\\\\"type\\\\\\\\\\\\\\\": 2, \\\\\\\\\\\\\\\"details\\\\\\\\\\\\\\\": {\\\\\\\\\\\\\\\"selectedColumn\\\\\\\\\\\\\\\": \\\\\\\\\\\\\\\"xpdiffat15\\\\\\\\\\\\\\\"}}, \\\\\\\\\\\\\\\"typeProperty\\\\\\\\\\\\\\\": 3}]}, \\\\\\\\\\\\\\\"localData\\\\\\\\\\\\\\\": {}, \\\\\\\\\\\\\\\"isEnabled\\\\\\\\\\\\\\\": true, \\\\\\\\\\\\\\\"name\\\\\\\\\\\\\\\": null, \\\\\\\\\\\\\\\"annotation\\\\\\\\\\\\\\\": null}], \\\\\\\\\\\\\\\"inspectors\\\\\\\\\\\\\\\": [], \\\\\\\\\\\\\\\"meta\\\\\\\\\\\\\\\": {\\\\\\\\\\\\\\\"savedDatasetId\\\\\\\\\\\\\\\": \\\\\\\\\\\\\\\"167b3972-5a78-4d7f-b03d-1f1d567a58af\\\\\\\\\\\\\\\", \\\\\\\\\\\\\\\"datasetType\\\\\\\\\\\\\\\": \\\\\\\\\\\\\\\"tabular\\\\\\\\\\\\\\\", \\\\\\\\\\\\\\\"subscriptionId\\\\\\\\\\\\\\\": \\\\\\\\\\\\\\\"9b72f9e6-56c5-4c16-991b-19c652994860\\\\\\\\\\\\\\\", \\\\\\\\\\\\\\\"workspaceId\\\\\\\\\\\\\\\": \\\\\\\\\\\\\\\"9efe7b9b-f5a0-4c5c-86d3-7cd668330471\\\\\\\\\\\\\\\", \\\\\\\\\\\\\\\"workspaceLocation\\\\\\\\\\\\\\\": \\\\\\\\\\\\\\\"southcentralus\\\\\\\\\\\\\\\"}}\\\\\\\", \\\\\\\"activities\\\\\\\": 0}\", \"EnableSubsampling\": null, \"runTemplate\": \"AutoML\", \"azureml.runsource\": \"automl\", \"display_task_type\": \"classification\", \"dependencies_versions\": \"{\\\"azureml-widgets\\\": \\\"1.20.0\\\", \\\"azureml-train\\\": \\\"1.20.0\\\", \\\"azureml-train-restclients-hyperdrive\\\": \\\"1.20.0\\\", \\\"azureml-train-core\\\": \\\"1.20.0\\\", \\\"azureml-train-automl\\\": \\\"1.20.0\\\", \\\"azureml-train-automl-runtime\\\": \\\"1.20.0\\\", \\\"azureml-train-automl-client\\\": \\\"1.20.0\\\", \\\"azureml-tensorboard\\\": \\\"1.20.0\\\", \\\"azureml-telemetry\\\": \\\"1.20.0\\\", \\\"azureml-sdk\\\": \\\"1.20.0\\\", \\\"azureml-samples\\\": \\\"0+unknown\\\", \\\"azureml-pipeline\\\": \\\"1.20.0\\\", \\\"azureml-pipeline-steps\\\": \\\"1.20.0\\\", \\\"azureml-pipeline-core\\\": \\\"1.20.0\\\", \\\"azureml-opendatasets\\\": \\\"1.20.0\\\", \\\"azureml-model-management-sdk\\\": \\\"1.0.1b6.post1\\\", \\\"azureml-mlflow\\\": \\\"1.20.0.post1\\\", \\\"azureml-interpret\\\": \\\"1.20.0\\\", \\\"azureml-explain-model\\\": \\\"1.20.0\\\", \\\"azureml-defaults\\\": \\\"1.20.0\\\", \\\"azureml-dataset-runtime\\\": \\\"1.20.0\\\", \\\"azureml-dataprep\\\": \\\"2.7.3\\\", \\\"azureml-dataprep-rslex\\\": \\\"1.5.0\\\", \\\"azureml-dataprep-native\\\": \\\"27.0.0\\\", \\\"azureml-datadrift\\\": \\\"1.20.0\\\", \\\"azureml-core\\\": \\\"1.20.0\\\", \\\"azureml-contrib-services\\\": \\\"1.20.0\\\", \\\"azureml-contrib-server\\\": \\\"1.20.0\\\", \\\"azureml-contrib-reinforcementlearning\\\": \\\"1.20.0\\\", \\\"azureml-contrib-pipeline-steps\\\": \\\"1.20.0\\\", \\\"azureml-contrib-notebook\\\": \\\"1.20.0\\\", \\\"azureml-contrib-interpret\\\": \\\"1.20.0\\\", \\\"azureml-contrib-gbdt\\\": \\\"1.20.0\\\", \\\"azureml-contrib-fairness\\\": \\\"1.20.0\\\", \\\"azureml-contrib-dataset\\\": \\\"1.20.0\\\", \\\"azureml-cli-common\\\": \\\"1.20.0\\\", \\\"azureml-automl-runtime\\\": \\\"1.20.0\\\", \\\"azureml-automl-core\\\": \\\"1.20.0\\\", \\\"azureml-accel-models\\\": \\\"1.20.0\\\"}\", \"_aml_system_scenario_identification\": \"Remote.Parent\", \"ClientType\": \"SDK\", \"environment_cpu_name\": \"AzureML-AutoML\", \"environment_cpu_label\": \"prod\", \"environment_gpu_name\": \"AzureML-AutoML-GPU\", \"environment_gpu_label\": \"prod\", \"root_attribution\": \"automl\", \"attribution\": \"AutoML\", \"Orchestrator\": \"AutoML\", \"CancelUri\": \"https://southcentralus.experiments.azureml.net/jasmine/v1.0/subscriptions/9b72f9e6-56c5-4c16-991b-19c652994860/resourceGroups/aml-quickstarts-136447/providers/Microsoft.MachineLearningServices/workspaces/quick-starts-ws-136447/experimentids/874c8fd6-24a9-4295-8438-7d5270ed28e8/cancel/AutoML_cb5da120-71fd-466e-8aaf-064b1cad998f\", \"ClientSdkVersion\": \"1.20.0.post1\", \"snapshotId\": \"00000000-0000-0000-0000-000000000000\", \"SetupRunId\": \"AutoML_cb5da120-71fd-466e-8aaf-064b1cad998f_setup\", \"SetupRunContainerId\": \"dcid.AutoML_cb5da120-71fd-466e-8aaf-064b1cad998f_setup\", \"FeaturizationRunJsonPath\": \"featurizer_container.json\", \"FeaturizationRunId\": \"AutoML_cb5da120-71fd-466e-8aaf-064b1cad998f_featurize\", \"ProblemInfoJsonString\": \"{\\\"dataset_num_categorical\\\": 0, \\\"is_sparse\\\": false, \\\"subsampling\\\": false, \\\"dataset_classes\\\": 2, \\\"dataset_features\\\": 5, \\\"dataset_samples\\\": 5246, \\\"single_frequency_class_detected\\\": false}\", \"ModelExplainRunId\": \"AutoML_cb5da120-71fd-466e-8aaf-064b1cad998f_ModelExplain\"}, \"tags\": {\"model_explain_run\": \"best_run\", \"_aml_system_azureml.automlComponent\": \"AutoML\", \"pipeline_id\": \"\", \"score\": \"\", \"predicted_cost\": \"\", \"fit_time\": \"\", \"training_percent\": \"\", \"iteration\": \"\", \"run_preprocessor\": \"\", \"run_algorithm\": \"\", \"dynamic_whitelisting_iterations\": \"<25>;\", \"automl_best_child_run_id\": \"AutoML_cb5da120-71fd-466e-8aaf-064b1cad998f_28\", \"model_explain_best_run_child_id\": \"AutoML_cb5da120-71fd-466e-8aaf-064b1cad998f_28\"}, \"end_time_utc\": \"2021-01-29T03:55:04.285031Z\", \"status\": \"Completed\", \"log_files\": {}, \"log_groups\": [], \"run_duration\": \"0:39:34\"}, \"child_runs\": [{\"run_id\": \"AutoML_cb5da120-71fd-466e-8aaf-064b1cad998f_0\", \"run_number\": 6, \"metric\": null, \"status\": \"Completed\", \"run_type\": \"azureml.scriptrun\", \"training_percent\": \"100\", \"start_time\": \"2021-01-29T03:23:02.100556Z\", \"end_time\": \"2021-01-29T03:23:48.837577Z\", \"created_time\": \"2021-01-29T03:22:49.205165Z\", \"created_time_dt\": \"2021-01-29T03:22:49.205165Z\", \"duration\": \"0:00:59\", \"iteration\": \"0\", \"goal\": \"accuracy_max\", \"run_name\": \"MaxAbsScaler, LightGBM\", \"run_properties\": \"copy=True\", \"primary_metric\": 0.73455378, \"best_metric\": 0.73455378}, {\"run_id\": \"AutoML_cb5da120-71fd-466e-8aaf-064b1cad998f_1\", \"run_number\": 7, \"metric\": null, \"status\": \"Completed\", \"run_type\": \"azureml.scriptrun\", \"training_percent\": \"100\", \"start_time\": \"2021-01-29T03:24:04.065538Z\", \"end_time\": \"2021-01-29T03:24:52.561421Z\", \"created_time\": \"2021-01-29T03:23:49.855054Z\", \"created_time_dt\": \"2021-01-29T03:23:49.855054Z\", \"duration\": \"0:01:02\", \"iteration\": \"1\", \"goal\": \"accuracy_max\", \"run_name\": \"MaxAbsScaler, XGBoostClassifier\", \"run_properties\": \"copy=True\", \"primary_metric\": 0.74065599, \"best_metric\": 0.74065599}, {\"run_id\": \"AutoML_cb5da120-71fd-466e-8aaf-064b1cad998f_2\", \"run_number\": 8, \"metric\": null, \"status\": \"Completed\", \"run_type\": \"azureml.scriptrun\", \"training_percent\": \"100\", \"start_time\": \"2021-01-29T03:25:10.963249Z\", \"end_time\": \"2021-01-29T03:26:02.763858Z\", \"created_time\": \"2021-01-29T03:24:54.362413Z\", \"created_time_dt\": \"2021-01-29T03:24:54.362413Z\", \"duration\": \"0:01:08\", \"iteration\": \"2\", \"goal\": \"accuracy_max\", \"run_name\": \"MinMaxScaler, RandomForest\", \"run_properties\": \"copy=True, feature_range=(0, 1\", \"primary_metric\": 0.73760488, \"best_metric\": 0.74065599}, {\"run_id\": \"AutoML_cb5da120-71fd-466e-8aaf-064b1cad998f_3\", \"run_number\": 9, \"metric\": null, \"status\": \"Completed\", \"run_type\": \"azureml.scriptrun\", \"training_percent\": \"100\", \"start_time\": \"2021-01-29T03:26:17.594469Z\", \"end_time\": \"2021-01-29T03:27:07.625211Z\", \"created_time\": \"2021-01-29T03:26:05.069624Z\", \"created_time_dt\": \"2021-01-29T03:26:05.069624Z\", \"duration\": \"0:01:02\", \"iteration\": \"3\", \"goal\": \"accuracy_max\", \"run_name\": \"MinMaxScaler, RandomForest\", \"run_properties\": \"copy=True, feature_range=(0, 1\", \"primary_metric\": 0.74828375, \"best_metric\": 0.74828375}, {\"run_id\": \"AutoML_cb5da120-71fd-466e-8aaf-064b1cad998f_4\", \"run_number\": 10, \"metric\": null, \"status\": \"Completed\", \"run_type\": \"azureml.scriptrun\", \"training_percent\": \"100\", \"start_time\": \"2021-01-29T03:27:23.56551Z\", \"end_time\": \"2021-01-29T03:28:09.146213Z\", \"created_time\": \"2021-01-29T03:27:10.266622Z\", \"created_time_dt\": \"2021-01-29T03:27:10.266622Z\", \"duration\": \"0:00:58\", \"iteration\": \"4\", \"goal\": \"accuracy_max\", \"run_name\": \"MinMaxScaler, RandomForest\", \"run_properties\": \"copy=True, feature_range=(0, 1\", \"primary_metric\": 0.73836766, \"best_metric\": 0.74828375}, {\"run_id\": \"AutoML_cb5da120-71fd-466e-8aaf-064b1cad998f_5\", \"run_number\": 11, \"metric\": null, \"status\": \"Completed\", \"run_type\": \"azureml.scriptrun\", \"training_percent\": \"100\", \"start_time\": \"2021-01-29T03:28:22.983987Z\", \"end_time\": \"2021-01-29T03:29:17.608064Z\", \"created_time\": \"2021-01-29T03:28:11.252374Z\", \"created_time_dt\": \"2021-01-29T03:28:11.252374Z\", \"duration\": \"0:01:06\", \"iteration\": \"5\", \"goal\": \"accuracy_max\", \"run_name\": \"SparseNormalizer, XGBoostClassifier\", \"run_properties\": \"<azureml.automl.runtime.shared.model_wrappers.SparseNormalizer object at 0x7f3212031630\", \"primary_metric\": 0.73531655, \"best_metric\": 0.74828375}, {\"run_id\": \"AutoML_cb5da120-71fd-466e-8aaf-064b1cad998f_6\", \"run_number\": 12, \"metric\": null, \"status\": \"Completed\", \"run_type\": \"azureml.scriptrun\", \"training_percent\": \"100\", \"start_time\": \"2021-01-29T03:29:32.024928Z\", \"end_time\": \"2021-01-29T03:30:22.438747Z\", \"created_time\": \"2021-01-29T03:29:20.056256Z\", \"created_time_dt\": \"2021-01-29T03:29:20.056256Z\", \"duration\": \"0:01:02\", \"iteration\": \"6\", \"goal\": \"accuracy_max\", \"run_name\": \"MaxAbsScaler, GradientBoosting\", \"run_properties\": \"copy=True\", \"primary_metric\": 0.73989321, \"best_metric\": 0.74828375}, {\"run_id\": \"AutoML_cb5da120-71fd-466e-8aaf-064b1cad998f_7\", \"run_number\": 13, \"metric\": null, \"status\": \"Completed\", \"run_type\": \"azureml.scriptrun\", \"training_percent\": \"100\", \"start_time\": \"2021-01-29T03:30:36.628021Z\", \"end_time\": \"2021-01-29T03:31:31.438774Z\", \"created_time\": \"2021-01-29T03:30:25.240871Z\", \"created_time_dt\": \"2021-01-29T03:30:25.240871Z\", \"duration\": \"0:01:06\", \"iteration\": \"7\", \"goal\": \"accuracy_max\", \"run_name\": \"SparseNormalizer, XGBoostClassifier\", \"run_properties\": \"<azureml.automl.runtime.shared.model_wrappers.SparseNormalizer object at 0x7f6ea4b1ec50\", \"primary_metric\": 0.74218154, \"best_metric\": 0.74828375}, {\"run_id\": \"AutoML_cb5da120-71fd-466e-8aaf-064b1cad998f_8\", \"run_number\": 14, \"metric\": null, \"status\": \"Completed\", \"run_type\": \"azureml.scriptrun\", \"training_percent\": \"100\", \"start_time\": \"2021-01-29T03:31:45.968946Z\", \"end_time\": \"2021-01-29T03:32:43.623468Z\", \"created_time\": \"2021-01-29T03:31:33.631082Z\", \"created_time_dt\": \"2021-01-29T03:31:33.631082Z\", \"duration\": \"0:01:09\", \"iteration\": \"8\", \"goal\": \"accuracy_max\", \"run_name\": \"StandardScalerWrapper, LogisticRegression\", \"run_properties\": \"<azureml.automl.runtime.shared.model_wrappers.StandardScalerWrapper object at 0x7f7331ce9ef0\", \"primary_metric\": 0.74294432, \"best_metric\": 0.74828375}, {\"run_id\": \"AutoML_cb5da120-71fd-466e-8aaf-064b1cad998f_9\", \"run_number\": 15, \"metric\": null, \"status\": \"Completed\", \"run_type\": \"azureml.scriptrun\", \"training_percent\": \"100\", \"start_time\": \"2021-01-29T03:32:58.226519Z\", \"end_time\": \"2021-01-29T03:33:48.483412Z\", \"created_time\": \"2021-01-29T03:32:45.68036Z\", \"created_time_dt\": \"2021-01-29T03:32:45.68036Z\", \"duration\": \"0:01:02\", \"iteration\": \"9\", \"goal\": \"accuracy_max\", \"run_name\": \"MinMaxScaler, LogisticRegression\", \"run_properties\": \"copy=True, feature_range=(0, 1\", \"primary_metric\": 0.74141876, \"best_metric\": 0.74828375}, {\"run_id\": \"AutoML_cb5da120-71fd-466e-8aaf-064b1cad998f_10\", \"run_number\": 16, \"metric\": null, \"status\": \"Completed\", \"run_type\": \"azureml.scriptrun\", \"training_percent\": \"100\", \"start_time\": \"2021-01-29T03:34:03.998023Z\", \"end_time\": \"2021-01-29T03:34:54.530438Z\", \"created_time\": \"2021-01-29T03:33:52.047367Z\", \"created_time_dt\": \"2021-01-29T03:33:52.047367Z\", \"duration\": \"0:01:02\", \"iteration\": \"10\", \"goal\": \"accuracy_max\", \"run_name\": \"MinMaxScaler, LightGBM\", \"run_properties\": \"copy=True, feature_range=(0, 1\", \"primary_metric\": 0.74599542, \"best_metric\": 0.74828375}, {\"run_id\": \"AutoML_cb5da120-71fd-466e-8aaf-064b1cad998f_11\", \"run_number\": 17, \"metric\": null, \"status\": \"Completed\", \"run_type\": \"azureml.scriptrun\", \"training_percent\": \"100\", \"start_time\": \"2021-01-29T03:35:09.821923Z\", \"end_time\": \"2021-01-29T03:36:04.265787Z\", \"created_time\": \"2021-01-29T03:34:56.351397Z\", \"created_time_dt\": \"2021-01-29T03:34:56.351397Z\", \"duration\": \"0:01:07\", \"iteration\": \"11\", \"goal\": \"accuracy_max\", \"run_name\": \"MinMaxScaler, LightGBM\", \"run_properties\": \"copy=True, feature_range=(0, 1\", \"primary_metric\": 0.73760488, \"best_metric\": 0.74828375}, {\"run_id\": \"AutoML_cb5da120-71fd-466e-8aaf-064b1cad998f_12\", \"run_number\": 18, \"metric\": null, \"status\": \"Completed\", \"run_type\": \"azureml.scriptrun\", \"training_percent\": \"100\", \"start_time\": \"2021-01-29T03:36:18.481782Z\", \"end_time\": \"2021-01-29T03:37:09.812278Z\", \"created_time\": \"2021-01-29T03:36:06.169891Z\", \"created_time_dt\": \"2021-01-29T03:36:06.169891Z\", \"duration\": \"0:01:03\", \"iteration\": \"12\", \"goal\": \"accuracy_max\", \"run_name\": \"StandardScalerWrapper, LightGBM\", \"run_properties\": \"<azureml.automl.runtime.shared.model_wrappers.StandardScalerWrapper object at 0x7fb8e17b2630\", \"primary_metric\": 0.74141876, \"best_metric\": 0.74828375}, {\"run_id\": \"AutoML_cb5da120-71fd-466e-8aaf-064b1cad998f_13\", \"run_number\": 19, \"metric\": null, \"status\": \"Completed\", \"run_type\": \"azureml.scriptrun\", \"training_percent\": \"100\", \"start_time\": \"2021-01-29T03:37:24.762446Z\", \"end_time\": \"2021-01-29T03:38:13.488078Z\", \"created_time\": \"2021-01-29T03:37:12.59557Z\", \"created_time_dt\": \"2021-01-29T03:37:12.59557Z\", \"duration\": \"0:01:00\", \"iteration\": \"13\", \"goal\": \"accuracy_max\", \"run_name\": \"SparseNormalizer, LightGBM\", \"run_properties\": \"<azureml.automl.runtime.shared.model_wrappers.SparseNormalizer object at 0x7f5859d9f940\", \"primary_metric\": 0.74065599, \"best_metric\": 0.74828375}, {\"run_id\": \"AutoML_cb5da120-71fd-466e-8aaf-064b1cad998f_14\", \"run_number\": 20, \"metric\": null, \"status\": \"Completed\", \"run_type\": \"azureml.scriptrun\", \"training_percent\": \"100\", \"start_time\": \"2021-01-29T03:38:28.197424Z\", \"end_time\": \"2021-01-29T03:39:20.395672Z\", \"created_time\": \"2021-01-29T03:38:15.384511Z\", \"created_time_dt\": \"2021-01-29T03:38:15.384511Z\", \"duration\": \"0:01:05\", \"iteration\": \"14\", \"goal\": \"accuracy_max\", \"run_name\": \"RobustScaler, ExtremeRandomTrees\", \"run_properties\": \"copy=True, quantile_range=[25, 75], with_centering=True,\\n             with_scaling=False\", \"primary_metric\": 0.74523265, \"best_metric\": 0.74828375}, {\"run_id\": \"AutoML_cb5da120-71fd-466e-8aaf-064b1cad998f_15\", \"run_number\": 21, \"metric\": null, \"status\": \"Completed\", \"run_type\": \"azureml.scriptrun\", \"training_percent\": \"100\", \"start_time\": \"2021-01-29T03:39:38.924242Z\", \"end_time\": \"2021-01-29T03:40:26.164526Z\", \"created_time\": \"2021-01-29T03:39:23.727862Z\", \"created_time_dt\": \"2021-01-29T03:39:23.727862Z\", \"duration\": \"0:01:02\", \"iteration\": \"15\", \"goal\": \"accuracy_max\", \"run_name\": \"RobustScaler, LightGBM\", \"run_properties\": \"copy=True, quantile_range=[10, 90], with_centering=False,\\n             with_scaling=False\", \"primary_metric\": 0.73073989, \"best_metric\": 0.74828375}, {\"run_id\": \"AutoML_cb5da120-71fd-466e-8aaf-064b1cad998f_16\", \"run_number\": 22, \"metric\": null, \"status\": \"Completed\", \"run_type\": \"azureml.scriptrun\", \"training_percent\": \"100\", \"start_time\": \"2021-01-29T03:40:40.13599Z\", \"end_time\": \"2021-01-29T03:41:31.514821Z\", \"created_time\": \"2021-01-29T03:40:29.013769Z\", \"created_time_dt\": \"2021-01-29T03:40:29.013769Z\", \"duration\": \"0:01:02\", \"iteration\": \"16\", \"goal\": \"accuracy_max\", \"run_name\": \"RobustScaler, ExtremeRandomTrees\", \"run_properties\": \"copy=True, quantile_range=[10, 90], with_centering=True,\\n             with_scaling=False\", \"primary_metric\": 0.73913043, \"best_metric\": 0.74828375}, {\"run_id\": \"AutoML_cb5da120-71fd-466e-8aaf-064b1cad998f_17\", \"run_number\": 23, \"metric\": null, \"status\": \"Completed\", \"run_type\": \"azureml.scriptrun\", \"training_percent\": \"100\", \"start_time\": \"2021-01-29T03:41:46.989477Z\", \"end_time\": \"2021-01-29T03:42:42.220259Z\", \"created_time\": \"2021-01-29T03:41:33.73304Z\", \"created_time_dt\": \"2021-01-29T03:41:33.73304Z\", \"duration\": \"0:01:08\", \"iteration\": \"17\", \"goal\": \"accuracy_max\", \"run_name\": \"MaxAbsScaler, ExtremeRandomTrees\", \"run_properties\": \"copy=True\", \"primary_metric\": 0.73684211, \"best_metric\": 0.74828375}, {\"run_id\": \"AutoML_cb5da120-71fd-466e-8aaf-064b1cad998f_18\", \"run_number\": 24, \"metric\": null, \"status\": \"Completed\", \"run_type\": \"azureml.scriptrun\", \"training_percent\": \"100\", \"start_time\": \"2021-01-29T03:42:57.718078Z\", \"end_time\": \"2021-01-29T03:43:47.731445Z\", \"created_time\": \"2021-01-29T03:42:45.407374Z\", \"created_time_dt\": \"2021-01-29T03:42:45.407374Z\", \"duration\": \"0:01:02\", \"iteration\": \"18\", \"goal\": \"accuracy_max\", \"run_name\": \"SparseNormalizer, XGBoostClassifier\", \"run_properties\": \"<azureml.automl.runtime.shared.model_wrappers.SparseNormalizer object at 0x7efe9e2a7c18\", \"primary_metric\": 0.72616323, \"best_metric\": 0.74828375}, {\"run_id\": \"AutoML_cb5da120-71fd-466e-8aaf-064b1cad998f_19\", \"run_number\": 25, \"metric\": null, \"status\": \"Completed\", \"run_type\": \"azureml.scriptrun\", \"training_percent\": \"100\", \"start_time\": \"2021-01-29T03:44:01.056888Z\", \"end_time\": \"2021-01-29T03:44:58.334241Z\", \"created_time\": \"2021-01-29T03:43:50.114171Z\", \"created_time_dt\": \"2021-01-29T03:43:50.114171Z\", \"duration\": \"0:01:08\", \"iteration\": \"19\", \"goal\": \"accuracy_max\", \"run_name\": \"MaxAbsScaler, ExtremeRandomTrees\", \"run_properties\": \"copy=True\", \"primary_metric\": 0.74218154, \"best_metric\": 0.74828375}, {\"run_id\": \"AutoML_cb5da120-71fd-466e-8aaf-064b1cad998f_20\", \"run_number\": 26, \"metric\": null, \"status\": \"Completed\", \"run_type\": \"azureml.scriptrun\", \"training_percent\": \"100\", \"start_time\": \"2021-01-29T03:45:12.470489Z\", \"end_time\": \"2021-01-29T03:46:03.164769Z\", \"created_time\": \"2021-01-29T03:45:00.852018Z\", \"created_time_dt\": \"2021-01-29T03:45:00.852018Z\", \"duration\": \"0:01:02\", \"iteration\": \"20\", \"goal\": \"accuracy_max\", \"run_name\": \"StandardScalerWrapper, LightGBM\", \"run_properties\": \"<azureml.automl.runtime.shared.model_wrappers.StandardScalerWrapper object at 0x7f09ae680c50\", \"primary_metric\": 0.73989321, \"best_metric\": 0.74828375}, {\"run_id\": \"AutoML_cb5da120-71fd-466e-8aaf-064b1cad998f_21\", \"run_number\": 27, \"metric\": null, \"status\": \"Completed\", \"run_type\": \"azureml.scriptrun\", \"training_percent\": \"100\", \"start_time\": \"2021-01-29T03:46:17.233857Z\", \"end_time\": \"2021-01-29T03:46:59.14134Z\", \"created_time\": \"2021-01-29T03:46:05.320232Z\", \"created_time_dt\": \"2021-01-29T03:46:05.320232Z\", \"duration\": \"0:00:53\", \"iteration\": \"21\", \"goal\": \"accuracy_max\", \"run_name\": \"StandardScalerWrapper, RandomForest\", \"run_properties\": \"<azureml.automl.runtime.shared.model_wrappers.StandardScalerWrapper object at 0x7ff0d0eb2470\", \"primary_metric\": 0.73989321, \"best_metric\": 0.74828375}, {\"run_id\": \"AutoML_cb5da120-71fd-466e-8aaf-064b1cad998f_22\", \"run_number\": 28, \"metric\": null, \"status\": \"Completed\", \"run_type\": \"azureml.scriptrun\", \"training_percent\": \"100\", \"start_time\": \"2021-01-29T03:47:13.705018Z\", \"end_time\": \"2021-01-29T03:48:04.192631Z\", \"created_time\": \"2021-01-29T03:47:01.551138Z\", \"created_time_dt\": \"2021-01-29T03:47:01.551138Z\", \"duration\": \"0:01:02\", \"iteration\": \"22\", \"goal\": \"accuracy_max\", \"run_name\": \"SparseNormalizer, XGBoostClassifier\", \"run_properties\": \"<azureml.automl.runtime.shared.model_wrappers.SparseNormalizer object at 0x7f756a2866a0\", \"primary_metric\": 0.73150267, \"best_metric\": 0.74828375}, {\"run_id\": \"AutoML_cb5da120-71fd-466e-8aaf-064b1cad998f_23\", \"run_number\": 29, \"metric\": null, \"status\": \"Completed\", \"run_type\": \"azureml.scriptrun\", \"training_percent\": \"100\", \"start_time\": \"2021-01-29T03:48:19.20558Z\", \"end_time\": \"2021-01-29T03:49:16.846933Z\", \"created_time\": \"2021-01-29T03:48:06.94301Z\", \"created_time_dt\": \"2021-01-29T03:48:06.94301Z\", \"duration\": \"0:01:09\", \"iteration\": \"23\", \"goal\": \"accuracy_max\", \"run_name\": \"RobustScaler, LightGBM\", \"run_properties\": \"copy=True, quantile_range=[10, 90], with_centering=True,\\n             with_scaling=False\", \"primary_metric\": 0.73836766, \"best_metric\": 0.74828375}, {\"run_id\": \"AutoML_cb5da120-71fd-466e-8aaf-064b1cad998f_24\", \"run_number\": 30, \"metric\": null, \"status\": \"Completed\", \"run_type\": \"azureml.scriptrun\", \"training_percent\": \"100\", \"start_time\": \"2021-01-29T03:49:30.174361Z\", \"end_time\": \"2021-01-29T03:50:17.702496Z\", \"created_time\": \"2021-01-29T03:49:18.879641Z\", \"created_time_dt\": \"2021-01-29T03:49:18.879641Z\", \"duration\": \"0:00:58\", \"iteration\": \"24\", \"goal\": \"accuracy_max\", \"run_name\": \"SparseNormalizer, XGBoostClassifier\", \"run_properties\": \"<azureml.automl.runtime.shared.model_wrappers.SparseNormalizer object at 0x7f01e18bddd8\", \"primary_metric\": 0.73760488, \"best_metric\": 0.74828375}, {\"run_id\": \"AutoML_cb5da120-71fd-466e-8aaf-064b1cad998f_25\", \"run_number\": 31, \"metric\": null, \"status\": \"Completed\", \"run_type\": \"azureml.scriptrun\", \"training_percent\": \"100\", \"start_time\": \"2021-01-29T03:50:32.368273Z\", \"end_time\": \"2021-01-29T03:51:21.011296Z\", \"created_time\": \"2021-01-29T03:50:20.500322Z\", \"created_time_dt\": \"2021-01-29T03:50:20.500322Z\", \"duration\": \"0:01:00\", \"iteration\": \"25\", \"goal\": \"accuracy_max\", \"run_name\": \"RobustScaler, RandomForest\", \"run_properties\": \"copy=True, quantile_range=[25, 75], with_centering=False,\\n             with_scaling=False\", \"primary_metric\": 0.53546911, \"best_metric\": 0.74828375}, {\"run_id\": \"AutoML_cb5da120-71fd-466e-8aaf-064b1cad998f_26\", \"run_number\": 32, \"metric\": null, \"status\": \"Completed\", \"run_type\": \"azureml.scriptrun\", \"training_percent\": \"100\", \"start_time\": \"2021-01-29T03:51:35.500764Z\", \"end_time\": \"2021-01-29T03:52:30.356165Z\", \"created_time\": \"2021-01-29T03:51:22.86724Z\", \"created_time_dt\": \"2021-01-29T03:51:22.86724Z\", \"duration\": \"0:01:07\", \"iteration\": \"26\", \"goal\": \"accuracy_max\", \"run_name\": \"MaxAbsScaler, LightGBM\", \"run_properties\": \"copy=True\", \"primary_metric\": 0.7467582, \"best_metric\": 0.74828375}, {\"run_id\": \"AutoML_cb5da120-71fd-466e-8aaf-064b1cad998f_27\", \"run_number\": 33, \"metric\": null, \"status\": \"Completed\", \"run_type\": \"azureml.scriptrun\", \"training_percent\": \"100\", \"start_time\": \"2021-01-29T03:52:45.527098Z\", \"end_time\": \"2021-01-29T03:53:40.085541Z\", \"created_time\": \"2021-01-29T03:52:32.577841Z\", \"created_time_dt\": \"2021-01-29T03:52:32.577841Z\", \"duration\": \"0:01:07\", \"iteration\": \"27\", \"goal\": \"accuracy_max\", \"run_name\": \"SparseNormalizer, XGBoostClassifier\", \"run_properties\": \"<azureml.automl.runtime.shared.model_wrappers.SparseNormalizer object at 0x7f107fc32dd8\", \"primary_metric\": 0.73607933, \"best_metric\": 0.74828375}, {\"run_id\": \"AutoML_cb5da120-71fd-466e-8aaf-064b1cad998f_28\", \"run_number\": 34, \"metric\": null, \"status\": \"Completed\", \"run_type\": \"azureml.scriptrun\", \"training_percent\": \"100\", \"start_time\": \"2021-01-29T03:53:54.146844Z\", \"end_time\": \"2021-01-29T03:54:56.833733Z\", \"created_time\": \"2021-01-29T03:53:40.877348Z\", \"created_time_dt\": \"2021-01-29T03:53:40.877348Z\", \"duration\": \"0:01:15\", \"iteration\": \"28\", \"goal\": \"accuracy_max\", \"run_name\": \"VotingEnsemble\", \"run_properties\": \"classification_labels=None,\\n                              estimators=[('3',\\n                                           Pipeline(memory=None,\\n                                                    steps=[('minmaxscaler',\\n                                                            MinMaxScaler(copy=True,\\n                                                                         feature_range=(0,\\n                                                                                        1\", \"primary_metric\": 0.75133486, \"best_metric\": 0.75133486}], \"children_metrics\": {\"categories\": [0], \"series\": {\"AUC_macro\": [{\"categories\": [\"0\", \"1\", \"2\", \"3\", \"4\", \"5\", \"6\", \"7\", \"8\", \"9\", \"10\", \"11\", \"12\", \"13\", \"14\", \"15\", \"16\", \"17\", \"18\", \"19\", \"20\", \"21\", \"22\", \"23\", \"24\", \"25\", \"26\", \"27\", \"28\"], \"mode\": \"markers\", \"name\": \"AUC_macro\", \"stepped\": false, \"type\": \"scatter\", \"data\": [0.8203373893029066, 0.8303007124846207, 0.8290411163974383, 0.829122984295398, 0.8318620502528549, 0.8081063253477048, 0.8308492274009516, 0.8195245580303052, 0.8361028073671752, 0.8358852726668817, 0.8343028831534578, 0.8304960258983247, 0.8342151675485008, 0.82200281625569, 0.8334140316898937, 0.8271464593303675, 0.8346081334587081, 0.8318807629152456, 0.804064390271287, 0.8325193325193325, 0.8317731651064983, 0.817960881179272, 0.8165925177419431, 0.8325310279333267, 0.8226027909935956, 0.5, 0.8338210320968942, 0.8151995939352261, 0.8347788865030243]}, {\"categories\": [\"0\", \"1\", \"2\", \"3\", \"4\", \"5\", \"6\", \"7\", \"8\", \"9\", \"10\", \"11\", \"12\", \"13\", \"14\", \"15\", \"16\", \"17\", \"18\", \"19\", \"20\", \"21\", \"22\", \"23\", \"24\", \"25\", \"26\", \"27\", \"28\"], \"mode\": \"lines\", \"name\": \"AUC_macro_max\", \"stepped\": true, \"type\": \"scatter\", \"data\": [0.8203373893029066, 0.8303007124846207, 0.8303007124846207, 0.8303007124846207, 0.8318620502528549, 0.8318620502528549, 0.8318620502528549, 0.8318620502528549, 0.8361028073671752, 0.8361028073671752, 0.8361028073671752, 0.8361028073671752, 0.8361028073671752, 0.8361028073671752, 0.8361028073671752, 0.8361028073671752, 0.8361028073671752, 0.8361028073671752, 0.8361028073671752, 0.8361028073671752, 0.8361028073671752, 0.8361028073671752, 0.8361028073671752, 0.8361028073671752, 0.8361028073671752, 0.8361028073671752, 0.8361028073671752, 0.8361028073671752, 0.8361028073671752]}], \"recall_score_micro\": [{\"categories\": [\"0\", \"1\", \"2\", \"3\", \"4\", \"5\", \"6\", \"7\", \"8\", \"9\", \"10\", \"11\", \"12\", \"13\", \"14\", \"15\", \"16\", \"17\", \"18\", \"19\", \"20\", \"21\", \"22\", \"23\", \"24\", \"25\", \"26\", \"27\", \"28\"], \"mode\": \"markers\", \"name\": \"recall_score_micro\", \"stepped\": false, \"type\": \"scatter\", \"data\": [0.7345537757437071, 0.7406559877955758, 0.7376048817696415, 0.7482837528604119, 0.738367658276125, 0.7353165522501907, 0.7398932112890922, 0.7421815408085431, 0.7429443173150267, 0.7414187643020596, 0.7459954233409611, 0.7376048817696415, 0.7414187643020596, 0.7406559877955758, 0.7452326468344775, 0.7307398932112891, 0.7391304347826086, 0.7368421052631579, 0.7261632341723875, 0.7421815408085431, 0.7398932112890922, 0.7398932112890922, 0.7315026697177727, 0.738367658276125, 0.7376048817696415, 0.5354691075514875, 0.7467581998474447, 0.7360793287566743, 0.7513348588863463]}, {\"categories\": [\"0\", \"1\", \"2\", \"3\", \"4\", \"5\", \"6\", \"7\", \"8\", \"9\", \"10\", \"11\", \"12\", \"13\", \"14\", \"15\", \"16\", \"17\", \"18\", \"19\", \"20\", \"21\", \"22\", \"23\", \"24\", \"25\", \"26\", \"27\", \"28\"], \"mode\": \"lines\", \"name\": \"recall_score_micro_max\", \"stepped\": true, \"type\": \"scatter\", \"data\": [0.7345537757437071, 0.7406559877955758, 0.7406559877955758, 0.7482837528604119, 0.7482837528604119, 0.7482837528604119, 0.7482837528604119, 0.7482837528604119, 0.7482837528604119, 0.7482837528604119, 0.7482837528604119, 0.7482837528604119, 0.7482837528604119, 0.7482837528604119, 0.7482837528604119, 0.7482837528604119, 0.7482837528604119, 0.7482837528604119, 0.7482837528604119, 0.7482837528604119, 0.7482837528604119, 0.7482837528604119, 0.7482837528604119, 0.7482837528604119, 0.7482837528604119, 0.7482837528604119, 0.7482837528604119, 0.7482837528604119, 0.7513348588863463]}], \"matthews_correlation\": [{\"categories\": [\"0\", \"1\", \"2\", \"3\", \"4\", \"5\", \"6\", \"7\", \"8\", \"9\", \"10\", \"11\", \"12\", \"13\", \"14\", \"15\", \"16\", \"17\", \"18\", \"19\", \"20\", \"21\", \"22\", \"23\", \"24\", \"25\", \"26\", \"27\", \"28\"], \"mode\": \"markers\", \"name\": \"matthews_correlation\", \"stepped\": false, \"type\": \"scatter\", \"data\": [0.46563290159609955, 0.47857743980216527, 0.4722311139929003, 0.4932173643711012, 0.4760344462140793, 0.4672102683525321, 0.4769897363238458, 0.4816446590027746, 0.4824957731695399, 0.4794225068904604, 0.48824969915903, 0.4716284374602221, 0.4788344716759748, 0.47857743980216527, 0.48721983141462205, 0.4588155250098965, 0.4754027878968631, 0.4696984267364147, 0.44916300941032994, 0.48061785961532494, 0.47597469230394623, 0.48083671478419077, 0.45995643351795507, 0.4731312674432025, 0.47279380099986457, 0.0, 0.4902917556149999, 0.4694890039717626, 0.49966898401210547]}, {\"categories\": [\"0\", \"1\", \"2\", \"3\", \"4\", \"5\", \"6\", \"7\", \"8\", \"9\", \"10\", \"11\", \"12\", \"13\", \"14\", \"15\", \"16\", \"17\", \"18\", \"19\", \"20\", \"21\", \"22\", \"23\", \"24\", \"25\", \"26\", \"27\", \"28\"], \"mode\": \"lines\", \"name\": \"matthews_correlation_max\", \"stepped\": true, \"type\": \"scatter\", \"data\": [0.46563290159609955, 0.47857743980216527, 0.47857743980216527, 0.4932173643711012, 0.4932173643711012, 0.4932173643711012, 0.4932173643711012, 0.4932173643711012, 0.4932173643711012, 0.4932173643711012, 0.4932173643711012, 0.4932173643711012, 0.4932173643711012, 0.4932173643711012, 0.4932173643711012, 0.4932173643711012, 0.4932173643711012, 0.4932173643711012, 0.4932173643711012, 0.4932173643711012, 0.4932173643711012, 0.4932173643711012, 0.4932173643711012, 0.4932173643711012, 0.4932173643711012, 0.4932173643711012, 0.4932173643711012, 0.4932173643711012, 0.49966898401210547]}], \"average_precision_score_micro\": [{\"categories\": [\"0\", \"1\", \"2\", \"3\", \"4\", \"5\", \"6\", \"7\", \"8\", \"9\", \"10\", \"11\", \"12\", \"13\", \"14\", \"15\", \"16\", \"17\", \"18\", \"19\", \"20\", \"21\", \"22\", \"23\", \"24\", \"25\", \"26\", \"27\", \"28\"], \"mode\": \"markers\", \"name\": \"average_precision_score_micro\", \"stepped\": false, \"type\": \"scatter\", \"data\": [0.8191512786941775, 0.83132435797146, 0.8319737577937725, 0.8308992527423453, 0.832998968840972, 0.8002623806982361, 0.8339777332961061, 0.8069934507494748, 0.8395622303689118, 0.8393311772250907, 0.8372004955275056, 0.8342170839935219, 0.8340440239810091, 0.8134268599779606, 0.8357763914812223, 0.8304858914484301, 0.8376027975546044, 0.8338256922734208, 0.7954501204158149, 0.8341320251657496, 0.835523301487397, 0.8144756237864057, 0.8067450059905261, 0.8353843252271089, 0.8145249468848699, 0.5189926113662426, 0.8372117970896024, 0.8058447975502654, 0.8382474867687542]}, {\"categories\": [\"0\", \"1\", \"2\", \"3\", \"4\", \"5\", \"6\", \"7\", \"8\", \"9\", \"10\", \"11\", \"12\", \"13\", \"14\", \"15\", \"16\", \"17\", \"18\", \"19\", \"20\", \"21\", \"22\", \"23\", \"24\", \"25\", \"26\", \"27\", \"28\"], \"mode\": \"lines\", \"name\": \"average_precision_score_micro_max\", \"stepped\": true, \"type\": \"scatter\", \"data\": [0.8191512786941775, 0.83132435797146, 0.8319737577937725, 0.8319737577937725, 0.832998968840972, 0.832998968840972, 0.8339777332961061, 0.8339777332961061, 0.8395622303689118, 0.8395622303689118, 0.8395622303689118, 0.8395622303689118, 0.8395622303689118, 0.8395622303689118, 0.8395622303689118, 0.8395622303689118, 0.8395622303689118, 0.8395622303689118, 0.8395622303689118, 0.8395622303689118, 0.8395622303689118, 0.8395622303689118, 0.8395622303689118, 0.8395622303689118, 0.8395622303689118, 0.8395622303689118, 0.8395622303689118, 0.8395622303689118, 0.8395622303689118]}], \"AUC_weighted\": [{\"categories\": [\"0\", \"1\", \"2\", \"3\", \"4\", \"5\", \"6\", \"7\", \"8\", \"9\", \"10\", \"11\", \"12\", \"13\", \"14\", \"15\", \"16\", \"17\", \"18\", \"19\", \"20\", \"21\", \"22\", \"23\", \"24\", \"25\", \"26\", \"27\", \"28\"], \"mode\": \"markers\", \"name\": \"AUC_weighted\", \"stepped\": false, \"type\": \"scatter\", \"data\": [0.8203373893029067, 0.8303007124846206, 0.8290411163974383, 0.829122984295398, 0.831862050252855, 0.8081063253477048, 0.8308492274009516, 0.8195245580303051, 0.8361028073671751, 0.8358852726668818, 0.834302883153458, 0.8304960258983247, 0.8342151675485009, 0.8220028162556898, 0.8334140316898938, 0.8271464593303673, 0.834608133458708, 0.8318807629152456, 0.8040643902712868, 0.8325193325193325, 0.8317731651064982, 0.8179608811792721, 0.8165925177419432, 0.8325310279333267, 0.8226027909935955, 0.5, 0.8338210320968942, 0.8151995939352261, 0.8347788865030245]}, {\"categories\": [\"0\", \"1\", \"2\", \"3\", \"4\", \"5\", \"6\", \"7\", \"8\", \"9\", \"10\", \"11\", \"12\", \"13\", \"14\", \"15\", \"16\", \"17\", \"18\", \"19\", \"20\", \"21\", \"22\", \"23\", \"24\", \"25\", \"26\", \"27\", \"28\"], \"mode\": \"lines\", \"name\": \"AUC_weighted_max\", \"stepped\": true, \"type\": \"scatter\", \"data\": [0.8203373893029067, 0.8303007124846206, 0.8303007124846206, 0.8303007124846206, 0.831862050252855, 0.831862050252855, 0.831862050252855, 0.831862050252855, 0.8361028073671751, 0.8361028073671751, 0.8361028073671751, 0.8361028073671751, 0.8361028073671751, 0.8361028073671751, 0.8361028073671751, 0.8361028073671751, 0.8361028073671751, 0.8361028073671751, 0.8361028073671751, 0.8361028073671751, 0.8361028073671751, 0.8361028073671751, 0.8361028073671751, 0.8361028073671751, 0.8361028073671751, 0.8361028073671751, 0.8361028073671751, 0.8361028073671751, 0.8361028073671751]}], \"AUC_micro\": [{\"categories\": [\"0\", \"1\", \"2\", \"3\", \"4\", \"5\", \"6\", \"7\", \"8\", \"9\", \"10\", \"11\", \"12\", \"13\", \"14\", \"15\", \"16\", \"17\", \"18\", \"19\", \"20\", \"21\", \"22\", \"23\", \"24\", \"25\", \"26\", \"27\", \"28\"], \"mode\": \"markers\", \"name\": \"AUC_micro\", \"stepped\": false, \"type\": \"scatter\", \"data\": [0.8214044047870481, 0.8313589000192585, 0.830425066081115, 0.8299863677699871, 0.8313938096991891, 0.8092762001511589, 0.8315741763788306, 0.8212944392952667, 0.8369630673041174, 0.8367373180405662, 0.8353182395513874, 0.8318959272621909, 0.8348103037083972, 0.8236886615105069, 0.8343576415252971, 0.8282251744174884, 0.8355672619348924, 0.8322758609454355, 0.804908999191841, 0.8333062783313872, 0.8328774710962396, 0.8179454373339244, 0.8180705303536757, 0.8335954468468123, 0.8238568098021726, 0.5354691075514875, 0.8352327108355573, 0.816097551609598, 0.836014105838004]}, {\"categories\": [\"0\", \"1\", \"2\", \"3\", \"4\", \"5\", \"6\", \"7\", \"8\", \"9\", \"10\", \"11\", \"12\", \"13\", \"14\", \"15\", \"16\", \"17\", \"18\", \"19\", \"20\", \"21\", \"22\", \"23\", \"24\", \"25\", \"26\", \"27\", \"28\"], \"mode\": \"lines\", \"name\": \"AUC_micro_max\", \"stepped\": true, \"type\": \"scatter\", \"data\": [0.8214044047870481, 0.8313589000192585, 0.8313589000192585, 0.8313589000192585, 0.8313938096991891, 0.8313938096991891, 0.8315741763788306, 0.8315741763788306, 0.8369630673041174, 0.8369630673041174, 0.8369630673041174, 0.8369630673041174, 0.8369630673041174, 0.8369630673041174, 0.8369630673041174, 0.8369630673041174, 0.8369630673041174, 0.8369630673041174, 0.8369630673041174, 0.8369630673041174, 0.8369630673041174, 0.8369630673041174, 0.8369630673041174, 0.8369630673041174, 0.8369630673041174, 0.8369630673041174, 0.8369630673041174, 0.8369630673041174, 0.8369630673041174]}], \"recall_score_macro\": [{\"categories\": [\"0\", \"1\", \"2\", \"3\", \"4\", \"5\", \"6\", \"7\", \"8\", \"9\", \"10\", \"11\", \"12\", \"13\", \"14\", \"15\", \"16\", \"17\", \"18\", \"19\", \"20\", \"21\", \"22\", \"23\", \"24\", \"25\", \"26\", \"27\", \"28\"], \"mode\": \"markers\", \"name\": \"recall_score_macro\", \"stepped\": false, \"type\": \"scatter\", \"data\": [0.7323410944100599, 0.7392355409596789, 0.7359514687100894, 0.746031746031746, 0.7385127643748333, 0.7331621124724573, 0.7384145228972816, 0.740768809734327, 0.7407196889955511, 0.739186420220903, 0.7430248550938205, 0.7351900972590628, 0.7370110732179698, 0.7392355409596789, 0.7431827431827431, 0.7294324449496863, 0.7375935048348842, 0.7317586627931456, 0.7243975692251554, 0.7393548341824204, 0.7370005473453749, 0.7410249393008014, 0.729818393611497, 0.7359023479713135, 0.7364953054608228, 0.5, 0.7447160119573912, 0.7347445019858814, 0.7495333529816288]}, {\"categories\": [\"0\", \"1\", \"2\", \"3\", \"4\", \"5\", \"6\", \"7\", \"8\", \"9\", \"10\", \"11\", \"12\", \"13\", \"14\", \"15\", \"16\", \"17\", \"18\", \"19\", \"20\", \"21\", \"22\", \"23\", \"24\", \"25\", \"26\", \"27\", \"28\"], \"mode\": \"lines\", \"name\": \"recall_score_macro_max\", \"stepped\": true, \"type\": \"scatter\", \"data\": [0.7323410944100599, 0.7392355409596789, 0.7392355409596789, 0.746031746031746, 0.746031746031746, 0.746031746031746, 0.746031746031746, 0.746031746031746, 0.746031746031746, 0.746031746031746, 0.746031746031746, 0.746031746031746, 0.746031746031746, 0.746031746031746, 0.746031746031746, 0.746031746031746, 0.746031746031746, 0.746031746031746, 0.746031746031746, 0.746031746031746, 0.746031746031746, 0.746031746031746, 0.746031746031746, 0.746031746031746, 0.746031746031746, 0.746031746031746, 0.746031746031746, 0.746031746031746, 0.7495333529816288]}], \"f1_score_macro\": [{\"categories\": [\"0\", \"1\", \"2\", \"3\", \"4\", \"5\", \"6\", \"7\", \"8\", \"9\", \"10\", \"11\", \"12\", \"13\", \"14\", \"15\", \"16\", \"17\", \"18\", \"19\", \"20\", \"21\", \"22\", \"23\", \"24\", \"25\", \"26\", \"27\", \"28\"], \"mode\": \"markers\", \"name\": \"f1_score_macro\", \"stepped\": false, \"type\": \"scatter\", \"data\": [0.7327060532914627, 0.7392869843527738, 0.7360999929780213, 0.7464662447257384, 0.7377028812417425, 0.7335080199430951, 0.7384909666833382, 0.7408205903271693, 0.7411217839227339, 0.7395854146878541, 0.7437025382409319, 0.735640862111009, 0.7379887408539334, 0.7392869843527738, 0.7435241718952809, 0.7294073346871262, 0.7376944642054815, 0.7327615087236046, 0.724560650919606, 0.7399664335007745, 0.73762102830259, 0.739544061845111, 0.7299627835123939, 0.7363742690058479, 0.7363899929857377, 0.34873323397913564, 0.7450599552971056, 0.7347445019858811, 0.7497904118699477]}, {\"categories\": [\"0\", \"1\", \"2\", \"3\", \"4\", \"5\", \"6\", \"7\", \"8\", \"9\", \"10\", \"11\", \"12\", \"13\", \"14\", \"15\", \"16\", \"17\", \"18\", \"19\", \"20\", \"21\", \"22\", \"23\", \"24\", \"25\", \"26\", \"27\", \"28\"], \"mode\": \"lines\", \"name\": \"f1_score_macro_max\", \"stepped\": true, \"type\": \"scatter\", \"data\": [0.7327060532914627, 0.7392869843527738, 0.7392869843527738, 0.7464662447257384, 0.7464662447257384, 0.7464662447257384, 0.7464662447257384, 0.7464662447257384, 0.7464662447257384, 0.7464662447257384, 0.7464662447257384, 0.7464662447257384, 0.7464662447257384, 0.7464662447257384, 0.7464662447257384, 0.7464662447257384, 0.7464662447257384, 0.7464662447257384, 0.7464662447257384, 0.7464662447257384, 0.7464662447257384, 0.7464662447257384, 0.7464662447257384, 0.7464662447257384, 0.7464662447257384, 0.7464662447257384, 0.7464662447257384, 0.7464662447257384, 0.7497904118699477]}], \"norm_macro_recall\": [{\"categories\": [\"0\", \"1\", \"2\", \"3\", \"4\", \"5\", \"6\", \"7\", \"8\", \"9\", \"10\", \"11\", \"12\", \"13\", \"14\", \"15\", \"16\", \"17\", \"18\", \"19\", \"20\", \"21\", \"22\", \"23\", \"24\", \"25\", \"26\", \"27\", \"28\"], \"mode\": \"markers\", \"name\": \"norm_macro_recall\", \"stepped\": false, \"type\": \"scatter\", \"data\": [0.4646821888201198, 0.47847108191935783, 0.47190293742017886, 0.4920634920634921, 0.4770255287496665, 0.46632422494491466, 0.4768290457945632, 0.48153761946865403, 0.48143937799110215, 0.47837284044180595, 0.4860497101876411, 0.4703801945181256, 0.47402214643593954, 0.47847108191935783, 0.48636548636548627, 0.4588648898993726, 0.47518700966976835, 0.4635173255862912, 0.4487951384503108, 0.47870966836484086, 0.4740010946907498, 0.48204987860160275, 0.45963678722299406, 0.471804695942627, 0.4729906109216455, 0.0, 0.48943202391478247, 0.46948900397176274, 0.49906670596325764]}, {\"categories\": [\"0\", \"1\", \"2\", \"3\", \"4\", \"5\", \"6\", \"7\", \"8\", \"9\", \"10\", \"11\", \"12\", \"13\", \"14\", \"15\", \"16\", \"17\", \"18\", \"19\", \"20\", \"21\", \"22\", \"23\", \"24\", \"25\", \"26\", \"27\", \"28\"], \"mode\": \"lines\", \"name\": \"norm_macro_recall_max\", \"stepped\": true, \"type\": \"scatter\", \"data\": [0.4646821888201198, 0.47847108191935783, 0.47847108191935783, 0.4920634920634921, 0.4920634920634921, 0.4920634920634921, 0.4920634920634921, 0.4920634920634921, 0.4920634920634921, 0.4920634920634921, 0.4920634920634921, 0.4920634920634921, 0.4920634920634921, 0.4920634920634921, 0.4920634920634921, 0.4920634920634921, 0.4920634920634921, 0.4920634920634921, 0.4920634920634921, 0.4920634920634921, 0.4920634920634921, 0.4920634920634921, 0.4920634920634921, 0.4920634920634921, 0.4920634920634921, 0.4920634920634921, 0.4920634920634921, 0.4920634920634921, 0.49906670596325764]}], \"average_precision_score_macro\": [{\"categories\": [\"0\", \"1\", \"2\", \"3\", \"4\", \"5\", \"6\", \"7\", \"8\", \"9\", \"10\", \"11\", \"12\", \"13\", \"14\", \"15\", \"16\", \"17\", \"18\", \"19\", \"20\", \"21\", \"22\", \"23\", \"24\", \"25\", \"26\", \"27\", \"28\"], \"mode\": \"markers\", \"name\": \"average_precision_score_macro\", \"stepped\": false, \"type\": \"scatter\", \"data\": [0.8169963296558702, 0.8298467775612909, 0.8294915656097912, 0.8278109896102053, 0.8327567421613056, 0.796109935003659, 0.8318021222964984, 0.7993716819893, 0.838073214721154, 0.8378714251817556, 0.8358608252974908, 0.8321487798130965, 0.8331680916243263, 0.8073369663062263, 0.8349248947103298, 0.8287677026241966, 0.8365125660188111, 0.8333542331817705, 0.7900896610100713, 0.8335725492150163, 0.8337151212591822, 0.8135134427854722, 0.8011320594181444, 0.834302578900108, 0.8090667918244157, 0.5, 0.8351790687824296, 0.8017559232430114, 0.8363431101734542]}, {\"categories\": [\"0\", \"1\", \"2\", \"3\", \"4\", \"5\", \"6\", \"7\", \"8\", \"9\", \"10\", \"11\", \"12\", \"13\", \"14\", \"15\", \"16\", \"17\", \"18\", \"19\", \"20\", \"21\", \"22\", \"23\", \"24\", \"25\", \"26\", \"27\", \"28\"], \"mode\": \"lines\", \"name\": \"average_precision_score_macro_max\", \"stepped\": true, \"type\": \"scatter\", \"data\": [0.8169963296558702, 0.8298467775612909, 0.8298467775612909, 0.8298467775612909, 0.8327567421613056, 0.8327567421613056, 0.8327567421613056, 0.8327567421613056, 0.838073214721154, 0.838073214721154, 0.838073214721154, 0.838073214721154, 0.838073214721154, 0.838073214721154, 0.838073214721154, 0.838073214721154, 0.838073214721154, 0.838073214721154, 0.838073214721154, 0.838073214721154, 0.838073214721154, 0.838073214721154, 0.838073214721154, 0.838073214721154, 0.838073214721154, 0.838073214721154, 0.838073214721154, 0.838073214721154, 0.838073214721154]}], \"precision_score_weighted\": [{\"categories\": [\"0\", \"1\", \"2\", \"3\", \"4\", \"5\", \"6\", \"7\", \"8\", \"9\", \"10\", \"11\", \"12\", \"13\", \"14\", \"15\", \"16\", \"17\", \"18\", \"19\", \"20\", \"21\", \"22\", \"23\", \"24\", \"25\", \"26\", \"27\", \"28\"], \"mode\": \"markers\", \"name\": \"precision_score_weighted\", \"stepped\": false, \"type\": \"scatter\", \"data\": [0.7342309607661456, 0.7406017990478603, 0.7374534392125528, 0.747977674267328, 0.7395375847329562, 0.7350073925909548, 0.7398133342717397, 0.7421276983490235, 0.7426318722678082, 0.7411024502492838, 0.7456891831765343, 0.7372545403128167, 0.7416550591980896, 0.7406017990478603, 0.7449561622841484, 0.7307697132221843, 0.739025792982281, 0.7375224702482536, 0.7259803649663032, 0.741837756341815, 0.7395417706223568, 0.7422904883389715, 0.7313467247274724, 0.7380139641906498, 0.7377278319140746, 0.28672716514198643, 0.7464847483551926, 0.7360793287566743, 0.7511226704901214]}, {\"categories\": [\"0\", \"1\", \"2\", \"3\", \"4\", \"5\", \"6\", \"7\", \"8\", \"9\", \"10\", \"11\", \"12\", \"13\", \"14\", \"15\", \"16\", \"17\", \"18\", \"19\", \"20\", \"21\", \"22\", \"23\", \"24\", \"25\", \"26\", \"27\", \"28\"], \"mode\": \"lines\", \"name\": \"precision_score_weighted_max\", \"stepped\": true, \"type\": \"scatter\", \"data\": [0.7342309607661456, 0.7406017990478603, 0.7406017990478603, 0.747977674267328, 0.747977674267328, 0.747977674267328, 0.747977674267328, 0.747977674267328, 0.747977674267328, 0.747977674267328, 0.747977674267328, 0.747977674267328, 0.747977674267328, 0.747977674267328, 0.747977674267328, 0.747977674267328, 0.747977674267328, 0.747977674267328, 0.747977674267328, 0.747977674267328, 0.747977674267328, 0.747977674267328, 0.747977674267328, 0.747977674267328, 0.747977674267328, 0.747977674267328, 0.747977674267328, 0.747977674267328, 0.7511226704901214]}], \"precision_score_macro\": [{\"categories\": [\"0\", \"1\", \"2\", \"3\", \"4\", \"5\", \"6\", \"7\", \"8\", \"9\", \"10\", \"11\", \"12\", \"13\", \"14\", \"15\", \"16\", \"17\", \"18\", \"19\", \"20\", \"21\", \"22\", \"23\", \"24\", \"25\", \"26\", \"27\", \"28\"], \"mode\": \"markers\", \"name\": \"precision_score_macro\", \"stepped\": false, \"type\": \"scatter\", \"data\": [0.7332927797376073, 0.7393419106634715, 0.7362797593951149, 0.7471869712351946, 0.737522711390636, 0.734048997647324, 0.7385752405027737, 0.740875861165194, 0.7417772431680638, 0.7402372382813969, 0.7452298229298941, 0.7364399964256991, 0.7418478260869565, 0.7393419106634715, 0.7440378385991268, 0.7293830827155585, 0.7378093320534731, 0.7379809770860355, 0.7247655909544584, 0.741266828566713, 0.7389782536912118, 0.7398133020540963, 0.7301381510526463, 0.7372307844299546, 0.7362985364850401, 0.26773455377574373, 0.7455764987559269, 0.7347445019858814, 0.750135994447675]}, {\"categories\": [\"0\", \"1\", \"2\", \"3\", \"4\", \"5\", \"6\", \"7\", \"8\", \"9\", \"10\", \"11\", \"12\", \"13\", \"14\", \"15\", \"16\", \"17\", \"18\", \"19\", \"20\", \"21\", \"22\", \"23\", \"24\", \"25\", \"26\", \"27\", \"28\"], \"mode\": \"lines\", \"name\": \"precision_score_macro_max\", \"stepped\": true, \"type\": \"scatter\", \"data\": [0.7332927797376073, 0.7393419106634715, 0.7393419106634715, 0.7471869712351946, 0.7471869712351946, 0.7471869712351946, 0.7471869712351946, 0.7471869712351946, 0.7471869712351946, 0.7471869712351946, 0.7471869712351946, 0.7471869712351946, 0.7471869712351946, 0.7471869712351946, 0.7471869712351946, 0.7471869712351946, 0.7471869712351946, 0.7471869712351946, 0.7471869712351946, 0.7471869712351946, 0.7471869712351946, 0.7471869712351946, 0.7471869712351946, 0.7471869712351946, 0.7471869712351946, 0.7471869712351946, 0.7471869712351946, 0.7471869712351946, 0.750135994447675]}], \"average_precision_score_weighted\": [{\"categories\": [\"0\", \"1\", \"2\", \"3\", \"4\", \"5\", \"6\", \"7\", \"8\", \"9\", \"10\", \"11\", \"12\", \"13\", \"14\", \"15\", \"16\", \"17\", \"18\", \"19\", \"20\", \"21\", \"22\", \"23\", \"24\", \"25\", \"26\", \"27\", \"28\"], \"mode\": \"markers\", \"name\": \"average_precision_score_weighted\", \"stepped\": false, \"type\": \"scatter\", \"data\": [0.8185905191794582, 0.8313538311567205, 0.830819127554503, 0.829434583507745, 0.8340278793070881, 0.7979632372171185, 0.833243861046222, 0.8013098810617197, 0.8393018107065899, 0.8390894239077324, 0.8371069510848008, 0.8334348775678807, 0.8343990924473782, 0.8091893023688339, 0.8361943476424105, 0.8302387470222565, 0.8377482100459821, 0.8345823611885894, 0.7922113075877746, 0.8348032429733034, 0.8350648485746667, 0.8149783183016882, 0.8033519999722123, 0.8355708470762853, 0.8109135486392159, 0.502516115180998, 0.8364944912301696, 0.8036752922769531, 0.8376311664538675]}, {\"categories\": [\"0\", \"1\", \"2\", \"3\", \"4\", \"5\", \"6\", \"7\", \"8\", \"9\", \"10\", \"11\", \"12\", \"13\", \"14\", \"15\", \"16\", \"17\", \"18\", \"19\", \"20\", \"21\", \"22\", \"23\", \"24\", \"25\", \"26\", \"27\", \"28\"], \"mode\": \"lines\", \"name\": \"average_precision_score_weighted_max\", \"stepped\": true, \"type\": \"scatter\", \"data\": [0.8185905191794582, 0.8313538311567205, 0.8313538311567205, 0.8313538311567205, 0.8340278793070881, 0.8340278793070881, 0.8340278793070881, 0.8340278793070881, 0.8393018107065899, 0.8393018107065899, 0.8393018107065899, 0.8393018107065899, 0.8393018107065899, 0.8393018107065899, 0.8393018107065899, 0.8393018107065899, 0.8393018107065899, 0.8393018107065899, 0.8393018107065899, 0.8393018107065899, 0.8393018107065899, 0.8393018107065899, 0.8393018107065899, 0.8393018107065899, 0.8393018107065899, 0.8393018107065899, 0.8393018107065899, 0.8393018107065899, 0.8393018107065899]}], \"balanced_accuracy\": [{\"categories\": [\"0\", \"1\", \"2\", \"3\", \"4\", \"5\", \"6\", \"7\", \"8\", \"9\", \"10\", \"11\", \"12\", \"13\", \"14\", \"15\", \"16\", \"17\", \"18\", \"19\", \"20\", \"21\", \"22\", \"23\", \"24\", \"25\", \"26\", \"27\", \"28\"], \"mode\": \"markers\", \"name\": \"balanced_accuracy\", \"stepped\": false, \"type\": \"scatter\", \"data\": [0.7323410944100599, 0.7392355409596789, 0.7359514687100894, 0.746031746031746, 0.7385127643748333, 0.7331621124724573, 0.7384145228972816, 0.740768809734327, 0.7407196889955511, 0.739186420220903, 0.7430248550938205, 0.7351900972590628, 0.7370110732179698, 0.7392355409596789, 0.7431827431827431, 0.7294324449496863, 0.7375935048348842, 0.7317586627931456, 0.7243975692251554, 0.7393548341824204, 0.7370005473453749, 0.7410249393008014, 0.729818393611497, 0.7359023479713135, 0.7364953054608228, 0.5, 0.7447160119573912, 0.7347445019858814, 0.7495333529816288]}, {\"categories\": [\"0\", \"1\", \"2\", \"3\", \"4\", \"5\", \"6\", \"7\", \"8\", \"9\", \"10\", \"11\", \"12\", \"13\", \"14\", \"15\", \"16\", \"17\", \"18\", \"19\", \"20\", \"21\", \"22\", \"23\", \"24\", \"25\", \"26\", \"27\", \"28\"], \"mode\": \"lines\", \"name\": \"balanced_accuracy_max\", \"stepped\": true, \"type\": \"scatter\", \"data\": [0.7323410944100599, 0.7392355409596789, 0.7392355409596789, 0.746031746031746, 0.746031746031746, 0.746031746031746, 0.746031746031746, 0.746031746031746, 0.746031746031746, 0.746031746031746, 0.746031746031746, 0.746031746031746, 0.746031746031746, 0.746031746031746, 0.746031746031746, 0.746031746031746, 0.746031746031746, 0.746031746031746, 0.746031746031746, 0.746031746031746, 0.746031746031746, 0.746031746031746, 0.746031746031746, 0.746031746031746, 0.746031746031746, 0.746031746031746, 0.746031746031746, 0.746031746031746, 0.7495333529816288]}], \"weighted_accuracy\": [{\"categories\": [\"0\", \"1\", \"2\", \"3\", \"4\", \"5\", \"6\", \"7\", \"8\", \"9\", \"10\", \"11\", \"12\", \"13\", \"14\", \"15\", \"16\", \"17\", \"18\", \"19\", \"20\", \"21\", \"22\", \"23\", \"24\", \"25\", \"26\", \"27\", \"28\"], \"mode\": \"markers\", \"name\": \"weighted_accuracy\", \"stepped\": false, \"type\": \"scatter\", \"data\": [0.736744299136838, 0.7420622101807951, 0.7392417374389969, 0.750513207940395, 0.7382240052797027, 0.7374494173222876, 0.7413570919953455, 0.7435801246982406, 0.7451466680560621, 0.7436287535386166, 0.7489362441167787, 0.7399954844648221, 0.7457823164695462, 0.7420622101807951, 0.7472620226124107, 0.7320342485975789, 0.7406519738098959, 0.7418746417964883, 0.7279112176314282, 0.7449799406033449, 0.7427569079004499, 0.7387728164782298, 0.7331700793692144, 0.7408082807968183, 0.7387033467062645, 0.5705830250612203, 0.7487799371298564, 0.7374007884819118, 0.7531183243891002]}, {\"categories\": [\"0\", \"1\", \"2\", \"3\", \"4\", \"5\", \"6\", \"7\", \"8\", \"9\", \"10\", \"11\", \"12\", \"13\", \"14\", \"15\", \"16\", \"17\", \"18\", \"19\", \"20\", \"21\", \"22\", \"23\", \"24\", \"25\", \"26\", \"27\", \"28\"], \"mode\": \"lines\", \"name\": \"weighted_accuracy_max\", \"stepped\": true, \"type\": \"scatter\", \"data\": [0.736744299136838, 0.7420622101807951, 0.7420622101807951, 0.750513207940395, 0.750513207940395, 0.750513207940395, 0.750513207940395, 0.750513207940395, 0.750513207940395, 0.750513207940395, 0.750513207940395, 0.750513207940395, 0.750513207940395, 0.750513207940395, 0.750513207940395, 0.750513207940395, 0.750513207940395, 0.750513207940395, 0.750513207940395, 0.750513207940395, 0.750513207940395, 0.750513207940395, 0.750513207940395, 0.750513207940395, 0.750513207940395, 0.750513207940395, 0.750513207940395, 0.750513207940395, 0.7531183243891002]}], \"f1_score_weighted\": [{\"categories\": [\"0\", \"1\", \"2\", \"3\", \"4\", \"5\", \"6\", \"7\", \"8\", \"9\", \"10\", \"11\", \"12\", \"13\", \"14\", \"15\", \"16\", \"17\", \"18\", \"19\", \"20\", \"21\", \"22\", \"23\", \"24\", \"25\", \"26\", \"27\", \"28\"], \"mode\": \"markers\", \"name\": \"f1_score_weighted\", \"stepped\": false, \"type\": \"scatter\", \"data\": [0.7342825504296161, 0.7406271666704642, 0.7375136763883312, 0.747989021811546, 0.7386396125174634, 0.7350653672075386, 0.7398493911451627, 0.7421528892194617, 0.7426626530634906, 0.7411354284525915, 0.7454222020659539, 0.7372572676707685, 0.7401153553917715, 0.7406271666704642, 0.7450091080573862, 0.7307543775430736, 0.7390712195010777, 0.7351040734037185, 0.7260510533446929, 0.7416689539935223, 0.7393531022185303, 0.7402205388928247, 0.7314093432810832, 0.7380004549894951, 0.7376594835127384, 0.3734717471447036, 0.746535999625905, 0.7360793287566741, 0.7511849125740746]}, {\"categories\": [\"0\", \"1\", \"2\", \"3\", \"4\", \"5\", \"6\", \"7\", \"8\", \"9\", \"10\", \"11\", \"12\", \"13\", \"14\", \"15\", \"16\", \"17\", \"18\", \"19\", \"20\", \"21\", \"22\", \"23\", \"24\", \"25\", \"26\", \"27\", \"28\"], \"mode\": \"lines\", \"name\": \"f1_score_weighted_max\", \"stepped\": true, \"type\": \"scatter\", \"data\": [0.7342825504296161, 0.7406271666704642, 0.7406271666704642, 0.747989021811546, 0.747989021811546, 0.747989021811546, 0.747989021811546, 0.747989021811546, 0.747989021811546, 0.747989021811546, 0.747989021811546, 0.747989021811546, 0.747989021811546, 0.747989021811546, 0.747989021811546, 0.747989021811546, 0.747989021811546, 0.747989021811546, 0.747989021811546, 0.747989021811546, 0.747989021811546, 0.747989021811546, 0.747989021811546, 0.747989021811546, 0.747989021811546, 0.747989021811546, 0.747989021811546, 0.747989021811546, 0.7511849125740746]}], \"precision_score_micro\": [{\"categories\": [\"0\", \"1\", \"2\", \"3\", \"4\", \"5\", \"6\", \"7\", \"8\", \"9\", \"10\", \"11\", \"12\", \"13\", \"14\", \"15\", \"16\", \"17\", \"18\", \"19\", \"20\", \"21\", \"22\", \"23\", \"24\", \"25\", \"26\", \"27\", \"28\"], \"mode\": \"markers\", \"name\": \"precision_score_micro\", \"stepped\": false, \"type\": \"scatter\", \"data\": [0.7345537757437071, 0.7406559877955758, 0.7376048817696415, 0.7482837528604119, 0.738367658276125, 0.7353165522501907, 0.7398932112890922, 0.7421815408085431, 0.7429443173150267, 0.7414187643020596, 0.7459954233409611, 0.7376048817696415, 0.7414187643020596, 0.7406559877955758, 0.7452326468344775, 0.7307398932112891, 0.7391304347826086, 0.7368421052631579, 0.7261632341723875, 0.7421815408085431, 0.7398932112890922, 0.7398932112890922, 0.7315026697177727, 0.738367658276125, 0.7376048817696415, 0.5354691075514875, 0.7467581998474447, 0.7360793287566743, 0.7513348588863463]}, {\"categories\": [\"0\", \"1\", \"2\", \"3\", \"4\", \"5\", \"6\", \"7\", \"8\", \"9\", \"10\", \"11\", \"12\", \"13\", \"14\", \"15\", \"16\", \"17\", \"18\", \"19\", \"20\", \"21\", \"22\", \"23\", \"24\", \"25\", \"26\", \"27\", \"28\"], \"mode\": \"lines\", \"name\": \"precision_score_micro_max\", \"stepped\": true, \"type\": \"scatter\", \"data\": [0.7345537757437071, 0.7406559877955758, 0.7406559877955758, 0.7482837528604119, 0.7482837528604119, 0.7482837528604119, 0.7482837528604119, 0.7482837528604119, 0.7482837528604119, 0.7482837528604119, 0.7482837528604119, 0.7482837528604119, 0.7482837528604119, 0.7482837528604119, 0.7482837528604119, 0.7482837528604119, 0.7482837528604119, 0.7482837528604119, 0.7482837528604119, 0.7482837528604119, 0.7482837528604119, 0.7482837528604119, 0.7482837528604119, 0.7482837528604119, 0.7482837528604119, 0.7482837528604119, 0.7482837528604119, 0.7482837528604119, 0.7513348588863463]}], \"log_loss\": [{\"categories\": [\"0\", \"1\", \"2\", \"3\", \"4\", \"5\", \"6\", \"7\", \"8\", \"9\", \"10\", \"11\", \"12\", \"13\", \"14\", \"15\", \"16\", \"17\", \"18\", \"19\", \"20\", \"21\", \"22\", \"23\", \"24\", \"25\", \"26\", \"27\", \"28\"], \"mode\": \"markers\", \"name\": \"log_loss\", \"stepped\": false, \"type\": \"scatter\", \"data\": [0.5261648531127533, 0.5026137845142863, 0.5044185894529516, 0.5055677415227805, 0.5010133855176394, 0.5336673711267338, 0.5026794955862673, 0.5595909241810977, 0.49330393238396936, 0.49385417394294967, 0.5199291333037087, 0.5124990472781196, 0.5553098303782737, 0.5192667591425709, 0.5144857325534884, 0.5083207311624612, 0.511536240204769, 0.5627056137362595, 0.5435578004815538, 0.5290556793362465, 0.5306836085782607, 0.5397255707033917, 0.5237432740622296, 0.5233236337543672, 0.5526127275253848, 0.6906747753813428, 0.5179899493456684, 0.526264780174523, 0.5076256733055973]}, {\"categories\": [\"0\", \"1\", \"2\", \"3\", \"4\", \"5\", \"6\", \"7\", \"8\", \"9\", \"10\", \"11\", \"12\", \"13\", \"14\", \"15\", \"16\", \"17\", \"18\", \"19\", \"20\", \"21\", \"22\", \"23\", \"24\", \"25\", \"26\", \"27\", \"28\"], \"mode\": \"lines\", \"name\": \"log_loss_min\", \"stepped\": true, \"type\": \"scatter\", \"data\": [0.5261648531127533, 0.5026137845142863, 0.5026137845142863, 0.5026137845142863, 0.5010133855176394, 0.5010133855176394, 0.5010133855176394, 0.5010133855176394, 0.49330393238396936, 0.49330393238396936, 0.49330393238396936, 0.49330393238396936, 0.49330393238396936, 0.49330393238396936, 0.49330393238396936, 0.49330393238396936, 0.49330393238396936, 0.49330393238396936, 0.49330393238396936, 0.49330393238396936, 0.49330393238396936, 0.49330393238396936, 0.49330393238396936, 0.49330393238396936, 0.49330393238396936, 0.49330393238396936, 0.49330393238396936, 0.49330393238396936, 0.49330393238396936]}], \"recall_score_weighted\": [{\"categories\": [\"0\", \"1\", \"2\", \"3\", \"4\", \"5\", \"6\", \"7\", \"8\", \"9\", \"10\", \"11\", \"12\", \"13\", \"14\", \"15\", \"16\", \"17\", \"18\", \"19\", \"20\", \"21\", \"22\", \"23\", \"24\", \"25\", \"26\", \"27\", \"28\"], \"mode\": \"markers\", \"name\": \"recall_score_weighted\", \"stepped\": false, \"type\": \"scatter\", \"data\": [0.7345537757437071, 0.7406559877955758, 0.7376048817696415, 0.7482837528604119, 0.738367658276125, 0.7353165522501907, 0.7398932112890922, 0.7421815408085431, 0.7429443173150267, 0.7414187643020596, 0.7459954233409611, 0.7376048817696415, 0.7414187643020596, 0.7406559877955758, 0.7452326468344775, 0.7307398932112891, 0.7391304347826086, 0.7368421052631579, 0.7261632341723875, 0.7421815408085431, 0.7398932112890922, 0.7398932112890922, 0.7315026697177727, 0.738367658276125, 0.7376048817696415, 0.5354691075514875, 0.7467581998474447, 0.7360793287566743, 0.7513348588863463]}, {\"categories\": [\"0\", \"1\", \"2\", \"3\", \"4\", \"5\", \"6\", \"7\", \"8\", \"9\", \"10\", \"11\", \"12\", \"13\", \"14\", \"15\", \"16\", \"17\", \"18\", \"19\", \"20\", \"21\", \"22\", \"23\", \"24\", \"25\", \"26\", \"27\", \"28\"], \"mode\": \"lines\", \"name\": \"recall_score_weighted_max\", \"stepped\": true, \"type\": \"scatter\", \"data\": [0.7345537757437071, 0.7406559877955758, 0.7406559877955758, 0.7482837528604119, 0.7482837528604119, 0.7482837528604119, 0.7482837528604119, 0.7482837528604119, 0.7482837528604119, 0.7482837528604119, 0.7482837528604119, 0.7482837528604119, 0.7482837528604119, 0.7482837528604119, 0.7482837528604119, 0.7482837528604119, 0.7482837528604119, 0.7482837528604119, 0.7482837528604119, 0.7482837528604119, 0.7482837528604119, 0.7482837528604119, 0.7482837528604119, 0.7482837528604119, 0.7482837528604119, 0.7482837528604119, 0.7482837528604119, 0.7482837528604119, 0.7513348588863463]}], \"accuracy\": [{\"categories\": [\"0\", \"1\", \"2\", \"3\", \"4\", \"5\", \"6\", \"7\", \"8\", \"9\", \"10\", \"11\", \"12\", \"13\", \"14\", \"15\", \"16\", \"17\", \"18\", \"19\", \"20\", \"21\", \"22\", \"23\", \"24\", \"25\", \"26\", \"27\", \"28\"], \"mode\": \"markers\", \"name\": \"accuracy\", \"stepped\": false, \"type\": \"scatter\", \"data\": [0.7345537757437071, 0.7406559877955758, 0.7376048817696415, 0.7482837528604119, 0.738367658276125, 0.7353165522501907, 0.7398932112890922, 0.7421815408085431, 0.7429443173150267, 0.7414187643020596, 0.7459954233409611, 0.7376048817696415, 0.7414187643020596, 0.7406559877955758, 0.7452326468344775, 0.7307398932112891, 0.7391304347826086, 0.7368421052631579, 0.7261632341723875, 0.7421815408085431, 0.7398932112890922, 0.7398932112890922, 0.7315026697177727, 0.738367658276125, 0.7376048817696415, 0.5354691075514875, 0.7467581998474447, 0.7360793287566743, 0.7513348588863463]}, {\"categories\": [\"0\", \"1\", \"2\", \"3\", \"4\", \"5\", \"6\", \"7\", \"8\", \"9\", \"10\", \"11\", \"12\", \"13\", \"14\", \"15\", \"16\", \"17\", \"18\", \"19\", \"20\", \"21\", \"22\", \"23\", \"24\", \"25\", \"26\", \"27\", \"28\"], \"mode\": \"lines\", \"name\": \"accuracy_max\", \"stepped\": true, \"type\": \"scatter\", \"data\": [0.7345537757437071, 0.7406559877955758, 0.7406559877955758, 0.7482837528604119, 0.7482837528604119, 0.7482837528604119, 0.7482837528604119, 0.7482837528604119, 0.7482837528604119, 0.7482837528604119, 0.7482837528604119, 0.7482837528604119, 0.7482837528604119, 0.7482837528604119, 0.7482837528604119, 0.7482837528604119, 0.7482837528604119, 0.7482837528604119, 0.7482837528604119, 0.7482837528604119, 0.7482837528604119, 0.7482837528604119, 0.7482837528604119, 0.7482837528604119, 0.7482837528604119, 0.7482837528604119, 0.7482837528604119, 0.7482837528604119, 0.7513348588863463]}], \"f1_score_micro\": [{\"categories\": [\"0\", \"1\", \"2\", \"3\", \"4\", \"5\", \"6\", \"7\", \"8\", \"9\", \"10\", \"11\", \"12\", \"13\", \"14\", \"15\", \"16\", \"17\", \"18\", \"19\", \"20\", \"21\", \"22\", \"23\", \"24\", \"25\", \"26\", \"27\", \"28\"], \"mode\": \"markers\", \"name\": \"f1_score_micro\", \"stepped\": false, \"type\": \"scatter\", \"data\": [0.7345537757437071, 0.7406559877955758, 0.7376048817696415, 0.7482837528604119, 0.738367658276125, 0.7353165522501907, 0.7398932112890922, 0.7421815408085431, 0.7429443173150267, 0.7414187643020596, 0.7459954233409611, 0.7376048817696415, 0.7414187643020596, 0.7406559877955758, 0.7452326468344777, 0.7307398932112892, 0.7391304347826085, 0.7368421052631579, 0.7261632341723876, 0.7421815408085431, 0.7398932112890922, 0.7398932112890922, 0.7315026697177726, 0.738367658276125, 0.7376048817696415, 0.5354691075514875, 0.7467581998474448, 0.7360793287566743, 0.7513348588863463]}, {\"categories\": [\"0\", \"1\", \"2\", \"3\", \"4\", \"5\", \"6\", \"7\", \"8\", \"9\", \"10\", \"11\", \"12\", \"13\", \"14\", \"15\", \"16\", \"17\", \"18\", \"19\", \"20\", \"21\", \"22\", \"23\", \"24\", \"25\", \"26\", \"27\", \"28\"], \"mode\": \"lines\", \"name\": \"f1_score_micro_max\", \"stepped\": true, \"type\": \"scatter\", \"data\": [0.7345537757437071, 0.7406559877955758, 0.7406559877955758, 0.7482837528604119, 0.7482837528604119, 0.7482837528604119, 0.7482837528604119, 0.7482837528604119, 0.7482837528604119, 0.7482837528604119, 0.7482837528604119, 0.7482837528604119, 0.7482837528604119, 0.7482837528604119, 0.7482837528604119, 0.7482837528604119, 0.7482837528604119, 0.7482837528604119, 0.7482837528604119, 0.7482837528604119, 0.7482837528604119, 0.7482837528604119, 0.7482837528604119, 0.7482837528604119, 0.7482837528604119, 0.7482837528604119, 0.7482837528604119, 0.7482837528604119, 0.7513348588863463]}]}, \"metricName\": null, \"primaryMetricName\": \"accuracy\", \"showLegend\": false}, \"run_metrics\": [{\"name\": \"experiment_status\", \"run_id\": \"AutoML_cb5da120-71fd-466e-8aaf-064b1cad998f\", \"categories\": [0, 1, 2, 3, 4, 5, 6, 7, 8, 9, 10, 11, 12], \"series\": [{\"data\": [\"DatasetEvaluation\", \"FeaturesGeneration\", \"DatasetFeaturization\", \"DatasetFeaturizationCompleted\", \"ModelSelection\", \"BestRunExplainModel\", \"ModelExplanationDataSetSetup\", \"PickSurrogateModel\", \"EngineeredFeatureExplanations\", \"EngineeredFeatureExplanations\", \"RawFeaturesExplanations\", \"RawFeaturesExplanations\", \"BestRunExplainModel\"]}]}, {\"name\": \"experiment_status_description\", \"run_id\": \"AutoML_cb5da120-71fd-466e-8aaf-064b1cad998f\", \"categories\": [0, 1, 2, 3, 4, 5, 6, 7, 8, 9, 10, 11, 12], \"series\": [{\"data\": [\"Gathering dataset statistics.\", \"Generating features for the dataset.\", \"Beginning to fit featurizers and featurize the dataset.\", \"Completed fit featurizers and featurizing the dataset.\", \"Beginning model selection.\", \"Best run model explanations started\", \"Model explanations data setup completed\", \"Choosing LightGBM as the surrogate model for explanations\", \"Computation of engineered features started\", \"Computation of engineered features completed\", \"Computation of raw features started\", \"Computation of raw features completed\", \"Best run model explanations completed\"]}]}, {\"name\": \"f1_score_micro\", \"run_id\": \"AutoML_cb5da120-71fd-466e-8aaf-064b1cad998f\", \"categories\": [0], \"series\": [{\"data\": [0.7513348588863463]}]}, {\"name\": \"AUC_micro\", \"run_id\": \"AutoML_cb5da120-71fd-466e-8aaf-064b1cad998f\", \"categories\": [0], \"series\": [{\"data\": [0.836014105838004]}]}, {\"name\": \"average_precision_score_micro\", \"run_id\": \"AutoML_cb5da120-71fd-466e-8aaf-064b1cad998f\", \"categories\": [0], \"series\": [{\"data\": [0.8382474867687542]}]}, {\"name\": \"recall_score_macro\", \"run_id\": \"AutoML_cb5da120-71fd-466e-8aaf-064b1cad998f\", \"categories\": [0], \"series\": [{\"data\": [0.7495333529816288]}]}, {\"name\": \"f1_score_macro\", \"run_id\": \"AutoML_cb5da120-71fd-466e-8aaf-064b1cad998f\", \"categories\": [0], \"series\": [{\"data\": [0.7497904118699477]}]}, {\"name\": \"average_precision_score_weighted\", \"run_id\": \"AutoML_cb5da120-71fd-466e-8aaf-064b1cad998f\", \"categories\": [0], \"series\": [{\"data\": [0.8376311664538675]}]}, {\"name\": \"log_loss\", \"run_id\": \"AutoML_cb5da120-71fd-466e-8aaf-064b1cad998f\", \"categories\": [0], \"series\": [{\"data\": [0.5076256733055973]}]}, {\"name\": \"precision_score_macro\", \"run_id\": \"AutoML_cb5da120-71fd-466e-8aaf-064b1cad998f\", \"categories\": [0], \"series\": [{\"data\": [0.750135994447675]}]}, {\"name\": \"recall_score_weighted\", \"run_id\": \"AutoML_cb5da120-71fd-466e-8aaf-064b1cad998f\", \"categories\": [0], \"series\": [{\"data\": [0.7513348588863463]}]}, {\"name\": \"AUC_macro\", \"run_id\": \"AutoML_cb5da120-71fd-466e-8aaf-064b1cad998f\", \"categories\": [0], \"series\": [{\"data\": [0.8347788865030243]}]}, {\"name\": \"f1_score_weighted\", \"run_id\": \"AutoML_cb5da120-71fd-466e-8aaf-064b1cad998f\", \"categories\": [0], \"series\": [{\"data\": [0.7511849125740746]}]}, {\"name\": \"matthews_correlation\", \"run_id\": \"AutoML_cb5da120-71fd-466e-8aaf-064b1cad998f\", \"categories\": [0], \"series\": [{\"data\": [0.49966898401210547]}]}, {\"name\": \"precision_score_micro\", \"run_id\": \"AutoML_cb5da120-71fd-466e-8aaf-064b1cad998f\", \"categories\": [0], \"series\": [{\"data\": [0.7513348588863463]}]}, {\"name\": \"accuracy\", \"run_id\": \"AutoML_cb5da120-71fd-466e-8aaf-064b1cad998f\", \"categories\": [0], \"series\": [{\"data\": [0.7513348588863463]}]}, {\"name\": \"weighted_accuracy\", \"run_id\": \"AutoML_cb5da120-71fd-466e-8aaf-064b1cad998f\", \"categories\": [0], \"series\": [{\"data\": [0.7531183243891002]}]}, {\"name\": \"norm_macro_recall\", \"run_id\": \"AutoML_cb5da120-71fd-466e-8aaf-064b1cad998f\", \"categories\": [0], \"series\": [{\"data\": [0.49906670596325764]}]}, {\"name\": \"AUC_weighted\", \"run_id\": \"AutoML_cb5da120-71fd-466e-8aaf-064b1cad998f\", \"categories\": [0], \"series\": [{\"data\": [0.8347788865030245]}]}, {\"name\": \"recall_score_micro\", \"run_id\": \"AutoML_cb5da120-71fd-466e-8aaf-064b1cad998f\", \"categories\": [0], \"series\": [{\"data\": [0.7513348588863463]}]}, {\"name\": \"precision_score_weighted\", \"run_id\": \"AutoML_cb5da120-71fd-466e-8aaf-064b1cad998f\", \"categories\": [0], \"series\": [{\"data\": [0.7511226704901214]}]}, {\"name\": \"balanced_accuracy\", \"run_id\": \"AutoML_cb5da120-71fd-466e-8aaf-064b1cad998f\", \"categories\": [0], \"series\": [{\"data\": [0.7495333529816288]}]}, {\"name\": \"average_precision_score_macro\", \"run_id\": \"AutoML_cb5da120-71fd-466e-8aaf-064b1cad998f\", \"categories\": [0], \"series\": [{\"data\": [0.8363431101734542]}]}], \"run_logs\": \"\\nRun is completed.\", \"graph\": {}, \"widget_settings\": {\"childWidgetDisplay\": \"popup\", \"send_telemetry\": false, \"log_level\": \"INFO\", \"sdk_version\": \"1.20.0\"}, \"loading\": false}"
          },
          "metadata": {}
        }
      ],
      "execution_count": 9,
      "metadata": {
        "gather": {
          "logged": 1611890130925
        },
        "jupyter": {
          "outputs_hidden": false,
          "source_hidden": false
        },
        "nteract": {
          "transient": {
            "deleting": false
          }
        }
      }
    },
    {
      "cell_type": "markdown",
      "source": [
        "## Best Model\n",
        "\n",
        "TODO: In the cell below, get the best model from the automl experiments and display all the properties of the model.\n",
        "\n"
      ],
      "metadata": {}
    },
    {
      "cell_type": "code",
      "source": [
        "best_automl, automl_model = remote_run.get_output()\n",
        "best_automl, onnx_model = remote_run.get_output(return_onnx_model=True)"
      ],
      "outputs": [],
      "execution_count": 12,
      "metadata": {
        "gather": {
          "logged": 1611892860357
        },
        "jupyter": {
          "outputs_hidden": false,
          "source_hidden": false
        },
        "nteract": {
          "transient": {
            "deleting": false
          }
        }
      }
    },
    {
      "cell_type": "code",
      "source": [
        "automl_metrics = best_automl.get_metrics()\r\n",
        "print(\"Best AutoML ID: \", best_automl.id)\r\n",
        "print(\"Accuracy: \", automl_metrics[\"accuracy\"])\r\n",
        "print(\"Model details: \", automl_model)"
      ],
      "outputs": [
        {
          "output_type": "stream",
          "name": "stdout",
          "text": [
            "Best AutoML ID:  AutoML_cb5da120-71fd-466e-8aaf-064b1cad998f_28\n",
            "Accuracy:  0.7513348588863463\n",
            "Model details:  Pipeline(memory=None,\n",
            "         steps=[('datatransformer',\n",
            "                 DataTransformer(enable_dnn=None, enable_feature_sweeping=None,\n",
            "                                 feature_sweeping_config=None,\n",
            "                                 feature_sweeping_timeout=None,\n",
            "                                 featurization_config=None, force_text_dnn=None,\n",
            "                                 is_cross_validation=None,\n",
            "                                 is_onnx_compatible=None, logger=None,\n",
            "                                 observer=None, task=None, working_dir=None)),\n",
            "                ('prefittedsoftvotingclassifier',...\n",
            "                                                                                                    min_impurity_split=None,\n",
            "                                                                                                    min_samples_leaf=0.01,\n",
            "                                                                                                    min_samples_split=0.01,\n",
            "                                                                                                    min_weight_fraction_leaf=0.0,\n",
            "                                                                                                    n_estimators=25,\n",
            "                                                                                                    n_jobs=1,\n",
            "                                                                                                    oob_score=True,\n",
            "                                                                                                    random_state=None,\n",
            "                                                                                                    verbose=0,\n",
            "                                                                                                    warm_start=False))],\n",
            "                                                                     verbose=False))],\n",
            "                                               flatten_transform=None,\n",
            "                                               weights=[0.09090909090909091,\n",
            "                                                        0.2727272727272727,\n",
            "                                                        0.2727272727272727,\n",
            "                                                        0.09090909090909091,\n",
            "                                                        0.18181818181818182,\n",
            "                                                        0.09090909090909091]))],\n",
            "         verbose=False)\n"
          ]
        }
      ],
      "execution_count": 28,
      "metadata": {
        "collapsed": true,
        "jupyter": {
          "source_hidden": false,
          "outputs_hidden": false
        },
        "nteract": {
          "transient": {
            "deleting": false
          }
        },
        "gather": {
          "logged": 1611894991743
        }
      }
    },
    {
      "cell_type": "code",
      "source": [
        "import joblib\n",
        "from azureml.core.model import Model\n",
        "\n",
        "print(best_automl.get_tags())\n",
        "\n",
        "joblib.dump(automl_model, filename=\"automl_model.pkl\")\n",
        "model = remote_run.register_model(model_name=best_automl.properties['model_name'], description=\"LoL predictor model trained with Azure AutoML.\")"
      ],
      "outputs": [
        {
          "output_type": "stream",
          "name": "stdout",
          "text": [
            "{'_aml_system_azureml.automlComponent': 'AutoML', '_aml_system_ComputeTargetStatus': '{\"AllocationState\":\"steady\",\"PreparingNodeCount\":0,\"RunningNodeCount\":0,\"CurrentNodeCount\":1}', 'ensembled_iterations': '[3, 26, 10, 14, 8, 4]', 'ensembled_algorithms': \"['RandomForest', 'LightGBM', 'LightGBM', 'ExtremeRandomTrees', 'LogisticRegression', 'RandomForest']\", 'ensemble_weights': '[0.09090909090909091, 0.2727272727272727, 0.2727272727272727, 0.09090909090909091, 0.18181818181818182, 0.09090909090909091]', 'best_individual_pipeline_score': '0.7482837528604119', 'best_individual_iteration': '3', '_aml_system_automl_is_child_run_end_telemetry_event_logged': 'True'}\n"
          ]
        }
      ],
      "execution_count": 14,
      "metadata": {
        "gather": {
          "logged": 1611893364591
        },
        "jupyter": {
          "outputs_hidden": false,
          "source_hidden": false
        },
        "nteract": {
          "transient": {
            "deleting": false
          }
        }
      }
    },
    {
      "cell_type": "code",
      "source": [
        "env = best_automl.get_environment()\r\n",
        "entry_script='score.py'\r\n",
        "best_automl.download_file('outputs/scoring_file_v_1_0_0.py', entry_script)"
      ],
      "outputs": [],
      "execution_count": 18,
      "metadata": {
        "collapsed": true,
        "jupyter": {
          "source_hidden": false,
          "outputs_hidden": false
        },
        "nteract": {
          "transient": {
            "deleting": false
          }
        },
        "gather": {
          "logged": 1611893536261
        }
      }
    },
    {
      "cell_type": "markdown",
      "source": [
        "## Model Deployment\n",
        "\n",
        "Remember you have to deploy only one of the two models you trained.. Perform the steps in the rest of this notebook only if you wish to deploy this model.\n",
        "\n",
        "TODO: In the cell below, register the model, create an inference config and deploy the model as a web service."
      ],
      "metadata": {}
    },
    {
      "cell_type": "code",
      "source": [
        "from azureml.core.model import InferenceConfig\r\n",
        "from azureml.core.webservice import AciWebservice\r\n",
        "\r\n",
        "# Deploy the model as a Web Service on an Azure Container Instance, just like in Project 2\r\n",
        "inference_config = InferenceConfig(entry_script=entry_script, environment=env)\r\n",
        "deployment_config = AciWebservice.deploy_configuration(cpu_cores=1, memory_gb=4, enable_app_insights=True)\r\n",
        "\r\n",
        "service = Model.deploy(\r\n",
        "    workspace=ws,\r\n",
        "    name=\"lolpredictor\",\r\n",
        "    models=[model],\r\n",
        "    inference_config=inference_config,\r\n",
        "    deployment_config=deployment_config\r\n",
        ")\r\n",
        "\r\n",
        "service.wait_for_deployment(show_output=True)\r\n",
        "print(service.state)"
      ],
      "outputs": [
        {
          "output_type": "stream",
          "name": "stdout",
          "text": [
            "Tips: You can try get_logs(): https://aka.ms/debugimage#dockerlog or local deployment: https://aka.ms/debugimage#debug-locally to debug if deployment takes longer than 10 minutes.\n",
            "Running......................................\n",
            "Succeeded\n",
            "ACI service creation operation finished, operation \"Succeeded\"\n",
            "Healthy\n"
          ]
        }
      ],
      "execution_count": 19,
      "metadata": {
        "gather": {
          "logged": 1611893914303
        },
        "jupyter": {
          "outputs_hidden": false,
          "source_hidden": false
        },
        "nteract": {
          "transient": {
            "deleting": false
          }
        }
      }
    },
    {
      "cell_type": "code",
      "source": [
        "print(\"Service State: {}\".format(service.state))\r\n",
        "print(\"Scoring URI: {}\".format(service.scoring_uri))\r\n",
        "print(\"Swagger URI: {}\".format(service.swagger_uri))"
      ],
      "outputs": [
        {
          "output_type": "stream",
          "name": "stdout",
          "text": [
            "Service State: Healthy\n",
            "Scoring URI: http://5b9e625c-3d16-4257-b17c-b9fa9a2b095e.southcentralus.azurecontainer.io/score\n",
            "Swagger URI: http://5b9e625c-3d16-4257-b17c-b9fa9a2b095e.southcentralus.azurecontainer.io/swagger.json\n"
          ]
        }
      ],
      "execution_count": 20,
      "metadata": {
        "collapsed": true,
        "jupyter": {
          "source_hidden": false,
          "outputs_hidden": false
        },
        "nteract": {
          "transient": {
            "deleting": false
          }
        },
        "gather": {
          "logged": 1611893976686
        }
      }
    },
    {
      "cell_type": "markdown",
      "source": [
        "TODO: In the cell below, send a request to the web service you deployed to test it."
      ],
      "metadata": {
        "collapsed": true,
        "gather": {
          "logged": 1598431657736
        },
        "jupyter": {
          "outputs_hidden": false,
          "source_hidden": false
        },
        "nteract": {
          "transient": {
            "deleting": false
          }
        }
      }
    },
    {
      "cell_type": "code",
      "source": [
        "import requests\r\n",
        "import json\r\n",
        "\r\n",
        "scoring_uri = service.scoring_uri\r\n",
        "\r\n",
        "data = {'data':\r\n",
        "        [\r\n",
        "            {\r\n",
        "                'Column1':0,\r\n",
        "                'golddiffat10':-500,\r\n",
        "                'xpdiffat10':-300,\r\n",
        "                'golddiffat15':2000,\r\n",
        "                'xpdiffat15':1600\r\n",
        "            },\r\n",
        "            {\r\n",
        "                'Column1':1,\r\n",
        "                'golddiffat10':500,\r\n",
        "                'xpdiffat10':300,\r\n",
        "                'golddiffat15':-2000,\r\n",
        "                'xpdiffat15':-1000\r\n",
        "            },\r\n",
        "        ]\r\n",
        "    }\r\n",
        "\r\n",
        "example = {\"data\": [{\"golddiffat10\": -500, \"xpdiffat10\": -300, \"golddiffat15\": 2000, \"xpdiffat15\": 1600}]}\r\n",
        "\r\n",
        "input_data = json.dumps(data)\r\n",
        "\r\n",
        "\r\n",
        "headers = {'Content-Type': 'application/json'}\r\n",
        "\r\n",
        "response = requests.post(scoring_uri, input_data, headers=headers)\r\n",
        "print(response.text)"
      ],
      "outputs": [
        {
          "output_type": "stream",
          "name": "stdout",
          "text": [
            "\"{\\\"result\\\": [1, 0]}\"\n"
          ]
        }
      ],
      "execution_count": 29,
      "metadata": {
        "collapsed": true,
        "jupyter": {
          "source_hidden": false,
          "outputs_hidden": false
        },
        "nteract": {
          "transient": {
            "deleting": false
          }
        },
        "gather": {
          "logged": 1611895401484
        }
      }
    },
    {
      "cell_type": "markdown",
      "source": [
        "TODO: In the cell below, print the logs of the web service and delete the service"
      ],
      "metadata": {
        "collapsed": true,
        "gather": {
          "logged": 1598432765711
        },
        "jupyter": {
          "outputs_hidden": false,
          "source_hidden": false
        },
        "nteract": {
          "transient": {
            "deleting": false
          }
        }
      }
    },
    {
      "cell_type": "code",
      "source": [
        "print(service.get_logs())"
      ],
      "outputs": [
        {
          "output_type": "stream",
          "name": "stdout",
          "text": [
            "2021-01-29T04:18:08,229832500+00:00 - gunicorn/run \n",
            "2021-01-29T04:18:08,239220300+00:00 - rsyslog/run \n",
            "2021-01-29T04:18:08,236979000+00:00 - iot-server/run \n",
            "2021-01-29T04:18:08,314653200+00:00 - nginx/run \n",
            "rsyslogd: /azureml-envs/azureml_265db83b0c6014ce472c5de2f0b97e04/lib/libuuid.so.1: no version information available (required by rsyslogd)\n",
            "/usr/sbin/nginx: /azureml-envs/azureml_265db83b0c6014ce472c5de2f0b97e04/lib/libcrypto.so.1.0.0: no version information available (required by /usr/sbin/nginx)\n",
            "/usr/sbin/nginx: /azureml-envs/azureml_265db83b0c6014ce472c5de2f0b97e04/lib/libcrypto.so.1.0.0: no version information available (required by /usr/sbin/nginx)\n",
            "/usr/sbin/nginx: /azureml-envs/azureml_265db83b0c6014ce472c5de2f0b97e04/lib/libssl.so.1.0.0: no version information available (required by /usr/sbin/nginx)\n",
            "/usr/sbin/nginx: /azureml-envs/azureml_265db83b0c6014ce472c5de2f0b97e04/lib/libssl.so.1.0.0: no version information available (required by /usr/sbin/nginx)\n",
            "/usr/sbin/nginx: /azureml-envs/azureml_265db83b0c6014ce472c5de2f0b97e04/lib/libssl.so.1.0.0: no version information available (required by /usr/sbin/nginx)\n",
            "EdgeHubConnectionString and IOTEDGE_IOTHUBHOSTNAME are not set. Exiting...\n",
            "2021-01-29T04:18:10,129843400+00:00 - iot-server/finish 1 0\n",
            "2021-01-29T04:18:10,135899500+00:00 - Exit code 1 is normal. Not restarting iot-server.\n",
            "Starting gunicorn 19.9.0\n",
            "Listening at: http://127.0.0.1:31311 (67)\n",
            "Using worker: sync\n",
            "worker timeout is set to 300\n",
            "Booting worker with pid: 97\n",
            "SPARK_HOME not set. Skipping PySpark Initialization.\n",
            "Generating new fontManager, this may take some time...\n",
            "Initializing logger\n",
            "2021-01-29 04:18:16,557 | root | INFO | Starting up app insights client\n",
            "2021-01-29 04:18:16,557 | root | INFO | Starting up request id generator\n",
            "2021-01-29 04:18:16,558 | root | INFO | Starting up app insight hooks\n",
            "2021-01-29 04:18:16,558 | root | INFO | Invoking user's init function\n",
            "2021-01-29 04:18:28,367 | azureml.core | WARNING | Failure while loading azureml_run_type_providers. Failed to load entrypoint automl = azureml.train.automl.run:AutoMLRun._from_run_dto with exception cannot import name 'RunType'.\n",
            "Failure while loading azureml_run_type_providers. Failed to load entrypoint automl = azureml.train.automl.run:AutoMLRun._from_run_dto with exception cannot import name 'RunType'.\n",
            "2021-01-29 04:18:28,645 | root | INFO | Users's init has completed successfully\n",
            "2021-01-29 04:18:28,702 | root | INFO | Skipping middleware: dbg_model_info as it's not enabled.\n",
            "2021-01-29 04:18:28,703 | root | INFO | Skipping middleware: dbg_resource_usage as it's not enabled.\n",
            "2021-01-29 04:18:28,705 | root | INFO | Scoring timeout is found from os.environ: 60000 ms\n",
            "2021-01-29 04:18:29,157 | root | INFO | 200\n",
            "127.0.0.1 - - [29/Jan/2021:04:18:29 +0000] \"GET /swagger.json HTTP/1.0\" 200 2325 \"-\" \"Go-http-client/1.1\"\n",
            "2021-01-29 04:18:33,795 | root | INFO | 200\n",
            "127.0.0.1 - - [29/Jan/2021:04:18:33 +0000] \"GET /swagger.json HTTP/1.0\" 200 2325 \"-\" \"Go-http-client/1.1\"\n",
            "2021-01-29 04:20:10,861 | root | INFO | Validation Request Content-Type\n",
            "2021-01-29 04:20:10,863 | root | INFO | Scoring Timer is set to 60.0 seconds\n",
            "2021-01-29 04:20:10,997 | root | INFO | 200\n",
            "127.0.0.1 - - [29/Jan/2021:04:20:10 +0000] \"POST /score HTTP/1.0\" 200 22 \"-\" \"python-requests/2.25.1\"\n",
            "127.0.0.1 - - [29/Jan/2021:04:35:57 +0000] \"GET /login HTTP/1.0\" 404 232 \"-\" \"Go-http-client/1.1\"\n",
            "127.0.0.1 - - [29/Jan/2021:04:35:58 +0000] \"GET /jenkins/login HTTP/1.0\" 404 232 \"-\" \"Go-http-client/1.1\"\n",
            "127.0.0.1 - bM4fe3ev [29/Jan/2021:04:35:58 +0000] \"GET /manager/html HTTP/1.0\" 404 232 \"-\" \"Go-http-client/1.1\"\n",
            "2021-01-29 04:37:53,573 | root | INFO | 200\n",
            "127.0.0.1 - - [29/Jan/2021:04:37:53 +0000] \"GET /swagger.json HTTP/1.0\" 200 2325 \"-\" \"Go-http-client/1.1\"\n",
            "2021-01-29 04:37:53,960 | root | INFO | 200\n",
            "127.0.0.1 - - [29/Jan/2021:04:37:53 +0000] \"GET /swagger.json HTTP/1.0\" 200 2325 \"-\" \"Go-http-client/1.1\"\n",
            "2021-01-29 04:43:20,953 | root | INFO | Validation Request Content-Type\n",
            "2021-01-29 04:43:20,954 | root | INFO | Scoring Timer is set to 60.0 seconds\n",
            "2021-01-29 04:43:21,064 | root | INFO | 200\n",
            "127.0.0.1 - - [29/Jan/2021:04:43:21 +0000] \"POST /score HTTP/1.0\" 200 22 \"-\" \"python-requests/2.25.1\"\n",
            "\n"
          ]
        }
      ],
      "execution_count": 30,
      "metadata": {
        "jupyter": {
          "outputs_hidden": false,
          "source_hidden": false
        },
        "nteract": {
          "transient": {
            "deleting": false
          }
        },
        "gather": {
          "logged": 1611895445741
        }
      }
    },
    {
      "cell_type": "code",
      "source": [
        "service.delete()"
      ],
      "outputs": [],
      "execution_count": null,
      "metadata": {
        "collapsed": true,
        "jupyter": {
          "source_hidden": false,
          "outputs_hidden": false
        },
        "nteract": {
          "transient": {
            "deleting": false
          }
        }
      }
    }
  ],
  "metadata": {
    "kernel_info": {
      "name": "python3"
    },
    "kernelspec": {
      "name": "python3",
      "language": "python",
      "display_name": "Python 3"
    },
    "language_info": {
      "name": "python",
      "version": "3.6.9",
      "mimetype": "text/x-python",
      "codemirror_mode": {
        "name": "ipython",
        "version": 3
      },
      "pygments_lexer": "ipython3",
      "nbconvert_exporter": "python",
      "file_extension": ".py"
    },
    "nteract": {
      "version": "nteract-front-end@1.0.0"
    }
  },
  "nbformat": 4,
  "nbformat_minor": 2
}