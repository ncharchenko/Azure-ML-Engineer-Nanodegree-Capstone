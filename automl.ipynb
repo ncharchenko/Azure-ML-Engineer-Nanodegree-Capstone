{
  "cells": [
    {
      "cell_type": "markdown",
      "source": [
        "# Automated ML\n",
        "\n",
        "TODO: Import Dependencies. In the cell below, import all the dependencies that you will need to complete the project."
      ],
      "metadata": {}
    },
    {
      "cell_type": "code",
      "source": [
        "from azureml.automl.runtime.onnx_convert import OnnxConverter\n",
        "from azureml.core import Workspace, Experiment\n",
        "from azureml.core.compute import ComputeTarget, AmlCompute\n",
        "from azureml.data.dataset_factory import TabularDatasetFactory\n",
        "from azureml.train.automl import AutoMLConfig\n",
        "from azureml.widgets import RunDetails\n",
        "import os\n",
        "import pandas as pd"
      ],
      "outputs": [],
      "execution_count": 1,
      "metadata": {
        "gather": {
          "logged": 1611794845270
        },
        "jupyter": {
          "outputs_hidden": false,
          "source_hidden": false
        },
        "nteract": {
          "transient": {
            "deleting": false
          }
        }
      }
    },
    {
      "cell_type": "code",
      "source": [
        "ws = Workspace.from_config()\n",
        "exp = Experiment(workspace=ws, name=\"lol_match_predictor_automl\")\n",
        "\n",
        "print('Workspace name: ' + ws.name, \n",
        "      'Azure region: ' + ws.location, \n",
        "      'Subscription id: ' + ws.subscription_id, \n",
        "      'Resource group: ' + ws.resource_group, sep = '\\n')\n",
        "\n",
        "run = exp.start_logging()"
      ],
      "outputs": [
        {
          "output_type": "stream",
          "name": "stdout",
          "text": [
            "Workspace name: quick-starts-ws-136321\n",
            "Azure region: southcentralus\n",
            "Subscription id: 6b4af8be-9931-443e-90f6-c4c34a1f9737\n",
            "Resource group: aml-quickstarts-136321\n"
          ]
        }
      ],
      "execution_count": 4,
      "metadata": {
        "gather": {
          "logged": 1611795026866
        }
      }
    },
    {
      "cell_type": "code",
      "source": [
        "# Create compute cluster\n",
        "# Use vm_size = \"Standard_D2_V2\" in your provisioning configuration.\n",
        "# max_nodes should be no greater than 4.\n",
        "\n",
        "cluster_name = \"cluster\"\n",
        "\n",
        "try:\n",
        "    compute_target = ComputeTarget(workspace=ws, name=cluster_name)\n",
        "    print('Found existing cluster, use it.')\n",
        "except ComputeTargetException:\n",
        "    compute_config = AmlCompute.provisioning_configuration(vm_size='STANDARD_DS3_V2',# for GPU, use \"STANDARD_NC6\"\n",
        "                                                           #vm_priority = 'lowpriority', # optional\n",
        "                                                           max_nodes=4)\n",
        "    compute_target = ComputeTarget.create(ws, cluster_name, compute_config)"
      ],
      "outputs": [
        {
          "output_type": "stream",
          "name": "stdout",
          "text": [
            "Found existing cluster, use it.\n"
          ]
        }
      ],
      "execution_count": 5,
      "metadata": {
        "gather": {
          "logged": 1611795028149
        }
      }
    },
    {
      "cell_type": "markdown",
      "source": [
        "## Dataset\n",
        "\n",
        "### Overview\n",
        "TODO: In this markdown cell, give an overview of the dataset you are using. Also mention the task you will be performing.\n",
        "\n",
        "\n",
        "TODO: Get data. In the cell below, write code to access the data you will be using in this project. Remember that the dataset needs to be external."
      ],
      "metadata": {}
    },
    {
      "cell_type": "code",
      "source": [
        "data = pd.read_csv(\"https://oracleselixir-downloadable-match-data.s3-us-west-2.amazonaws.com/2020_LoL_esports_match_data_from_OraclesElixir_20210126.csv\")\n",
        "\n",
        "# This dataset requires cleaning to only get the features we want.\n",
        "columns = ['side', 'position', 'result', 'golddiffat10', 'xpdiffat10', 'golddiffat15', 'xpdiffat15']\n",
        "\n",
        "data = pd.DataFrame(data, columns=columns)\n",
        "\n",
        "# This dataset has data for both sides in each match. We only need to look at matches from one side, so we take only Blue side data.\n",
        "\n",
        "data = data.loc[data['side'] == 'Blue']\n",
        "\n",
        "# This dataset also has data for teams as well as individual players. We only need the data for teams.\n",
        "\n",
        "data = data[data.position.eq('team')]\n",
        "\n",
        "# Side no longer needed so we can delete this field.\n",
        "data.drop(['side'], inplace=True, axis=1, errors='ignore')\n",
        "# We also no longer need positions.\n",
        "data.drop(['position'], inplace=True, axis=1, errors='ignore')\n",
        "\n",
        "# This dataset is equivalent to the output of the above operations.\n",
        "ds = TabularDatasetFactory.from_delimited_files(path=\"https://raw.githubusercontent.com/ncharchenko/Azure-ML-Engineer-Nanodegree-Capstone/master/OraclesElixir_automl_data.csv\")\n",
        "\n",
        "# Show data after cleaning.\n",
        "data.head()"
      ],
      "outputs": [
        {
          "output_type": "execute_result",
          "execution_count": 6,
          "data": {
            "text/plain": "    result  golddiffat10  xpdiffat10  golddiffat15  xpdiffat15\n10       1        117.00     -137.00       -825.00    -1665.00\n22       0      -2014.00    -2149.00      -5484.00    -4833.00\n34       1        682.00      615.00       2566.00     2097.00\n46       0      -1579.00     -858.00      -2471.00    -3064.00\n58       0       -747.00     -313.00        877.00      205.00",
            "text/html": "<div>\n<style scoped>\n    .dataframe tbody tr th:only-of-type {\n        vertical-align: middle;\n    }\n\n    .dataframe tbody tr th {\n        vertical-align: top;\n    }\n\n    .dataframe thead th {\n        text-align: right;\n    }\n</style>\n<table border=\"1\" class=\"dataframe\">\n  <thead>\n    <tr style=\"text-align: right;\">\n      <th></th>\n      <th>result</th>\n      <th>golddiffat10</th>\n      <th>xpdiffat10</th>\n      <th>golddiffat15</th>\n      <th>xpdiffat15</th>\n    </tr>\n  </thead>\n  <tbody>\n    <tr>\n      <th>10</th>\n      <td>1</td>\n      <td>117.00</td>\n      <td>-137.00</td>\n      <td>-825.00</td>\n      <td>-1665.00</td>\n    </tr>\n    <tr>\n      <th>22</th>\n      <td>0</td>\n      <td>-2014.00</td>\n      <td>-2149.00</td>\n      <td>-5484.00</td>\n      <td>-4833.00</td>\n    </tr>\n    <tr>\n      <th>34</th>\n      <td>1</td>\n      <td>682.00</td>\n      <td>615.00</td>\n      <td>2566.00</td>\n      <td>2097.00</td>\n    </tr>\n    <tr>\n      <th>46</th>\n      <td>0</td>\n      <td>-1579.00</td>\n      <td>-858.00</td>\n      <td>-2471.00</td>\n      <td>-3064.00</td>\n    </tr>\n    <tr>\n      <th>58</th>\n      <td>0</td>\n      <td>-747.00</td>\n      <td>-313.00</td>\n      <td>877.00</td>\n      <td>205.00</td>\n    </tr>\n  </tbody>\n</table>\n</div>"
          },
          "metadata": {}
        }
      ],
      "execution_count": 6,
      "metadata": {
        "gather": {
          "logged": 1611795238267
        },
        "jupyter": {
          "outputs_hidden": false,
          "source_hidden": false
        },
        "nteract": {
          "transient": {
            "deleting": false
          }
        }
      }
    },
    {
      "cell_type": "markdown",
      "source": [
        "## AutoML Configuration\n",
        "\n",
        "TODO: Explain why you chose the automl settings and cofiguration you used below."
      ],
      "metadata": {}
    },
    {
      "cell_type": "code",
      "source": [
        "# TODO: Put your automl settings here\n",
        "automl_settings = {}\n",
        "\n",
        "# TODO: Put your automl config here\n",
        "automl_config = AutoMLConfig(\n",
        "    experiment_timeout_minutes=30,\n",
        "    enable_onnx_compatible_models=True,\n",
        "    compute_target=compute_target,\n",
        "    task=\"classification\",\n",
        "    primary_metric=\"accuracy\",\n",
        "    training_data=ds,\n",
        "    validation_size=0.2,\n",
        "    label_column_name=\"result\")"
      ],
      "outputs": [],
      "execution_count": 7,
      "metadata": {
        "gather": {
          "logged": 1611795392719
        },
        "jupyter": {
          "outputs_hidden": false,
          "source_hidden": false
        },
        "nteract": {
          "transient": {
            "deleting": false
          }
        }
      }
    },
    {
      "cell_type": "code",
      "source": [
        "# TODO: Submit your experiment\n",
        "remote_run = exp.submit(automl_config)"
      ],
      "outputs": [
        {
          "output_type": "stream",
          "name": "stdout",
          "text": [
            "Running on remote.\n"
          ]
        }
      ],
      "execution_count": 8,
      "metadata": {
        "gather": {
          "logged": 1611795399307
        },
        "jupyter": {
          "outputs_hidden": false,
          "source_hidden": false
        },
        "nteract": {
          "transient": {
            "deleting": false
          }
        }
      }
    },
    {
      "cell_type": "markdown",
      "source": [
        "## Run Details\n",
        "\n",
        "OPTIONAL: Write about the different models trained and their performance. Why do you think some models did better than others?\n",
        "\n",
        "TODO: In the cell below, use the `RunDetails` widget to show the different experiments."
      ],
      "metadata": {}
    },
    {
      "cell_type": "code",
      "source": [
        "RunDetails(remote_run).show()"
      ],
      "outputs": [
        {
          "output_type": "display_data",
          "data": {
            "text/plain": "_AutoMLWidget(widget_settings={'childWidgetDisplay': 'popup', 'send_telemetry': False, 'log_level': 'INFO', 's…",
            "application/vnd.jupyter.widget-view+json": {
              "version_major": 2,
              "version_minor": 0,
              "model_id": "357cc107d70b49469f9a1276465d90ba"
            }
          },
          "metadata": {}
        },
        {
          "output_type": "display_data",
          "data": {
            "application/aml.mini.widget.v1": "{\"status\": \"Completed\", \"workbench_run_details_uri\": \"https://ml.azure.com/experiments/lol_match_predictor_automl/runs/AutoML_c9f3baf5-4fe2-40b3-ab4f-7d284b23f505?wsid=/subscriptions/6b4af8be-9931-443e-90f6-c4c34a1f9737/resourcegroups/aml-quickstarts-136321/workspaces/quick-starts-ws-136321\", \"run_id\": \"AutoML_c9f3baf5-4fe2-40b3-ab4f-7d284b23f505\", \"run_properties\": {\"run_id\": \"AutoML_c9f3baf5-4fe2-40b3-ab4f-7d284b23f505\", \"created_utc\": \"2021-01-28T00:56:38.402513Z\", \"properties\": {\"num_iterations\": \"1000\", \"training_type\": \"TrainFull\", \"acquisition_function\": \"EI\", \"primary_metric\": \"accuracy\", \"train_split\": \"0.2\", \"acquisition_parameter\": \"0\", \"num_cross_validation\": null, \"target\": \"cluster\", \"AMLSettingsJsonString\": \"{\\\"path\\\":null,\\\"name\\\":\\\"lol_match_predictor_automl\\\",\\\"subscription_id\\\":\\\"6b4af8be-9931-443e-90f6-c4c34a1f9737\\\",\\\"resource_group\\\":\\\"aml-quickstarts-136321\\\",\\\"workspace_name\\\":\\\"quick-starts-ws-136321\\\",\\\"region\\\":\\\"southcentralus\\\",\\\"compute_target\\\":\\\"cluster\\\",\\\"spark_service\\\":null,\\\"azure_service\\\":\\\"remote\\\",\\\"many_models\\\":false,\\\"pipeline_fetch_max_batch_size\\\":1,\\\"iterations\\\":1000,\\\"primary_metric\\\":\\\"accuracy\\\",\\\"task_type\\\":\\\"classification\\\",\\\"data_script\\\":null,\\\"validation_size\\\":0.2,\\\"n_cross_validations\\\":null,\\\"y_min\\\":null,\\\"y_max\\\":null,\\\"num_classes\\\":null,\\\"featurization\\\":\\\"auto\\\",\\\"_ignore_package_version_incompatibilities\\\":false,\\\"is_timeseries\\\":false,\\\"max_cores_per_iteration\\\":1,\\\"max_concurrent_iterations\\\":1,\\\"iteration_timeout_minutes\\\":null,\\\"mem_in_mb\\\":null,\\\"enforce_time_on_windows\\\":false,\\\"experiment_timeout_minutes\\\":30,\\\"experiment_exit_score\\\":null,\\\"whitelist_models\\\":null,\\\"blacklist_algos\\\":[\\\"TensorFlowLinearClassifier\\\",\\\"TensorFlowDNN\\\"],\\\"supported_models\\\":[\\\"BernoulliNaiveBayes\\\",\\\"KNN\\\",\\\"TensorFlowLinearClassifier\\\",\\\"LinearSVM\\\",\\\"GradientBoosting\\\",\\\"DecisionTree\\\",\\\"TensorFlowDNN\\\",\\\"RandomForest\\\",\\\"XGBoostClassifier\\\",\\\"SVM\\\",\\\"ExtremeRandomTrees\\\",\\\"LightGBM\\\",\\\"AveragedPerceptronClassifier\\\",\\\"MultinomialNaiveBayes\\\",\\\"SGD\\\",\\\"LogisticRegression\\\"],\\\"auto_blacklist\\\":true,\\\"blacklist_samples_reached\\\":false,\\\"exclude_nan_labels\\\":true,\\\"verbosity\\\":20,\\\"_debug_log\\\":\\\"azureml_automl.log\\\",\\\"show_warnings\\\":false,\\\"model_explainability\\\":true,\\\"service_url\\\":null,\\\"sdk_url\\\":null,\\\"sdk_packages\\\":null,\\\"enable_onnx_compatible_models\\\":true,\\\"enable_split_onnx_featurizer_estimator_models\\\":false,\\\"vm_type\\\":\\\"STANDARD_D2_V2\\\",\\\"telemetry_verbosity\\\":20,\\\"send_telemetry\\\":true,\\\"enable_dnn\\\":false,\\\"scenario\\\":\\\"SDK-1.13.0\\\",\\\"environment_label\\\":null,\\\"force_text_dnn\\\":false,\\\"enable_feature_sweeping\\\":false,\\\"enable_early_stopping\\\":false,\\\"early_stopping_n_iters\\\":10,\\\"metrics\\\":null,\\\"enable_ensembling\\\":true,\\\"enable_stack_ensembling\\\":false,\\\"ensemble_iterations\\\":15,\\\"enable_tf\\\":false,\\\"enable_subsampling\\\":null,\\\"subsample_seed\\\":null,\\\"enable_nimbusml\\\":false,\\\"enable_streaming\\\":false,\\\"force_streaming\\\":false,\\\"track_child_runs\\\":true,\\\"allowed_private_models\\\":[],\\\"label_column_name\\\":\\\"result\\\",\\\"weight_column_name\\\":null,\\\"cv_split_column_names\\\":null,\\\"enable_local_managed\\\":false,\\\"_local_managed_run_id\\\":null,\\\"cost_mode\\\":1,\\\"lag_length\\\":0,\\\"metric_operation\\\":\\\"maximize\\\",\\\"preprocess\\\":true}\", \"DataPrepJsonString\": \"{\\\\\\\"training_data\\\\\\\": \\\\\\\"{\\\\\\\\\\\\\\\"blocks\\\\\\\\\\\\\\\": [{\\\\\\\\\\\\\\\"id\\\\\\\\\\\\\\\": \\\\\\\\\\\\\\\"ae4fe222-1a6f-4525-bda5-1abb2a7e2358\\\\\\\\\\\\\\\", \\\\\\\\\\\\\\\"type\\\\\\\\\\\\\\\": \\\\\\\\\\\\\\\"Microsoft.DPrep.GetFilesBlock\\\\\\\\\\\\\\\", \\\\\\\\\\\\\\\"arguments\\\\\\\\\\\\\\\": {\\\\\\\\\\\\\\\"isArchive\\\\\\\\\\\\\\\": false, \\\\\\\\\\\\\\\"path\\\\\\\\\\\\\\\": {\\\\\\\\\\\\\\\"target\\\\\\\\\\\\\\\": 4, \\\\\\\\\\\\\\\"resourceDetails\\\\\\\\\\\\\\\": [{\\\\\\\\\\\\\\\"path\\\\\\\\\\\\\\\": \\\\\\\\\\\\\\\"https://raw.githubusercontent.com/ncharchenko/Azure-ML-Engineer-Nanodegree-Capstone/master/OraclesElixir_automl_data.csv\\\\\\\\\\\\\\\"}]}}, \\\\\\\\\\\\\\\"localData\\\\\\\\\\\\\\\": {}, \\\\\\\\\\\\\\\"isEnabled\\\\\\\\\\\\\\\": true, \\\\\\\\\\\\\\\"name\\\\\\\\\\\\\\\": null, \\\\\\\\\\\\\\\"annotation\\\\\\\\\\\\\\\": null}, {\\\\\\\\\\\\\\\"id\\\\\\\\\\\\\\\": \\\\\\\\\\\\\\\"4c0a1f4a-46a1-45fb-931f-b49b9b23093c\\\\\\\\\\\\\\\", \\\\\\\\\\\\\\\"type\\\\\\\\\\\\\\\": \\\\\\\\\\\\\\\"Microsoft.DPrep.ParseDelimitedBlock\\\\\\\\\\\\\\\", \\\\\\\\\\\\\\\"arguments\\\\\\\\\\\\\\\": {\\\\\\\\\\\\\\\"columnHeadersMode\\\\\\\\\\\\\\\": 3, \\\\\\\\\\\\\\\"fileEncoding\\\\\\\\\\\\\\\": 0, \\\\\\\\\\\\\\\"handleQuotedLineBreaks\\\\\\\\\\\\\\\": false, \\\\\\\\\\\\\\\"preview\\\\\\\\\\\\\\\": false, \\\\\\\\\\\\\\\"separator\\\\\\\\\\\\\\\": \\\\\\\\\\\\\\\",\\\\\\\\\\\\\\\", \\\\\\\\\\\\\\\"skipRows\\\\\\\\\\\\\\\": 0, \\\\\\\\\\\\\\\"skipRowsMode\\\\\\\\\\\\\\\": 0}, \\\\\\\\\\\\\\\"localData\\\\\\\\\\\\\\\": {}, \\\\\\\\\\\\\\\"isEnabled\\\\\\\\\\\\\\\": true, \\\\\\\\\\\\\\\"name\\\\\\\\\\\\\\\": null, \\\\\\\\\\\\\\\"annotation\\\\\\\\\\\\\\\": null}, {\\\\\\\\\\\\\\\"id\\\\\\\\\\\\\\\": \\\\\\\\\\\\\\\"4b4818ca-c580-40a1-9bb1-b4d3c94ff69f\\\\\\\\\\\\\\\", \\\\\\\\\\\\\\\"type\\\\\\\\\\\\\\\": \\\\\\\\\\\\\\\"Microsoft.DPrep.DropColumnsBlock\\\\\\\\\\\\\\\", \\\\\\\\\\\\\\\"arguments\\\\\\\\\\\\\\\": {\\\\\\\\\\\\\\\"columns\\\\\\\\\\\\\\\": {\\\\\\\\\\\\\\\"type\\\\\\\\\\\\\\\": 0, \\\\\\\\\\\\\\\"details\\\\\\\\\\\\\\\": {\\\\\\\\\\\\\\\"selectedColumns\\\\\\\\\\\\\\\": [\\\\\\\\\\\\\\\"Path\\\\\\\\\\\\\\\"]}}}, \\\\\\\\\\\\\\\"localData\\\\\\\\\\\\\\\": {}, \\\\\\\\\\\\\\\"isEnabled\\\\\\\\\\\\\\\": true, \\\\\\\\\\\\\\\"name\\\\\\\\\\\\\\\": null, \\\\\\\\\\\\\\\"annotation\\\\\\\\\\\\\\\": null}, {\\\\\\\\\\\\\\\"id\\\\\\\\\\\\\\\": \\\\\\\\\\\\\\\"e7028aaa-bd89-4f2a-9a69-5236ed4efac8\\\\\\\\\\\\\\\", \\\\\\\\\\\\\\\"type\\\\\\\\\\\\\\\": \\\\\\\\\\\\\\\"Microsoft.DPrep.SetColumnTypesBlock\\\\\\\\\\\\\\\", \\\\\\\\\\\\\\\"arguments\\\\\\\\\\\\\\\": {\\\\\\\\\\\\\\\"columnConversion\\\\\\\\\\\\\\\": [{\\\\\\\\\\\\\\\"column\\\\\\\\\\\\\\\": {\\\\\\\\\\\\\\\"type\\\\\\\\\\\\\\\": 2, \\\\\\\\\\\\\\\"details\\\\\\\\\\\\\\\": {\\\\\\\\\\\\\\\"selectedColumn\\\\\\\\\\\\\\\": \\\\\\\\\\\\\\\"Column1\\\\\\\\\\\\\\\"}}, \\\\\\\\\\\\\\\"typeProperty\\\\\\\\\\\\\\\": 2}, {\\\\\\\\\\\\\\\"column\\\\\\\\\\\\\\\": {\\\\\\\\\\\\\\\"type\\\\\\\\\\\\\\\": 2, \\\\\\\\\\\\\\\"details\\\\\\\\\\\\\\\": {\\\\\\\\\\\\\\\"selectedColumn\\\\\\\\\\\\\\\": \\\\\\\\\\\\\\\"result\\\\\\\\\\\\\\\"}}, \\\\\\\\\\\\\\\"typeProperty\\\\\\\\\\\\\\\": 2}, {\\\\\\\\\\\\\\\"column\\\\\\\\\\\\\\\": {\\\\\\\\\\\\\\\"type\\\\\\\\\\\\\\\": 2, \\\\\\\\\\\\\\\"details\\\\\\\\\\\\\\\": {\\\\\\\\\\\\\\\"selectedColumn\\\\\\\\\\\\\\\": \\\\\\\\\\\\\\\"golddiffat10\\\\\\\\\\\\\\\"}}, \\\\\\\\\\\\\\\"typeProperty\\\\\\\\\\\\\\\": 3}, {\\\\\\\\\\\\\\\"column\\\\\\\\\\\\\\\": {\\\\\\\\\\\\\\\"type\\\\\\\\\\\\\\\": 2, \\\\\\\\\\\\\\\"details\\\\\\\\\\\\\\\": {\\\\\\\\\\\\\\\"selectedColumn\\\\\\\\\\\\\\\": \\\\\\\\\\\\\\\"xpdiffat10\\\\\\\\\\\\\\\"}}, \\\\\\\\\\\\\\\"typeProperty\\\\\\\\\\\\\\\": 3}, {\\\\\\\\\\\\\\\"column\\\\\\\\\\\\\\\": {\\\\\\\\\\\\\\\"type\\\\\\\\\\\\\\\": 2, \\\\\\\\\\\\\\\"details\\\\\\\\\\\\\\\": {\\\\\\\\\\\\\\\"selectedColumn\\\\\\\\\\\\\\\": \\\\\\\\\\\\\\\"golddiffat15\\\\\\\\\\\\\\\"}}, \\\\\\\\\\\\\\\"typeProperty\\\\\\\\\\\\\\\": 3}, {\\\\\\\\\\\\\\\"column\\\\\\\\\\\\\\\": {\\\\\\\\\\\\\\\"type\\\\\\\\\\\\\\\": 2, \\\\\\\\\\\\\\\"details\\\\\\\\\\\\\\\": {\\\\\\\\\\\\\\\"selectedColumn\\\\\\\\\\\\\\\": \\\\\\\\\\\\\\\"xpdiffat15\\\\\\\\\\\\\\\"}}, \\\\\\\\\\\\\\\"typeProperty\\\\\\\\\\\\\\\": 3}]}, \\\\\\\\\\\\\\\"localData\\\\\\\\\\\\\\\": {}, \\\\\\\\\\\\\\\"isEnabled\\\\\\\\\\\\\\\": true, \\\\\\\\\\\\\\\"name\\\\\\\\\\\\\\\": null, \\\\\\\\\\\\\\\"annotation\\\\\\\\\\\\\\\": null}], \\\\\\\\\\\\\\\"inspectors\\\\\\\\\\\\\\\": [], \\\\\\\\\\\\\\\"meta\\\\\\\\\\\\\\\": {\\\\\\\\\\\\\\\"savedDatasetId\\\\\\\\\\\\\\\": \\\\\\\\\\\\\\\"94178ad1-073d-4814-be4b-f4e1f55a6f0d\\\\\\\\\\\\\\\", \\\\\\\\\\\\\\\"datasetType\\\\\\\\\\\\\\\": \\\\\\\\\\\\\\\"tabular\\\\\\\\\\\\\\\", \\\\\\\\\\\\\\\"subscriptionId\\\\\\\\\\\\\\\": \\\\\\\\\\\\\\\"6b4af8be-9931-443e-90f6-c4c34a1f9737\\\\\\\\\\\\\\\", \\\\\\\\\\\\\\\"workspaceId\\\\\\\\\\\\\\\": \\\\\\\\\\\\\\\"f6de0c3d-da84-454b-8b7a-a551a4946c33\\\\\\\\\\\\\\\", \\\\\\\\\\\\\\\"workspaceLocation\\\\\\\\\\\\\\\": \\\\\\\\\\\\\\\"southcentralus\\\\\\\\\\\\\\\"}}\\\\\\\", \\\\\\\"activities\\\\\\\": 0}\", \"EnableSubsampling\": null, \"runTemplate\": \"AutoML\", \"azureml.runsource\": \"automl\", \"display_task_type\": \"classification\", \"dependencies_versions\": \"{\\\"azureml-widgets\\\": \\\"1.20.0\\\", \\\"azureml-train\\\": \\\"1.20.0\\\", \\\"azureml-train-restclients-hyperdrive\\\": \\\"1.20.0\\\", \\\"azureml-train-core\\\": \\\"1.20.0\\\", \\\"azureml-train-automl\\\": \\\"1.20.0\\\", \\\"azureml-train-automl-runtime\\\": \\\"1.20.0\\\", \\\"azureml-train-automl-client\\\": \\\"1.20.0\\\", \\\"azureml-tensorboard\\\": \\\"1.20.0\\\", \\\"azureml-telemetry\\\": \\\"1.20.0\\\", \\\"azureml-sdk\\\": \\\"1.20.0\\\", \\\"azureml-samples\\\": \\\"0+unknown\\\", \\\"azureml-pipeline\\\": \\\"1.20.0\\\", \\\"azureml-pipeline-steps\\\": \\\"1.20.0\\\", \\\"azureml-pipeline-core\\\": \\\"1.20.0\\\", \\\"azureml-opendatasets\\\": \\\"1.20.0\\\", \\\"azureml-model-management-sdk\\\": \\\"1.0.1b6.post1\\\", \\\"azureml-mlflow\\\": \\\"1.20.0.post1\\\", \\\"azureml-interpret\\\": \\\"1.20.0\\\", \\\"azureml-explain-model\\\": \\\"1.20.0\\\", \\\"azureml-defaults\\\": \\\"1.20.0\\\", \\\"azureml-dataset-runtime\\\": \\\"1.20.0\\\", \\\"azureml-dataprep\\\": \\\"2.7.3\\\", \\\"azureml-dataprep-rslex\\\": \\\"1.5.0\\\", \\\"azureml-dataprep-native\\\": \\\"27.0.0\\\", \\\"azureml-datadrift\\\": \\\"1.20.0\\\", \\\"azureml-core\\\": \\\"1.20.0\\\", \\\"azureml-contrib-services\\\": \\\"1.20.0\\\", \\\"azureml-contrib-server\\\": \\\"1.20.0\\\", \\\"azureml-contrib-reinforcementlearning\\\": \\\"1.20.0\\\", \\\"azureml-contrib-pipeline-steps\\\": \\\"1.20.0\\\", \\\"azureml-contrib-notebook\\\": \\\"1.20.0\\\", \\\"azureml-contrib-interpret\\\": \\\"1.20.0\\\", \\\"azureml-contrib-gbdt\\\": \\\"1.20.0\\\", \\\"azureml-contrib-fairness\\\": \\\"1.20.0\\\", \\\"azureml-contrib-dataset\\\": \\\"1.20.0\\\", \\\"azureml-cli-common\\\": \\\"1.20.0\\\", \\\"azureml-automl-runtime\\\": \\\"1.20.0\\\", \\\"azureml-automl-core\\\": \\\"1.20.0\\\", \\\"azureml-accel-models\\\": \\\"1.20.0\\\"}\", \"_aml_system_scenario_identification\": \"Remote.Parent\", \"ClientType\": \"SDK\", \"environment_cpu_name\": \"AzureML-AutoML\", \"environment_cpu_label\": \"prod\", \"environment_gpu_name\": \"AzureML-AutoML-GPU\", \"environment_gpu_label\": \"prod\", \"root_attribution\": \"automl\", \"attribution\": \"AutoML\", \"Orchestrator\": \"AutoML\", \"CancelUri\": \"https://southcentralus.experiments.azureml.net/jasmine/v1.0/subscriptions/6b4af8be-9931-443e-90f6-c4c34a1f9737/resourceGroups/aml-quickstarts-136321/providers/Microsoft.MachineLearningServices/workspaces/quick-starts-ws-136321/experimentids/cfcc6e17-96af-4c92-a99c-bebcc885ce7f/cancel/AutoML_c9f3baf5-4fe2-40b3-ab4f-7d284b23f505\", \"ClientSdkVersion\": \"1.20.0.post1\", \"snapshotId\": \"00000000-0000-0000-0000-000000000000\", \"SetupRunId\": \"AutoML_c9f3baf5-4fe2-40b3-ab4f-7d284b23f505_setup\", \"SetupRunContainerId\": \"dcid.AutoML_c9f3baf5-4fe2-40b3-ab4f-7d284b23f505_setup\", \"FeaturizationRunJsonPath\": \"featurizer_container.json\", \"FeaturizationRunId\": \"AutoML_c9f3baf5-4fe2-40b3-ab4f-7d284b23f505_featurize\", \"ProblemInfoJsonString\": \"{\\\"dataset_num_categorical\\\": 0, \\\"is_sparse\\\": false, \\\"subsampling\\\": false, \\\"dataset_classes\\\": 2, \\\"dataset_features\\\": 5, \\\"dataset_samples\\\": 5246, \\\"single_frequency_class_detected\\\": false}\", \"ModelExplainRunId\": \"AutoML_c9f3baf5-4fe2-40b3-ab4f-7d284b23f505_ModelExplain\"}, \"tags\": {\"model_explain_run\": \"best_run\", \"_aml_system_azureml.automlComponent\": \"AutoML\", \"pipeline_id\": \"\", \"score\": \"\", \"predicted_cost\": \"\", \"fit_time\": \"\", \"training_percent\": \"\", \"iteration\": \"\", \"run_preprocessor\": \"\", \"run_algorithm\": \"\", \"automl_best_child_run_id\": \"AutoML_c9f3baf5-4fe2-40b3-ab4f-7d284b23f505_25\", \"model_explain_best_run_child_id\": \"AutoML_c9f3baf5-4fe2-40b3-ab4f-7d284b23f505_25\"}, \"end_time_utc\": \"2021-01-28T01:37:31.270859Z\", \"status\": \"Completed\", \"log_files\": {}, \"log_groups\": [], \"run_duration\": \"0:40:52\"}, \"child_runs\": [{\"run_id\": \"AutoML_c9f3baf5-4fe2-40b3-ab4f-7d284b23f505_0\", \"run_number\": 6, \"metric\": null, \"status\": \"Completed\", \"run_type\": \"azureml.scriptrun\", \"training_percent\": \"100\", \"start_time\": \"2021-01-28T01:05:51.973518Z\", \"end_time\": \"2021-01-28T01:06:40.767103Z\", \"created_time\": \"2021-01-28T01:05:39.199391Z\", \"created_time_dt\": \"2021-01-28T01:05:39.199391Z\", \"duration\": \"0:01:01\", \"iteration\": \"0\", \"goal\": \"accuracy_max\", \"run_name\": \"MaxAbsScaler, LightGBM\", \"run_properties\": \"copy=True\", \"primary_metric\": 0.73455378, \"best_metric\": 0.73455378}, {\"run_id\": \"AutoML_c9f3baf5-4fe2-40b3-ab4f-7d284b23f505_1\", \"run_number\": 7, \"metric\": null, \"status\": \"Completed\", \"run_type\": \"azureml.scriptrun\", \"training_percent\": \"100\", \"start_time\": \"2021-01-28T01:06:53.244914Z\", \"end_time\": \"2021-01-28T01:07:46.479771Z\", \"created_time\": \"2021-01-28T01:06:42.26115Z\", \"created_time_dt\": \"2021-01-28T01:06:42.26115Z\", \"duration\": \"0:01:04\", \"iteration\": \"1\", \"goal\": \"accuracy_max\", \"run_name\": \"MaxAbsScaler, XGBoostClassifier\", \"run_properties\": \"copy=True\", \"primary_metric\": 0.74065599, \"best_metric\": 0.74065599}, {\"run_id\": \"AutoML_c9f3baf5-4fe2-40b3-ab4f-7d284b23f505_2\", \"run_number\": 8, \"metric\": null, \"status\": \"Completed\", \"run_type\": \"azureml.scriptrun\", \"training_percent\": \"100\", \"start_time\": \"2021-01-28T01:07:59.013926Z\", \"end_time\": \"2021-01-28T01:08:46.707643Z\", \"created_time\": \"2021-01-28T01:07:47.628346Z\", \"created_time_dt\": \"2021-01-28T01:07:47.628346Z\", \"duration\": \"0:00:59\", \"iteration\": \"2\", \"goal\": \"accuracy_max\", \"run_name\": \"MinMaxScaler, RandomForest\", \"run_properties\": \"copy=True, feature_range=(0, 1\", \"primary_metric\": 0.74446987, \"best_metric\": 0.74446987}, {\"run_id\": \"AutoML_c9f3baf5-4fe2-40b3-ab4f-7d284b23f505_3\", \"run_number\": 9, \"metric\": null, \"status\": \"Completed\", \"run_type\": \"azureml.scriptrun\", \"training_percent\": \"100\", \"start_time\": \"2021-01-28T01:09:00.373Z\", \"end_time\": \"2021-01-28T01:09:50.958866Z\", \"created_time\": \"2021-01-28T01:08:48.839715Z\", \"created_time_dt\": \"2021-01-28T01:08:48.839715Z\", \"duration\": \"0:01:02\", \"iteration\": \"3\", \"goal\": \"accuracy_max\", \"run_name\": \"MinMaxScaler, RandomForest\", \"run_properties\": \"copy=True, feature_range=(0, 1\", \"primary_metric\": 0.74065599, \"best_metric\": 0.74446987}, {\"run_id\": \"AutoML_c9f3baf5-4fe2-40b3-ab4f-7d284b23f505_4\", \"run_number\": 10, \"metric\": null, \"status\": \"Completed\", \"run_type\": \"azureml.scriptrun\", \"training_percent\": \"100\", \"start_time\": \"2021-01-28T01:10:05.533023Z\", \"end_time\": \"2021-01-28T01:13:10.759656Z\", \"created_time\": \"2021-01-28T01:09:53.650842Z\", \"created_time_dt\": \"2021-01-28T01:09:53.650842Z\", \"duration\": \"0:03:17\", \"iteration\": \"4\", \"goal\": \"accuracy_max\", \"run_name\": \"MinMaxScaler, RandomForest\", \"run_properties\": \"copy=True, feature_range=(0, 1\", \"primary_metric\": 0.73607933, \"best_metric\": 0.74446987}, {\"run_id\": \"AutoML_c9f3baf5-4fe2-40b3-ab4f-7d284b23f505_5\", \"run_number\": 11, \"metric\": null, \"status\": \"Completed\", \"run_type\": \"azureml.scriptrun\", \"training_percent\": \"100\", \"start_time\": \"2021-01-28T01:13:28.337777Z\", \"end_time\": \"2021-01-28T01:14:11.223331Z\", \"created_time\": \"2021-01-28T01:13:14.242302Z\", \"created_time_dt\": \"2021-01-28T01:13:14.242302Z\", \"duration\": \"0:00:56\", \"iteration\": \"5\", \"goal\": \"accuracy_max\", \"run_name\": \"SparseNormalizer, XGBoostClassifier\", \"run_properties\": \"<azureml.automl.runtime.shared.model_wrappers.SparseNormalizer object at 0x7fee55be1be0\", \"primary_metric\": 0.73531655, \"best_metric\": 0.74446987}, {\"run_id\": \"AutoML_c9f3baf5-4fe2-40b3-ab4f-7d284b23f505_6\", \"run_number\": 12, \"metric\": null, \"status\": \"Completed\", \"run_type\": \"azureml.scriptrun\", \"training_percent\": \"100\", \"start_time\": \"2021-01-28T01:14:26.929836Z\", \"end_time\": \"2021-01-28T01:15:08.888312Z\", \"created_time\": \"2021-01-28T01:14:14.580067Z\", \"created_time_dt\": \"2021-01-28T01:14:14.580067Z\", \"duration\": \"0:00:54\", \"iteration\": \"6\", \"goal\": \"accuracy_max\", \"run_name\": \"MaxAbsScaler, GradientBoosting\", \"run_properties\": \"copy=True\", \"primary_metric\": 0.73913043, \"best_metric\": 0.74446987}, {\"run_id\": \"AutoML_c9f3baf5-4fe2-40b3-ab4f-7d284b23f505_7\", \"run_number\": 13, \"metric\": null, \"status\": \"Completed\", \"run_type\": \"azureml.scriptrun\", \"training_percent\": \"100\", \"start_time\": \"2021-01-28T01:15:26.064517Z\", \"end_time\": \"2021-01-28T01:16:14.548598Z\", \"created_time\": \"2021-01-28T01:15:12.610587Z\", \"created_time_dt\": \"2021-01-28T01:15:12.610587Z\", \"duration\": \"0:01:01\", \"iteration\": \"7\", \"goal\": \"accuracy_max\", \"run_name\": \"SparseNormalizer, XGBoostClassifier\", \"run_properties\": \"<azureml.automl.runtime.shared.model_wrappers.SparseNormalizer object at 0x7f82b85d67f0\", \"primary_metric\": 0.74218154, \"best_metric\": 0.74446987}, {\"run_id\": \"AutoML_c9f3baf5-4fe2-40b3-ab4f-7d284b23f505_8\", \"run_number\": 14, \"metric\": null, \"status\": \"Completed\", \"run_type\": \"azureml.scriptrun\", \"training_percent\": \"100\", \"start_time\": \"2021-01-28T01:16:36.331279Z\", \"end_time\": \"2021-01-28T01:17:27.064998Z\", \"created_time\": \"2021-01-28T01:16:18.871638Z\", \"created_time_dt\": \"2021-01-28T01:16:18.871638Z\", \"duration\": \"0:01:08\", \"iteration\": \"8\", \"goal\": \"accuracy_max\", \"run_name\": \"StandardScalerWrapper, LogisticRegression\", \"run_properties\": \"<azureml.automl.runtime.shared.model_wrappers.StandardScalerWrapper object at 0x7fe96d08e8d0\", \"primary_metric\": 0.74294432, \"best_metric\": 0.74446987}, {\"run_id\": \"AutoML_c9f3baf5-4fe2-40b3-ab4f-7d284b23f505_9\", \"run_number\": 15, \"metric\": null, \"status\": \"Completed\", \"run_type\": \"azureml.scriptrun\", \"training_percent\": \"100\", \"start_time\": \"2021-01-28T01:17:44.361972Z\", \"end_time\": \"2021-01-28T01:18:27.196934Z\", \"created_time\": \"2021-01-28T01:17:29.383295Z\", \"created_time_dt\": \"2021-01-28T01:17:29.383295Z\", \"duration\": \"0:00:57\", \"iteration\": \"9\", \"goal\": \"accuracy_max\", \"run_name\": \"MinMaxScaler, LogisticRegression\", \"run_properties\": \"copy=True, feature_range=(0, 1\", \"primary_metric\": 0.74141876, \"best_metric\": 0.74446987}, {\"run_id\": \"AutoML_c9f3baf5-4fe2-40b3-ab4f-7d284b23f505_10\", \"run_number\": 16, \"metric\": null, \"status\": \"Completed\", \"run_type\": \"azureml.scriptrun\", \"training_percent\": \"100\", \"start_time\": \"2021-01-28T01:18:43.276657Z\", \"end_time\": \"2021-01-28T01:19:33.42055Z\", \"created_time\": \"2021-01-28T01:18:29.303997Z\", \"created_time_dt\": \"2021-01-28T01:18:29.303997Z\", \"duration\": \"0:01:04\", \"iteration\": \"10\", \"goal\": \"accuracy_max\", \"run_name\": \"MinMaxScaler, LightGBM\", \"run_properties\": \"copy=True, feature_range=(0, 1\", \"primary_metric\": 0.74599542, \"best_metric\": 0.74599542}, {\"run_id\": \"AutoML_c9f3baf5-4fe2-40b3-ab4f-7d284b23f505_11\", \"run_number\": 17, \"metric\": null, \"status\": \"Completed\", \"run_type\": \"azureml.scriptrun\", \"training_percent\": \"100\", \"start_time\": \"2021-01-28T01:19:48.506188Z\", \"end_time\": \"2021-01-28T01:20:31.358598Z\", \"created_time\": \"2021-01-28T01:19:35.719339Z\", \"created_time_dt\": \"2021-01-28T01:19:35.719339Z\", \"duration\": \"0:00:55\", \"iteration\": \"11\", \"goal\": \"accuracy_max\", \"run_name\": \"MinMaxScaler, LightGBM\", \"run_properties\": \"copy=True, feature_range=(0, 1\", \"primary_metric\": 0.73760488, \"best_metric\": 0.74599542}, {\"run_id\": \"AutoML_c9f3baf5-4fe2-40b3-ab4f-7d284b23f505_12\", \"run_number\": 18, \"metric\": null, \"status\": \"Completed\", \"run_type\": \"azureml.scriptrun\", \"training_percent\": \"100\", \"start_time\": \"2021-01-28T01:20:46.724528Z\", \"end_time\": \"2021-01-28T01:21:32.084169Z\", \"created_time\": \"2021-01-28T01:20:33.841089Z\", \"created_time_dt\": \"2021-01-28T01:20:33.841089Z\", \"duration\": \"0:00:58\", \"iteration\": \"12\", \"goal\": \"accuracy_max\", \"run_name\": \"StandardScalerWrapper, LightGBM\", \"run_properties\": \"<azureml.automl.runtime.shared.model_wrappers.StandardScalerWrapper object at 0x7f4ee07a8630\", \"primary_metric\": 0.74141876, \"best_metric\": 0.74599542}, {\"run_id\": \"AutoML_c9f3baf5-4fe2-40b3-ab4f-7d284b23f505_13\", \"run_number\": 19, \"metric\": null, \"status\": \"Completed\", \"run_type\": \"azureml.scriptrun\", \"training_percent\": \"100\", \"start_time\": \"2021-01-28T01:21:46.85642Z\", \"end_time\": \"2021-01-28T01:22:32.453991Z\", \"created_time\": \"2021-01-28T01:21:34.282436Z\", \"created_time_dt\": \"2021-01-28T01:21:34.282436Z\", \"duration\": \"0:00:58\", \"iteration\": \"13\", \"goal\": \"accuracy_max\", \"run_name\": \"SparseNormalizer, LightGBM\", \"run_properties\": \"<azureml.automl.runtime.shared.model_wrappers.SparseNormalizer object at 0x7f98a0321c18\", \"primary_metric\": 0.74065599, \"best_metric\": 0.74599542}, {\"run_id\": \"AutoML_c9f3baf5-4fe2-40b3-ab4f-7d284b23f505_14\", \"run_number\": 20, \"metric\": null, \"status\": \"Completed\", \"run_type\": \"azureml.scriptrun\", \"training_percent\": \"100\", \"start_time\": \"2021-01-28T01:22:45.259621Z\", \"end_time\": \"2021-01-28T01:25:46.545367Z\", \"created_time\": \"2021-01-28T01:22:34.805119Z\", \"created_time_dt\": \"2021-01-28T01:22:34.805119Z\", \"duration\": \"0:03:11\", \"iteration\": \"14\", \"goal\": \"accuracy_max\", \"run_name\": \"RobustScaler, ExtremeRandomTrees\", \"run_properties\": \"copy=True, quantile_range=[25, 75], with_centering=True,\\n             with_scaling=False\", \"primary_metric\": 0.74523265, \"best_metric\": 0.74599542}, {\"run_id\": \"AutoML_c9f3baf5-4fe2-40b3-ab4f-7d284b23f505_15\", \"run_number\": 21, \"metric\": null, \"status\": \"Completed\", \"run_type\": \"azureml.scriptrun\", \"training_percent\": \"100\", \"start_time\": \"2021-01-28T01:26:01.71706Z\", \"end_time\": \"2021-01-28T01:26:47.555846Z\", \"created_time\": \"2021-01-28T01:25:48.486057Z\", \"created_time_dt\": \"2021-01-28T01:25:48.486057Z\", \"duration\": \"0:00:59\", \"iteration\": \"15\", \"goal\": \"accuracy_max\", \"run_name\": \"RobustScaler, LightGBM\", \"run_properties\": \"copy=True, quantile_range=[10, 90], with_centering=False,\\n             with_scaling=False\", \"primary_metric\": 0.73073989, \"best_metric\": 0.74599542}, {\"run_id\": \"AutoML_c9f3baf5-4fe2-40b3-ab4f-7d284b23f505_16\", \"run_number\": 22, \"metric\": null, \"status\": \"Completed\", \"run_type\": \"azureml.scriptrun\", \"training_percent\": \"100\", \"start_time\": \"2021-01-28T01:27:02.185969Z\", \"end_time\": \"2021-01-28T01:27:42.275734Z\", \"created_time\": \"2021-01-28T01:26:49.285826Z\", \"created_time_dt\": \"2021-01-28T01:26:49.285826Z\", \"duration\": \"0:00:52\", \"iteration\": \"16\", \"goal\": \"accuracy_max\", \"run_name\": \"RobustScaler, ExtremeRandomTrees\", \"run_properties\": \"copy=True, quantile_range=[10, 90], with_centering=True,\\n             with_scaling=False\", \"primary_metric\": 0.73760488, \"best_metric\": 0.74599542}, {\"run_id\": \"AutoML_c9f3baf5-4fe2-40b3-ab4f-7d284b23f505_17\", \"run_number\": 23, \"metric\": null, \"status\": \"Completed\", \"run_type\": \"azureml.scriptrun\", \"training_percent\": \"100\", \"start_time\": \"2021-01-28T01:28:18.076848Z\", \"end_time\": \"2021-01-28T01:29:08.127671Z\", \"created_time\": \"2021-01-28T01:27:44.070153Z\", \"created_time_dt\": \"2021-01-28T01:27:44.070153Z\", \"duration\": \"0:01:24\", \"iteration\": \"17\", \"goal\": \"accuracy_max\", \"run_name\": \"MaxAbsScaler, ExtremeRandomTrees\", \"run_properties\": \"copy=True\", \"primary_metric\": 0.73684211, \"best_metric\": 0.74599542}, {\"run_id\": \"AutoML_c9f3baf5-4fe2-40b3-ab4f-7d284b23f505_18\", \"run_number\": 24, \"metric\": null, \"status\": \"Completed\", \"run_type\": \"azureml.scriptrun\", \"training_percent\": \"100\", \"start_time\": \"2021-01-28T01:29:21.087759Z\", \"end_time\": \"2021-01-28T01:30:05.677657Z\", \"created_time\": \"2021-01-28T01:29:10.453399Z\", \"created_time_dt\": \"2021-01-28T01:29:10.453399Z\", \"duration\": \"0:00:55\", \"iteration\": \"18\", \"goal\": \"accuracy_max\", \"run_name\": \"SparseNormalizer, XGBoostClassifier\", \"run_properties\": \"<azureml.automl.runtime.shared.model_wrappers.SparseNormalizer object at 0x7fa7d9274390\", \"primary_metric\": 0.72616323, \"best_metric\": 0.74599542}, {\"run_id\": \"AutoML_c9f3baf5-4fe2-40b3-ab4f-7d284b23f505_19\", \"run_number\": 25, \"metric\": null, \"status\": \"Completed\", \"run_type\": \"azureml.scriptrun\", \"training_percent\": \"100\", \"start_time\": \"2021-01-28T01:30:21.128829Z\", \"end_time\": \"2021-01-28T01:31:03.9131Z\", \"created_time\": \"2021-01-28T01:30:07.719304Z\", \"created_time_dt\": \"2021-01-28T01:30:07.719304Z\", \"duration\": \"0:00:56\", \"iteration\": \"19\", \"goal\": \"accuracy_max\", \"run_name\": \"MaxAbsScaler, ExtremeRandomTrees\", \"run_properties\": \"copy=True\", \"primary_metric\": 0.74828375, \"best_metric\": 0.74828375}, {\"run_id\": \"AutoML_c9f3baf5-4fe2-40b3-ab4f-7d284b23f505_20\", \"run_number\": 26, \"metric\": null, \"status\": \"Completed\", \"run_type\": \"azureml.scriptrun\", \"training_percent\": \"100\", \"start_time\": \"2021-01-28T01:31:19.901545Z\", \"end_time\": \"2021-01-28T01:32:15.40482Z\", \"created_time\": \"2021-01-28T01:31:05.970917Z\", \"created_time_dt\": \"2021-01-28T01:31:05.970917Z\", \"duration\": \"0:01:09\", \"iteration\": \"20\", \"goal\": \"accuracy_max\", \"run_name\": \"StandardScalerWrapper, LightGBM\", \"run_properties\": \"<azureml.automl.runtime.shared.model_wrappers.StandardScalerWrapper object at 0x7fd5ad5fe208\", \"primary_metric\": 0.73989321, \"best_metric\": 0.74828375}, {\"run_id\": \"AutoML_c9f3baf5-4fe2-40b3-ab4f-7d284b23f505_21\", \"run_number\": 27, \"metric\": null, \"status\": \"Completed\", \"run_type\": \"azureml.scriptrun\", \"training_percent\": \"100\", \"start_time\": \"2021-01-28T01:32:30.307073Z\", \"end_time\": \"2021-01-28T01:33:12.239859Z\", \"created_time\": \"2021-01-28T01:32:18.113152Z\", \"created_time_dt\": \"2021-01-28T01:32:18.113152Z\", \"duration\": \"0:00:54\", \"iteration\": \"21\", \"goal\": \"accuracy_max\", \"run_name\": \"StandardScalerWrapper, RandomForest\", \"run_properties\": \"<azureml.automl.runtime.shared.model_wrappers.StandardScalerWrapper object at 0x7ff0d1943198\", \"primary_metric\": 0.74065599, \"best_metric\": 0.74828375}, {\"run_id\": \"AutoML_c9f3baf5-4fe2-40b3-ab4f-7d284b23f505_22\", \"run_number\": 28, \"metric\": null, \"status\": \"Completed\", \"run_type\": \"azureml.scriptrun\", \"training_percent\": \"100\", \"start_time\": \"2021-01-28T01:33:25.748493Z\", \"end_time\": \"2021-01-28T01:34:10.645768Z\", \"created_time\": \"2021-01-28T01:33:14.353472Z\", \"created_time_dt\": \"2021-01-28T01:33:14.353472Z\", \"duration\": \"0:00:56\", \"iteration\": \"22\", \"goal\": \"accuracy_max\", \"run_name\": \"SparseNormalizer, XGBoostClassifier\", \"run_properties\": \"<azureml.automl.runtime.shared.model_wrappers.SparseNormalizer object at 0x7fe23a3d26d8\", \"primary_metric\": 0.73150267, \"best_metric\": 0.74828375}, {\"run_id\": \"AutoML_c9f3baf5-4fe2-40b3-ab4f-7d284b23f505_23\", \"run_number\": 29, \"metric\": null, \"status\": \"Completed\", \"run_type\": \"azureml.scriptrun\", \"training_percent\": \"100\", \"start_time\": \"2021-01-28T01:34:23.135221Z\", \"end_time\": \"2021-01-28T01:35:10.776391Z\", \"created_time\": \"2021-01-28T01:34:12.616403Z\", \"created_time_dt\": \"2021-01-28T01:34:12.616403Z\", \"duration\": \"0:00:58\", \"iteration\": \"23\", \"goal\": \"accuracy_max\", \"run_name\": \"RobustScaler, LightGBM\", \"run_properties\": \"copy=True, quantile_range=[10, 90], with_centering=True,\\n             with_scaling=False\", \"primary_metric\": 0.73836766, \"best_metric\": 0.74828375}, {\"run_id\": \"AutoML_c9f3baf5-4fe2-40b3-ab4f-7d284b23f505_24\", \"run_number\": 30, \"metric\": null, \"status\": \"Completed\", \"run_type\": \"azureml.scriptrun\", \"training_percent\": \"100\", \"start_time\": \"2021-01-28T01:35:26.919193Z\", \"end_time\": \"2021-01-28T01:36:10.568507Z\", \"created_time\": \"2021-01-28T01:35:12.919568Z\", \"created_time_dt\": \"2021-01-28T01:35:12.919568Z\", \"duration\": \"0:00:57\", \"iteration\": \"24\", \"goal\": \"accuracy_max\", \"run_name\": \"SparseNormalizer, XGBoostClassifier\", \"run_properties\": \"<azureml.automl.runtime.shared.model_wrappers.SparseNormalizer object at 0x7f77f7251dd8\", \"primary_metric\": 0.73760488, \"best_metric\": 0.74828375}, {\"run_id\": \"AutoML_c9f3baf5-4fe2-40b3-ab4f-7d284b23f505_25\", \"run_number\": 31, \"metric\": null, \"status\": \"Completed\", \"run_type\": \"azureml.scriptrun\", \"training_percent\": \"100\", \"start_time\": \"2021-01-28T01:36:23.292045Z\", \"end_time\": \"2021-01-28T01:37:24.103542Z\", \"created_time\": \"2021-01-28T01:36:11.690382Z\", \"created_time_dt\": \"2021-01-28T01:36:11.690382Z\", \"duration\": \"0:01:12\", \"iteration\": \"25\", \"goal\": \"accuracy_max\", \"run_name\": \"VotingEnsemble\", \"run_properties\": \"classification_labels=None,\\n                              estimators=[('19',\\n                                           Pipeline(memory=None,\\n                                                    steps=[('maxabsscaler',\\n                                                            MaxAbsScaler(copy=True\", \"primary_metric\": 0.75057208, \"best_metric\": 0.75057208}], \"children_metrics\": {\"categories\": [0], \"series\": {\"f1_score_micro\": [{\"categories\": [\"0\", \"1\", \"2\", \"3\", \"4\", \"5\", \"6\", \"7\", \"8\", \"9\", \"10\", \"11\", \"12\", \"13\", \"14\", \"15\", \"16\", \"17\", \"18\", \"19\", \"20\", \"21\", \"22\", \"23\", \"24\", \"25\"], \"mode\": \"markers\", \"name\": \"f1_score_micro\", \"stepped\": false, \"type\": \"scatter\", \"data\": [0.7345537757437071, 0.7406559877955758, 0.7444698703279939, 0.7406559877955758, 0.7360793287566743, 0.7353165522501907, 0.7391304347826085, 0.7421815408085431, 0.7429443173150267, 0.7414187643020596, 0.7459954233409611, 0.7376048817696415, 0.7414187643020596, 0.7406559877955758, 0.7452326468344777, 0.7307398932112892, 0.7376048817696415, 0.7368421052631579, 0.7261632341723876, 0.7482837528604119, 0.7398932112890922, 0.7406559877955758, 0.7315026697177726, 0.738367658276125, 0.7376048817696415, 0.7505720823798627]}, {\"categories\": [\"0\", \"1\", \"2\", \"3\", \"4\", \"5\", \"6\", \"7\", \"8\", \"9\", \"10\", \"11\", \"12\", \"13\", \"14\", \"15\", \"16\", \"17\", \"18\", \"19\", \"20\", \"21\", \"22\", \"23\", \"24\", \"25\"], \"mode\": \"lines\", \"name\": \"f1_score_micro_max\", \"stepped\": true, \"type\": \"scatter\", \"data\": [0.7345537757437071, 0.7406559877955758, 0.7444698703279939, 0.7444698703279939, 0.7444698703279939, 0.7444698703279939, 0.7444698703279939, 0.7444698703279939, 0.7444698703279939, 0.7444698703279939, 0.7459954233409611, 0.7459954233409611, 0.7459954233409611, 0.7459954233409611, 0.7459954233409611, 0.7459954233409611, 0.7459954233409611, 0.7459954233409611, 0.7459954233409611, 0.7482837528604119, 0.7482837528604119, 0.7482837528604119, 0.7482837528604119, 0.7482837528604119, 0.7482837528604119, 0.7505720823798627]}], \"norm_macro_recall\": [{\"categories\": [\"0\", \"1\", \"2\", \"3\", \"4\", \"5\", \"6\", \"7\", \"8\", \"9\", \"10\", \"11\", \"12\", \"13\", \"14\", \"15\", \"16\", \"17\", \"18\", \"19\", \"20\", \"21\", \"22\", \"23\", \"24\", \"25\"], \"mode\": \"markers\", \"name\": \"norm_macro_recall\", \"stepped\": false, \"type\": \"scatter\", \"data\": [0.4646821888201198, 0.47847108191935783, 0.4879864707450914, 0.47760094311818446, 0.47275202447616227, 0.46632422494491466, 0.47518700966976835, 0.48153761946865403, 0.48143937799110215, 0.47837284044180595, 0.4860497101876411, 0.4703801945181256, 0.47402214643593954, 0.47847108191935783, 0.4857128822646064, 0.4588648898993726, 0.47233800682076543, 0.4639523949868778, 0.4487951384503108, 0.4922810267637854, 0.4740010946907498, 0.4830393106255175, 0.45963678722299406, 0.471804695942627, 0.4729906109216455, 0.49611946163670306]}, {\"categories\": [\"0\", \"1\", \"2\", \"3\", \"4\", \"5\", \"6\", \"7\", \"8\", \"9\", \"10\", \"11\", \"12\", \"13\", \"14\", \"15\", \"16\", \"17\", \"18\", \"19\", \"20\", \"21\", \"22\", \"23\", \"24\", \"25\"], \"mode\": \"lines\", \"name\": \"norm_macro_recall_max\", \"stepped\": true, \"type\": \"scatter\", \"data\": [0.4646821888201198, 0.47847108191935783, 0.4879864707450914, 0.4879864707450914, 0.4879864707450914, 0.4879864707450914, 0.4879864707450914, 0.4879864707450914, 0.4879864707450914, 0.4879864707450914, 0.4879864707450914, 0.4879864707450914, 0.4879864707450914, 0.4879864707450914, 0.4879864707450914, 0.4879864707450914, 0.4879864707450914, 0.4879864707450914, 0.4879864707450914, 0.4922810267637854, 0.4922810267637854, 0.4922810267637854, 0.4922810267637854, 0.4922810267637854, 0.4922810267637854, 0.49611946163670306]}], \"f1_score_macro\": [{\"categories\": [\"0\", \"1\", \"2\", \"3\", \"4\", \"5\", \"6\", \"7\", \"8\", \"9\", \"10\", \"11\", \"12\", \"13\", \"14\", \"15\", \"16\", \"17\", \"18\", \"19\", \"20\", \"21\", \"22\", \"23\", \"24\", \"25\"], \"mode\": \"markers\", \"name\": \"f1_score_macro\", \"stepped\": false, \"type\": \"scatter\", \"data\": [0.7327060532914627, 0.7392869843527738, 0.7435621208697465, 0.7390452148336877, 0.735468452580898, 0.7335080199430951, 0.7376944642054815, 0.7408205903271693, 0.7411217839227339, 0.7395854146878541, 0.7437025382409319, 0.735640862111009, 0.7379887408539334, 0.7392869843527738, 0.7433257207705727, 0.7294073346871262, 0.736219772403983, 0.7329634652432433, 0.724560650919606, 0.7465316022591455, 0.73762102830259, 0.7402314337798208, 0.7299627835123939, 0.7363742690058479, 0.7363899929857377, 0.748603882680991]}, {\"categories\": [\"0\", \"1\", \"2\", \"3\", \"4\", \"5\", \"6\", \"7\", \"8\", \"9\", \"10\", \"11\", \"12\", \"13\", \"14\", \"15\", \"16\", \"17\", \"18\", \"19\", \"20\", \"21\", \"22\", \"23\", \"24\", \"25\"], \"mode\": \"lines\", \"name\": \"f1_score_macro_max\", \"stepped\": true, \"type\": \"scatter\", \"data\": [0.7327060532914627, 0.7392869843527738, 0.7435621208697465, 0.7435621208697465, 0.7435621208697465, 0.7435621208697465, 0.7435621208697465, 0.7435621208697465, 0.7435621208697465, 0.7435621208697465, 0.7437025382409319, 0.7437025382409319, 0.7437025382409319, 0.7437025382409319, 0.7437025382409319, 0.7437025382409319, 0.7437025382409319, 0.7437025382409319, 0.7437025382409319, 0.7465316022591455, 0.7465316022591455, 0.7465316022591455, 0.7465316022591455, 0.7465316022591455, 0.7465316022591455, 0.748603882680991]}], \"AUC_micro\": [{\"categories\": [\"0\", \"1\", \"2\", \"3\", \"4\", \"5\", \"6\", \"7\", \"8\", \"9\", \"10\", \"11\", \"12\", \"13\", \"14\", \"15\", \"16\", \"17\", \"18\", \"19\", \"20\", \"21\", \"22\", \"23\", \"24\", \"25\"], \"mode\": \"markers\", \"name\": \"AUC_micro\", \"stepped\": false, \"type\": \"scatter\", \"data\": [0.8214044047870481, 0.8313589000192585, 0.832363716973261, 0.8336291928707452, 0.8304867398489924, 0.8092762001511589, 0.8317935255343945, 0.8212944392952667, 0.8369700492401035, 0.8367396453525615, 0.8353182395513874, 0.8318959272621909, 0.8348103037083972, 0.8236886615105069, 0.8343750963652623, 0.8282251744174884, 0.8309033286961642, 0.8302051350975522, 0.804908999191841, 0.8331451119757074, 0.8328774710962396, 0.8210843993876842, 0.8180705303536757, 0.8335954468468123, 0.8238568098021726, 0.8356050807548171]}, {\"categories\": [\"0\", \"1\", \"2\", \"3\", \"4\", \"5\", \"6\", \"7\", \"8\", \"9\", \"10\", \"11\", \"12\", \"13\", \"14\", \"15\", \"16\", \"17\", \"18\", \"19\", \"20\", \"21\", \"22\", \"23\", \"24\", \"25\"], \"mode\": \"lines\", \"name\": \"AUC_micro_max\", \"stepped\": true, \"type\": \"scatter\", \"data\": [0.8214044047870481, 0.8313589000192585, 0.832363716973261, 0.8336291928707452, 0.8336291928707452, 0.8336291928707452, 0.8336291928707452, 0.8336291928707452, 0.8369700492401035, 0.8369700492401035, 0.8369700492401035, 0.8369700492401035, 0.8369700492401035, 0.8369700492401035, 0.8369700492401035, 0.8369700492401035, 0.8369700492401035, 0.8369700492401035, 0.8369700492401035, 0.8369700492401035, 0.8369700492401035, 0.8369700492401035, 0.8369700492401035, 0.8369700492401035, 0.8369700492401035, 0.8369700492401035]}], \"balanced_accuracy\": [{\"categories\": [\"0\", \"1\", \"2\", \"3\", \"4\", \"5\", \"6\", \"7\", \"8\", \"9\", \"10\", \"11\", \"12\", \"13\", \"14\", \"15\", \"16\", \"17\", \"18\", \"19\", \"20\", \"21\", \"22\", \"23\", \"24\", \"25\"], \"mode\": \"markers\", \"name\": \"balanced_accuracy\", \"stepped\": false, \"type\": \"scatter\", \"data\": [0.7323410944100599, 0.7392355409596789, 0.7439932353725457, 0.7388004715590922, 0.7363760122380811, 0.7331621124724573, 0.7375935048348842, 0.740768809734327, 0.7407196889955511, 0.739186420220903, 0.7430248550938205, 0.7351900972590628, 0.7370110732179698, 0.7392355409596789, 0.7428564411323032, 0.7294324449496863, 0.7361690034103827, 0.7319761974934389, 0.7243975692251554, 0.7461405133818927, 0.7370005473453749, 0.7415196553127588, 0.729818393611497, 0.7359023479713135, 0.7364953054608228, 0.7480597308183515]}, {\"categories\": [\"0\", \"1\", \"2\", \"3\", \"4\", \"5\", \"6\", \"7\", \"8\", \"9\", \"10\", \"11\", \"12\", \"13\", \"14\", \"15\", \"16\", \"17\", \"18\", \"19\", \"20\", \"21\", \"22\", \"23\", \"24\", \"25\"], \"mode\": \"lines\", \"name\": \"balanced_accuracy_max\", \"stepped\": true, \"type\": \"scatter\", \"data\": [0.7323410944100599, 0.7392355409596789, 0.7439932353725457, 0.7439932353725457, 0.7439932353725457, 0.7439932353725457, 0.7439932353725457, 0.7439932353725457, 0.7439932353725457, 0.7439932353725457, 0.7439932353725457, 0.7439932353725457, 0.7439932353725457, 0.7439932353725457, 0.7439932353725457, 0.7439932353725457, 0.7439932353725457, 0.7439932353725457, 0.7439932353725457, 0.7461405133818927, 0.7461405133818927, 0.7461405133818927, 0.7461405133818927, 0.7461405133818927, 0.7461405133818927, 0.7480597308183515]}], \"average_precision_score_weighted\": [{\"categories\": [\"0\", \"1\", \"2\", \"3\", \"4\", \"5\", \"6\", \"7\", \"8\", \"9\", \"10\", \"11\", \"12\", \"13\", \"14\", \"15\", \"16\", \"17\", \"18\", \"19\", \"20\", \"21\", \"22\", \"23\", \"24\", \"25\"], \"mode\": \"markers\", \"name\": \"average_precision_score_weighted\", \"stepped\": false, \"type\": \"scatter\", \"data\": [0.8185905191794582, 0.8313538311567205, 0.8330000316233912, 0.8348060688437636, 0.8335130721400784, 0.7979632372171185, 0.8332465598551706, 0.8013098810617197, 0.8393057838918684, 0.839093999862633, 0.8371069510848008, 0.8334348775678807, 0.8343990924473782, 0.8091893023688339, 0.8363259941211525, 0.8302387470222565, 0.8329934719484968, 0.8331726645215923, 0.7922113075877746, 0.8348589047847347, 0.8350648485746667, 0.8176590576140377, 0.8033519999722123, 0.8355708470762853, 0.8109135486392159, 0.8376491607008059]}, {\"categories\": [\"0\", \"1\", \"2\", \"3\", \"4\", \"5\", \"6\", \"7\", \"8\", \"9\", \"10\", \"11\", \"12\", \"13\", \"14\", \"15\", \"16\", \"17\", \"18\", \"19\", \"20\", \"21\", \"22\", \"23\", \"24\", \"25\"], \"mode\": \"lines\", \"name\": \"average_precision_score_weighted_max\", \"stepped\": true, \"type\": \"scatter\", \"data\": [0.8185905191794582, 0.8313538311567205, 0.8330000316233912, 0.8348060688437636, 0.8348060688437636, 0.8348060688437636, 0.8348060688437636, 0.8348060688437636, 0.8393057838918684, 0.8393057838918684, 0.8393057838918684, 0.8393057838918684, 0.8393057838918684, 0.8393057838918684, 0.8393057838918684, 0.8393057838918684, 0.8393057838918684, 0.8393057838918684, 0.8393057838918684, 0.8393057838918684, 0.8393057838918684, 0.8393057838918684, 0.8393057838918684, 0.8393057838918684, 0.8393057838918684, 0.8393057838918684]}], \"f1_score_weighted\": [{\"categories\": [\"0\", \"1\", \"2\", \"3\", \"4\", \"5\", \"6\", \"7\", \"8\", \"9\", \"10\", \"11\", \"12\", \"13\", \"14\", \"15\", \"16\", \"17\", \"18\", \"19\", \"20\", \"21\", \"22\", \"23\", \"24\", \"25\"], \"mode\": \"markers\", \"name\": \"f1_score_weighted\", \"stepped\": false, \"type\": \"scatter\", \"data\": [0.7342825504296161, 0.7406271666704642, 0.744644437531503, 0.7404996020711206, 0.7363702221737106, 0.7350653672075386, 0.7390712195010777, 0.7421528892194617, 0.7426626530634906, 0.7411354284525915, 0.7454222020659539, 0.7372572676707685, 0.7401153553917715, 0.7406271666704642, 0.7448951377966182, 0.7307543775430736, 0.7375757215724696, 0.7352464622169905, 0.7260510533446929, 0.7480265564418774, 0.7393531022185303, 0.740976405920674, 0.7314093432810832, 0.7380004549894951, 0.7376594835127384, 0.750181835887845]}, {\"categories\": [\"0\", \"1\", \"2\", \"3\", \"4\", \"5\", \"6\", \"7\", \"8\", \"9\", \"10\", \"11\", \"12\", \"13\", \"14\", \"15\", \"16\", \"17\", \"18\", \"19\", \"20\", \"21\", \"22\", \"23\", \"24\", \"25\"], \"mode\": \"lines\", \"name\": \"f1_score_weighted_max\", \"stepped\": true, \"type\": \"scatter\", \"data\": [0.7342825504296161, 0.7406271666704642, 0.744644437531503, 0.744644437531503, 0.744644437531503, 0.744644437531503, 0.744644437531503, 0.744644437531503, 0.744644437531503, 0.744644437531503, 0.7454222020659539, 0.7454222020659539, 0.7454222020659539, 0.7454222020659539, 0.7454222020659539, 0.7454222020659539, 0.7454222020659539, 0.7454222020659539, 0.7454222020659539, 0.7480265564418774, 0.7480265564418774, 0.7480265564418774, 0.7480265564418774, 0.7480265564418774, 0.7480265564418774, 0.750181835887845]}], \"matthews_correlation\": [{\"categories\": [\"0\", \"1\", \"2\", \"3\", \"4\", \"5\", \"6\", \"7\", \"8\", \"9\", \"10\", \"11\", \"12\", \"13\", \"14\", \"15\", \"16\", \"17\", \"18\", \"19\", \"20\", \"21\", \"22\", \"23\", \"24\", \"25\"], \"mode\": \"markers\", \"name\": \"matthews_correlation\", \"stepped\": false, \"type\": \"scatter\", \"data\": [0.46563290159609955, 0.47857743980216527, 0.487320095354685, 0.4781773160974116, 0.47171048977960334, 0.4672102683525321, 0.4754027878968631, 0.4816446590027746, 0.4824957731695399, 0.4794225068904604, 0.48824969915903, 0.4716284374602221, 0.4788344716759748, 0.47857743980216527, 0.4870018133978427, 0.4588155250098965, 0.47244300140094664, 0.4696274692073461, 0.44916300941032994, 0.4932882051596371, 0.47597469230394623, 0.48184608549027935, 0.45995643351795507, 0.4731312674432025, 0.47279380099986457, 0.49767480486725263]}, {\"categories\": [\"0\", \"1\", \"2\", \"3\", \"4\", \"5\", \"6\", \"7\", \"8\", \"9\", \"10\", \"11\", \"12\", \"13\", \"14\", \"15\", \"16\", \"17\", \"18\", \"19\", \"20\", \"21\", \"22\", \"23\", \"24\", \"25\"], \"mode\": \"lines\", \"name\": \"matthews_correlation_max\", \"stepped\": true, \"type\": \"scatter\", \"data\": [0.46563290159609955, 0.47857743980216527, 0.487320095354685, 0.487320095354685, 0.487320095354685, 0.487320095354685, 0.487320095354685, 0.487320095354685, 0.487320095354685, 0.487320095354685, 0.48824969915903, 0.48824969915903, 0.48824969915903, 0.48824969915903, 0.48824969915903, 0.48824969915903, 0.48824969915903, 0.48824969915903, 0.48824969915903, 0.4932882051596371, 0.4932882051596371, 0.4932882051596371, 0.4932882051596371, 0.4932882051596371, 0.4932882051596371, 0.49767480486725263]}], \"AUC_weighted\": [{\"categories\": [\"0\", \"1\", \"2\", \"3\", \"4\", \"5\", \"6\", \"7\", \"8\", \"9\", \"10\", \"11\", \"12\", \"13\", \"14\", \"15\", \"16\", \"17\", \"18\", \"19\", \"20\", \"21\", \"22\", \"23\", \"24\", \"25\"], \"mode\": \"markers\", \"name\": \"AUC_weighted\", \"stepped\": false, \"type\": \"scatter\", \"data\": [0.8203373893029067, 0.8303007124846206, 0.8314445239732596, 0.832822243741784, 0.8314082681898773, 0.8081063253477048, 0.83087261822894, 0.8195245580303051, 0.8361074855327729, 0.8358899508324796, 0.834302883153458, 0.8304960258983247, 0.8342151675485009, 0.8220028162556898, 0.8334233880210893, 0.8271464593303673, 0.8300352265869506, 0.830724086471213, 0.8040643902712868, 0.8324012088379904, 0.8317731651064982, 0.821729143568224, 0.8165925177419432, 0.8325310279333267, 0.8226027909935955, 0.8345496563887367]}, {\"categories\": [\"0\", \"1\", \"2\", \"3\", \"4\", \"5\", \"6\", \"7\", \"8\", \"9\", \"10\", \"11\", \"12\", \"13\", \"14\", \"15\", \"16\", \"17\", \"18\", \"19\", \"20\", \"21\", \"22\", \"23\", \"24\", \"25\"], \"mode\": \"lines\", \"name\": \"AUC_weighted_max\", \"stepped\": true, \"type\": \"scatter\", \"data\": [0.8203373893029067, 0.8303007124846206, 0.8314445239732596, 0.832822243741784, 0.832822243741784, 0.832822243741784, 0.832822243741784, 0.832822243741784, 0.8361074855327729, 0.8361074855327729, 0.8361074855327729, 0.8361074855327729, 0.8361074855327729, 0.8361074855327729, 0.8361074855327729, 0.8361074855327729, 0.8361074855327729, 0.8361074855327729, 0.8361074855327729, 0.8361074855327729, 0.8361074855327729, 0.8361074855327729, 0.8361074855327729, 0.8361074855327729, 0.8361074855327729, 0.8361074855327729]}], \"precision_score_weighted\": [{\"categories\": [\"0\", \"1\", \"2\", \"3\", \"4\", \"5\", \"6\", \"7\", \"8\", \"9\", \"10\", \"11\", \"12\", \"13\", \"14\", \"15\", \"16\", \"17\", \"18\", \"19\", \"20\", \"21\", \"22\", \"23\", \"24\", \"25\"], \"mode\": \"markers\", \"name\": \"precision_score_weighted\", \"stepped\": false, \"type\": \"scatter\", \"data\": [0.7342309607661456, 0.7406017990478603, 0.7450139443078347, 0.7404296523139317, 0.7374315176592225, 0.7350073925909548, 0.739025792982281, 0.7421276983490235, 0.7426318722678082, 0.7411024502492838, 0.7456891831765343, 0.7372545403128167, 0.7416550591980896, 0.7406017990478603, 0.7449061613134288, 0.7307697132221843, 0.7375500004455336, 0.7373340504801386, 0.7259803649663032, 0.7479931849836989, 0.7395417706223568, 0.7426749652677109, 0.7313467247274724, 0.7380139641906498, 0.7377278319140746, 0.7502561814117192]}, {\"categories\": [\"0\", \"1\", \"2\", \"3\", \"4\", \"5\", \"6\", \"7\", \"8\", \"9\", \"10\", \"11\", \"12\", \"13\", \"14\", \"15\", \"16\", \"17\", \"18\", \"19\", \"20\", \"21\", \"22\", \"23\", \"24\", \"25\"], \"mode\": \"lines\", \"name\": \"precision_score_weighted_max\", \"stepped\": true, \"type\": \"scatter\", \"data\": [0.7342309607661456, 0.7406017990478603, 0.7450139443078347, 0.7450139443078347, 0.7450139443078347, 0.7450139443078347, 0.7450139443078347, 0.7450139443078347, 0.7450139443078347, 0.7450139443078347, 0.7456891831765343, 0.7456891831765343, 0.7456891831765343, 0.7456891831765343, 0.7456891831765343, 0.7456891831765343, 0.7456891831765343, 0.7456891831765343, 0.7456891831765343, 0.7479931849836989, 0.7479931849836989, 0.7479931849836989, 0.7479931849836989, 0.7479931849836989, 0.7479931849836989, 0.7502561814117192]}], \"average_precision_score_micro\": [{\"categories\": [\"0\", \"1\", \"2\", \"3\", \"4\", \"5\", \"6\", \"7\", \"8\", \"9\", \"10\", \"11\", \"12\", \"13\", \"14\", \"15\", \"16\", \"17\", \"18\", \"19\", \"20\", \"21\", \"22\", \"23\", \"24\", \"25\"], \"mode\": \"markers\", \"name\": \"average_precision_score_micro\", \"stepped\": false, \"type\": \"scatter\", \"data\": [0.8191512786941775, 0.83132435797146, 0.8334042675352589, 0.8350669826968229, 0.8317136621260455, 0.8002623806982361, 0.8343176283388368, 0.8069934507494748, 0.839569034272363, 0.839332165391944, 0.8372004955275056, 0.8342170839935219, 0.8340440239810091, 0.8134268599779606, 0.8363761709611071, 0.8304858914484301, 0.8321334899819628, 0.8310148030644174, 0.7954501204158149, 0.834142085549031, 0.835523301487397, 0.8144485010314422, 0.8067450059905261, 0.8353843252271089, 0.8145249468848699, 0.8374219475026201]}, {\"categories\": [\"0\", \"1\", \"2\", \"3\", \"4\", \"5\", \"6\", \"7\", \"8\", \"9\", \"10\", \"11\", \"12\", \"13\", \"14\", \"15\", \"16\", \"17\", \"18\", \"19\", \"20\", \"21\", \"22\", \"23\", \"24\", \"25\"], \"mode\": \"lines\", \"name\": \"average_precision_score_micro_max\", \"stepped\": true, \"type\": \"scatter\", \"data\": [0.8191512786941775, 0.83132435797146, 0.8334042675352589, 0.8350669826968229, 0.8350669826968229, 0.8350669826968229, 0.8350669826968229, 0.8350669826968229, 0.839569034272363, 0.839569034272363, 0.839569034272363, 0.839569034272363, 0.839569034272363, 0.839569034272363, 0.839569034272363, 0.839569034272363, 0.839569034272363, 0.839569034272363, 0.839569034272363, 0.839569034272363, 0.839569034272363, 0.839569034272363, 0.839569034272363, 0.839569034272363, 0.839569034272363, 0.839569034272363]}], \"log_loss\": [{\"categories\": [\"0\", \"1\", \"2\", \"3\", \"4\", \"5\", \"6\", \"7\", \"8\", \"9\", \"10\", \"11\", \"12\", \"13\", \"14\", \"15\", \"16\", \"17\", \"18\", \"19\", \"20\", \"21\", \"22\", \"23\", \"24\", \"25\"], \"mode\": \"markers\", \"name\": \"log_loss\", \"stepped\": false, \"type\": \"scatter\", \"data\": [0.5261648531127533, 0.5026137845142863, 0.5020230627826884, 0.5005307436218144, 0.502598865513356, 0.5336673711267338, 0.5027831145993674, 0.5595909241810977, 0.49330454827157505, 0.4938539446263902, 0.5199291333037087, 0.5124990472781196, 0.5553098303782737, 0.5192667591425709, 0.5111414298812916, 0.5083207311624612, 0.5228078682662097, 0.5750498156731644, 0.5435578004815538, 0.5259434436055602, 0.5306836085782607, 0.5345296101834461, 0.5237432740622296, 0.5233236337543672, 0.5526127275253848, 0.5250001871290828]}, {\"categories\": [\"0\", \"1\", \"2\", \"3\", \"4\", \"5\", \"6\", \"7\", \"8\", \"9\", \"10\", \"11\", \"12\", \"13\", \"14\", \"15\", \"16\", \"17\", \"18\", \"19\", \"20\", \"21\", \"22\", \"23\", \"24\", \"25\"], \"mode\": \"lines\", \"name\": \"log_loss_min\", \"stepped\": true, \"type\": \"scatter\", \"data\": [0.5261648531127533, 0.5026137845142863, 0.5020230627826884, 0.5005307436218144, 0.5005307436218144, 0.5005307436218144, 0.5005307436218144, 0.5005307436218144, 0.49330454827157505, 0.49330454827157505, 0.49330454827157505, 0.49330454827157505, 0.49330454827157505, 0.49330454827157505, 0.49330454827157505, 0.49330454827157505, 0.49330454827157505, 0.49330454827157505, 0.49330454827157505, 0.49330454827157505, 0.49330454827157505, 0.49330454827157505, 0.49330454827157505, 0.49330454827157505, 0.49330454827157505, 0.49330454827157505]}], \"recall_score_macro\": [{\"categories\": [\"0\", \"1\", \"2\", \"3\", \"4\", \"5\", \"6\", \"7\", \"8\", \"9\", \"10\", \"11\", \"12\", \"13\", \"14\", \"15\", \"16\", \"17\", \"18\", \"19\", \"20\", \"21\", \"22\", \"23\", \"24\", \"25\"], \"mode\": \"markers\", \"name\": \"recall_score_macro\", \"stepped\": false, \"type\": \"scatter\", \"data\": [0.7323410944100599, 0.7392355409596789, 0.7439932353725457, 0.7388004715590922, 0.7363760122380811, 0.7331621124724573, 0.7375935048348842, 0.740768809734327, 0.7407196889955511, 0.739186420220903, 0.7430248550938205, 0.7351900972590628, 0.7370110732179698, 0.7392355409596789, 0.7428564411323032, 0.7294324449496863, 0.7361690034103827, 0.7319761974934389, 0.7243975692251554, 0.7461405133818927, 0.7370005473453749, 0.7415196553127588, 0.729818393611497, 0.7359023479713135, 0.7364953054608228, 0.7480597308183515]}, {\"categories\": [\"0\", \"1\", \"2\", \"3\", \"4\", \"5\", \"6\", \"7\", \"8\", \"9\", \"10\", \"11\", \"12\", \"13\", \"14\", \"15\", \"16\", \"17\", \"18\", \"19\", \"20\", \"21\", \"22\", \"23\", \"24\", \"25\"], \"mode\": \"lines\", \"name\": \"recall_score_macro_max\", \"stepped\": true, \"type\": \"scatter\", \"data\": [0.7323410944100599, 0.7392355409596789, 0.7439932353725457, 0.7439932353725457, 0.7439932353725457, 0.7439932353725457, 0.7439932353725457, 0.7439932353725457, 0.7439932353725457, 0.7439932353725457, 0.7439932353725457, 0.7439932353725457, 0.7439932353725457, 0.7439932353725457, 0.7439932353725457, 0.7439932353725457, 0.7439932353725457, 0.7439932353725457, 0.7439932353725457, 0.7461405133818927, 0.7461405133818927, 0.7461405133818927, 0.7461405133818927, 0.7461405133818927, 0.7461405133818927, 0.7480597308183515]}], \"precision_score_macro\": [{\"categories\": [\"0\", \"1\", \"2\", \"3\", \"4\", \"5\", \"6\", \"7\", \"8\", \"9\", \"10\", \"11\", \"12\", \"13\", \"14\", \"15\", \"16\", \"17\", \"18\", \"19\", \"20\", \"21\", \"22\", \"23\", \"24\", \"25\"], \"mode\": \"markers\", \"name\": \"precision_score_macro\", \"stepped\": false, \"type\": \"scatter\", \"data\": [0.7332927797376073, 0.7393419106634715, 0.7433273149703281, 0.7393771923242858, 0.7353356248602727, 0.734048997647324, 0.7378093320534731, 0.740875861165194, 0.7417772431680638, 0.7402372382813969, 0.7452298229298941, 0.7364399964256991, 0.7418478260869565, 0.7393419106634715, 0.7441470824769905, 0.7293830827155585, 0.736274009660027, 0.7376859805199785, 0.7247655909544584, 0.7471487220920019, 0.7389782536912118, 0.740327903956354, 0.7301381510526463, 0.7372307844299546, 0.7362985364850401, 0.749617512063081]}, {\"categories\": [\"0\", \"1\", \"2\", \"3\", \"4\", \"5\", \"6\", \"7\", \"8\", \"9\", \"10\", \"11\", \"12\", \"13\", \"14\", \"15\", \"16\", \"17\", \"18\", \"19\", \"20\", \"21\", \"22\", \"23\", \"24\", \"25\"], \"mode\": \"lines\", \"name\": \"precision_score_macro_max\", \"stepped\": true, \"type\": \"scatter\", \"data\": [0.7332927797376073, 0.7393419106634715, 0.7433273149703281, 0.7433273149703281, 0.7433273149703281, 0.7433273149703281, 0.7433273149703281, 0.7433273149703281, 0.7433273149703281, 0.7433273149703281, 0.7452298229298941, 0.7452298229298941, 0.7452298229298941, 0.7452298229298941, 0.7452298229298941, 0.7452298229298941, 0.7452298229298941, 0.7452298229298941, 0.7452298229298941, 0.7471487220920019, 0.7471487220920019, 0.7471487220920019, 0.7471487220920019, 0.7471487220920019, 0.7471487220920019, 0.749617512063081]}], \"average_precision_score_macro\": [{\"categories\": [\"0\", \"1\", \"2\", \"3\", \"4\", \"5\", \"6\", \"7\", \"8\", \"9\", \"10\", \"11\", \"12\", \"13\", \"14\", \"15\", \"16\", \"17\", \"18\", \"19\", \"20\", \"21\", \"22\", \"23\", \"24\", \"25\"], \"mode\": \"markers\", \"name\": \"average_precision_score_macro\", \"stepped\": false, \"type\": \"scatter\", \"data\": [0.8169963296558702, 0.8298467775612909, 0.8315902817325014, 0.8335308658045673, 0.8321973987383454, 0.796109935003659, 0.8317940861379356, 0.7993716819893, 0.8380771300758482, 0.8378761498516897, 0.8358608252974908, 0.8321487798130965, 0.8331680916243263, 0.8073369663062263, 0.8350419051497029, 0.8287677026241966, 0.831824578386888, 0.8319557111656087, 0.7900896610100713, 0.8336058978286872, 0.8337151212591822, 0.8159990696735998, 0.8011320594181444, 0.834302578900108, 0.8090667918244157, 0.8363843627990821]}, {\"categories\": [\"0\", \"1\", \"2\", \"3\", \"4\", \"5\", \"6\", \"7\", \"8\", \"9\", \"10\", \"11\", \"12\", \"13\", \"14\", \"15\", \"16\", \"17\", \"18\", \"19\", \"20\", \"21\", \"22\", \"23\", \"24\", \"25\"], \"mode\": \"lines\", \"name\": \"average_precision_score_macro_max\", \"stepped\": true, \"type\": \"scatter\", \"data\": [0.8169963296558702, 0.8298467775612909, 0.8315902817325014, 0.8335308658045673, 0.8335308658045673, 0.8335308658045673, 0.8335308658045673, 0.8335308658045673, 0.8380771300758482, 0.8380771300758482, 0.8380771300758482, 0.8380771300758482, 0.8380771300758482, 0.8380771300758482, 0.8380771300758482, 0.8380771300758482, 0.8380771300758482, 0.8380771300758482, 0.8380771300758482, 0.8380771300758482, 0.8380771300758482, 0.8380771300758482, 0.8380771300758482, 0.8380771300758482, 0.8380771300758482, 0.8380771300758482]}], \"recall_score_micro\": [{\"categories\": [\"0\", \"1\", \"2\", \"3\", \"4\", \"5\", \"6\", \"7\", \"8\", \"9\", \"10\", \"11\", \"12\", \"13\", \"14\", \"15\", \"16\", \"17\", \"18\", \"19\", \"20\", \"21\", \"22\", \"23\", \"24\", \"25\"], \"mode\": \"markers\", \"name\": \"recall_score_micro\", \"stepped\": false, \"type\": \"scatter\", \"data\": [0.7345537757437071, 0.7406559877955758, 0.7444698703279939, 0.7406559877955758, 0.7360793287566743, 0.7353165522501907, 0.7391304347826086, 0.7421815408085431, 0.7429443173150267, 0.7414187643020596, 0.7459954233409611, 0.7376048817696415, 0.7414187643020596, 0.7406559877955758, 0.7452326468344775, 0.7307398932112891, 0.7376048817696415, 0.7368421052631579, 0.7261632341723875, 0.7482837528604119, 0.7398932112890922, 0.7406559877955758, 0.7315026697177727, 0.738367658276125, 0.7376048817696415, 0.7505720823798627]}, {\"categories\": [\"0\", \"1\", \"2\", \"3\", \"4\", \"5\", \"6\", \"7\", \"8\", \"9\", \"10\", \"11\", \"12\", \"13\", \"14\", \"15\", \"16\", \"17\", \"18\", \"19\", \"20\", \"21\", \"22\", \"23\", \"24\", \"25\"], \"mode\": \"lines\", \"name\": \"recall_score_micro_max\", \"stepped\": true, \"type\": \"scatter\", \"data\": [0.7345537757437071, 0.7406559877955758, 0.7444698703279939, 0.7444698703279939, 0.7444698703279939, 0.7444698703279939, 0.7444698703279939, 0.7444698703279939, 0.7444698703279939, 0.7444698703279939, 0.7459954233409611, 0.7459954233409611, 0.7459954233409611, 0.7459954233409611, 0.7459954233409611, 0.7459954233409611, 0.7459954233409611, 0.7459954233409611, 0.7459954233409611, 0.7482837528604119, 0.7482837528604119, 0.7482837528604119, 0.7482837528604119, 0.7482837528604119, 0.7482837528604119, 0.7505720823798627]}], \"accuracy\": [{\"categories\": [\"0\", \"1\", \"2\", \"3\", \"4\", \"5\", \"6\", \"7\", \"8\", \"9\", \"10\", \"11\", \"12\", \"13\", \"14\", \"15\", \"16\", \"17\", \"18\", \"19\", \"20\", \"21\", \"22\", \"23\", \"24\", \"25\"], \"mode\": \"markers\", \"name\": \"accuracy\", \"stepped\": false, \"type\": \"scatter\", \"data\": [0.7345537757437071, 0.7406559877955758, 0.7444698703279939, 0.7406559877955758, 0.7360793287566743, 0.7353165522501907, 0.7391304347826086, 0.7421815408085431, 0.7429443173150267, 0.7414187643020596, 0.7459954233409611, 0.7376048817696415, 0.7414187643020596, 0.7406559877955758, 0.7452326468344775, 0.7307398932112891, 0.7376048817696415, 0.7368421052631579, 0.7261632341723875, 0.7482837528604119, 0.7398932112890922, 0.7406559877955758, 0.7315026697177727, 0.738367658276125, 0.7376048817696415, 0.7505720823798627]}, {\"categories\": [\"0\", \"1\", \"2\", \"3\", \"4\", \"5\", \"6\", \"7\", \"8\", \"9\", \"10\", \"11\", \"12\", \"13\", \"14\", \"15\", \"16\", \"17\", \"18\", \"19\", \"20\", \"21\", \"22\", \"23\", \"24\", \"25\"], \"mode\": \"lines\", \"name\": \"accuracy_max\", \"stepped\": true, \"type\": \"scatter\", \"data\": [0.7345537757437071, 0.7406559877955758, 0.7444698703279939, 0.7444698703279939, 0.7444698703279939, 0.7444698703279939, 0.7444698703279939, 0.7444698703279939, 0.7444698703279939, 0.7444698703279939, 0.7459954233409611, 0.7459954233409611, 0.7459954233409611, 0.7459954233409611, 0.7459954233409611, 0.7459954233409611, 0.7459954233409611, 0.7459954233409611, 0.7459954233409611, 0.7482837528604119, 0.7482837528604119, 0.7482837528604119, 0.7482837528604119, 0.7482837528604119, 0.7482837528604119, 0.7505720823798627]}], \"AUC_macro\": [{\"categories\": [\"0\", \"1\", \"2\", \"3\", \"4\", \"5\", \"6\", \"7\", \"8\", \"9\", \"10\", \"11\", \"12\", \"13\", \"14\", \"15\", \"16\", \"17\", \"18\", \"19\", \"20\", \"21\", \"22\", \"23\", \"24\", \"25\"], \"mode\": \"markers\", \"name\": \"AUC_macro\", \"stepped\": false, \"type\": \"scatter\", \"data\": [0.8203373893029066, 0.8303007124846207, 0.8314445239732596, 0.8328222437417839, 0.8314082681898773, 0.8081063253477048, 0.83087261822894, 0.8195245580303052, 0.8361074855327728, 0.8358899508324795, 0.8343028831534578, 0.8304960258983247, 0.8342151675485008, 0.82200281625569, 0.8334233880210893, 0.8271464593303675, 0.8300352265869506, 0.8307240864712129, 0.804064390271287, 0.8324012088379904, 0.8317731651064983, 0.821729143568224, 0.8165925177419431, 0.8325310279333267, 0.8226027909935956, 0.8345496563887369]}, {\"categories\": [\"0\", \"1\", \"2\", \"3\", \"4\", \"5\", \"6\", \"7\", \"8\", \"9\", \"10\", \"11\", \"12\", \"13\", \"14\", \"15\", \"16\", \"17\", \"18\", \"19\", \"20\", \"21\", \"22\", \"23\", \"24\", \"25\"], \"mode\": \"lines\", \"name\": \"AUC_macro_max\", \"stepped\": true, \"type\": \"scatter\", \"data\": [0.8203373893029066, 0.8303007124846207, 0.8314445239732596, 0.8328222437417839, 0.8328222437417839, 0.8328222437417839, 0.8328222437417839, 0.8328222437417839, 0.8361074855327728, 0.8361074855327728, 0.8361074855327728, 0.8361074855327728, 0.8361074855327728, 0.8361074855327728, 0.8361074855327728, 0.8361074855327728, 0.8361074855327728, 0.8361074855327728, 0.8361074855327728, 0.8361074855327728, 0.8361074855327728, 0.8361074855327728, 0.8361074855327728, 0.8361074855327728, 0.8361074855327728, 0.8361074855327728]}], \"weighted_accuracy\": [{\"categories\": [\"0\", \"1\", \"2\", \"3\", \"4\", \"5\", \"6\", \"7\", \"8\", \"9\", \"10\", \"11\", \"12\", \"13\", \"14\", \"15\", \"16\", \"17\", \"18\", \"19\", \"20\", \"21\", \"22\", \"23\", \"24\", \"25\"], \"mode\": \"markers\", \"name\": \"weighted_accuracy\", \"stepped\": false, \"type\": \"scatter\", \"data\": [0.736744299136838, 0.7420622101807951, 0.7449417322287639, 0.742492922766981, 0.7357856162837145, 0.7374494173222876, 0.7406519738098959, 0.7435801246982406, 0.7451466680560621, 0.7436287535386166, 0.7489362441167787, 0.7399954844648221, 0.7457823164695462, 0.7420622101807951, 0.7475850570520503, 0.7320342485975789, 0.7390263811459039, 0.7416592855033953, 0.7279112176314282, 0.7504055297938484, 0.7427569079004499, 0.7398009691033189, 0.7331700793692144, 0.7408082807968183, 0.7387033467062645, 0.7530592750829295]}, {\"categories\": [\"0\", \"1\", \"2\", \"3\", \"4\", \"5\", \"6\", \"7\", \"8\", \"9\", \"10\", \"11\", \"12\", \"13\", \"14\", \"15\", \"16\", \"17\", \"18\", \"19\", \"20\", \"21\", \"22\", \"23\", \"24\", \"25\"], \"mode\": \"lines\", \"name\": \"weighted_accuracy_max\", \"stepped\": true, \"type\": \"scatter\", \"data\": [0.736744299136838, 0.7420622101807951, 0.7449417322287639, 0.7449417322287639, 0.7449417322287639, 0.7449417322287639, 0.7449417322287639, 0.7449417322287639, 0.7451466680560621, 0.7451466680560621, 0.7489362441167787, 0.7489362441167787, 0.7489362441167787, 0.7489362441167787, 0.7489362441167787, 0.7489362441167787, 0.7489362441167787, 0.7489362441167787, 0.7489362441167787, 0.7504055297938484, 0.7504055297938484, 0.7504055297938484, 0.7504055297938484, 0.7504055297938484, 0.7504055297938484, 0.7530592750829295]}], \"precision_score_micro\": [{\"categories\": [\"0\", \"1\", \"2\", \"3\", \"4\", \"5\", \"6\", \"7\", \"8\", \"9\", \"10\", \"11\", \"12\", \"13\", \"14\", \"15\", \"16\", \"17\", \"18\", \"19\", \"20\", \"21\", \"22\", \"23\", \"24\", \"25\"], \"mode\": \"markers\", \"name\": \"precision_score_micro\", \"stepped\": false, \"type\": \"scatter\", \"data\": [0.7345537757437071, 0.7406559877955758, 0.7444698703279939, 0.7406559877955758, 0.7360793287566743, 0.7353165522501907, 0.7391304347826086, 0.7421815408085431, 0.7429443173150267, 0.7414187643020596, 0.7459954233409611, 0.7376048817696415, 0.7414187643020596, 0.7406559877955758, 0.7452326468344775, 0.7307398932112891, 0.7376048817696415, 0.7368421052631579, 0.7261632341723875, 0.7482837528604119, 0.7398932112890922, 0.7406559877955758, 0.7315026697177727, 0.738367658276125, 0.7376048817696415, 0.7505720823798627]}, {\"categories\": [\"0\", \"1\", \"2\", \"3\", \"4\", \"5\", \"6\", \"7\", \"8\", \"9\", \"10\", \"11\", \"12\", \"13\", \"14\", \"15\", \"16\", \"17\", \"18\", \"19\", \"20\", \"21\", \"22\", \"23\", \"24\", \"25\"], \"mode\": \"lines\", \"name\": \"precision_score_micro_max\", \"stepped\": true, \"type\": \"scatter\", \"data\": [0.7345537757437071, 0.7406559877955758, 0.7444698703279939, 0.7444698703279939, 0.7444698703279939, 0.7444698703279939, 0.7444698703279939, 0.7444698703279939, 0.7444698703279939, 0.7444698703279939, 0.7459954233409611, 0.7459954233409611, 0.7459954233409611, 0.7459954233409611, 0.7459954233409611, 0.7459954233409611, 0.7459954233409611, 0.7459954233409611, 0.7459954233409611, 0.7482837528604119, 0.7482837528604119, 0.7482837528604119, 0.7482837528604119, 0.7482837528604119, 0.7482837528604119, 0.7505720823798627]}], \"recall_score_weighted\": [{\"categories\": [\"0\", \"1\", \"2\", \"3\", \"4\", \"5\", \"6\", \"7\", \"8\", \"9\", \"10\", \"11\", \"12\", \"13\", \"14\", \"15\", \"16\", \"17\", \"18\", \"19\", \"20\", \"21\", \"22\", \"23\", \"24\", \"25\"], \"mode\": \"markers\", \"name\": \"recall_score_weighted\", \"stepped\": false, \"type\": \"scatter\", \"data\": [0.7345537757437071, 0.7406559877955758, 0.7444698703279939, 0.7406559877955758, 0.7360793287566743, 0.7353165522501907, 0.7391304347826086, 0.7421815408085431, 0.7429443173150267, 0.7414187643020596, 0.7459954233409611, 0.7376048817696415, 0.7414187643020596, 0.7406559877955758, 0.7452326468344775, 0.7307398932112891, 0.7376048817696415, 0.7368421052631579, 0.7261632341723875, 0.7482837528604119, 0.7398932112890922, 0.7406559877955758, 0.7315026697177727, 0.738367658276125, 0.7376048817696415, 0.7505720823798627]}, {\"categories\": [\"0\", \"1\", \"2\", \"3\", \"4\", \"5\", \"6\", \"7\", \"8\", \"9\", \"10\", \"11\", \"12\", \"13\", \"14\", \"15\", \"16\", \"17\", \"18\", \"19\", \"20\", \"21\", \"22\", \"23\", \"24\", \"25\"], \"mode\": \"lines\", \"name\": \"recall_score_weighted_max\", \"stepped\": true, \"type\": \"scatter\", \"data\": [0.7345537757437071, 0.7406559877955758, 0.7444698703279939, 0.7444698703279939, 0.7444698703279939, 0.7444698703279939, 0.7444698703279939, 0.7444698703279939, 0.7444698703279939, 0.7444698703279939, 0.7459954233409611, 0.7459954233409611, 0.7459954233409611, 0.7459954233409611, 0.7459954233409611, 0.7459954233409611, 0.7459954233409611, 0.7459954233409611, 0.7459954233409611, 0.7482837528604119, 0.7482837528604119, 0.7482837528604119, 0.7482837528604119, 0.7482837528604119, 0.7482837528604119, 0.7505720823798627]}]}, \"metricName\": null, \"primaryMetricName\": \"accuracy\", \"showLegend\": false}, \"run_metrics\": [{\"name\": \"experiment_status\", \"run_id\": \"AutoML_c9f3baf5-4fe2-40b3-ab4f-7d284b23f505\", \"categories\": [0, 1, 2, 3, 4, 5, 6, 7, 8, 9, 10, 11, 12], \"series\": [{\"data\": [\"DatasetEvaluation\", \"FeaturesGeneration\", \"DatasetFeaturization\", \"DatasetFeaturizationCompleted\", \"ModelSelection\", \"BestRunExplainModel\", \"ModelExplanationDataSetSetup\", \"PickSurrogateModel\", \"EngineeredFeatureExplanations\", \"EngineeredFeatureExplanations\", \"RawFeaturesExplanations\", \"RawFeaturesExplanations\", \"BestRunExplainModel\"]}]}, {\"name\": \"experiment_status_description\", \"run_id\": \"AutoML_c9f3baf5-4fe2-40b3-ab4f-7d284b23f505\", \"categories\": [0, 1, 2, 3, 4, 5, 6, 7, 8, 9, 10, 11, 12], \"series\": [{\"data\": [\"Gathering dataset statistics.\", \"Generating features for the dataset.\", \"Beginning to fit featurizers and featurize the dataset.\", \"Completed fit featurizers and featurizing the dataset.\", \"Beginning model selection.\", \"Best run model explanations started\", \"Model explanations data setup completed\", \"Choosing LightGBM as the surrogate model for explanations\", \"Computation of engineered features started\", \"Computation of engineered features completed\", \"Computation of raw features started\", \"Computation of raw features completed\", \"Best run model explanations completed\"]}]}, {\"name\": \"average_precision_score_micro\", \"run_id\": \"AutoML_c9f3baf5-4fe2-40b3-ab4f-7d284b23f505\", \"categories\": [0], \"series\": [{\"data\": [0.8374219475026201]}]}, {\"name\": \"recall_score_weighted\", \"run_id\": \"AutoML_c9f3baf5-4fe2-40b3-ab4f-7d284b23f505\", \"categories\": [0], \"series\": [{\"data\": [0.7505720823798627]}]}, {\"name\": \"AUC_weighted\", \"run_id\": \"AutoML_c9f3baf5-4fe2-40b3-ab4f-7d284b23f505\", \"categories\": [0], \"series\": [{\"data\": [0.8345496563887367]}]}, {\"name\": \"AUC_macro\", \"run_id\": \"AutoML_c9f3baf5-4fe2-40b3-ab4f-7d284b23f505\", \"categories\": [0], \"series\": [{\"data\": [0.8345496563887369]}]}, {\"name\": \"log_loss\", \"run_id\": \"AutoML_c9f3baf5-4fe2-40b3-ab4f-7d284b23f505\", \"categories\": [0], \"series\": [{\"data\": [0.5250001871290828]}]}, {\"name\": \"precision_score_weighted\", \"run_id\": \"AutoML_c9f3baf5-4fe2-40b3-ab4f-7d284b23f505\", \"categories\": [0], \"series\": [{\"data\": [0.7502561814117192]}]}, {\"name\": \"recall_score_macro\", \"run_id\": \"AutoML_c9f3baf5-4fe2-40b3-ab4f-7d284b23f505\", \"categories\": [0], \"series\": [{\"data\": [0.7480597308183515]}]}, {\"name\": \"recall_score_micro\", \"run_id\": \"AutoML_c9f3baf5-4fe2-40b3-ab4f-7d284b23f505\", \"categories\": [0], \"series\": [{\"data\": [0.7505720823798627]}]}, {\"name\": \"average_precision_score_macro\", \"run_id\": \"AutoML_c9f3baf5-4fe2-40b3-ab4f-7d284b23f505\", \"categories\": [0], \"series\": [{\"data\": [0.8363843627990821]}]}, {\"name\": \"precision_score_macro\", \"run_id\": \"AutoML_c9f3baf5-4fe2-40b3-ab4f-7d284b23f505\", \"categories\": [0], \"series\": [{\"data\": [0.749617512063081]}]}, {\"name\": \"balanced_accuracy\", \"run_id\": \"AutoML_c9f3baf5-4fe2-40b3-ab4f-7d284b23f505\", \"categories\": [0], \"series\": [{\"data\": [0.7480597308183515]}]}, {\"name\": \"f1_score_weighted\", \"run_id\": \"AutoML_c9f3baf5-4fe2-40b3-ab4f-7d284b23f505\", \"categories\": [0], \"series\": [{\"data\": [0.750181835887845]}]}, {\"name\": \"matthews_correlation\", \"run_id\": \"AutoML_c9f3baf5-4fe2-40b3-ab4f-7d284b23f505\", \"categories\": [0], \"series\": [{\"data\": [0.49767480486725263]}]}, {\"name\": \"AUC_micro\", \"run_id\": \"AutoML_c9f3baf5-4fe2-40b3-ab4f-7d284b23f505\", \"categories\": [0], \"series\": [{\"data\": [0.8356050807548171]}]}, {\"name\": \"f1_score_micro\", \"run_id\": \"AutoML_c9f3baf5-4fe2-40b3-ab4f-7d284b23f505\", \"categories\": [0], \"series\": [{\"data\": [0.7505720823798627]}]}, {\"name\": \"f1_score_macro\", \"run_id\": \"AutoML_c9f3baf5-4fe2-40b3-ab4f-7d284b23f505\", \"categories\": [0], \"series\": [{\"data\": [0.748603882680991]}]}, {\"name\": \"precision_score_micro\", \"run_id\": \"AutoML_c9f3baf5-4fe2-40b3-ab4f-7d284b23f505\", \"categories\": [0], \"series\": [{\"data\": [0.7505720823798627]}]}, {\"name\": \"weighted_accuracy\", \"run_id\": \"AutoML_c9f3baf5-4fe2-40b3-ab4f-7d284b23f505\", \"categories\": [0], \"series\": [{\"data\": [0.7530592750829295]}]}, {\"name\": \"norm_macro_recall\", \"run_id\": \"AutoML_c9f3baf5-4fe2-40b3-ab4f-7d284b23f505\", \"categories\": [0], \"series\": [{\"data\": [0.49611946163670306]}]}, {\"name\": \"accuracy\", \"run_id\": \"AutoML_c9f3baf5-4fe2-40b3-ab4f-7d284b23f505\", \"categories\": [0], \"series\": [{\"data\": [0.7505720823798627]}]}, {\"name\": \"average_precision_score_weighted\", \"run_id\": \"AutoML_c9f3baf5-4fe2-40b3-ab4f-7d284b23f505\", \"categories\": [0], \"series\": [{\"data\": [0.8376491607008059]}]}], \"run_logs\": \"\\nRun is completed.\", \"graph\": {}, \"widget_settings\": {\"childWidgetDisplay\": \"popup\", \"send_telemetry\": false, \"log_level\": \"INFO\", \"sdk_version\": \"1.20.0\"}, \"loading\": false}"
          },
          "metadata": {}
        }
      ],
      "execution_count": 9,
      "metadata": {
        "gather": {
          "logged": 1611795400272
        },
        "jupyter": {
          "outputs_hidden": false,
          "source_hidden": false
        },
        "nteract": {
          "transient": {
            "deleting": false
          }
        }
      }
    },
    {
      "cell_type": "markdown",
      "source": [
        "## Best Model\n",
        "\n",
        "TODO: In the cell below, get the best model from the automl experiments and display all the properties of the model.\n",
        "\n"
      ],
      "metadata": {}
    },
    {
      "cell_type": "code",
      "source": [
        "best_automl, automl_model = remote_run.get_output()\n",
        "best_automl, onnx_model = remote_run.get_output(return_onnx_model=True)\n",
        "os.makedirs(\"outputs\", exist_ok=True)"
      ],
      "outputs": [],
      "execution_count": 16,
      "metadata": {
        "gather": {
          "logged": 1611800915179
        },
        "jupyter": {
          "outputs_hidden": false,
          "source_hidden": false
        },
        "nteract": {
          "transient": {
            "deleting": false
          }
        }
      }
    },
    {
      "cell_type": "code",
      "source": [
        "#TODO: Save the best model\n",
        "OnnxConverter.save_onnx_model(onnx_model,\"./automl_model.onnx\")\n",
        "\n",
        "print(best_automl.get_tags())"
      ],
      "outputs": [
        {
          "output_type": "stream",
          "name": "stdout",
          "text": [
            "{'_aml_system_azureml.automlComponent': 'AutoML', '_aml_system_ComputeTargetStatus': '{\"AllocationState\":\"steady\",\"PreparingNodeCount\":0,\"RunningNodeCount\":1,\"CurrentNodeCount\":4}', 'ensembled_iterations': '[19, 10, 14, 2, 8, 12, 23, 17]', 'ensembled_algorithms': \"['ExtremeRandomTrees', 'LightGBM', 'ExtremeRandomTrees', 'RandomForest', 'LogisticRegression', 'LightGBM', 'LightGBM', 'ExtremeRandomTrees']\", 'ensemble_weights': '[0.21428571428571427, 0.21428571428571427, 0.07142857142857142, 0.07142857142857142, 0.07142857142857142, 0.21428571428571427, 0.07142857142857142, 0.07142857142857142]', 'best_individual_pipeline_score': '0.7482837528604119', 'best_individual_iteration': '19', '_aml_system_automl_is_child_run_end_telemetry_event_logged': 'True', 'model_explain_run_id': 'AutoML_c9f3baf5-4fe2-40b3-ab4f-7d284b23f505_ModelExplain', 'model_explanation': 'True'}\n"
          ]
        }
      ],
      "execution_count": 17,
      "metadata": {
        "gather": {
          "logged": 1611801147062
        },
        "jupyter": {
          "outputs_hidden": false,
          "source_hidden": false
        },
        "nteract": {
          "transient": {
            "deleting": false
          }
        }
      }
    },
    {
      "cell_type": "markdown",
      "source": [
        "## Model Deployment\n",
        "\n",
        "Remember you have to deploy only one of the two models you trained.. Perform the steps in the rest of this notebook only if you wish to deploy this model.\n",
        "\n",
        "TODO: In the cell below, register the model, create an inference config and deploy the model as a web service."
      ],
      "metadata": {}
    },
    {
      "cell_type": "code",
      "source": [],
      "outputs": [],
      "execution_count": null,
      "metadata": {
        "gather": {
          "logged": 1611799105420
        },
        "jupyter": {
          "outputs_hidden": false,
          "source_hidden": false
        },
        "nteract": {
          "transient": {
            "deleting": false
          }
        }
      }
    },
    {
      "cell_type": "markdown",
      "source": [
        "TODO: In the cell below, send a request to the web service you deployed to test it."
      ],
      "metadata": {
        "collapsed": true,
        "gather": {
          "logged": 1598431657736
        },
        "jupyter": {
          "outputs_hidden": false,
          "source_hidden": false
        },
        "nteract": {
          "transient": {
            "deleting": false
          }
        }
      }
    },
    {
      "cell_type": "code",
      "source": [],
      "outputs": [],
      "execution_count": null,
      "metadata": {
        "collapsed": true,
        "jupyter": {
          "source_hidden": false,
          "outputs_hidden": false
        },
        "nteract": {
          "transient": {
            "deleting": false
          }
        }
      }
    },
    {
      "cell_type": "markdown",
      "source": [
        "TODO: In the cell below, print the logs of the web service and delete the service"
      ],
      "metadata": {
        "collapsed": true,
        "gather": {
          "logged": 1598432765711
        },
        "jupyter": {
          "outputs_hidden": false,
          "source_hidden": false
        },
        "nteract": {
          "transient": {
            "deleting": false
          }
        }
      }
    },
    {
      "cell_type": "code",
      "source": [],
      "outputs": [],
      "execution_count": null,
      "metadata": {
        "jupyter": {
          "outputs_hidden": false,
          "source_hidden": false
        },
        "nteract": {
          "transient": {
            "deleting": false
          }
        }
      }
    }
  ],
  "metadata": {
    "kernel_info": {
      "name": "python3"
    },
    "kernelspec": {
      "name": "python3",
      "language": "python",
      "display_name": "Python 3"
    },
    "language_info": {
      "name": "python",
      "version": "3.6.9",
      "mimetype": "text/x-python",
      "codemirror_mode": {
        "name": "ipython",
        "version": 3
      },
      "pygments_lexer": "ipython3",
      "nbconvert_exporter": "python",
      "file_extension": ".py"
    },
    "nteract": {
      "version": "nteract-front-end@1.0.0"
    }
  },
  "nbformat": 4,
  "nbformat_minor": 2
}