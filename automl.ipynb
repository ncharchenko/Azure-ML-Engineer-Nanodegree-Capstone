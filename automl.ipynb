{
  "cells": [
    {
      "cell_type": "markdown",
      "source": [
        "# Automated ML\n",
        "\n",
        "TODO: Import Dependencies. In the cell below, import all the dependencies that you will need to complete the project."
      ],
      "metadata": {}
    },
    {
      "cell_type": "code",
      "source": [
        "from azureml.automl.runtime.onnx_convert import OnnxConverter\n",
        "from azureml.core import Workspace, Experiment\n",
        "from azureml.core.compute import ComputeTarget, AmlCompute\n",
        "from azureml.data.dataset_factory import TabularDatasetFactory\n",
        "from azureml.train.automl import AutoMLConfig\n",
        "from azureml.widgets import RunDetails\n",
        "import os\n",
        "import pandas as pd"
      ],
      "outputs": [],
      "execution_count": 1,
      "metadata": {
        "gather": {
          "logged": 1611710547529
        },
        "jupyter": {
          "outputs_hidden": false,
          "source_hidden": false
        },
        "nteract": {
          "transient": {
            "deleting": false
          }
        }
      }
    },
    {
      "cell_type": "code",
      "source": [
        "ws = Workspace.from_config()\n",
        "exp = Experiment(workspace=ws, name=\"lol_match_predictor_automl\")\n",
        "\n",
        "print('Workspace name: ' + ws.name, \n",
        "      'Azure region: ' + ws.location, \n",
        "      'Subscription id: ' + ws.subscription_id, \n",
        "      'Resource group: ' + ws.resource_group, sep = '\\n')\n",
        "\n",
        "run = exp.start_logging()"
      ],
      "outputs": [
        {
          "output_type": "stream",
          "name": "stdout",
          "text": [
            "Workspace name: quick-starts-ws-136182\n",
            "Azure region: southcentralus\n",
            "Subscription id: 81cefad3-d2c9-4f77-a466-99a7f541c7bb\n",
            "Resource group: aml-quickstarts-136182\n"
          ]
        }
      ],
      "execution_count": 3,
      "metadata": {
        "gather": {
          "logged": 1611710680776
        }
      }
    },
    {
      "cell_type": "code",
      "source": [
        "# TODO: Create compute cluster\n",
        "# Use vm_size = \"Standard_D2_V2\" in your provisioning configuration.\n",
        "# max_nodes should be no greater than 4.\n",
        "\n",
        "cluster_name = \"automl_cluster\"\n",
        "\n",
        "# Create a provisioning configuration using the Standard_D2_V2 VM and capping it at 4 nodes.\n",
        "compute_config = AmlCompute.provisioning_configuration(vm_size=\"STANDARD_D2_V2\", max_nodes=4)\n",
        "# Create compute cluster.\n",
        "#cpu_cluster = ComputeTarget.create(ws, cluster_name, compute_config)\n",
        "\n",
        "compute_target = ComputeTarget(workspace=ws, name=\"cluster\")"
      ],
      "outputs": [],
      "execution_count": 4,
      "metadata": {
        "gather": {
          "logged": 1611710684606
        }
      }
    },
    {
      "cell_type": "markdown",
      "source": [
        "## Dataset\n",
        "\n",
        "### Overview\n",
        "TODO: In this markdown cell, give an overview of the dataset you are using. Also mention the task you will be performing.\n",
        "\n",
        "\n",
        "TODO: Get data. In the cell below, write code to access the data you will be using in this project. Remember that the dataset needs to be external."
      ],
      "metadata": {}
    },
    {
      "cell_type": "code",
      "source": [
        "data = pd.read_csv(\"https://oracleselixir-downloadable-match-data.s3-us-west-2.amazonaws.com/2020_LoL_esports_match_data_from_OraclesElixir_20210126.csv\")\n",
        "\n",
        "# This dataset requires cleaning to only get the features we want.\n",
        "columns = ['side', 'position', 'result', 'golddiffat10', 'xpdiffat10', 'golddiffat15', 'xpdiffat15']\n",
        "\n",
        "data = pd.DataFrame(data, columns=columns)\n",
        "\n",
        "# This dataset has data for both sides in each match. We only need to look at matches from one side, so we take only Blue side data.\n",
        "\n",
        "data = data.loc[data['side'] == 'Blue']\n",
        "\n",
        "# This dataset also has data for teams as well as individual players. We only need the data for teams.\n",
        "\n",
        "data = data[data.position.eq('team')]\n",
        "\n",
        "# Side no longer needed so we can delete this field.\n",
        "data.drop(['side'], inplace=True, axis=1, errors='ignore')\n",
        "# We also no longer need positions.\n",
        "data.drop(['position'], inplace=True, axis=1, errors='ignore')\n",
        "\n",
        "# This dataset is equivalent to the output of the above operations.\n",
        "ds = TabularDatasetFactory.from_delimited_files(path=\"https://raw.githubusercontent.com/ncharchenko/Azure-ML-Engineer-Nanodegree-Capstone/master/OraclesElixir_automl_data.csv\")\n",
        "\n",
        "# Show data after cleaning.\n",
        "data.head()"
      ],
      "outputs": [
        {
          "output_type": "execute_result",
          "execution_count": 5,
          "data": {
            "text/plain": "    result  golddiffat10  xpdiffat10  golddiffat15  xpdiffat15\n10       1        117.00     -137.00       -825.00    -1665.00\n22       0      -2014.00    -2149.00      -5484.00    -4833.00\n34       1        682.00      615.00       2566.00     2097.00\n46       0      -1579.00     -858.00      -2471.00    -3064.00\n58       0       -747.00     -313.00        877.00      205.00",
            "text/html": "<div>\n<style scoped>\n    .dataframe tbody tr th:only-of-type {\n        vertical-align: middle;\n    }\n\n    .dataframe tbody tr th {\n        vertical-align: top;\n    }\n\n    .dataframe thead th {\n        text-align: right;\n    }\n</style>\n<table border=\"1\" class=\"dataframe\">\n  <thead>\n    <tr style=\"text-align: right;\">\n      <th></th>\n      <th>result</th>\n      <th>golddiffat10</th>\n      <th>xpdiffat10</th>\n      <th>golddiffat15</th>\n      <th>xpdiffat15</th>\n    </tr>\n  </thead>\n  <tbody>\n    <tr>\n      <th>10</th>\n      <td>1</td>\n      <td>117.00</td>\n      <td>-137.00</td>\n      <td>-825.00</td>\n      <td>-1665.00</td>\n    </tr>\n    <tr>\n      <th>22</th>\n      <td>0</td>\n      <td>-2014.00</td>\n      <td>-2149.00</td>\n      <td>-5484.00</td>\n      <td>-4833.00</td>\n    </tr>\n    <tr>\n      <th>34</th>\n      <td>1</td>\n      <td>682.00</td>\n      <td>615.00</td>\n      <td>2566.00</td>\n      <td>2097.00</td>\n    </tr>\n    <tr>\n      <th>46</th>\n      <td>0</td>\n      <td>-1579.00</td>\n      <td>-858.00</td>\n      <td>-2471.00</td>\n      <td>-3064.00</td>\n    </tr>\n    <tr>\n      <th>58</th>\n      <td>0</td>\n      <td>-747.00</td>\n      <td>-313.00</td>\n      <td>877.00</td>\n      <td>205.00</td>\n    </tr>\n  </tbody>\n</table>\n</div>"
          },
          "metadata": {}
        }
      ],
      "execution_count": 5,
      "metadata": {
        "gather": {
          "logged": 1611710786919
        },
        "jupyter": {
          "outputs_hidden": false,
          "source_hidden": false
        },
        "nteract": {
          "transient": {
            "deleting": false
          }
        }
      }
    },
    {
      "cell_type": "markdown",
      "source": [
        "## AutoML Configuration\n",
        "\n",
        "TODO: Explain why you chose the automl settings and cofiguration you used below."
      ],
      "metadata": {}
    },
    {
      "cell_type": "code",
      "source": [
        "# TODO: Put your automl settings here\n",
        "automl_settings = {}\n",
        "\n",
        "# TODO: Put your automl config here\n",
        "automl_config = AutoMLConfig(\n",
        "    experiment_timeout_minutes=30,\n",
        "    enable_onnx_compatible_models=True,\n",
        "    compute_target=compute_target,\n",
        "    task=\"classification\",\n",
        "    primary_metric=\"accuracy\",\n",
        "    training_data=ds,\n",
        "    validation_size=0.2,\n",
        "    label_column_name=\"result\")"
      ],
      "outputs": [],
      "execution_count": 6,
      "metadata": {
        "gather": {
          "logged": 1611710789990
        },
        "jupyter": {
          "outputs_hidden": false,
          "source_hidden": false
        },
        "nteract": {
          "transient": {
            "deleting": false
          }
        }
      }
    },
    {
      "cell_type": "code",
      "source": [
        "# TODO: Submit your experiment\n",
        "remote_run = exp.submit(automl_config)"
      ],
      "outputs": [
        {
          "output_type": "stream",
          "name": "stdout",
          "text": [
            "Running on remote.\n"
          ]
        }
      ],
      "execution_count": 7,
      "metadata": {
        "gather": {
          "logged": 1611710795725
        },
        "jupyter": {
          "outputs_hidden": false,
          "source_hidden": false
        },
        "nteract": {
          "transient": {
            "deleting": false
          }
        }
      }
    },
    {
      "cell_type": "markdown",
      "source": [
        "## Run Details\n",
        "\n",
        "OPTIONAL: Write about the different models trained and their performance. Why do you think some models did better than others?\n",
        "\n",
        "TODO: In the cell below, use the `RunDetails` widget to show the different experiments."
      ],
      "metadata": {}
    },
    {
      "cell_type": "code",
      "source": [
        "RunDetails(remote_run).show()"
      ],
      "outputs": [
        {
          "output_type": "display_data",
          "data": {
            "text/plain": "_AutoMLWidget(widget_settings={'childWidgetDisplay': 'popup', 'send_telemetry': False, 'log_level': 'INFO', 's…",
            "application/vnd.jupyter.widget-view+json": {
              "version_major": 2,
              "version_minor": 0,
              "model_id": "c1ca931c770f41edacba93d8fc2b44af"
            }
          },
          "metadata": {}
        },
        {
          "output_type": "display_data",
          "data": {
            "application/aml.mini.widget.v1": "{\"status\": \"Running\", \"workbench_run_details_uri\": \"https://ml.azure.com/experiments/lol_match_predictor_automl/runs/AutoML_35519a62-f146-4bae-a9bf-e6842e09bc69?wsid=/subscriptions/81cefad3-d2c9-4f77-a466-99a7f541c7bb/resourcegroups/aml-quickstarts-136182/workspaces/quick-starts-ws-136182\", \"run_id\": \"AutoML_35519a62-f146-4bae-a9bf-e6842e09bc69\", \"run_properties\": {\"run_id\": \"AutoML_35519a62-f146-4bae-a9bf-e6842e09bc69\", \"created_utc\": \"2021-01-27T01:26:34.949346Z\", \"properties\": {\"num_iterations\": \"1000\", \"training_type\": \"TrainFull\", \"acquisition_function\": \"EI\", \"primary_metric\": \"accuracy\", \"train_split\": \"0.2\", \"acquisition_parameter\": \"0\", \"num_cross_validation\": null, \"target\": \"cluster\", \"AMLSettingsJsonString\": \"{\\\"path\\\":null,\\\"name\\\":\\\"lol_match_predictor_automl\\\",\\\"subscription_id\\\":\\\"81cefad3-d2c9-4f77-a466-99a7f541c7bb\\\",\\\"resource_group\\\":\\\"aml-quickstarts-136182\\\",\\\"workspace_name\\\":\\\"quick-starts-ws-136182\\\",\\\"region\\\":\\\"southcentralus\\\",\\\"compute_target\\\":\\\"cluster\\\",\\\"spark_service\\\":null,\\\"azure_service\\\":\\\"remote\\\",\\\"many_models\\\":false,\\\"pipeline_fetch_max_batch_size\\\":1,\\\"iterations\\\":1000,\\\"primary_metric\\\":\\\"accuracy\\\",\\\"task_type\\\":\\\"classification\\\",\\\"data_script\\\":null,\\\"validation_size\\\":0.2,\\\"n_cross_validations\\\":null,\\\"y_min\\\":null,\\\"y_max\\\":null,\\\"num_classes\\\":null,\\\"featurization\\\":\\\"auto\\\",\\\"_ignore_package_version_incompatibilities\\\":false,\\\"is_timeseries\\\":false,\\\"max_cores_per_iteration\\\":1,\\\"max_concurrent_iterations\\\":1,\\\"iteration_timeout_minutes\\\":null,\\\"mem_in_mb\\\":null,\\\"enforce_time_on_windows\\\":false,\\\"experiment_timeout_minutes\\\":30,\\\"experiment_exit_score\\\":null,\\\"whitelist_models\\\":null,\\\"blacklist_algos\\\":[\\\"TensorFlowLinearClassifier\\\",\\\"TensorFlowDNN\\\"],\\\"supported_models\\\":[\\\"MultinomialNaiveBayes\\\",\\\"DecisionTree\\\",\\\"LinearSVM\\\",\\\"AveragedPerceptronClassifier\\\",\\\"XGBoostClassifier\\\",\\\"ExtremeRandomTrees\\\",\\\"SGD\\\",\\\"KNN\\\",\\\"SVM\\\",\\\"RandomForest\\\",\\\"LightGBM\\\",\\\"GradientBoosting\\\",\\\"TensorFlowDNN\\\",\\\"TensorFlowLinearClassifier\\\",\\\"LogisticRegression\\\",\\\"BernoulliNaiveBayes\\\"],\\\"auto_blacklist\\\":true,\\\"blacklist_samples_reached\\\":false,\\\"exclude_nan_labels\\\":true,\\\"verbosity\\\":20,\\\"_debug_log\\\":\\\"azureml_automl.log\\\",\\\"show_warnings\\\":false,\\\"model_explainability\\\":true,\\\"service_url\\\":null,\\\"sdk_url\\\":null,\\\"sdk_packages\\\":null,\\\"enable_onnx_compatible_models\\\":true,\\\"enable_split_onnx_featurizer_estimator_models\\\":false,\\\"vm_type\\\":\\\"STANDARD_DS3_V2\\\",\\\"telemetry_verbosity\\\":20,\\\"send_telemetry\\\":true,\\\"enable_dnn\\\":false,\\\"scenario\\\":\\\"SDK-1.13.0\\\",\\\"environment_label\\\":null,\\\"force_text_dnn\\\":false,\\\"enable_feature_sweeping\\\":false,\\\"enable_early_stopping\\\":false,\\\"early_stopping_n_iters\\\":10,\\\"metrics\\\":null,\\\"enable_ensembling\\\":true,\\\"enable_stack_ensembling\\\":false,\\\"ensemble_iterations\\\":15,\\\"enable_tf\\\":false,\\\"enable_subsampling\\\":null,\\\"subsample_seed\\\":null,\\\"enable_nimbusml\\\":false,\\\"enable_streaming\\\":false,\\\"force_streaming\\\":false,\\\"track_child_runs\\\":true,\\\"allowed_private_models\\\":[],\\\"label_column_name\\\":\\\"result\\\",\\\"weight_column_name\\\":null,\\\"cv_split_column_names\\\":null,\\\"enable_local_managed\\\":false,\\\"_local_managed_run_id\\\":null,\\\"cost_mode\\\":1,\\\"lag_length\\\":0,\\\"metric_operation\\\":\\\"maximize\\\",\\\"preprocess\\\":true}\", \"DataPrepJsonString\": \"{\\\\\\\"training_data\\\\\\\": \\\\\\\"{\\\\\\\\\\\\\\\"blocks\\\\\\\\\\\\\\\": [{\\\\\\\\\\\\\\\"id\\\\\\\\\\\\\\\": \\\\\\\\\\\\\\\"88b6082b-32b4-4401-a79d-8cda6ead5f09\\\\\\\\\\\\\\\", \\\\\\\\\\\\\\\"type\\\\\\\\\\\\\\\": \\\\\\\\\\\\\\\"Microsoft.DPrep.GetFilesBlock\\\\\\\\\\\\\\\", \\\\\\\\\\\\\\\"arguments\\\\\\\\\\\\\\\": {\\\\\\\\\\\\\\\"isArchive\\\\\\\\\\\\\\\": false, \\\\\\\\\\\\\\\"path\\\\\\\\\\\\\\\": {\\\\\\\\\\\\\\\"target\\\\\\\\\\\\\\\": 4, \\\\\\\\\\\\\\\"resourceDetails\\\\\\\\\\\\\\\": [{\\\\\\\\\\\\\\\"path\\\\\\\\\\\\\\\": \\\\\\\\\\\\\\\"https://raw.githubusercontent.com/ncharchenko/Azure-ML-Engineer-Nanodegree-Capstone/master/OraclesElixir_automl_data.csv\\\\\\\\\\\\\\\"}]}}, \\\\\\\\\\\\\\\"localData\\\\\\\\\\\\\\\": {}, \\\\\\\\\\\\\\\"isEnabled\\\\\\\\\\\\\\\": true, \\\\\\\\\\\\\\\"name\\\\\\\\\\\\\\\": null, \\\\\\\\\\\\\\\"annotation\\\\\\\\\\\\\\\": null}, {\\\\\\\\\\\\\\\"id\\\\\\\\\\\\\\\": \\\\\\\\\\\\\\\"c6d4786f-138d-4c23-82ab-851dbb2fd8f5\\\\\\\\\\\\\\\", \\\\\\\\\\\\\\\"type\\\\\\\\\\\\\\\": \\\\\\\\\\\\\\\"Microsoft.DPrep.ParseDelimitedBlock\\\\\\\\\\\\\\\", \\\\\\\\\\\\\\\"arguments\\\\\\\\\\\\\\\": {\\\\\\\\\\\\\\\"columnHeadersMode\\\\\\\\\\\\\\\": 3, \\\\\\\\\\\\\\\"fileEncoding\\\\\\\\\\\\\\\": 0, \\\\\\\\\\\\\\\"handleQuotedLineBreaks\\\\\\\\\\\\\\\": false, \\\\\\\\\\\\\\\"preview\\\\\\\\\\\\\\\": false, \\\\\\\\\\\\\\\"separator\\\\\\\\\\\\\\\": \\\\\\\\\\\\\\\",\\\\\\\\\\\\\\\", \\\\\\\\\\\\\\\"skipRows\\\\\\\\\\\\\\\": 0, \\\\\\\\\\\\\\\"skipRowsMode\\\\\\\\\\\\\\\": 0}, \\\\\\\\\\\\\\\"localData\\\\\\\\\\\\\\\": {}, \\\\\\\\\\\\\\\"isEnabled\\\\\\\\\\\\\\\": true, \\\\\\\\\\\\\\\"name\\\\\\\\\\\\\\\": null, \\\\\\\\\\\\\\\"annotation\\\\\\\\\\\\\\\": null}, {\\\\\\\\\\\\\\\"id\\\\\\\\\\\\\\\": \\\\\\\\\\\\\\\"a37484f6-14f8-41b8-ac21-e3ed7da5b953\\\\\\\\\\\\\\\", \\\\\\\\\\\\\\\"type\\\\\\\\\\\\\\\": \\\\\\\\\\\\\\\"Microsoft.DPrep.DropColumnsBlock\\\\\\\\\\\\\\\", \\\\\\\\\\\\\\\"arguments\\\\\\\\\\\\\\\": {\\\\\\\\\\\\\\\"columns\\\\\\\\\\\\\\\": {\\\\\\\\\\\\\\\"type\\\\\\\\\\\\\\\": 0, \\\\\\\\\\\\\\\"details\\\\\\\\\\\\\\\": {\\\\\\\\\\\\\\\"selectedColumns\\\\\\\\\\\\\\\": [\\\\\\\\\\\\\\\"Path\\\\\\\\\\\\\\\"]}}}, \\\\\\\\\\\\\\\"localData\\\\\\\\\\\\\\\": {}, \\\\\\\\\\\\\\\"isEnabled\\\\\\\\\\\\\\\": true, \\\\\\\\\\\\\\\"name\\\\\\\\\\\\\\\": null, \\\\\\\\\\\\\\\"annotation\\\\\\\\\\\\\\\": null}, {\\\\\\\\\\\\\\\"id\\\\\\\\\\\\\\\": \\\\\\\\\\\\\\\"c6dab1b4-c11d-4fd5-94cf-a99f2a410ca5\\\\\\\\\\\\\\\", \\\\\\\\\\\\\\\"type\\\\\\\\\\\\\\\": \\\\\\\\\\\\\\\"Microsoft.DPrep.SetColumnTypesBlock\\\\\\\\\\\\\\\", \\\\\\\\\\\\\\\"arguments\\\\\\\\\\\\\\\": {\\\\\\\\\\\\\\\"columnConversion\\\\\\\\\\\\\\\": [{\\\\\\\\\\\\\\\"column\\\\\\\\\\\\\\\": {\\\\\\\\\\\\\\\"type\\\\\\\\\\\\\\\": 2, \\\\\\\\\\\\\\\"details\\\\\\\\\\\\\\\": {\\\\\\\\\\\\\\\"selectedColumn\\\\\\\\\\\\\\\": \\\\\\\\\\\\\\\"Column1\\\\\\\\\\\\\\\"}}, \\\\\\\\\\\\\\\"typeProperty\\\\\\\\\\\\\\\": 2}, {\\\\\\\\\\\\\\\"column\\\\\\\\\\\\\\\": {\\\\\\\\\\\\\\\"type\\\\\\\\\\\\\\\": 2, \\\\\\\\\\\\\\\"details\\\\\\\\\\\\\\\": {\\\\\\\\\\\\\\\"selectedColumn\\\\\\\\\\\\\\\": \\\\\\\\\\\\\\\"result\\\\\\\\\\\\\\\"}}, \\\\\\\\\\\\\\\"typeProperty\\\\\\\\\\\\\\\": 2}, {\\\\\\\\\\\\\\\"column\\\\\\\\\\\\\\\": {\\\\\\\\\\\\\\\"type\\\\\\\\\\\\\\\": 2, \\\\\\\\\\\\\\\"details\\\\\\\\\\\\\\\": {\\\\\\\\\\\\\\\"selectedColumn\\\\\\\\\\\\\\\": \\\\\\\\\\\\\\\"golddiffat10\\\\\\\\\\\\\\\"}}, \\\\\\\\\\\\\\\"typeProperty\\\\\\\\\\\\\\\": 3}, {\\\\\\\\\\\\\\\"column\\\\\\\\\\\\\\\": {\\\\\\\\\\\\\\\"type\\\\\\\\\\\\\\\": 2, \\\\\\\\\\\\\\\"details\\\\\\\\\\\\\\\": {\\\\\\\\\\\\\\\"selectedColumn\\\\\\\\\\\\\\\": \\\\\\\\\\\\\\\"xpdiffat10\\\\\\\\\\\\\\\"}}, \\\\\\\\\\\\\\\"typeProperty\\\\\\\\\\\\\\\": 3}, {\\\\\\\\\\\\\\\"column\\\\\\\\\\\\\\\": {\\\\\\\\\\\\\\\"type\\\\\\\\\\\\\\\": 2, \\\\\\\\\\\\\\\"details\\\\\\\\\\\\\\\": {\\\\\\\\\\\\\\\"selectedColumn\\\\\\\\\\\\\\\": \\\\\\\\\\\\\\\"golddiffat15\\\\\\\\\\\\\\\"}}, \\\\\\\\\\\\\\\"typeProperty\\\\\\\\\\\\\\\": 3}, {\\\\\\\\\\\\\\\"column\\\\\\\\\\\\\\\": {\\\\\\\\\\\\\\\"type\\\\\\\\\\\\\\\": 2, \\\\\\\\\\\\\\\"details\\\\\\\\\\\\\\\": {\\\\\\\\\\\\\\\"selectedColumn\\\\\\\\\\\\\\\": \\\\\\\\\\\\\\\"xpdiffat15\\\\\\\\\\\\\\\"}}, \\\\\\\\\\\\\\\"typeProperty\\\\\\\\\\\\\\\": 3}]}, \\\\\\\\\\\\\\\"localData\\\\\\\\\\\\\\\": {}, \\\\\\\\\\\\\\\"isEnabled\\\\\\\\\\\\\\\": true, \\\\\\\\\\\\\\\"name\\\\\\\\\\\\\\\": null, \\\\\\\\\\\\\\\"annotation\\\\\\\\\\\\\\\": null}], \\\\\\\\\\\\\\\"inspectors\\\\\\\\\\\\\\\": [], \\\\\\\\\\\\\\\"meta\\\\\\\\\\\\\\\": {\\\\\\\\\\\\\\\"savedDatasetId\\\\\\\\\\\\\\\": \\\\\\\\\\\\\\\"a856f64c-d910-4b10-bb9c-a323219210f8\\\\\\\\\\\\\\\", \\\\\\\\\\\\\\\"datasetType\\\\\\\\\\\\\\\": \\\\\\\\\\\\\\\"tabular\\\\\\\\\\\\\\\", \\\\\\\\\\\\\\\"subscriptionId\\\\\\\\\\\\\\\": \\\\\\\\\\\\\\\"81cefad3-d2c9-4f77-a466-99a7f541c7bb\\\\\\\\\\\\\\\", \\\\\\\\\\\\\\\"workspaceId\\\\\\\\\\\\\\\": \\\\\\\\\\\\\\\"6ce88884-d80a-4ecc-85af-ad9edc30e003\\\\\\\\\\\\\\\", \\\\\\\\\\\\\\\"workspaceLocation\\\\\\\\\\\\\\\": \\\\\\\\\\\\\\\"southcentralus\\\\\\\\\\\\\\\"}}\\\\\\\", \\\\\\\"activities\\\\\\\": 0}\", \"EnableSubsampling\": null, \"runTemplate\": \"AutoML\", \"azureml.runsource\": \"automl\", \"display_task_type\": \"classification\", \"dependencies_versions\": \"{\\\"azureml-widgets\\\": \\\"1.20.0\\\", \\\"azureml-train\\\": \\\"1.20.0\\\", \\\"azureml-train-restclients-hyperdrive\\\": \\\"1.20.0\\\", \\\"azureml-train-core\\\": \\\"1.20.0\\\", \\\"azureml-train-automl\\\": \\\"1.20.0\\\", \\\"azureml-train-automl-runtime\\\": \\\"1.20.0\\\", \\\"azureml-train-automl-client\\\": \\\"1.20.0\\\", \\\"azureml-tensorboard\\\": \\\"1.20.0\\\", \\\"azureml-telemetry\\\": \\\"1.20.0\\\", \\\"azureml-sdk\\\": \\\"1.20.0\\\", \\\"azureml-samples\\\": \\\"0+unknown\\\", \\\"azureml-pipeline\\\": \\\"1.20.0\\\", \\\"azureml-pipeline-steps\\\": \\\"1.20.0\\\", \\\"azureml-pipeline-core\\\": \\\"1.20.0\\\", \\\"azureml-opendatasets\\\": \\\"1.20.0\\\", \\\"azureml-model-management-sdk\\\": \\\"1.0.1b6.post1\\\", \\\"azureml-mlflow\\\": \\\"1.20.0.post1\\\", \\\"azureml-interpret\\\": \\\"1.20.0\\\", \\\"azureml-explain-model\\\": \\\"1.20.0\\\", \\\"azureml-defaults\\\": \\\"1.20.0\\\", \\\"azureml-dataset-runtime\\\": \\\"1.20.0\\\", \\\"azureml-dataprep\\\": \\\"2.7.3\\\", \\\"azureml-dataprep-rslex\\\": \\\"1.5.0\\\", \\\"azureml-dataprep-native\\\": \\\"27.0.0\\\", \\\"azureml-datadrift\\\": \\\"1.20.0\\\", \\\"azureml-core\\\": \\\"1.20.0\\\", \\\"azureml-contrib-services\\\": \\\"1.20.0\\\", \\\"azureml-contrib-server\\\": \\\"1.20.0\\\", \\\"azureml-contrib-reinforcementlearning\\\": \\\"1.20.0\\\", \\\"azureml-contrib-pipeline-steps\\\": \\\"1.20.0\\\", \\\"azureml-contrib-notebook\\\": \\\"1.20.0\\\", \\\"azureml-contrib-interpret\\\": \\\"1.20.0\\\", \\\"azureml-contrib-gbdt\\\": \\\"1.20.0\\\", \\\"azureml-contrib-fairness\\\": \\\"1.20.0\\\", \\\"azureml-contrib-dataset\\\": \\\"1.20.0\\\", \\\"azureml-cli-common\\\": \\\"1.20.0\\\", \\\"azureml-automl-runtime\\\": \\\"1.20.0\\\", \\\"azureml-automl-core\\\": \\\"1.20.0\\\", \\\"azureml-accel-models\\\": \\\"1.20.0\\\"}\", \"_aml_system_scenario_identification\": \"Remote.Parent\", \"ClientType\": \"SDK\", \"environment_cpu_name\": \"AzureML-AutoML\", \"environment_cpu_label\": \"prod\", \"environment_gpu_name\": \"AzureML-AutoML-GPU\", \"environment_gpu_label\": \"prod\", \"root_attribution\": \"automl\", \"attribution\": \"AutoML\", \"Orchestrator\": \"AutoML\", \"CancelUri\": \"https://southcentralus.experiments.azureml.net/jasmine/v1.0/subscriptions/81cefad3-d2c9-4f77-a466-99a7f541c7bb/resourceGroups/aml-quickstarts-136182/providers/Microsoft.MachineLearningServices/workspaces/quick-starts-ws-136182/experimentids/a5928ce5-d0d5-4513-97b7-7d92a7bf5080/cancel/AutoML_35519a62-f146-4bae-a9bf-e6842e09bc69\", \"ClientSdkVersion\": \"1.20.0.post1\", \"snapshotId\": \"00000000-0000-0000-0000-000000000000\", \"SetupRunId\": \"AutoML_35519a62-f146-4bae-a9bf-e6842e09bc69_setup\", \"SetupRunContainerId\": \"dcid.AutoML_35519a62-f146-4bae-a9bf-e6842e09bc69_setup\", \"FeaturizationRunJsonPath\": \"featurizer_container.json\", \"FeaturizationRunId\": \"AutoML_35519a62-f146-4bae-a9bf-e6842e09bc69_featurize\", \"ProblemInfoJsonString\": \"{\\\"dataset_num_categorical\\\": 0, \\\"is_sparse\\\": false, \\\"subsampling\\\": false, \\\"dataset_classes\\\": 2, \\\"dataset_features\\\": 5, \\\"dataset_samples\\\": 5246, \\\"single_frequency_class_detected\\\": false}\"}, \"tags\": {\"model_explain_run\": \"best_run\", \"_aml_system_azureml.automlComponent\": \"AutoML\", \"pipeline_id\": \"<5dfac790c5c209f98a1da2dc1c7fb76f0397324f>;<c7af0367625be6ac5c2fecbfc72ed444cb7a2111>;<cf1dc9b7ea4a50d759bce352343ec6737501695a>;<b19eeb61727e9c4fbb5aa45fb6e9fe3fab5b1f04>;<032c2f067189c1f56172ca21b98c8843539dd9de>;<8b8d6ec7348787185d1862cfe0f1be758d8cb238>;<2ffa6cf359ffe417a117666f62b1ae554d99df21>;<f3701b37d6ec3121e1984dff1150a34a7937e7b2>;<c28404fa0434867ba260233bc52cbf0382c5bee1>;<c97b3fbbb3a9906a67294dc582d3b4ea08e83349>;<c58e766423d668d3696f0861210c3a0b879b8cd4>;<d4a0230cdc4e757b3ecd2a2f364f8f0141fb5e8d>;<3f87693e8822b5543aab10f52f57857916d67b87>;<cbdc4b871425deb1c44850dbcf05f26b6d8d6414>;<e3212a7716ff2c5c66a7d794a69a0a43af3b7761>;<ffeaf2f84edf800e416130b6d641b3133f84f75e>;<fd6f940bf1ee2279f95178048c52cb8bedf42886>;<49de639318542f56176a529f3c5a701ed6f9f718>;<04c3b7d491daa54dfc33e7f79d2a43b33a4b395e>;<9755e6ff55b62b959f84ae5a71af30aaa272ebae>;<794970747dbf595b10eb03f7b398185c8b344691>;<14c11cd8fafb0e60e9d01a6e7dc7edf42a7c90b1>;<e6032414b604c873a6977d5a708378108c89afa7>;<8c9d21f4e22650fb742ec4cb3a2b27fab4a0717f>;<5564cbb3538d13e6b8a7d1d2b07d332b881b4b0b>;<8866e58501d50b3bcfac822d69c0103b58568a5b>;\", \"score\": \"<0.7345537757437071>;<0.7406559877955758>;<0.7459954233409611>;<0.7360793287566743>;<0.7406559877955758>;<0.7353165522501907>;<0.7376048817696415>;<0.7421815408085431>;<0.7429443173150267>;<0.7414187643020596>;<0.7459954233409611>;<0.7376048817696415>;<0.7414187643020596>;<0.7406559877955758>;<0.7437070938215103>;<0.7307398932112891>;<0.7459954233409611>;<0.7429443173150267>;<0.7261632341723875>;<0.7406559877955758>;<0.7429443173150267>;<0.7406559877955758>;<0.7360793287566743>;<0.738367658276125>;<0.7269260106788711>;<0.5354691075514875>;\", \"predicted_cost\": \"<0>;<0>;<0.5>;<0.06924000000000001>;<0.06606538662608166>;<0.10659908013357683>;<0.1488330369845972>;<0.0979711321396895>;<0.1294479186683858>;<0.062113525416835534>;<0.07425372111909762>;<0.16011771790426413>;<0.04540367987139492>;<0.0676241074775965>;<0.07700413780550444>;<0.2656608358620926>;<0.05868620686470927>;<0.18417635861763937>;<0.1840831602649431>;<0.60717131942769>;<0.11086545550862671>;<0.09916856588630807>;<0.1992731592082492>;<0.4024083393168195>;<0.07845880680053162>;<0.3897807209868943>;\", \"fit_time\": \"<0.167014>;<0.288371>;<0.06924>;<0.062809>;<0.194649>;<0.205616>;<0.448581>;<0.024822>;<0.029358>;<0.017079>;<0.037887>;<0.07675699999999999>;<0.037414>;<0.042387>;<0.218804>;<0.566247>;<0.063586>;<0.363891>;<0.42849>;<0.756343>;<0.0636>;<0.045896>;<0.24427100000000002>;<0.6813400000000001>;<0.09026500000000001>;<1.144234>;\", \"training_percent\": \"<100>;<100>;<100>;<100>;<100>;<100>;<100>;<100>;<100>;<100>;<100>;<100>;<100>;<100>;<100>;<100>;<100>;<100>;<100>;<100>;<100>;<100>;<100>;<100>;<100>;<100>;\", \"iteration\": \"<0>;<1>;<2>;<3>;<4>;<5>;<6>;<7>;<8>;<9>;<10>;<11>;<12>;<13>;<14>;<15>;<16>;<17>;<18>;<19>;<20>;<21>;<22>;<23>;<24>;<25>;\", \"run_preprocessor\": \"<MaxAbsScaler>;<MaxAbsScaler>;<MinMaxScaler>;<MinMaxScaler>;<MinMaxScaler>;<SparseNormalizer>;<MaxAbsScaler>;<SparseNormalizer>;<StandardScalerWrapper>;<MinMaxScaler>;<MinMaxScaler>;<MinMaxScaler>;<StandardScalerWrapper>;<SparseNormalizer>;<RobustScaler>;<RobustScaler>;<RobustScaler>;<MaxAbsScaler>;<SparseNormalizer>;<MaxAbsScaler>;<RobustScaler>;<SparseNormalizer>;<SparseNormalizer>;<StandardScalerWrapper>;<StandardScalerWrapper>;<RobustScaler>;\", \"run_algorithm\": \"<LightGBM>;<XGBoostClassifier>;<RandomForest>;<RandomForest>;<RandomForest>;<XGBoostClassifier>;<GradientBoosting>;<XGBoostClassifier>;<LogisticRegression>;<LogisticRegression>;<LightGBM>;<LightGBM>;<LightGBM>;<LightGBM>;<ExtremeRandomTrees>;<LightGBM>;<ExtremeRandomTrees>;<ExtremeRandomTrees>;<XGBoostClassifier>;<ExtremeRandomTrees>;<LightGBM>;<LightGBM>;<XGBoostClassifier>;<ExtremeRandomTrees>;<ExtremeRandomTrees>;<RandomForest>;\", \"dynamic_whitelisting_iterations\": \"<25>;\"}, \"end_time_utc\": null, \"status\": \"Running\", \"log_files\": {}, \"log_groups\": [], \"run_duration\": \"0:37:14\"}, \"child_runs\": [{\"run_id\": \"AutoML_35519a62-f146-4bae-a9bf-e6842e09bc69_0\", \"run_number\": 22, \"metric\": null, \"status\": \"Completed\", \"run_type\": \"azureml.scriptrun\", \"training_percent\": \"100\", \"start_time\": \"2021-01-27T01:34:59.230678Z\", \"end_time\": \"2021-01-27T01:35:47.691305Z\", \"created_time\": \"2021-01-27T01:34:47.68106Z\", \"created_time_dt\": \"2021-01-27T01:34:47.68106Z\", \"duration\": \"0:01:00\", \"iteration\": \"0\", \"goal\": \"accuracy_max\", \"run_name\": \"MaxAbsScaler, LightGBM\", \"run_properties\": \"copy=True\", \"primary_metric\": 0.73455378, \"best_metric\": 0.73455378}, {\"run_id\": \"AutoML_35519a62-f146-4bae-a9bf-e6842e09bc69_1\", \"run_number\": 23, \"metric\": null, \"status\": \"Completed\", \"run_type\": \"azureml.scriptrun\", \"training_percent\": \"100\", \"start_time\": \"2021-01-27T01:35:59.985774Z\", \"end_time\": \"2021-01-27T01:36:54.28155Z\", \"created_time\": \"2021-01-27T01:35:48.539563Z\", \"created_time_dt\": \"2021-01-27T01:35:48.539563Z\", \"duration\": \"0:01:05\", \"iteration\": \"1\", \"goal\": \"accuracy_max\", \"run_name\": \"MaxAbsScaler, XGBoostClassifier\", \"run_properties\": \"copy=True\", \"primary_metric\": 0.74065599, \"best_metric\": 0.74065599}, {\"run_id\": \"AutoML_35519a62-f146-4bae-a9bf-e6842e09bc69_2\", \"run_number\": 24, \"metric\": null, \"status\": \"Completed\", \"run_type\": \"azureml.scriptrun\", \"training_percent\": \"100\", \"start_time\": \"2021-01-27T01:37:05.452865Z\", \"end_time\": \"2021-01-27T01:37:56.865334Z\", \"created_time\": \"2021-01-27T01:36:55.432976Z\", \"created_time_dt\": \"2021-01-27T01:36:55.432976Z\", \"duration\": \"0:01:01\", \"iteration\": \"2\", \"goal\": \"accuracy_max\", \"run_name\": \"MinMaxScaler, RandomForest\", \"run_properties\": \"copy=True, feature_range=(0, 1\", \"primary_metric\": 0.74599542, \"best_metric\": 0.74599542}, {\"run_id\": \"AutoML_35519a62-f146-4bae-a9bf-e6842e09bc69_3\", \"run_number\": 25, \"metric\": null, \"status\": \"Completed\", \"run_type\": \"azureml.scriptrun\", \"training_percent\": \"100\", \"start_time\": \"2021-01-27T01:38:09.551324Z\", \"end_time\": \"2021-01-27T01:38:56.951799Z\", \"created_time\": \"2021-01-27T01:37:58.821693Z\", \"created_time_dt\": \"2021-01-27T01:37:58.821693Z\", \"duration\": \"0:00:58\", \"iteration\": \"3\", \"goal\": \"accuracy_max\", \"run_name\": \"MinMaxScaler, RandomForest\", \"run_properties\": \"copy=True, feature_range=(0, 1\", \"primary_metric\": 0.73607933, \"best_metric\": 0.74599542}, {\"run_id\": \"AutoML_35519a62-f146-4bae-a9bf-e6842e09bc69_4\", \"run_number\": 26, \"metric\": null, \"status\": \"Completed\", \"run_type\": \"azureml.scriptrun\", \"training_percent\": \"100\", \"start_time\": \"2021-01-27T01:39:09.253756Z\", \"end_time\": \"2021-01-27T01:40:08.646265Z\", \"created_time\": \"2021-01-27T01:38:58.953713Z\", \"created_time_dt\": \"2021-01-27T01:38:58.953713Z\", \"duration\": \"0:01:09\", \"iteration\": \"4\", \"goal\": \"accuracy_max\", \"run_name\": \"MinMaxScaler, RandomForest\", \"run_properties\": \"copy=True, feature_range=(0, 1\", \"primary_metric\": 0.74065599, \"best_metric\": 0.74599542}, {\"run_id\": \"AutoML_35519a62-f146-4bae-a9bf-e6842e09bc69_5\", \"run_number\": 27, \"metric\": null, \"status\": \"Completed\", \"run_type\": \"azureml.scriptrun\", \"training_percent\": \"100\", \"start_time\": \"2021-01-27T01:40:24.589413Z\", \"end_time\": \"2021-01-27T01:41:13.38194Z\", \"created_time\": \"2021-01-27T01:40:11.458109Z\", \"created_time_dt\": \"2021-01-27T01:40:11.458109Z\", \"duration\": \"0:01:01\", \"iteration\": \"5\", \"goal\": \"accuracy_max\", \"run_name\": \"SparseNormalizer, XGBoostClassifier\", \"run_properties\": \"<azureml.automl.runtime.shared.model_wrappers.SparseNormalizer object at 0x7f2c1c9b28d0\", \"primary_metric\": 0.73531655, \"best_metric\": 0.74599542}, {\"run_id\": \"AutoML_35519a62-f146-4bae-a9bf-e6842e09bc69_6\", \"run_number\": 28, \"metric\": null, \"status\": \"Completed\", \"run_type\": \"azureml.scriptrun\", \"training_percent\": \"100\", \"start_time\": \"2021-01-27T01:41:27.415429Z\", \"end_time\": \"2021-01-27T01:42:13.038326Z\", \"created_time\": \"2021-01-27T01:41:15.480142Z\", \"created_time_dt\": \"2021-01-27T01:41:15.480142Z\", \"duration\": \"0:00:57\", \"iteration\": \"6\", \"goal\": \"accuracy_max\", \"run_name\": \"MaxAbsScaler, GradientBoosting\", \"run_properties\": \"copy=True\", \"primary_metric\": 0.73760488, \"best_metric\": 0.74599542}, {\"run_id\": \"AutoML_35519a62-f146-4bae-a9bf-e6842e09bc69_7\", \"run_number\": 29, \"metric\": null, \"status\": \"Completed\", \"run_type\": \"azureml.scriptrun\", \"training_percent\": \"100\", \"start_time\": \"2021-01-27T01:42:28.444897Z\", \"end_time\": \"2021-01-27T01:43:11.140104Z\", \"created_time\": \"2021-01-27T01:42:15.438251Z\", \"created_time_dt\": \"2021-01-27T01:42:15.438251Z\", \"duration\": \"0:00:55\", \"iteration\": \"7\", \"goal\": \"accuracy_max\", \"run_name\": \"SparseNormalizer, XGBoostClassifier\", \"run_properties\": \"<azureml.automl.runtime.shared.model_wrappers.SparseNormalizer object at 0x7f5d7ecf9630\", \"primary_metric\": 0.74218154, \"best_metric\": 0.74599542}, {\"run_id\": \"AutoML_35519a62-f146-4bae-a9bf-e6842e09bc69_8\", \"run_number\": 30, \"metric\": null, \"status\": \"Completed\", \"run_type\": \"azureml.scriptrun\", \"training_percent\": \"100\", \"start_time\": \"2021-01-27T01:43:25.617911Z\", \"end_time\": \"2021-01-27T01:44:19.560694Z\", \"created_time\": \"2021-01-27T01:43:13.305667Z\", \"created_time_dt\": \"2021-01-27T01:43:13.305667Z\", \"duration\": \"0:01:06\", \"iteration\": \"8\", \"goal\": \"accuracy_max\", \"run_name\": \"StandardScalerWrapper, LogisticRegression\", \"run_properties\": \"<azureml.automl.runtime.shared.model_wrappers.StandardScalerWrapper object at 0x7f14fc73d5c0\", \"primary_metric\": 0.74294432, \"best_metric\": 0.74599542}, {\"run_id\": \"AutoML_35519a62-f146-4bae-a9bf-e6842e09bc69_9\", \"run_number\": 31, \"metric\": null, \"status\": \"Completed\", \"run_type\": \"azureml.scriptrun\", \"training_percent\": \"100\", \"start_time\": \"2021-01-27T01:44:35.69285Z\", \"end_time\": \"2021-01-27T01:45:15.573967Z\", \"created_time\": \"2021-01-27T01:44:21.361124Z\", \"created_time_dt\": \"2021-01-27T01:44:21.361124Z\", \"duration\": \"0:00:54\", \"iteration\": \"9\", \"goal\": \"accuracy_max\", \"run_name\": \"MinMaxScaler, LogisticRegression\", \"run_properties\": \"copy=True, feature_range=(0, 1\", \"primary_metric\": 0.74141876, \"best_metric\": 0.74599542}, {\"run_id\": \"AutoML_35519a62-f146-4bae-a9bf-e6842e09bc69_10\", \"run_number\": 32, \"metric\": null, \"status\": \"Completed\", \"run_type\": \"azureml.scriptrun\", \"training_percent\": \"100\", \"start_time\": \"2021-01-27T01:45:29.658748Z\", \"end_time\": \"2021-01-27T01:46:23.238848Z\", \"created_time\": \"2021-01-27T01:45:17.283954Z\", \"created_time_dt\": \"2021-01-27T01:45:17.283954Z\", \"duration\": \"0:01:05\", \"iteration\": \"10\", \"goal\": \"accuracy_max\", \"run_name\": \"MinMaxScaler, LightGBM\", \"run_properties\": \"copy=True, feature_range=(0, 1\", \"primary_metric\": 0.74599542, \"best_metric\": 0.74599542}, {\"run_id\": \"AutoML_35519a62-f146-4bae-a9bf-e6842e09bc69_11\", \"run_number\": 33, \"metric\": null, \"status\": \"Completed\", \"run_type\": \"azureml.scriptrun\", \"training_percent\": \"100\", \"start_time\": \"2021-01-27T01:46:36.802382Z\", \"end_time\": \"2021-01-27T01:47:24.616627Z\", \"created_time\": \"2021-01-27T01:46:25.945359Z\", \"created_time_dt\": \"2021-01-27T01:46:25.945359Z\", \"duration\": \"0:00:58\", \"iteration\": \"11\", \"goal\": \"accuracy_max\", \"run_name\": \"MinMaxScaler, LightGBM\", \"run_properties\": \"copy=True, feature_range=(0, 1\", \"primary_metric\": 0.73760488, \"best_metric\": 0.74599542}, {\"run_id\": \"AutoML_35519a62-f146-4bae-a9bf-e6842e09bc69_12\", \"run_number\": 34, \"metric\": null, \"status\": \"Completed\", \"run_type\": \"azureml.scriptrun\", \"training_percent\": \"100\", \"start_time\": \"2021-01-27T01:47:37.40372Z\", \"end_time\": \"2021-01-27T01:48:29.838994Z\", \"created_time\": \"2021-01-27T01:47:26.866885Z\", \"created_time_dt\": \"2021-01-27T01:47:26.866885Z\", \"duration\": \"0:01:02\", \"iteration\": \"12\", \"goal\": \"accuracy_max\", \"run_name\": \"StandardScalerWrapper, LightGBM\", \"run_properties\": \"<azureml.automl.runtime.shared.model_wrappers.StandardScalerWrapper object at 0x7fc730878390\", \"primary_metric\": 0.74141876, \"best_metric\": 0.74599542}, {\"run_id\": \"AutoML_35519a62-f146-4bae-a9bf-e6842e09bc69_13\", \"run_number\": 35, \"metric\": null, \"status\": \"Completed\", \"run_type\": \"azureml.scriptrun\", \"training_percent\": \"100\", \"start_time\": \"2021-01-27T01:48:42.826539Z\", \"end_time\": \"2021-01-27T01:49:36.123921Z\", \"created_time\": \"2021-01-27T01:48:32.302641Z\", \"created_time_dt\": \"2021-01-27T01:48:32.302641Z\", \"duration\": \"0:01:03\", \"iteration\": \"13\", \"goal\": \"accuracy_max\", \"run_name\": \"SparseNormalizer, LightGBM\", \"run_properties\": \"<azureml.automl.runtime.shared.model_wrappers.SparseNormalizer object at 0x7ff8dcbe9828\", \"primary_metric\": 0.74065599, \"best_metric\": 0.74599542}, {\"run_id\": \"AutoML_35519a62-f146-4bae-a9bf-e6842e09bc69_14\", \"run_number\": 36, \"metric\": null, \"status\": \"Completed\", \"run_type\": \"azureml.scriptrun\", \"training_percent\": \"100\", \"start_time\": \"2021-01-27T01:49:58.667135Z\", \"end_time\": \"2021-01-27T01:50:52.581839Z\", \"created_time\": \"2021-01-27T01:49:39.076353Z\", \"created_time_dt\": \"2021-01-27T01:49:39.076353Z\", \"duration\": \"0:01:13\", \"iteration\": \"14\", \"goal\": \"accuracy_max\", \"run_name\": \"RobustScaler, ExtremeRandomTrees\", \"run_properties\": \"copy=True, quantile_range=[25, 75], with_centering=True,\\n             with_scaling=False\", \"primary_metric\": 0.74370709, \"best_metric\": 0.74599542}, {\"run_id\": \"AutoML_35519a62-f146-4bae-a9bf-e6842e09bc69_15\", \"run_number\": 37, \"metric\": null, \"status\": \"Completed\", \"run_type\": \"azureml.scriptrun\", \"training_percent\": \"100\", \"start_time\": \"2021-01-27T01:51:09.470626Z\", \"end_time\": \"2021-01-27T01:51:56.047071Z\", \"created_time\": \"2021-01-27T01:50:54.614822Z\", \"created_time_dt\": \"2021-01-27T01:50:54.614822Z\", \"duration\": \"0:01:01\", \"iteration\": \"15\", \"goal\": \"accuracy_max\", \"run_name\": \"RobustScaler, LightGBM\", \"run_properties\": \"copy=True, quantile_range=[10, 90], with_centering=False,\\n             with_scaling=False\", \"primary_metric\": 0.73073989, \"best_metric\": 0.74599542}, {\"run_id\": \"AutoML_35519a62-f146-4bae-a9bf-e6842e09bc69_16\", \"run_number\": 38, \"metric\": null, \"status\": \"Completed\", \"run_type\": \"azureml.scriptrun\", \"training_percent\": \"100\", \"start_time\": \"2021-01-27T01:52:10.330119Z\", \"end_time\": \"2021-01-27T01:53:01.708948Z\", \"created_time\": \"2021-01-27T01:51:57.969141Z\", \"created_time_dt\": \"2021-01-27T01:51:57.969141Z\", \"duration\": \"0:01:03\", \"iteration\": \"16\", \"goal\": \"accuracy_max\", \"run_name\": \"RobustScaler, ExtremeRandomTrees\", \"run_properties\": \"copy=True, quantile_range=[10, 90], with_centering=True,\\n             with_scaling=False\", \"primary_metric\": 0.74599542, \"best_metric\": 0.74599542}, {\"run_id\": \"AutoML_35519a62-f146-4bae-a9bf-e6842e09bc69_17\", \"run_number\": 39, \"metric\": null, \"status\": \"Completed\", \"run_type\": \"azureml.scriptrun\", \"training_percent\": \"100\", \"start_time\": \"2021-01-27T01:53:21.122141Z\", \"end_time\": \"2021-01-27T01:54:15.58391Z\", \"created_time\": \"2021-01-27T01:53:07.852888Z\", \"created_time_dt\": \"2021-01-27T01:53:07.852888Z\", \"duration\": \"0:01:07\", \"iteration\": \"17\", \"goal\": \"accuracy_max\", \"run_name\": \"MaxAbsScaler, ExtremeRandomTrees\", \"run_properties\": \"copy=True\", \"primary_metric\": 0.74294432, \"best_metric\": 0.74599542}, {\"run_id\": \"AutoML_35519a62-f146-4bae-a9bf-e6842e09bc69_18\", \"run_number\": 40, \"metric\": null, \"status\": \"Completed\", \"run_type\": \"azureml.scriptrun\", \"training_percent\": \"100\", \"start_time\": \"2021-01-27T01:54:34.37449Z\", \"end_time\": \"2021-01-27T01:55:25.936402Z\", \"created_time\": \"2021-01-27T01:54:18.151187Z\", \"created_time_dt\": \"2021-01-27T01:54:18.151187Z\", \"duration\": \"0:01:07\", \"iteration\": \"18\", \"goal\": \"accuracy_max\", \"run_name\": \"SparseNormalizer, XGBoostClassifier\", \"run_properties\": \"<azureml.automl.runtime.shared.model_wrappers.SparseNormalizer object at 0x7fc0cef97c50\", \"primary_metric\": 0.72616323, \"best_metric\": 0.74599542}, {\"run_id\": \"AutoML_35519a62-f146-4bae-a9bf-e6842e09bc69_19\", \"run_number\": 41, \"metric\": null, \"status\": \"Completed\", \"run_type\": \"azureml.scriptrun\", \"training_percent\": \"100\", \"start_time\": \"2021-01-27T01:55:42.572165Z\", \"end_time\": \"2021-01-27T01:56:34.946587Z\", \"created_time\": \"2021-01-27T01:55:29.558753Z\", \"created_time_dt\": \"2021-01-27T01:55:29.558753Z\", \"duration\": \"0:01:05\", \"iteration\": \"19\", \"goal\": \"accuracy_max\", \"run_name\": \"MaxAbsScaler, ExtremeRandomTrees\", \"run_properties\": \"copy=True\", \"primary_metric\": 0.74065599, \"best_metric\": 0.74599542}, {\"run_id\": \"AutoML_35519a62-f146-4bae-a9bf-e6842e09bc69_20\", \"run_number\": 42, \"metric\": null, \"status\": \"Completed\", \"run_type\": \"azureml.scriptrun\", \"training_percent\": \"100\", \"start_time\": \"2021-01-27T01:56:51.947354Z\", \"end_time\": \"2021-01-27T01:57:37.91075Z\", \"created_time\": \"2021-01-27T01:56:37.643508Z\", \"created_time_dt\": \"2021-01-27T01:56:37.643508Z\", \"duration\": \"0:01:00\", \"iteration\": \"20\", \"goal\": \"accuracy_max\", \"run_name\": \"RobustScaler, LightGBM\", \"run_properties\": \"copy=True, quantile_range=[25, 75], with_centering=False,\\n             with_scaling=False\", \"primary_metric\": 0.74294432, \"best_metric\": 0.74599542}, {\"run_id\": \"AutoML_35519a62-f146-4bae-a9bf-e6842e09bc69_21\", \"run_number\": 43, \"metric\": null, \"status\": \"Completed\", \"run_type\": \"azureml.scriptrun\", \"training_percent\": \"100\", \"start_time\": \"2021-01-27T01:57:52.868402Z\", \"end_time\": \"2021-01-27T01:58:35.904739Z\", \"created_time\": \"2021-01-27T01:57:40.129708Z\", \"created_time_dt\": \"2021-01-27T01:57:40.129708Z\", \"duration\": \"0:00:55\", \"iteration\": \"21\", \"goal\": \"accuracy_max\", \"run_name\": \"SparseNormalizer, LightGBM\", \"run_properties\": \"<azureml.automl.runtime.shared.model_wrappers.SparseNormalizer object at 0x7fb7b93e7358\", \"primary_metric\": 0.74065599, \"best_metric\": 0.74599542}, {\"run_id\": \"AutoML_35519a62-f146-4bae-a9bf-e6842e09bc69_22\", \"run_number\": 44, \"metric\": null, \"status\": \"Completed\", \"run_type\": \"azureml.scriptrun\", \"training_percent\": \"100\", \"start_time\": \"2021-01-27T01:58:51.165296Z\", \"end_time\": \"2021-01-27T01:59:42.490506Z\", \"created_time\": \"2021-01-27T01:58:38.370295Z\", \"created_time_dt\": \"2021-01-27T01:58:38.370295Z\", \"duration\": \"0:01:04\", \"iteration\": \"22\", \"goal\": \"accuracy_max\", \"run_name\": \"SparseNormalizer, XGBoostClassifier\", \"run_properties\": \"<azureml.automl.runtime.shared.model_wrappers.SparseNormalizer object at 0x7f8ca0ddfeb8\", \"primary_metric\": 0.73607933, \"best_metric\": 0.74599542}, {\"run_id\": \"AutoML_35519a62-f146-4bae-a9bf-e6842e09bc69_23\", \"run_number\": 45, \"metric\": null, \"status\": \"Completed\", \"run_type\": \"azureml.scriptrun\", \"training_percent\": \"100\", \"start_time\": \"2021-01-27T01:59:59.552114Z\", \"end_time\": \"2021-01-27T02:00:45.390547Z\", \"created_time\": \"2021-01-27T01:59:45.372079Z\", \"created_time_dt\": \"2021-01-27T01:59:45.372079Z\", \"duration\": \"0:01:00\", \"iteration\": \"23\", \"goal\": \"accuracy_max\", \"run_name\": \"StandardScalerWrapper, ExtremeRandomTrees\", \"run_properties\": \"<azureml.automl.runtime.shared.model_wrappers.StandardScalerWrapper object at 0x7fea752affd0\", \"primary_metric\": 0.73836766, \"best_metric\": 0.74599542}, {\"run_id\": \"AutoML_35519a62-f146-4bae-a9bf-e6842e09bc69_24\", \"run_number\": 46, \"metric\": null, \"status\": \"Completed\", \"run_type\": \"azureml.scriptrun\", \"training_percent\": \"100\", \"start_time\": \"2021-01-27T02:01:01.747073Z\", \"end_time\": \"2021-01-27T02:01:53.289409Z\", \"created_time\": \"2021-01-27T02:00:48.310953Z\", \"created_time_dt\": \"2021-01-27T02:00:48.310953Z\", \"duration\": \"0:01:04\", \"iteration\": \"24\", \"goal\": \"accuracy_max\", \"run_name\": \"StandardScalerWrapper, ExtremeRandomTrees\", \"run_properties\": \"<azureml.automl.runtime.shared.model_wrappers.StandardScalerWrapper object at 0x7fa6a2c69208\", \"primary_metric\": 0.72692601, \"best_metric\": 0.74599542}, {\"run_id\": \"AutoML_35519a62-f146-4bae-a9bf-e6842e09bc69_25\", \"run_number\": 47, \"metric\": null, \"status\": \"Completed\", \"run_type\": \"azureml.scriptrun\", \"training_percent\": \"100\", \"start_time\": \"2021-01-27T02:02:10.633269Z\", \"end_time\": \"2021-01-27T02:03:02.935995Z\", \"created_time\": \"2021-01-27T02:01:56.487891Z\", \"created_time_dt\": \"2021-01-27T02:01:56.487891Z\", \"duration\": \"0:01:06\", \"iteration\": \"25\", \"goal\": \"accuracy_max\", \"run_name\": \"RobustScaler, RandomForest\", \"run_properties\": \"copy=True, quantile_range=[25, 75], with_centering=False,\\n             with_scaling=False\", \"primary_metric\": 0.53546911, \"best_metric\": 0.74599542}, {\"run_id\": \"AutoML_35519a62-f146-4bae-a9bf-e6842e09bc69_26\", \"run_number\": 48, \"metric\": null, \"status\": \"Running\", \"run_type\": \"azureml.scriptrun\", \"training_percent\": \"100\", \"start_time\": \"2021-01-27T02:03:20.64697Z\", \"end_time\": \"\", \"created_time\": \"2021-01-27T02:03:05.293467Z\", \"created_time_dt\": \"2021-01-27T02:03:05.293467Z\", \"duration\": \"0:00:44\", \"iteration\": \"26\", \"goal\": null, \"run_name\": \"StandardScalerWrapper, LightGBM\", \"run_properties\": null}], \"children_metrics\": {\"categories\": [0], \"series\": {\"log_loss\": [{\"categories\": [\"0\", \"1\", \"2\", \"3\", \"4\", \"5\", \"6\", \"7\", \"8\", \"9\", \"10\", \"11\", \"12\", \"13\", \"14\", \"15\", \"16\", \"17\", \"18\", \"19\", \"20\", \"21\", \"22\", \"23\", \"24\", \"25\"], \"mode\": \"markers\", \"name\": \"log_loss\", \"stepped\": false, \"type\": \"scatter\", \"data\": [0.5261648531127533, 0.5026137845142863, 0.5006490858490964, 0.5023865751180672, 0.5023802822204271, 0.5336673711267338, 0.5023684121330447, 0.5595909241810977, 0.493303495126429, 0.49385662210883574, 0.5199291333037087, 0.5124990472781196, 0.5553098303782737, 0.5192667591425709, 0.5099679907082092, 0.5083207311624612, 0.5132279832317297, 0.5805194281316316, 0.5435578004815538, 0.5273389460585607, 0.5170672820857264, 0.5433494370613611, 0.5249169215233825, 0.6392460204926399, 0.6090827288905145, 0.6906671684548121]}, {\"categories\": [\"0\", \"1\", \"2\", \"3\", \"4\", \"5\", \"6\", \"7\", \"8\", \"9\", \"10\", \"11\", \"12\", \"13\", \"14\", \"15\", \"16\", \"17\", \"18\", \"19\", \"20\", \"21\", \"22\", \"23\", \"24\", \"25\"], \"mode\": \"lines\", \"name\": \"log_loss_min\", \"stepped\": true, \"type\": \"scatter\", \"data\": [0.5261648531127533, 0.5026137845142863, 0.5006490858490964, 0.5006490858490964, 0.5006490858490964, 0.5006490858490964, 0.5006490858490964, 0.5006490858490964, 0.493303495126429, 0.493303495126429, 0.493303495126429, 0.493303495126429, 0.493303495126429, 0.493303495126429, 0.493303495126429, 0.493303495126429, 0.493303495126429, 0.493303495126429, 0.493303495126429, 0.493303495126429, 0.493303495126429, 0.493303495126429, 0.493303495126429, 0.493303495126429, 0.493303495126429, 0.493303495126429]}], \"recall_score_macro\": [{\"categories\": [\"0\", \"1\", \"2\", \"3\", \"4\", \"5\", \"6\", \"7\", \"8\", \"9\", \"10\", \"11\", \"12\", \"13\", \"14\", \"15\", \"16\", \"17\", \"18\", \"19\", \"20\", \"21\", \"22\", \"23\", \"24\", \"25\"], \"mode\": \"markers\", \"name\": \"recall_score_macro\", \"stepped\": false, \"type\": \"scatter\", \"data\": [0.7323410944100599, 0.7392355409596789, 0.7448739000463138, 0.7346357346357346, 0.7403232144611456, 0.7331621124724573, 0.7357339340097961, 0.740768809734327, 0.7407196889955511, 0.739186420220903, 0.7430248550938205, 0.7351900972590628, 0.7370110732179698, 0.7392355409596789, 0.7413231723576551, 0.7294324449496863, 0.7433511571442606, 0.7386531093427645, 0.7243975692251554, 0.7381478674582123, 0.7412635257462843, 0.7377127980576257, 0.7343094325852947, 0.73992673992674, 0.721302962682273, 0.5]}, {\"categories\": [\"0\", \"1\", \"2\", \"3\", \"4\", \"5\", \"6\", \"7\", \"8\", \"9\", \"10\", \"11\", \"12\", \"13\", \"14\", \"15\", \"16\", \"17\", \"18\", \"19\", \"20\", \"21\", \"22\", \"23\", \"24\", \"25\"], \"mode\": \"lines\", \"name\": \"recall_score_macro_max\", \"stepped\": true, \"type\": \"scatter\", \"data\": [0.7323410944100599, 0.7392355409596789, 0.7448739000463138, 0.7448739000463138, 0.7448739000463138, 0.7448739000463138, 0.7448739000463138, 0.7448739000463138, 0.7448739000463138, 0.7448739000463138, 0.7448739000463138, 0.7448739000463138, 0.7448739000463138, 0.7448739000463138, 0.7448739000463138, 0.7448739000463138, 0.7448739000463138, 0.7448739000463138, 0.7448739000463138, 0.7448739000463138, 0.7448739000463138, 0.7448739000463138, 0.7448739000463138, 0.7448739000463138, 0.7448739000463138, 0.7448739000463138]}], \"f1_score_micro\": [{\"categories\": [\"0\", \"1\", \"2\", \"3\", \"4\", \"5\", \"6\", \"7\", \"8\", \"9\", \"10\", \"11\", \"12\", \"13\", \"14\", \"15\", \"16\", \"17\", \"18\", \"19\", \"20\", \"21\", \"22\", \"23\", \"24\", \"25\"], \"mode\": \"markers\", \"name\": \"f1_score_micro\", \"stepped\": false, \"type\": \"scatter\", \"data\": [0.7345537757437071, 0.7406559877955758, 0.7459954233409611, 0.7360793287566743, 0.7406559877955758, 0.7353165522501907, 0.7376048817696415, 0.7421815408085431, 0.7429443173150267, 0.7414187643020596, 0.7459954233409611, 0.7376048817696415, 0.7414187643020596, 0.7406559877955758, 0.7437070938215103, 0.7307398932112892, 0.7459954233409611, 0.7429443173150267, 0.7261632341723876, 0.7406559877955758, 0.7429443173150267, 0.7406559877955758, 0.7360793287566743, 0.738367658276125, 0.7269260106788712, 0.5354691075514875]}, {\"categories\": [\"0\", \"1\", \"2\", \"3\", \"4\", \"5\", \"6\", \"7\", \"8\", \"9\", \"10\", \"11\", \"12\", \"13\", \"14\", \"15\", \"16\", \"17\", \"18\", \"19\", \"20\", \"21\", \"22\", \"23\", \"24\", \"25\"], \"mode\": \"lines\", \"name\": \"f1_score_micro_max\", \"stepped\": true, \"type\": \"scatter\", \"data\": [0.7345537757437071, 0.7406559877955758, 0.7459954233409611, 0.7459954233409611, 0.7459954233409611, 0.7459954233409611, 0.7459954233409611, 0.7459954233409611, 0.7459954233409611, 0.7459954233409611, 0.7459954233409611, 0.7459954233409611, 0.7459954233409611, 0.7459954233409611, 0.7459954233409611, 0.7459954233409611, 0.7459954233409611, 0.7459954233409611, 0.7459954233409611, 0.7459954233409611, 0.7459954233409611, 0.7459954233409611, 0.7459954233409611, 0.7459954233409611, 0.7459954233409611, 0.7459954233409611]}], \"average_precision_score_macro\": [{\"categories\": [\"0\", \"1\", \"2\", \"3\", \"4\", \"5\", \"6\", \"7\", \"8\", \"9\", \"10\", \"11\", \"12\", \"13\", \"14\", \"15\", \"16\", \"17\", \"18\", \"19\", \"20\", \"21\", \"22\", \"23\", \"24\", \"25\"], \"mode\": \"markers\", \"name\": \"average_precision_score_macro\", \"stepped\": false, \"type\": \"scatter\", \"data\": [0.8169963296558702, 0.8298467775612909, 0.8315026320348913, 0.8318276108736674, 0.8320820782448605, 0.796109935003659, 0.8319153851135801, 0.7993716819893, 0.838073214721154, 0.8378731518865302, 0.8358608252974908, 0.8321487798130965, 0.8331680916243263, 0.8073369663062263, 0.8359468211077576, 0.8287677026241966, 0.8343512967622235, 0.8321567163185217, 0.7900896610100713, 0.8335129650679052, 0.8329611017130397, 0.8078622850653185, 0.803681224534003, 0.8262594644211319, 0.8124138063235635, 0.5]}, {\"categories\": [\"0\", \"1\", \"2\", \"3\", \"4\", \"5\", \"6\", \"7\", \"8\", \"9\", \"10\", \"11\", \"12\", \"13\", \"14\", \"15\", \"16\", \"17\", \"18\", \"19\", \"20\", \"21\", \"22\", \"23\", \"24\", \"25\"], \"mode\": \"lines\", \"name\": \"average_precision_score_macro_max\", \"stepped\": true, \"type\": \"scatter\", \"data\": [0.8169963296558702, 0.8298467775612909, 0.8315026320348913, 0.8318276108736674, 0.8320820782448605, 0.8320820782448605, 0.8320820782448605, 0.8320820782448605, 0.838073214721154, 0.838073214721154, 0.838073214721154, 0.838073214721154, 0.838073214721154, 0.838073214721154, 0.838073214721154, 0.838073214721154, 0.838073214721154, 0.838073214721154, 0.838073214721154, 0.838073214721154, 0.838073214721154, 0.838073214721154, 0.838073214721154, 0.838073214721154, 0.838073214721154, 0.838073214721154]}], \"matthews_correlation\": [{\"categories\": [\"0\", \"1\", \"2\", \"3\", \"4\", \"5\", \"6\", \"7\", \"8\", \"9\", \"10\", \"11\", \"12\", \"13\", \"14\", \"15\", \"16\", \"17\", \"18\", \"19\", \"20\", \"21\", \"22\", \"23\", \"24\", \"25\"], \"mode\": \"markers\", \"name\": \"matthews_correlation\", \"stepped\": false, \"type\": \"scatter\", \"data\": [0.46563290159609955, 0.47857743980216527, 0.4895932226181803, 0.4693757822003373, 0.47988933802462774, 0.4672102683525321, 0.4720368395503562, 0.4816446590027746, 0.4824957731695399, 0.4794225068904604, 0.48824969915903, 0.4716284374602221, 0.4788344716759748, 0.47857743980216527, 0.4839271382103186, 0.4588155250098965, 0.4883902493574968, 0.48191614148118656, 0.44916300941032994, 0.4777113514886703, 0.4829225720195528, 0.47749072459293573, 0.46906233376340317, 0.4786681244987548, 0.44967616058895493, 0.0]}, {\"categories\": [\"0\", \"1\", \"2\", \"3\", \"4\", \"5\", \"6\", \"7\", \"8\", \"9\", \"10\", \"11\", \"12\", \"13\", \"14\", \"15\", \"16\", \"17\", \"18\", \"19\", \"20\", \"21\", \"22\", \"23\", \"24\", \"25\"], \"mode\": \"lines\", \"name\": \"matthews_correlation_max\", \"stepped\": true, \"type\": \"scatter\", \"data\": [0.46563290159609955, 0.47857743980216527, 0.4895932226181803, 0.4895932226181803, 0.4895932226181803, 0.4895932226181803, 0.4895932226181803, 0.4895932226181803, 0.4895932226181803, 0.4895932226181803, 0.4895932226181803, 0.4895932226181803, 0.4895932226181803, 0.4895932226181803, 0.4895932226181803, 0.4895932226181803, 0.4895932226181803, 0.4895932226181803, 0.4895932226181803, 0.4895932226181803, 0.4895932226181803, 0.4895932226181803, 0.4895932226181803, 0.4895932226181803, 0.4895932226181803, 0.4895932226181803]}], \"AUC_macro\": [{\"categories\": [\"0\", \"1\", \"2\", \"3\", \"4\", \"5\", \"6\", \"7\", \"8\", \"9\", \"10\", \"11\", \"12\", \"13\", \"14\", \"15\", \"16\", \"17\", \"18\", \"19\", \"20\", \"21\", \"22\", \"23\", \"24\", \"25\"], \"mode\": \"markers\", \"name\": \"AUC_macro\", \"stepped\": false, \"type\": \"scatter\", \"data\": [0.8203373893029066, 0.8303007124846207, 0.8318082513484812, 0.8312995008397308, 0.8307743767513882, 0.8081063253477048, 0.8310047764070752, 0.8195245580303052, 0.8361028073671752, 0.8358876117496807, 0.8343028831534578, 0.8304960258983247, 0.8342151675485008, 0.82200281625569, 0.8341566904785296, 0.8271464593303675, 0.832759088506215, 0.8316690759219495, 0.804064390271287, 0.8322503379974644, 0.8336479399697789, 0.8223630350067132, 0.816617078111331, 0.8248366150665002, 0.8139364892238455, 0.5]}, {\"categories\": [\"0\", \"1\", \"2\", \"3\", \"4\", \"5\", \"6\", \"7\", \"8\", \"9\", \"10\", \"11\", \"12\", \"13\", \"14\", \"15\", \"16\", \"17\", \"18\", \"19\", \"20\", \"21\", \"22\", \"23\", \"24\", \"25\"], \"mode\": \"lines\", \"name\": \"AUC_macro_max\", \"stepped\": true, \"type\": \"scatter\", \"data\": [0.8203373893029066, 0.8303007124846207, 0.8318082513484812, 0.8318082513484812, 0.8318082513484812, 0.8318082513484812, 0.8318082513484812, 0.8318082513484812, 0.8361028073671752, 0.8361028073671752, 0.8361028073671752, 0.8361028073671752, 0.8361028073671752, 0.8361028073671752, 0.8361028073671752, 0.8361028073671752, 0.8361028073671752, 0.8361028073671752, 0.8361028073671752, 0.8361028073671752, 0.8361028073671752, 0.8361028073671752, 0.8361028073671752, 0.8361028073671752, 0.8361028073671752, 0.8361028073671752]}], \"average_precision_score_micro\": [{\"categories\": [\"0\", \"1\", \"2\", \"3\", \"4\", \"5\", \"6\", \"7\", \"8\", \"9\", \"10\", \"11\", \"12\", \"13\", \"14\", \"15\", \"16\", \"17\", \"18\", \"19\", \"20\", \"21\", \"22\", \"23\", \"24\", \"25\"], \"mode\": \"markers\", \"name\": \"average_precision_score_micro\", \"stepped\": false, \"type\": \"scatter\", \"data\": [0.8191512786941775, 0.83132435797146, 0.8342853749881645, 0.8335895584312063, 0.8320089301510332, 0.8002623806982361, 0.8344161949708906, 0.8069934507494748, 0.8395614591756039, 0.8393346321167612, 0.8372004955275056, 0.8342170839935219, 0.8340440239810091, 0.8134268599779606, 0.8366317591776825, 0.8304858914484301, 0.8360566617109836, 0.830000784430557, 0.7954501204158149, 0.8339676886304702, 0.8351554544481938, 0.8137778519208531, 0.808190183241181, 0.8254870581678017, 0.8057464733871393, 0.5189926113662426]}, {\"categories\": [\"0\", \"1\", \"2\", \"3\", \"4\", \"5\", \"6\", \"7\", \"8\", \"9\", \"10\", \"11\", \"12\", \"13\", \"14\", \"15\", \"16\", \"17\", \"18\", \"19\", \"20\", \"21\", \"22\", \"23\", \"24\", \"25\"], \"mode\": \"lines\", \"name\": \"average_precision_score_micro_max\", \"stepped\": true, \"type\": \"scatter\", \"data\": [0.8191512786941775, 0.83132435797146, 0.8342853749881645, 0.8342853749881645, 0.8342853749881645, 0.8342853749881645, 0.8344161949708906, 0.8344161949708906, 0.8395614591756039, 0.8395614591756039, 0.8395614591756039, 0.8395614591756039, 0.8395614591756039, 0.8395614591756039, 0.8395614591756039, 0.8395614591756039, 0.8395614591756039, 0.8395614591756039, 0.8395614591756039, 0.8395614591756039, 0.8395614591756039, 0.8395614591756039, 0.8395614591756039, 0.8395614591756039, 0.8395614591756039, 0.8395614591756039]}], \"precision_score_macro\": [{\"categories\": [\"0\", \"1\", \"2\", \"3\", \"4\", \"5\", \"6\", \"7\", \"8\", \"9\", \"10\", \"11\", \"12\", \"13\", \"14\", \"15\", \"16\", \"17\", \"18\", \"19\", \"20\", \"21\", \"22\", \"23\", \"24\", \"25\"], \"mode\": \"markers\", \"name\": \"precision_score_macro\", \"stepped\": false, \"type\": \"scatter\", \"data\": [0.7332927797376073, 0.7393419106634715, 0.7447193469662543, 0.7347400591583046, 0.7395667198298777, 0.734048997647324, 0.7363032488604604, 0.740875861165194, 0.7417772431680638, 0.7402372382813969, 0.7452298229298941, 0.7364399964256991, 0.7418478260869565, 0.7393419106634715, 0.7426056652667322, 0.7293830827155585, 0.7450420191818508, 0.7432852939353043, 0.7247655909544584, 0.739565587734242, 0.7416592083745297, 0.7397824117330616, 0.7347531110121628, 0.7387428486307077, 0.7284296682601767, 0.26773455377574373]}, {\"categories\": [\"0\", \"1\", \"2\", \"3\", \"4\", \"5\", \"6\", \"7\", \"8\", \"9\", \"10\", \"11\", \"12\", \"13\", \"14\", \"15\", \"16\", \"17\", \"18\", \"19\", \"20\", \"21\", \"22\", \"23\", \"24\", \"25\"], \"mode\": \"lines\", \"name\": \"precision_score_macro_max\", \"stepped\": true, \"type\": \"scatter\", \"data\": [0.7332927797376073, 0.7393419106634715, 0.7447193469662543, 0.7447193469662543, 0.7447193469662543, 0.7447193469662543, 0.7447193469662543, 0.7447193469662543, 0.7447193469662543, 0.7447193469662543, 0.7452298229298941, 0.7452298229298941, 0.7452298229298941, 0.7452298229298941, 0.7452298229298941, 0.7452298229298941, 0.7452298229298941, 0.7452298229298941, 0.7452298229298941, 0.7452298229298941, 0.7452298229298941, 0.7452298229298941, 0.7452298229298941, 0.7452298229298941, 0.7452298229298941, 0.7452298229298941]}], \"precision_score_micro\": [{\"categories\": [\"0\", \"1\", \"2\", \"3\", \"4\", \"5\", \"6\", \"7\", \"8\", \"9\", \"10\", \"11\", \"12\", \"13\", \"14\", \"15\", \"16\", \"17\", \"18\", \"19\", \"20\", \"21\", \"22\", \"23\", \"24\", \"25\"], \"mode\": \"markers\", \"name\": \"precision_score_micro\", \"stepped\": false, \"type\": \"scatter\", \"data\": [0.7345537757437071, 0.7406559877955758, 0.7459954233409611, 0.7360793287566743, 0.7406559877955758, 0.7353165522501907, 0.7376048817696415, 0.7421815408085431, 0.7429443173150267, 0.7414187643020596, 0.7459954233409611, 0.7376048817696415, 0.7414187643020596, 0.7406559877955758, 0.7437070938215103, 0.7307398932112891, 0.7459954233409611, 0.7429443173150267, 0.7261632341723875, 0.7406559877955758, 0.7429443173150267, 0.7406559877955758, 0.7360793287566743, 0.738367658276125, 0.7269260106788711, 0.5354691075514875]}, {\"categories\": [\"0\", \"1\", \"2\", \"3\", \"4\", \"5\", \"6\", \"7\", \"8\", \"9\", \"10\", \"11\", \"12\", \"13\", \"14\", \"15\", \"16\", \"17\", \"18\", \"19\", \"20\", \"21\", \"22\", \"23\", \"24\", \"25\"], \"mode\": \"lines\", \"name\": \"precision_score_micro_max\", \"stepped\": true, \"type\": \"scatter\", \"data\": [0.7345537757437071, 0.7406559877955758, 0.7459954233409611, 0.7459954233409611, 0.7459954233409611, 0.7459954233409611, 0.7459954233409611, 0.7459954233409611, 0.7459954233409611, 0.7459954233409611, 0.7459954233409611, 0.7459954233409611, 0.7459954233409611, 0.7459954233409611, 0.7459954233409611, 0.7459954233409611, 0.7459954233409611, 0.7459954233409611, 0.7459954233409611, 0.7459954233409611, 0.7459954233409611, 0.7459954233409611, 0.7459954233409611, 0.7459954233409611, 0.7459954233409611, 0.7459954233409611]}], \"weighted_accuracy\": [{\"categories\": [\"0\", \"1\", \"2\", \"3\", \"4\", \"5\", \"6\", \"7\", \"8\", \"9\", \"10\", \"11\", \"12\", \"13\", \"14\", \"15\", \"16\", \"17\", \"18\", \"19\", \"20\", \"21\", \"22\", \"23\", \"24\", \"25\"], \"mode\": \"markers\", \"name\": \"weighted_accuracy\", \"stepped\": false, \"type\": \"scatter\", \"data\": [0.736744299136838, 0.7420622101807951, 0.7471057156254884, 0.7375084666284583, 0.7409854287153302, 0.7374494173222876, 0.7394570937320899, 0.7435801246982406, 0.7451466680560621, 0.7436287535386166, 0.7489362441167787, 0.7399954844648221, 0.7457823164695462, 0.7420622101807951, 0.7460671425346046, 0.7320342485975789, 0.7486132096771393, 0.7471925528404453, 0.7279112176314282, 0.74313899164626, 0.7446082773233297, 0.7435697042324458, 0.7378315010680977, 0.7368241893745984, 0.7324927490925511, 0.5705830250612203]}, {\"categories\": [\"0\", \"1\", \"2\", \"3\", \"4\", \"5\", \"6\", \"7\", \"8\", \"9\", \"10\", \"11\", \"12\", \"13\", \"14\", \"15\", \"16\", \"17\", \"18\", \"19\", \"20\", \"21\", \"22\", \"23\", \"24\", \"25\"], \"mode\": \"lines\", \"name\": \"weighted_accuracy_max\", \"stepped\": true, \"type\": \"scatter\", \"data\": [0.736744299136838, 0.7420622101807951, 0.7471057156254884, 0.7471057156254884, 0.7471057156254884, 0.7471057156254884, 0.7471057156254884, 0.7471057156254884, 0.7471057156254884, 0.7471057156254884, 0.7489362441167787, 0.7489362441167787, 0.7489362441167787, 0.7489362441167787, 0.7489362441167787, 0.7489362441167787, 0.7489362441167787, 0.7489362441167787, 0.7489362441167787, 0.7489362441167787, 0.7489362441167787, 0.7489362441167787, 0.7489362441167787, 0.7489362441167787, 0.7489362441167787, 0.7489362441167787]}], \"AUC_weighted\": [{\"categories\": [\"0\", \"1\", \"2\", \"3\", \"4\", \"5\", \"6\", \"7\", \"8\", \"9\", \"10\", \"11\", \"12\", \"13\", \"14\", \"15\", \"16\", \"17\", \"18\", \"19\", \"20\", \"21\", \"22\", \"23\", \"24\", \"25\"], \"mode\": \"markers\", \"name\": \"AUC_weighted\", \"stepped\": false, \"type\": \"scatter\", \"data\": [0.8203373893029067, 0.8303007124846206, 0.8318082513484812, 0.8312995008397307, 0.8307743767513881, 0.8081063253477048, 0.8310047764070753, 0.8195245580303051, 0.8361028073671751, 0.8358876117496807, 0.834302883153458, 0.8304960258983247, 0.8342151675485009, 0.8220028162556898, 0.8341566904785296, 0.8271464593303673, 0.832759088506215, 0.8316690759219495, 0.8040643902712868, 0.8322503379974645, 0.8336479399697789, 0.8223630350067132, 0.816617078111331, 0.8248366150665002, 0.8139364892238455, 0.5]}, {\"categories\": [\"0\", \"1\", \"2\", \"3\", \"4\", \"5\", \"6\", \"7\", \"8\", \"9\", \"10\", \"11\", \"12\", \"13\", \"14\", \"15\", \"16\", \"17\", \"18\", \"19\", \"20\", \"21\", \"22\", \"23\", \"24\", \"25\"], \"mode\": \"lines\", \"name\": \"AUC_weighted_max\", \"stepped\": true, \"type\": \"scatter\", \"data\": [0.8203373893029067, 0.8303007124846206, 0.8318082513484812, 0.8318082513484812, 0.8318082513484812, 0.8318082513484812, 0.8318082513484812, 0.8318082513484812, 0.8361028073671751, 0.8361028073671751, 0.8361028073671751, 0.8361028073671751, 0.8361028073671751, 0.8361028073671751, 0.8361028073671751, 0.8361028073671751, 0.8361028073671751, 0.8361028073671751, 0.8361028073671751, 0.8361028073671751, 0.8361028073671751, 0.8361028073671751, 0.8361028073671751, 0.8361028073671751, 0.8361028073671751, 0.8361028073671751]}], \"recall_score_weighted\": [{\"categories\": [\"0\", \"1\", \"2\", \"3\", \"4\", \"5\", \"6\", \"7\", \"8\", \"9\", \"10\", \"11\", \"12\", \"13\", \"14\", \"15\", \"16\", \"17\", \"18\", \"19\", \"20\", \"21\", \"22\", \"23\", \"24\", \"25\"], \"mode\": \"markers\", \"name\": \"recall_score_weighted\", \"stepped\": false, \"type\": \"scatter\", \"data\": [0.7345537757437071, 0.7406559877955758, 0.7459954233409611, 0.7360793287566743, 0.7406559877955758, 0.7353165522501907, 0.7376048817696415, 0.7421815408085431, 0.7429443173150267, 0.7414187643020596, 0.7459954233409611, 0.7376048817696415, 0.7414187643020596, 0.7406559877955758, 0.7437070938215103, 0.7307398932112891, 0.7459954233409611, 0.7429443173150267, 0.7261632341723875, 0.7406559877955758, 0.7429443173150267, 0.7406559877955758, 0.7360793287566743, 0.738367658276125, 0.7269260106788711, 0.5354691075514875]}, {\"categories\": [\"0\", \"1\", \"2\", \"3\", \"4\", \"5\", \"6\", \"7\", \"8\", \"9\", \"10\", \"11\", \"12\", \"13\", \"14\", \"15\", \"16\", \"17\", \"18\", \"19\", \"20\", \"21\", \"22\", \"23\", \"24\", \"25\"], \"mode\": \"lines\", \"name\": \"recall_score_weighted_max\", \"stepped\": true, \"type\": \"scatter\", \"data\": [0.7345537757437071, 0.7406559877955758, 0.7459954233409611, 0.7459954233409611, 0.7459954233409611, 0.7459954233409611, 0.7459954233409611, 0.7459954233409611, 0.7459954233409611, 0.7459954233409611, 0.7459954233409611, 0.7459954233409611, 0.7459954233409611, 0.7459954233409611, 0.7459954233409611, 0.7459954233409611, 0.7459954233409611, 0.7459954233409611, 0.7459954233409611, 0.7459954233409611, 0.7459954233409611, 0.7459954233409611, 0.7459954233409611, 0.7459954233409611, 0.7459954233409611, 0.7459954233409611]}], \"balanced_accuracy\": [{\"categories\": [\"0\", \"1\", \"2\", \"3\", \"4\", \"5\", \"6\", \"7\", \"8\", \"9\", \"10\", \"11\", \"12\", \"13\", \"14\", \"15\", \"16\", \"17\", \"18\", \"19\", \"20\", \"21\", \"22\", \"23\", \"24\", \"25\"], \"mode\": \"markers\", \"name\": \"balanced_accuracy\", \"stepped\": false, \"type\": \"scatter\", \"data\": [0.7323410944100599, 0.7392355409596789, 0.7448739000463138, 0.7346357346357346, 0.7403232144611456, 0.7331621124724573, 0.7357339340097961, 0.740768809734327, 0.7407196889955511, 0.739186420220903, 0.7430248550938205, 0.7351900972590628, 0.7370110732179698, 0.7392355409596789, 0.7413231723576551, 0.7294324449496863, 0.7433511571442606, 0.7386531093427645, 0.7243975692251554, 0.7381478674582123, 0.7412635257462843, 0.7377127980576257, 0.7343094325852947, 0.73992673992674, 0.721302962682273, 0.5]}, {\"categories\": [\"0\", \"1\", \"2\", \"3\", \"4\", \"5\", \"6\", \"7\", \"8\", \"9\", \"10\", \"11\", \"12\", \"13\", \"14\", \"15\", \"16\", \"17\", \"18\", \"19\", \"20\", \"21\", \"22\", \"23\", \"24\", \"25\"], \"mode\": \"lines\", \"name\": \"balanced_accuracy_max\", \"stepped\": true, \"type\": \"scatter\", \"data\": [0.7323410944100599, 0.7392355409596789, 0.7448739000463138, 0.7448739000463138, 0.7448739000463138, 0.7448739000463138, 0.7448739000463138, 0.7448739000463138, 0.7448739000463138, 0.7448739000463138, 0.7448739000463138, 0.7448739000463138, 0.7448739000463138, 0.7448739000463138, 0.7448739000463138, 0.7448739000463138, 0.7448739000463138, 0.7448739000463138, 0.7448739000463138, 0.7448739000463138, 0.7448739000463138, 0.7448739000463138, 0.7448739000463138, 0.7448739000463138, 0.7448739000463138, 0.7448739000463138]}], \"average_precision_score_weighted\": [{\"categories\": [\"0\", \"1\", \"2\", \"3\", \"4\", \"5\", \"6\", \"7\", \"8\", \"9\", \"10\", \"11\", \"12\", \"13\", \"14\", \"15\", \"16\", \"17\", \"18\", \"19\", \"20\", \"21\", \"22\", \"23\", \"24\", \"25\"], \"mode\": \"markers\", \"name\": \"average_precision_score_weighted\", \"stepped\": false, \"type\": \"scatter\", \"data\": [0.8185905191794582, 0.8313538311567205, 0.8329565713390472, 0.8330517857334141, 0.8334211399565986, 0.7979632372171185, 0.8333525371891647, 0.8013098810617197, 0.8393018107065899, 0.8390911189004157, 0.8371069510848008, 0.8334348775678807, 0.8343990924473782, 0.8091893023688339, 0.8371450035849735, 0.8302387470222565, 0.83558969053413, 0.8334418074335316, 0.7922113075877746, 0.8347429338086556, 0.8343788639556814, 0.8097511177883374, 0.8055611659283903, 0.8274956066860035, 0.8140849057457304, 0.502516115180998]}, {\"categories\": [\"0\", \"1\", \"2\", \"3\", \"4\", \"5\", \"6\", \"7\", \"8\", \"9\", \"10\", \"11\", \"12\", \"13\", \"14\", \"15\", \"16\", \"17\", \"18\", \"19\", \"20\", \"21\", \"22\", \"23\", \"24\", \"25\"], \"mode\": \"lines\", \"name\": \"average_precision_score_weighted_max\", \"stepped\": true, \"type\": \"scatter\", \"data\": [0.8185905191794582, 0.8313538311567205, 0.8329565713390472, 0.8330517857334141, 0.8334211399565986, 0.8334211399565986, 0.8334211399565986, 0.8334211399565986, 0.8393018107065899, 0.8393018107065899, 0.8393018107065899, 0.8393018107065899, 0.8393018107065899, 0.8393018107065899, 0.8393018107065899, 0.8393018107065899, 0.8393018107065899, 0.8393018107065899, 0.8393018107065899, 0.8393018107065899, 0.8393018107065899, 0.8393018107065899, 0.8393018107065899, 0.8393018107065899, 0.8393018107065899, 0.8393018107065899]}], \"norm_macro_recall\": [{\"categories\": [\"0\", \"1\", \"2\", \"3\", \"4\", \"5\", \"6\", \"7\", \"8\", \"9\", \"10\", \"11\", \"12\", \"13\", \"14\", \"15\", \"16\", \"17\", \"18\", \"19\", \"20\", \"21\", \"22\", \"23\", \"24\", \"25\"], \"mode\": \"markers\", \"name\": \"norm_macro_recall\", \"stepped\": false, \"type\": \"scatter\", \"data\": [0.4646821888201198, 0.47847108191935783, 0.48974780009262764, 0.46927146927146923, 0.48064642892229115, 0.46632422494491466, 0.4714678680195923, 0.48153761946865403, 0.48143937799110215, 0.47837284044180595, 0.4860497101876411, 0.4703801945181256, 0.47402214643593954, 0.47847108191935783, 0.4826463447153102, 0.4588648898993726, 0.4867023142885212, 0.477306218685529, 0.4487951384503108, 0.4762957349164245, 0.4825270514925686, 0.47542559611525137, 0.46861886517058937, 0.4798534798534799, 0.442605925364546, 0.0]}, {\"categories\": [\"0\", \"1\", \"2\", \"3\", \"4\", \"5\", \"6\", \"7\", \"8\", \"9\", \"10\", \"11\", \"12\", \"13\", \"14\", \"15\", \"16\", \"17\", \"18\", \"19\", \"20\", \"21\", \"22\", \"23\", \"24\", \"25\"], \"mode\": \"lines\", \"name\": \"norm_macro_recall_max\", \"stepped\": true, \"type\": \"scatter\", \"data\": [0.4646821888201198, 0.47847108191935783, 0.48974780009262764, 0.48974780009262764, 0.48974780009262764, 0.48974780009262764, 0.48974780009262764, 0.48974780009262764, 0.48974780009262764, 0.48974780009262764, 0.48974780009262764, 0.48974780009262764, 0.48974780009262764, 0.48974780009262764, 0.48974780009262764, 0.48974780009262764, 0.48974780009262764, 0.48974780009262764, 0.48974780009262764, 0.48974780009262764, 0.48974780009262764, 0.48974780009262764, 0.48974780009262764, 0.48974780009262764, 0.48974780009262764, 0.48974780009262764]}], \"precision_score_weighted\": [{\"categories\": [\"0\", \"1\", \"2\", \"3\", \"4\", \"5\", \"6\", \"7\", \"8\", \"9\", \"10\", \"11\", \"12\", \"13\", \"14\", \"15\", \"16\", \"17\", \"18\", \"19\", \"20\", \"21\", \"22\", \"23\", \"24\", \"25\"], \"mode\": \"markers\", \"name\": \"precision_score_weighted\", \"stepped\": false, \"type\": \"scatter\", \"data\": [0.7342309607661456, 0.7406017990478603, 0.7460834286081822, 0.7360241011443703, 0.7413439465107537, 0.7350073925909548, 0.7373745042635917, 0.7421276983490235, 0.7426318722678082, 0.7411024502492838, 0.7456891831765343, 0.7372545403128167, 0.7416550591980896, 0.7406017990478603, 0.7433758371133063, 0.7307697132221843, 0.74566206524337, 0.7431290829713347, 0.7259803649663032, 0.7403057863160234, 0.7427761722200085, 0.7403134089475311, 0.7358846545923423, 0.7414269027057988, 0.7278680612117373, 0.28672716514198643]}, {\"categories\": [\"0\", \"1\", \"2\", \"3\", \"4\", \"5\", \"6\", \"7\", \"8\", \"9\", \"10\", \"11\", \"12\", \"13\", \"14\", \"15\", \"16\", \"17\", \"18\", \"19\", \"20\", \"21\", \"22\", \"23\", \"24\", \"25\"], \"mode\": \"lines\", \"name\": \"precision_score_weighted_max\", \"stepped\": true, \"type\": \"scatter\", \"data\": [0.7342309607661456, 0.7406017990478603, 0.7460834286081822, 0.7460834286081822, 0.7460834286081822, 0.7460834286081822, 0.7460834286081822, 0.7460834286081822, 0.7460834286081822, 0.7460834286081822, 0.7460834286081822, 0.7460834286081822, 0.7460834286081822, 0.7460834286081822, 0.7460834286081822, 0.7460834286081822, 0.7460834286081822, 0.7460834286081822, 0.7460834286081822, 0.7460834286081822, 0.7460834286081822, 0.7460834286081822, 0.7460834286081822, 0.7460834286081822, 0.7460834286081822, 0.7460834286081822]}], \"AUC_micro\": [{\"categories\": [\"0\", \"1\", \"2\", \"3\", \"4\", \"5\", \"6\", \"7\", \"8\", \"9\", \"10\", \"11\", \"12\", \"13\", \"14\", \"15\", \"16\", \"17\", \"18\", \"19\", \"20\", \"21\", \"22\", \"23\", \"24\", \"25\"], \"mode\": \"markers\", \"name\": \"AUC_micro\", \"stepped\": false, \"type\": \"scatter\", \"data\": [0.8214044047870481, 0.8313589000192585, 0.8330811108958348, 0.8325318652649266, 0.8303936473691774, 0.8092762001511589, 0.8320024017859792, 0.8212944392952667, 0.8369619036481197, 0.8367419726645569, 0.8353182395513874, 0.8318959272621909, 0.8348103037083972, 0.8236886615105069, 0.8348585954323012, 0.8282251744174884, 0.8340230904259622, 0.830718307392532, 0.804908999191841, 0.8330200189559561, 0.8345909545528332, 0.8237573172143705, 0.8175556125746996, 0.8233651651431501, 0.8081614177053751, 0.5354691075514875]}, {\"categories\": [\"0\", \"1\", \"2\", \"3\", \"4\", \"5\", \"6\", \"7\", \"8\", \"9\", \"10\", \"11\", \"12\", \"13\", \"14\", \"15\", \"16\", \"17\", \"18\", \"19\", \"20\", \"21\", \"22\", \"23\", \"24\", \"25\"], \"mode\": \"lines\", \"name\": \"AUC_micro_max\", \"stepped\": true, \"type\": \"scatter\", \"data\": [0.8214044047870481, 0.8313589000192585, 0.8330811108958348, 0.8330811108958348, 0.8330811108958348, 0.8330811108958348, 0.8330811108958348, 0.8330811108958348, 0.8369619036481197, 0.8369619036481197, 0.8369619036481197, 0.8369619036481197, 0.8369619036481197, 0.8369619036481197, 0.8369619036481197, 0.8369619036481197, 0.8369619036481197, 0.8369619036481197, 0.8369619036481197, 0.8369619036481197, 0.8369619036481197, 0.8369619036481197, 0.8369619036481197, 0.8369619036481197, 0.8369619036481197, 0.8369619036481197]}], \"f1_score_weighted\": [{\"categories\": [\"0\", \"1\", \"2\", \"3\", \"4\", \"5\", \"6\", \"7\", \"8\", \"9\", \"10\", \"11\", \"12\", \"13\", \"14\", \"15\", \"16\", \"17\", \"18\", \"19\", \"20\", \"21\", \"22\", \"23\", \"24\", \"25\"], \"mode\": \"markers\", \"name\": \"f1_score_weighted\", \"stepped\": false, \"type\": \"scatter\", \"data\": [0.7342825504296161, 0.7406271666704642, 0.7460355147672314, 0.7360499990234725, 0.7408603630416076, 0.7350653672075386, 0.7374466562131341, 0.7421528892194617, 0.7426626530634906, 0.7411354284525915, 0.7454222020659539, 0.7372572676707685, 0.7401153553917715, 0.7406271666704642, 0.7433675637714483, 0.7307543775430736, 0.7455558909502166, 0.7417111653268891, 0.7260510533446929, 0.7402712666640827, 0.7428390110784443, 0.7400942456618759, 0.7359545143545223, 0.7386906760276142, 0.7247701633947569, 0.3734717471447036]}, {\"categories\": [\"0\", \"1\", \"2\", \"3\", \"4\", \"5\", \"6\", \"7\", \"8\", \"9\", \"10\", \"11\", \"12\", \"13\", \"14\", \"15\", \"16\", \"17\", \"18\", \"19\", \"20\", \"21\", \"22\", \"23\", \"24\", \"25\"], \"mode\": \"lines\", \"name\": \"f1_score_weighted_max\", \"stepped\": true, \"type\": \"scatter\", \"data\": [0.7342825504296161, 0.7406271666704642, 0.7460355147672314, 0.7460355147672314, 0.7460355147672314, 0.7460355147672314, 0.7460355147672314, 0.7460355147672314, 0.7460355147672314, 0.7460355147672314, 0.7460355147672314, 0.7460355147672314, 0.7460355147672314, 0.7460355147672314, 0.7460355147672314, 0.7460355147672314, 0.7460355147672314, 0.7460355147672314, 0.7460355147672314, 0.7460355147672314, 0.7460355147672314, 0.7460355147672314, 0.7460355147672314, 0.7460355147672314, 0.7460355147672314, 0.7460355147672314]}], \"accuracy\": [{\"categories\": [\"0\", \"1\", \"2\", \"3\", \"4\", \"5\", \"6\", \"7\", \"8\", \"9\", \"10\", \"11\", \"12\", \"13\", \"14\", \"15\", \"16\", \"17\", \"18\", \"19\", \"20\", \"21\", \"22\", \"23\", \"24\", \"25\"], \"mode\": \"markers\", \"name\": \"accuracy\", \"stepped\": false, \"type\": \"scatter\", \"data\": [0.7345537757437071, 0.7406559877955758, 0.7459954233409611, 0.7360793287566743, 0.7406559877955758, 0.7353165522501907, 0.7376048817696415, 0.7421815408085431, 0.7429443173150267, 0.7414187643020596, 0.7459954233409611, 0.7376048817696415, 0.7414187643020596, 0.7406559877955758, 0.7437070938215103, 0.7307398932112891, 0.7459954233409611, 0.7429443173150267, 0.7261632341723875, 0.7406559877955758, 0.7429443173150267, 0.7406559877955758, 0.7360793287566743, 0.738367658276125, 0.7269260106788711, 0.5354691075514875]}, {\"categories\": [\"0\", \"1\", \"2\", \"3\", \"4\", \"5\", \"6\", \"7\", \"8\", \"9\", \"10\", \"11\", \"12\", \"13\", \"14\", \"15\", \"16\", \"17\", \"18\", \"19\", \"20\", \"21\", \"22\", \"23\", \"24\", \"25\"], \"mode\": \"lines\", \"name\": \"accuracy_max\", \"stepped\": true, \"type\": \"scatter\", \"data\": [0.7345537757437071, 0.7406559877955758, 0.7459954233409611, 0.7459954233409611, 0.7459954233409611, 0.7459954233409611, 0.7459954233409611, 0.7459954233409611, 0.7459954233409611, 0.7459954233409611, 0.7459954233409611, 0.7459954233409611, 0.7459954233409611, 0.7459954233409611, 0.7459954233409611, 0.7459954233409611, 0.7459954233409611, 0.7459954233409611, 0.7459954233409611, 0.7459954233409611, 0.7459954233409611, 0.7459954233409611, 0.7459954233409611, 0.7459954233409611, 0.7459954233409611, 0.7459954233409611]}], \"f1_score_macro\": [{\"categories\": [\"0\", \"1\", \"2\", \"3\", \"4\", \"5\", \"6\", \"7\", \"8\", \"9\", \"10\", \"11\", \"12\", \"13\", \"14\", \"15\", \"16\", \"17\", \"18\", \"19\", \"20\", \"21\", \"22\", \"23\", \"24\", \"25\"], \"mode\": \"markers\", \"name\": \"f1_score_macro\", \"stepped\": false, \"type\": \"scatter\", \"data\": [0.7327060532914627, 0.7392869843527738, 0.7447926805528517, 0.7346861664295874, 0.7398044242704437, 0.7335080199430951, 0.7359751585376135, 0.7408205903271693, 0.7411217839227339, 0.7395854146878541, 0.7437025382409319, 0.735640862111009, 0.7379887408539334, 0.7392869843527738, 0.7417887490386599, 0.7294073346871262, 0.7439208304566467, 0.7396260174196746, 0.724560650919606, 0.7386449455173159, 0.7414399425067053, 0.7383528450474057, 0.7345035469295063, 0.7381238712938692, 0.7221997300944669, 0.34873323397913564]}, {\"categories\": [\"0\", \"1\", \"2\", \"3\", \"4\", \"5\", \"6\", \"7\", \"8\", \"9\", \"10\", \"11\", \"12\", \"13\", \"14\", \"15\", \"16\", \"17\", \"18\", \"19\", \"20\", \"21\", \"22\", \"23\", \"24\", \"25\"], \"mode\": \"lines\", \"name\": \"f1_score_macro_max\", \"stepped\": true, \"type\": \"scatter\", \"data\": [0.7327060532914627, 0.7392869843527738, 0.7447926805528517, 0.7447926805528517, 0.7447926805528517, 0.7447926805528517, 0.7447926805528517, 0.7447926805528517, 0.7447926805528517, 0.7447926805528517, 0.7447926805528517, 0.7447926805528517, 0.7447926805528517, 0.7447926805528517, 0.7447926805528517, 0.7447926805528517, 0.7447926805528517, 0.7447926805528517, 0.7447926805528517, 0.7447926805528517, 0.7447926805528517, 0.7447926805528517, 0.7447926805528517, 0.7447926805528517, 0.7447926805528517, 0.7447926805528517]}], \"recall_score_micro\": [{\"categories\": [\"0\", \"1\", \"2\", \"3\", \"4\", \"5\", \"6\", \"7\", \"8\", \"9\", \"10\", \"11\", \"12\", \"13\", \"14\", \"15\", \"16\", \"17\", \"18\", \"19\", \"20\", \"21\", \"22\", \"23\", \"24\", \"25\"], \"mode\": \"markers\", \"name\": \"recall_score_micro\", \"stepped\": false, \"type\": \"scatter\", \"data\": [0.7345537757437071, 0.7406559877955758, 0.7459954233409611, 0.7360793287566743, 0.7406559877955758, 0.7353165522501907, 0.7376048817696415, 0.7421815408085431, 0.7429443173150267, 0.7414187643020596, 0.7459954233409611, 0.7376048817696415, 0.7414187643020596, 0.7406559877955758, 0.7437070938215103, 0.7307398932112891, 0.7459954233409611, 0.7429443173150267, 0.7261632341723875, 0.7406559877955758, 0.7429443173150267, 0.7406559877955758, 0.7360793287566743, 0.738367658276125, 0.7269260106788711, 0.5354691075514875]}, {\"categories\": [\"0\", \"1\", \"2\", \"3\", \"4\", \"5\", \"6\", \"7\", \"8\", \"9\", \"10\", \"11\", \"12\", \"13\", \"14\", \"15\", \"16\", \"17\", \"18\", \"19\", \"20\", \"21\", \"22\", \"23\", \"24\", \"25\"], \"mode\": \"lines\", \"name\": \"recall_score_micro_max\", \"stepped\": true, \"type\": \"scatter\", \"data\": [0.7345537757437071, 0.7406559877955758, 0.7459954233409611, 0.7459954233409611, 0.7459954233409611, 0.7459954233409611, 0.7459954233409611, 0.7459954233409611, 0.7459954233409611, 0.7459954233409611, 0.7459954233409611, 0.7459954233409611, 0.7459954233409611, 0.7459954233409611, 0.7459954233409611, 0.7459954233409611, 0.7459954233409611, 0.7459954233409611, 0.7459954233409611, 0.7459954233409611, 0.7459954233409611, 0.7459954233409611, 0.7459954233409611, 0.7459954233409611, 0.7459954233409611, 0.7459954233409611]}]}, \"metricName\": null, \"primaryMetricName\": \"accuracy\", \"showLegend\": false}, \"run_metrics\": [{\"name\": \"experiment_status\", \"run_id\": \"AutoML_35519a62-f146-4bae-a9bf-e6842e09bc69\", \"categories\": [0, 1, 2, 3, 4], \"series\": [{\"data\": [\"DatasetEvaluation\", \"FeaturesGeneration\", \"DatasetFeaturization\", \"DatasetFeaturizationCompleted\", \"ModelSelection\"]}]}, {\"name\": \"experiment_status_description\", \"run_id\": \"AutoML_35519a62-f146-4bae-a9bf-e6842e09bc69\", \"categories\": [0, 1, 2, 3, 4], \"series\": [{\"data\": [\"Gathering dataset statistics.\", \"Generating features for the dataset.\", \"Beginning to fit featurizers and featurize the dataset.\", \"Completed fit featurizers and featurizing the dataset.\", \"Beginning model selection.\"]}]}], \"run_logs\": \"Your job is submitted in Azure cloud and we are monitoring to get logs...\", \"graph\": {}, \"widget_settings\": {\"childWidgetDisplay\": \"popup\", \"send_telemetry\": false, \"log_level\": \"INFO\", \"sdk_version\": \"1.20.0\"}, \"loading\": false}"
          },
          "metadata": {}
        }
      ],
      "execution_count": 8,
      "metadata": {
        "gather": {
          "logged": 1611710796026
        },
        "jupyter": {
          "outputs_hidden": false,
          "source_hidden": false
        },
        "nteract": {
          "transient": {
            "deleting": false
          }
        }
      }
    },
    {
      "cell_type": "markdown",
      "source": [
        "## Best Model\n",
        "\n",
        "TODO: In the cell below, get the best model from the automl experiments and display all the properties of the model.\n",
        "\n"
      ],
      "metadata": {}
    },
    {
      "cell_type": "code",
      "source": [
        "best_automl, automl_model = remote_run.get_output()\n",
        "best_automl, onnx_model = remote_run.get_output(return_onnx_model=True)\n",
        "os.makedirs(\"outputs\", exist_ok=True)"
      ],
      "outputs": [],
      "execution_count": 9,
      "metadata": {
        "gather": {
          "logged": 1598431425670
        },
        "jupyter": {
          "outputs_hidden": false,
          "source_hidden": false
        },
        "nteract": {
          "transient": {
            "deleting": false
          }
        }
      }
    },
    {
      "cell_type": "code",
      "source": [
        "#TODO: Save the best model\n",
        "OnnxConverter.save_onnx_model(onnx_model,\"./outputs/automl_model.onnx\")\n",
        "\n",
        "print(best_automl.get_tags())"
      ],
      "outputs": [],
      "execution_count": null,
      "metadata": {
        "gather": {
          "logged": 1598431426111
        },
        "jupyter": {
          "outputs_hidden": false,
          "source_hidden": false
        },
        "nteract": {
          "transient": {
            "deleting": false
          }
        }
      }
    },
    {
      "cell_type": "markdown",
      "source": [
        "## Model Deployment\n",
        "\n",
        "Remember you have to deploy only one of the two models you trained.. Perform the steps in the rest of this notebook only if you wish to deploy this model.\n",
        "\n",
        "TODO: In the cell below, register the model, create an inference config and deploy the model as a web service."
      ],
      "metadata": {}
    },
    {
      "cell_type": "code",
      "source": [],
      "outputs": [],
      "execution_count": null,
      "metadata": {
        "gather": {
          "logged": 1598431435189
        },
        "jupyter": {
          "outputs_hidden": false,
          "source_hidden": false
        },
        "nteract": {
          "transient": {
            "deleting": false
          }
        }
      }
    },
    {
      "cell_type": "markdown",
      "source": [
        "TODO: In the cell below, send a request to the web service you deployed to test it."
      ],
      "metadata": {
        "collapsed": true,
        "gather": {
          "logged": 1598431657736
        },
        "jupyter": {
          "outputs_hidden": false,
          "source_hidden": false
        },
        "nteract": {
          "transient": {
            "deleting": false
          }
        }
      }
    },
    {
      "cell_type": "code",
      "source": [],
      "outputs": [],
      "execution_count": null,
      "metadata": {
        "gather": {
          "logged": 1598432707604
        },
        "jupyter": {
          "outputs_hidden": false,
          "source_hidden": false
        },
        "nteract": {
          "transient": {
            "deleting": false
          }
        }
      }
    },
    {
      "cell_type": "markdown",
      "source": [
        "TODO: In the cell below, print the logs of the web service and delete the service"
      ],
      "metadata": {
        "collapsed": true,
        "gather": {
          "logged": 1598432765711
        },
        "jupyter": {
          "outputs_hidden": false,
          "source_hidden": false
        },
        "nteract": {
          "transient": {
            "deleting": false
          }
        }
      }
    },
    {
      "cell_type": "code",
      "source": [],
      "outputs": [],
      "execution_count": null,
      "metadata": {
        "jupyter": {
          "outputs_hidden": false,
          "source_hidden": false
        },
        "nteract": {
          "transient": {
            "deleting": false
          }
        }
      }
    }
  ],
  "metadata": {
    "kernel_info": {
      "name": "python3"
    },
    "kernelspec": {
      "name": "python3",
      "language": "python",
      "display_name": "Python 3"
    },
    "language_info": {
      "name": "python",
      "version": "3.6.9",
      "mimetype": "text/x-python",
      "codemirror_mode": {
        "name": "ipython",
        "version": 3
      },
      "pygments_lexer": "ipython3",
      "nbconvert_exporter": "python",
      "file_extension": ".py"
    },
    "nteract": {
      "version": "nteract-front-end@1.0.0"
    }
  },
  "nbformat": 4,
  "nbformat_minor": 2
}