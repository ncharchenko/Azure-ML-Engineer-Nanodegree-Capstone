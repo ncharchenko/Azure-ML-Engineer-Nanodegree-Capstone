{
 "cells": [
  {
   "source": [
    "# Hyperparameter Tuning using HyperDrive"
   ],
   "cell_type": "markdown",
   "metadata": {}
  },
  {
   "cell_type": "code",
   "execution_count": 8,
   "metadata": {
    "gather": {
     "logged": 1598531914256
    }
   },
   "outputs": [],
   "source": [
    "from azureml.core import Workspace, Environment, Experiment, Model\n",
    "from azureml.core.compute import ComputeTarget, AmlCompute\n",
    "from azureml.core.conda_dependencies import CondaDependencies\n",
    "from azureml.core.model import InferenceConfig\n",
    "from azureml.core.webservice import AciWebservice\n",
    "from azureml.widgets import RunDetails\n",
    "from azureml.train.sklearn import SKLearn\n",
    "from azureml.train.hyperdrive.run import PrimaryMetricGoal\n",
    "from azureml.train.hyperdrive.policy import BanditPolicy\n",
    "from azureml.train.hyperdrive.sampling import BayesianParameterSampling\n",
    "from azureml.train.hyperdrive.runconfig import HyperDriveConfig\n",
    "from azureml.train.hyperdrive.parameter_expressions import choice\n",
    "from azureml.train.hyperdrive.parameter_expressions import uniform\n",
    "import os\n",
    "import pandas as pd\n",
    "ws = Workspace.get(name=\"quick-starts-ws-130382\")\n",
    "exp = Experiment(workspace=ws, name=\"lol_match_predictor\")\n",
    "\n",
    "print('Workspace name: ' + ws.name, \n",
    "      'Azure region: ' + ws.location, \n",
    "      'Subscription id: ' + ws.subscription_id, \n",
    "      'Resource group: ' + ws.resource_group, sep = '\\n')\n",
    "\n",
    "run = exp.start_logging()"
   ]
  },
  {
   "cell_type": "code",
   "execution_count": null,
   "metadata": {},
   "outputs": [],
   "source": [
    "# Create compute cluster\n",
    "# Use vm_size = \"Standard_D2_V2\" in your provisioning configuration.\n",
    "# max_nodes should be no greater than 4.\n",
    "\n",
    "cluster_name = \"cluster\"\n",
    "\n",
    "# Create a provisioning configuration using the Standard_D2_V2 VM and capping it at 4 nodes.\n",
    "compute_config = AmlCompute.provisioning_configuration(vm_size=\"STANDARD_D2_V2\", max_nodes=4)\n",
    "# Create compute cluster.\n",
    "cpu_cluster = ComputeTarget.create(ws, cluster_name, compute_config)"
   ]
  },
  {
   "cell_type": "markdown",
   "metadata": {},
   "source": [
    "## Dataset\n",
    "\n",
    "TODO: Get data. In the cell below, write code to access the data you will be using in this project. Remember that the dataset needs to be external."
   ]
  },
  {
   "cell_type": "code",
   "execution_count": 2,
   "metadata": {
    "gather": {
     "logged": 1598531917374
    },
    "jupyter": {
     "outputs_hidden": false,
     "source_hidden": false
    },
    "nteract": {
     "transient": {
      "deleting": false
     }
    }
   },
   "outputs": [
    {
     "output_type": "error",
     "ename": "NameError",
     "evalue": "name 'Workspace' is not defined",
     "traceback": [
      "\u001b[1;31m---------------------------------------------------------------------------\u001b[0m",
      "\u001b[1;31mNameError\u001b[0m                                 Traceback (most recent call last)",
      "\u001b[1;32m<ipython-input-2-2dc04bf8d972>\u001b[0m in \u001b[0;36m<module>\u001b[1;34m\u001b[0m\n\u001b[1;32m----> 1\u001b[1;33m \u001b[0mws\u001b[0m \u001b[1;33m=\u001b[0m \u001b[0mWorkspace\u001b[0m\u001b[1;33m.\u001b[0m\u001b[0mfrom_config\u001b[0m\u001b[1;33m(\u001b[0m\u001b[1;33m)\u001b[0m\u001b[1;33m\u001b[0m\u001b[1;33m\u001b[0m\u001b[0m\n\u001b[0m\u001b[0;32m      2\u001b[0m \u001b[0mexperiment_name\u001b[0m \u001b[1;33m=\u001b[0m \u001b[1;34m'league_role_diff'\u001b[0m\u001b[1;33m\u001b[0m\u001b[1;33m\u001b[0m\u001b[0m\n\u001b[0;32m      3\u001b[0m \u001b[1;33m\u001b[0m\u001b[0m\n\u001b[0;32m      4\u001b[0m \u001b[0mexperiment\u001b[0m\u001b[1;33m=\u001b[0m\u001b[0mExperiment\u001b[0m\u001b[1;33m(\u001b[0m\u001b[0mws\u001b[0m\u001b[1;33m,\u001b[0m \u001b[0mexperiment_name\u001b[0m\u001b[1;33m)\u001b[0m\u001b[1;33m\u001b[0m\u001b[1;33m\u001b[0m\u001b[0m\n",
      "\u001b[1;31mNameError\u001b[0m: name 'Workspace' is not defined"
     ]
    }
   ],
   "source": [
    "ws = Workspace.from_config()\n",
    "experiment_name = 'lol_match_predictor'\n",
    "\n",
    "experiment=Experiment(ws, experiment_name)"
   ]
  },
  {
   "cell_type": "code",
   "execution_count": 9,
   "metadata": {},
   "outputs": [
    {
     "output_type": "execute_result",
     "data": {
      "text/plain": [
       "   side position   player            team      champion     ban1    ban2  \\\n",
       "0  Blue      top   Summit  SANDBOX Gaming        Rumble  LeBlanc  Irelia   \n",
       "1  Blue      jng  OnFleek  SANDBOX Gaming         Elise  LeBlanc  Irelia   \n",
       "2  Blue      mid     FATE  SANDBOX Gaming        Qiyana  LeBlanc  Irelia   \n",
       "3  Blue      bot      Leo  SANDBOX Gaming  Miss Fortune  LeBlanc  Irelia   \n",
       "4  Blue      sup  GorillA  SANDBOX Gaming      Nautilus  LeBlanc  Irelia   \n",
       "\n",
       "      ban3   ban4      ban5  ...  opp_csat15  golddiffat15  xpdiffat15  \\\n",
       "0  Rek'Sai  Yasuo  Renekton  ...       118.0         165.0       166.0   \n",
       "1  Rek'Sai  Yasuo  Renekton  ...        98.0        -399.0       150.0   \n",
       "2  Rek'Sai  Yasuo  Renekton  ...       140.0        -409.0     -1837.0   \n",
       "3  Rek'Sai  Yasuo  Renekton  ...       135.0          51.0      -401.0   \n",
       "4  Rek'Sai  Yasuo  Renekton  ...        28.0        -233.0       257.0   \n",
       "\n",
       "   csdiffat15  killsat15  assistsat15  deathsat15  opp_killsat15  \\\n",
       "0        13.0        0.0          0.0         0.0            0.0   \n",
       "1        -7.0        0.0          0.0         0.0            1.0   \n",
       "2       -11.0        0.0          0.0         1.0            0.0   \n",
       "3         1.0        0.0          0.0         0.0            0.0   \n",
       "4        -8.0        0.0          0.0         0.0            0.0   \n",
       "\n",
       "   opp_assistsat15  opp_deathsat15  \n",
       "0              0.0             0.0  \n",
       "1              0.0             0.0  \n",
       "2              1.0             0.0  \n",
       "3              0.0             0.0  \n",
       "4              1.0             0.0  \n",
       "\n",
       "[5 rows x 77 columns]"
      ],
      "text/html": "<div>\n<style scoped>\n    .dataframe tbody tr th:only-of-type {\n        vertical-align: middle;\n    }\n\n    .dataframe tbody tr th {\n        vertical-align: top;\n    }\n\n    .dataframe thead th {\n        text-align: right;\n    }\n</style>\n<table border=\"1\" class=\"dataframe\">\n  <thead>\n    <tr style=\"text-align: right;\">\n      <th></th>\n      <th>side</th>\n      <th>position</th>\n      <th>player</th>\n      <th>team</th>\n      <th>champion</th>\n      <th>ban1</th>\n      <th>ban2</th>\n      <th>ban3</th>\n      <th>ban4</th>\n      <th>ban5</th>\n      <th>...</th>\n      <th>opp_csat15</th>\n      <th>golddiffat15</th>\n      <th>xpdiffat15</th>\n      <th>csdiffat15</th>\n      <th>killsat15</th>\n      <th>assistsat15</th>\n      <th>deathsat15</th>\n      <th>opp_killsat15</th>\n      <th>opp_assistsat15</th>\n      <th>opp_deathsat15</th>\n    </tr>\n  </thead>\n  <tbody>\n    <tr>\n      <th>0</th>\n      <td>Blue</td>\n      <td>top</td>\n      <td>Summit</td>\n      <td>SANDBOX Gaming</td>\n      <td>Rumble</td>\n      <td>LeBlanc</td>\n      <td>Irelia</td>\n      <td>Rek'Sai</td>\n      <td>Yasuo</td>\n      <td>Renekton</td>\n      <td>...</td>\n      <td>118.0</td>\n      <td>165.0</td>\n      <td>166.0</td>\n      <td>13.0</td>\n      <td>0.0</td>\n      <td>0.0</td>\n      <td>0.0</td>\n      <td>0.0</td>\n      <td>0.0</td>\n      <td>0.0</td>\n    </tr>\n    <tr>\n      <th>1</th>\n      <td>Blue</td>\n      <td>jng</td>\n      <td>OnFleek</td>\n      <td>SANDBOX Gaming</td>\n      <td>Elise</td>\n      <td>LeBlanc</td>\n      <td>Irelia</td>\n      <td>Rek'Sai</td>\n      <td>Yasuo</td>\n      <td>Renekton</td>\n      <td>...</td>\n      <td>98.0</td>\n      <td>-399.0</td>\n      <td>150.0</td>\n      <td>-7.0</td>\n      <td>0.0</td>\n      <td>0.0</td>\n      <td>0.0</td>\n      <td>1.0</td>\n      <td>0.0</td>\n      <td>0.0</td>\n    </tr>\n    <tr>\n      <th>2</th>\n      <td>Blue</td>\n      <td>mid</td>\n      <td>FATE</td>\n      <td>SANDBOX Gaming</td>\n      <td>Qiyana</td>\n      <td>LeBlanc</td>\n      <td>Irelia</td>\n      <td>Rek'Sai</td>\n      <td>Yasuo</td>\n      <td>Renekton</td>\n      <td>...</td>\n      <td>140.0</td>\n      <td>-409.0</td>\n      <td>-1837.0</td>\n      <td>-11.0</td>\n      <td>0.0</td>\n      <td>0.0</td>\n      <td>1.0</td>\n      <td>0.0</td>\n      <td>1.0</td>\n      <td>0.0</td>\n    </tr>\n    <tr>\n      <th>3</th>\n      <td>Blue</td>\n      <td>bot</td>\n      <td>Leo</td>\n      <td>SANDBOX Gaming</td>\n      <td>Miss Fortune</td>\n      <td>LeBlanc</td>\n      <td>Irelia</td>\n      <td>Rek'Sai</td>\n      <td>Yasuo</td>\n      <td>Renekton</td>\n      <td>...</td>\n      <td>135.0</td>\n      <td>51.0</td>\n      <td>-401.0</td>\n      <td>1.0</td>\n      <td>0.0</td>\n      <td>0.0</td>\n      <td>0.0</td>\n      <td>0.0</td>\n      <td>0.0</td>\n      <td>0.0</td>\n    </tr>\n    <tr>\n      <th>4</th>\n      <td>Blue</td>\n      <td>sup</td>\n      <td>GorillA</td>\n      <td>SANDBOX Gaming</td>\n      <td>Nautilus</td>\n      <td>LeBlanc</td>\n      <td>Irelia</td>\n      <td>Rek'Sai</td>\n      <td>Yasuo</td>\n      <td>Renekton</td>\n      <td>...</td>\n      <td>28.0</td>\n      <td>-233.0</td>\n      <td>257.0</td>\n      <td>-8.0</td>\n      <td>0.0</td>\n      <td>0.0</td>\n      <td>0.0</td>\n      <td>0.0</td>\n      <td>1.0</td>\n      <td>0.0</td>\n    </tr>\n  </tbody>\n</table>\n<p>5 rows × 77 columns</p>\n</div>"
     },
     "metadata": {},
     "execution_count": 9
    }
   ],
   "source": [
    "data = pd.read_csv(\"OraclesElixir_lol_match_data_teams.csv\")\n",
    "\n",
    "# Show raw data before it is processed.\n",
    "data.head()"
   ]
  },
  {
   "cell_type": "markdown",
   "metadata": {
    "collapsed": true,
    "gather": {
     "logged": 1598531923519
    },
    "jupyter": {
     "outputs_hidden": false,
     "source_hidden": false
    },
    "nteract": {
     "transient": {
      "deleting": false
     }
    }
   },
   "source": [
    "## Hyperdrive Configuration\n",
    "\n",
    "TODO: Explain the model you are using and the reason for chosing the different hyperparameters, termination policy and config settings."
   ]
  },
  {
   "cell_type": "code",
   "execution_count": null,
   "metadata": {
    "gather": {
     "logged": 1598544893076
    },
    "jupyter": {
     "outputs_hidden": false,
     "source_hidden": false
    },
    "nteract": {
     "transient": {
      "deleting": false
     }
    }
   },
   "outputs": [],
   "source": [
    "#TODO: Create the different params that you will be using during training\n",
    "param_sampling = BayesianParameterSampling( {\n",
    "        \"--C\": uniform(0.1,10),\n",
    "        \"--max_iter\": choice(20,40,60,80,100,150,200,300,400,600,800)\n",
    "    }\n",
    ")\n",
    "\n",
    "if \"training\" not in os.listdir():\n",
    "    os.mkdir(\"./training\")\n",
    "\n",
    "#TODO: Create your estimator and hyperdrive config\n",
    "estimator = SKLearn(\".\", compute_target=cpu_cluster, entry_script=\"train.py\")\n",
    "\n",
    "hyperdrive_run_config = HyperDriveConfig(ps,\n",
    "                                     estimator=est,\n",
    "                                     primary_metric_name=\"Accuracy\",\n",
    "                                     primary_metric_goal=PrimaryMetricGoal.MAXIMIZE,\n",
    "                                     max_total_runs=100,\n",
    "                                     max_concurrent_runs=4)\n",
    "\n",
    "\n",
    "\n",
    "\n"
   ]
  },
  {
   "cell_type": "code",
   "execution_count": null,
   "metadata": {
    "gather": {
     "logged": 1598544897941
    },
    "jupyter": {
     "outputs_hidden": false,
     "source_hidden": false
    },
    "nteract": {
     "transient": {
      "deleting": false
     }
    }
   },
   "outputs": [],
   "source": [
    "# Submit your hyperdrive run to the experiment and show run details with the widget.\n",
    "hyperdrive_run = exp.submit(hyperdrive_config)"
   ]
  },
  {
   "cell_type": "markdown",
   "metadata": {
    "collapsed": true,
    "gather": {
     "logged": 1598544898497
    },
    "jupyter": {
     "outputs_hidden": false,
     "source_hidden": false
    },
    "nteract": {
     "transient": {
      "deleting": false
     }
    }
   },
   "source": [
    "## Run Details\n",
    "\n",
    "OPTIONAL: Write about the different models trained and their performance. Why do you think some models did better than others?\n",
    "\n",
    "TODO: In the cell below, use the `RunDetails` widget to show the different experiments."
   ]
  },
  {
   "cell_type": "code",
   "execution_count": null,
   "metadata": {
    "gather": {
     "logged": 1598546648408
    },
    "jupyter": {
     "outputs_hidden": false,
     "source_hidden": false
    },
    "nteract": {
     "transient": {
      "deleting": false
     }
    }
   },
   "outputs": [],
   "source": [
    "RunDetails(hyperdrive_run).show()"
   ]
  },
  {
   "cell_type": "markdown",
   "metadata": {},
   "source": [
    "## Best Model\n",
    "\n",
    "TODO: In the cell below, get the best model from the hyperdrive experiments and display all the properties of the model."
   ]
  },
  {
   "cell_type": "code",
   "execution_count": null,
   "metadata": {
    "gather": {
     "logged": 1598546650307
    },
    "jupyter": {
     "outputs_hidden": false,
     "source_hidden": false
    },
    "nteract": {
     "transient": {
      "deleting": false
     }
    }
   },
   "outputs": [],
   "source": [
    "best_run = hyperdrive_run.get_best_run_by_primary_metric()\n",
    "print(best_run.get_details()['runDefinition']['arguments'])"
   ]
  },
  {
   "cell_type": "code",
   "execution_count": null,
   "metadata": {
    "gather": {
     "logged": 1598546657829
    },
    "jupyter": {
     "outputs_hidden": false,
     "source_hidden": false
    },
    "nteract": {
     "transient": {
      "deleting": false
     }
    }
   },
   "outputs": [],
   "source": [
    "#TODO: Save the best model\n",
    "\n",
    "joblib.dump(value=best_run.id, filename=\"model.pkl\")"
   ]
  },
  {
   "cell_type": "markdown",
   "metadata": {
    "collapsed": true,
    "jupyter": {
     "outputs_hidden": false,
     "source_hidden": false
    },
    "nteract": {
     "transient": {
      "deleting": false
     }
    }
   },
   "source": [
    "## Model Deployment\n",
    "\n",
    "Remember you have to deploy only one of the two models you trained.. Perform the steps in the rest of this notebook only if you wish to deploy this model.\n",
    "\n",
    "TODO: In the cell below, register the model, create an inference config and deploy the model as a web service."
   ]
  },
  {
   "cell_type": "code",
   "execution_count": null,
   "metadata": {},
   "outputs": [],
   "source": [
    "model = Model.register(model_path = \".\",\n",
    "                       model_name = \"predictor\",\n",
    "                       description = \"League of Legends match predictor trained using Azure ML.\",\n",
    "                       workspace = ws)\n",
    "\n",
    "# Get environment\n",
    "env = Environment.get(workspade=ws, name=\"AzureML-AutoML\")\n",
    "\n",
    "# Create inference configuration\n",
    "inference_config = InferenceConfig(entry_script=\"score.py\", environment=env)\n",
    "\n",
    "# Set deployment configuration as an Azure Container Instance\n",
    "deployment_config = AciWebservice.deploy_configuration(cpu_cores=1, memory_gb=4)\n",
    "\n",
    "# Enable logging/application insights\n",
    "service.update(enable_app_insights=True)\n",
    "\n",
    "# Service deployment\n",
    "service = Model.deploy(\n",
    "    workspace=ws,\n",
    "    name=\"predictor\",\n",
    "    models=[model],\n",
    "    inference_config=inference_config,\n",
    "    deployment_config=deployment_config\n",
    ")\n",
    "\n",
    "service.wait_for_deployment(show_output=True)\n",
    "print(service.state)\n"
   ]
  },
  {
   "cell_type": "markdown",
   "metadata": {},
   "source": [
    "TODO: In the cell below, send a request to the web service you deployed to test it."
   ]
  },
  {
   "cell_type": "code",
   "execution_count": null,
   "metadata": {},
   "outputs": [],
   "source": [
    "scoring_uri = service.scoring_uri\n",
    "\n",
    "print(\"Service State: {}\".format(service.state))\n",
    "print(\"Scoring URI: {}\".format(service.scoring_uri))\n",
    "print(\"Swagger URI: {}\".format(service.swagger_uri))\n"
   ]
  },
  {
   "cell_type": "code",
   "execution_count": 10,
   "metadata": {},
   "outputs": [],
   "source": [
    "import requests\n",
    "import json\n",
    "\n",
    "data = {'data': [ -500, -300, 2000, 1600] }\n",
    "\n",
    "input = json.dumps(data)\n",
    "\n",
    "headers = {'Content-Type': 'application/json'}\n",
    "\n",
    "response = requests.post(scoring_uri, input_data, headers=headers)\n",
    "print(response.text)"
   ]
  },
  {
   "cell_type": "markdown",
   "metadata": {},
   "source": [
    "TODO: In the cell below, print the logs of the web service and delete the service"
   ]
  },
  {
   "cell_type": "code",
   "execution_count": null,
   "metadata": {},
   "outputs": [],
   "source": [
    "service = Webservice(name='predictor', workspace=ws)\n",
    "print(service.get_logs())"
   ]
  },
  {
   "cell_type": "code",
   "execution_count": null,
   "metadata": {},
   "outputs": [],
   "source": [
    "service.delete()"
   ]
  }
 ],
 "metadata": {
  "kernel_info": {
   "name": "python3-azureml"
  },
  "kernelspec": {
   "display_name": "Python 3",
   "language": "python",
   "name": "python3"
  },
  "language_info": {
   "codemirror_mode": {
    "name": "ipython",
    "version": 3
   },
   "file_extension": ".py",
   "mimetype": "text/x-python",
   "name": "python",
   "nbconvert_exporter": "python",
   "pygments_lexer": "ipython3",
   "version": "3.8.3-final"
  },
  "nteract": {
   "version": "nteract-front-end@1.0.0"
  }
 },
 "nbformat": 4,
 "nbformat_minor": 2
}